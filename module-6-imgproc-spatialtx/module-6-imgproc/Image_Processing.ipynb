{
 "cells": [
  {
   "cell_type": "code",
   "execution_count": null,
   "metadata": {},
   "outputs": [],
   "source": [
    "#https://scikit-image.org/docs/dev/user_guide/numpy_images.html"
   ]
  },
  {
   "cell_type": "code",
   "execution_count": null,
   "metadata": {},
   "outputs": [],
   "source": [
    "%matplotlib inline\n",
    "import numpy as np\n",
    "import matplotlib.pyplot as plt\n",
    "\n",
    "from skimage import data\n",
    "camera = data.camera()\n",
    "camera_to_mess_with = data.camera()\n",
    "camera_to_mess_with_2 = data.camera()\n",
    "camera_to_mess_with_3 = data.camera()\n",
    "ucsd = data.camera()\n",
    "\n",
    "plt.imshow(camera,cmap='gray')"
   ]
  },
  {
   "cell_type": "code",
   "execution_count": null,
   "metadata": {},
   "outputs": [],
   "source": [
    "camera.shape"
   ]
  },
  {
   "cell_type": "code",
   "execution_count": null,
   "metadata": {},
   "outputs": [],
   "source": [
    "print(camera)"
   ]
  },
  {
   "cell_type": "code",
   "execution_count": null,
   "metadata": {},
   "outputs": [],
   "source": [
    "lowPerformanceList = [1,2,3,4,5]\n",
    "print(lowPerformanceList)"
   ]
  },
  {
   "cell_type": "code",
   "execution_count": null,
   "metadata": {},
   "outputs": [],
   "source": [
    "highPerformanceList = np.array(lowPerformanceList)\n",
    "print(highPerformanceList)"
   ]
  },
  {
   "cell_type": "code",
   "execution_count": null,
   "metadata": {},
   "outputs": [],
   "source": [
    "#this is how you call array operations on multidimensional arrays\n",
    "print(np.max(camera))\n",
    "print(np.min(camera))"
   ]
  },
  {
   "cell_type": "code",
   "execution_count": null,
   "metadata": {},
   "outputs": [],
   "source": [
    "plt.imshow(camera,cmap='gray')"
   ]
  },
  {
   "cell_type": "code",
   "execution_count": null,
   "metadata": {},
   "outputs": [],
   "source": [
    "print(camera.shape)"
   ]
  },
  {
   "cell_type": "code",
   "execution_count": null,
   "metadata": {},
   "outputs": [],
   "source": [
    "print(camera)"
   ]
  },
  {
   "cell_type": "code",
   "execution_count": null,
   "metadata": {},
   "outputs": [],
   "source": [
    "#plt.imshow(camera[100:200,0:512],cmap='gray')\n",
    "\n",
    "# plt.imshow(camera[row indexes, column indeces],cmap='gray')\n",
    "\n",
    "plt.imshow(camera[100:200,:],cmap='gray')"
   ]
  },
  {
   "cell_type": "code",
   "execution_count": null,
   "metadata": {},
   "outputs": [],
   "source": [
    "#vertical slice from 200 to 400\n",
    "plt.imshow(camera[:,200:400],cmap='gray')"
   ]
  },
  {
   "cell_type": "code",
   "execution_count": null,
   "metadata": {},
   "outputs": [],
   "source": [
    "#get only one line: horizontal line 150?"
   ]
  },
  {
   "cell_type": "code",
   "execution_count": null,
   "metadata": {},
   "outputs": [],
   "source": [
    "plt.imshow(camera,cmap='gray')"
   ]
  },
  {
   "cell_type": "code",
   "execution_count": null,
   "metadata": {},
   "outputs": [],
   "source": [
    "plt.imshow(camera[150:151,:])"
   ]
  },
  {
   "cell_type": "code",
   "execution_count": null,
   "metadata": {},
   "outputs": [],
   "source": [
    "#plt.imshow(camera[100:200,0:512],cmap='gray')\n",
    "plt.imshow(camera[100:200,:],cmap='gray')"
   ]
  },
  {
   "cell_type": "code",
   "execution_count": null,
   "metadata": {},
   "outputs": [],
   "source": [
    "# shortcut to make cells above cell: click into cell, hit 'esc', hit a\n",
    "# shortcut to make cells below cell: click into cell, hit 'esc', hit b"
   ]
  },
  {
   "cell_type": "code",
   "execution_count": null,
   "metadata": {},
   "outputs": [],
   "source": [
    "# this is just one line:\n",
    "plt.plot(camera[150,:])"
   ]
  },
  {
   "cell_type": "markdown",
   "metadata": {},
   "source": [
    "# masks"
   ]
  },
  {
   "cell_type": "code",
   "execution_count": null,
   "metadata": {},
   "outputs": [],
   "source": [
    "plt.imshow(camera,cmap='gray')"
   ]
  },
  {
   "cell_type": "code",
   "execution_count": null,
   "metadata": {},
   "outputs": [],
   "source": [
    "# lets try to crop out the coat of the gentleman in the picture"
   ]
  },
  {
   "cell_type": "code",
   "execution_count": null,
   "metadata": {},
   "outputs": [],
   "source": [
    "#sean: `50px is a cutoff for the coat"
   ]
  },
  {
   "cell_type": "code",
   "execution_count": null,
   "metadata": {},
   "outputs": [],
   "source": [
    "mask = camera < 50"
   ]
  },
  {
   "cell_type": "code",
   "execution_count": null,
   "metadata": {},
   "outputs": [],
   "source": [
    "print(mask.shape)"
   ]
  },
  {
   "cell_type": "code",
   "execution_count": null,
   "metadata": {},
   "outputs": [],
   "source": [
    "print(mask)"
   ]
  },
  {
   "cell_type": "code",
   "execution_count": null,
   "metadata": {},
   "outputs": [],
   "source": [
    "# intensity value for white: 255 (i.e. max intensity value for 8 bit image)\n",
    "camera_to_mess_with[mask] = 255"
   ]
  },
  {
   "cell_type": "code",
   "execution_count": null,
   "metadata": {},
   "outputs": [],
   "source": [
    "plt.imshow(camera_to_mess_with,cmap='gray')"
   ]
  },
  {
   "cell_type": "code",
   "execution_count": null,
   "metadata": {},
   "outputs": [],
   "source": [
    "plt.imshow(camera,cmap='gray')"
   ]
  },
  {
   "cell_type": "code",
   "execution_count": null,
   "metadata": {},
   "outputs": [],
   "source": [
    "#plt.imshow(camera[100:200,0:512],cmap='gray')\n",
    "plt.imshow(camera[100:200,:],cmap='gray')"
   ]
  },
  {
   "cell_type": "markdown",
   "metadata": {},
   "source": [
    "# different colors"
   ]
  },
  {
   "cell_type": "code",
   "execution_count": null,
   "metadata": {},
   "outputs": [],
   "source": []
  },
  {
   "cell_type": "code",
   "execution_count": null,
   "metadata": {},
   "outputs": [],
   "source": [
    "cat = data.chelsea()\n",
    "plt.imshow(cat)"
   ]
  },
  {
   "cell_type": "code",
   "execution_count": null,
   "metadata": {},
   "outputs": [],
   "source": [
    "print(camera.shape)"
   ]
  },
  {
   "cell_type": "code",
   "execution_count": null,
   "metadata": {},
   "outputs": [],
   "source": [
    "print(cat.shape)"
   ]
  },
  {
   "cell_type": "code",
   "execution_count": null,
   "metadata": {},
   "outputs": [],
   "source": [
    "#plt.imshow(camera[100:200,0:512],cmap='gray')\n",
    "plt.imshow(camera[100:200,:],cmap='gray')"
   ]
  },
  {
   "cell_type": "code",
   "execution_count": null,
   "metadata": {},
   "outputs": [],
   "source": [
    "# get all the rows, get all the columns, get only the first color channel\n",
    "\n",
    "# start a new figure, everything below will be plotted on the same figure until show()\n",
    "plt.imshow(cat[:,:,0],cmap='gray')\n",
    "# whatever plot commands before, now accumulate them and show them\n",
    "plt.show()\n",
    "\n",
    "# start a new figure, everything below will be plotted on the same figure until show()\n",
    "plt.title('something')\n",
    "\n",
    "plt.imshow(cat[:,:,1],cmap='gray')\n",
    "\n",
    "# whatever plot commands before, now accumulate them and show them\n",
    "plt.show()\n",
    "plt.imshow(cat[:,:,2],cmap='gray')"
   ]
  },
  {
   "cell_type": "code",
   "execution_count": null,
   "metadata": {},
   "outputs": [],
   "source": [
    "cat = data.chelsea()\n",
    "plt.imshow(cat)"
   ]
  },
  {
   "cell_type": "code",
   "execution_count": null,
   "metadata": {},
   "outputs": [],
   "source": [
    "cat = data.chelsea()\n",
    "print(cat.shape)\n",
    "# we make a mask, look at the red channel and look at intensity values > 160\n",
    "reddish = cat[:, :, 0] > 160\n",
    "# take the mask and reassign values to the image in the green channel\n",
    "# r, g, b\n",
    "# 255 is the maximum intensity in 8 bit images\n",
    "cat[reddish] = [255, 0, 0]\n",
    "plt.imshow(cat)"
   ]
  },
  {
   "cell_type": "markdown",
   "metadata": {},
   "source": [
    "# tresholding"
   ]
  },
  {
   "cell_type": "code",
   "execution_count": null,
   "metadata": {},
   "outputs": [],
   "source": [
    "# true = 1 = white, false = 0 = black\n",
    "\n",
    "from skimage.filters import threshold_mean\n",
    "\n",
    "\n",
    "image = data.camera()\n",
    "#thresh = threshold_mean(image)\n",
    "thresh = 50\n",
    "binary = image < thresh\n",
    "\n",
    "fig, axes = plt.subplots(ncols=2, figsize=(8, 3))\n",
    "ax = axes.ravel()\n",
    "\n",
    "ax[0].imshow(image, cmap=plt.cm.gray)\n",
    "ax[0].set_title('Original image')\n",
    "\n",
    "ax[1].imshow(binary, cmap=plt.cm.gray)\n",
    "ax[1].set_title('Result')\n",
    "\n",
    "for a in ax:\n",
    "    a.axis('off')\n",
    "\n",
    "plt.show()"
   ]
  },
  {
   "cell_type": "code",
   "execution_count": null,
   "metadata": {},
   "outputs": [],
   "source": [
    "print(thresh)"
   ]
  },
  {
   "cell_type": "code",
   "execution_count": null,
   "metadata": {},
   "outputs": [],
   "source": [
    "from skimage.filters import threshold_otsu\n",
    "\n",
    "\n",
    "#load data into 2D array variable\n",
    "image = data.camera()\n",
    "# automatically find a threshold\n",
    "thresh = threshold_otsu(image)\n",
    "# apply the threshold to the image and create a binary mask\n",
    "binary = image > thresh\n",
    "\n",
    "\n",
    "## all of the following is just fancy plotting\n",
    "fig, axes = plt.subplots(ncols=3, figsize=(8, 2.5))\n",
    "ax = axes.ravel()\n",
    "ax[0] = plt.subplot(1, 3, 1)\n",
    "ax[1] = plt.subplot(1, 3, 2)\n",
    "ax[2] = plt.subplot(1, 3, 3, sharex=ax[0], sharey=ax[0])\n",
    "\n",
    "ax[0].imshow(image, cmap=plt.cm.hsv)\n",
    "ax[0].set_title('Original')\n",
    "ax[0].axis('off')\n",
    "\n",
    "ax[1].hist(image.ravel(), bins=256)\n",
    "ax[1].set_title('Histogram')\n",
    "# plotting the red line\n",
    "ax[1].axvline(thresh, color='r')\n",
    "\n",
    "ax[2].imshow(binary, cmap=plt.cm.gray)\n",
    "ax[2].set_title('Thresholded')\n",
    "ax[2].axis('off')\n",
    "\n",
    "plt.show()"
   ]
  },
  {
   "cell_type": "code",
   "execution_count": null,
   "metadata": {},
   "outputs": [],
   "source": [
    "# just try all thresholds"
   ]
  },
  {
   "cell_type": "code",
   "execution_count": null,
   "metadata": {},
   "outputs": [],
   "source": [
    "from skimage import data\n",
    "from skimage.filters import try_all_threshold\n",
    "\n",
    "img = data.page()\n",
    "\n",
    "fig, ax = try_all_threshold(img, figsize=(10, 8), verbose=False)\n",
    "plt.show()"
   ]
  },
  {
   "cell_type": "code",
   "execution_count": null,
   "metadata": {},
   "outputs": [],
   "source": [
    "from skimage.filters import threshold_otsu, threshold_local\n",
    "\n",
    "\n",
    "image = data.page()\n",
    "\n",
    "# here we calculate the global threshold\n",
    "global_thresh = threshold_otsu(image)\n",
    "# here we apply the global theshold\n",
    "binary_global = image > global_thresh\n",
    "\n",
    "# parameter for local thresholding\n",
    "\n",
    "# parameter upper limit: you get the global threshold, e.g. ~1000\n",
    "block_size = 35\n",
    "# here we calculate the local threshold\n",
    "local_thresh = threshold_local(image, block_size, offset=10)\n",
    "# here we apply the local threshold\n",
    "binary_local = image > local_thresh\n",
    "\n",
    "# fancy plotting from here\n",
    "fig, axes = plt.subplots(nrows=3, figsize=(7, 8))\n",
    "ax = axes.ravel()\n",
    "plt.gray()\n",
    "\n",
    "ax[0].imshow(image)\n",
    "ax[0].set_title('Original')\n",
    "\n",
    "ax[1].imshow(binary_global)\n",
    "ax[1].set_title('Global thresholding')\n",
    "\n",
    "ax[2].imshow(binary_local)\n",
    "ax[2].set_title('Local thresholding')\n",
    "\n",
    "for a in ax:\n",
    "    a.axis('off')\n",
    "\n",
    "plt.show()"
   ]
  },
  {
   "cell_type": "markdown",
   "metadata": {},
   "source": [
    "# look at your own data"
   ]
  },
  {
   "cell_type": "code",
   "execution_count": null,
   "metadata": {},
   "outputs": [],
   "source": [
    "#import numpy as np\n",
    "#import matplotlib.pyplot as plt\n",
    "import tifffile\n",
    "from pathlib import Path\n",
    "\n",
    "path = Path(\"~/public/imaging-spatial/brain_organoid.tif\").expanduser()\n",
    "imageData = tifffile.imread(path)\n",
    "print(imageData.shape)\n",
    "img = imageData\n",
    "\n",
    "\n",
    "# then plotting it\n",
    "plt.imshow(img)\n",
    "plt.show()"
   ]
  },
  {
   "cell_type": "code",
   "execution_count": null,
   "metadata": {},
   "outputs": [],
   "source": [
    "print(np.max(camera)) # 8 bit image, between 0-255\n",
    "print(np.max(image)) # 16 bit image, 0- 65536"
   ]
  },
  {
   "cell_type": "code",
   "execution_count": null,
   "metadata": {},
   "outputs": [],
   "source": [
    "from skimage.filters import threshold_mean\n",
    "\n",
    "\n",
    "image = img\n",
    "print(\"max image\",np.max(image))\n",
    "\n",
    "thresh = threshold_mean(image)\n",
    "#thresh = threshold_otsu(image)\n",
    "#thresh = 60000\n",
    "\n",
    "print(\"thresh\", thresh)\n",
    "binary = image > thresh\n",
    "\n",
    "fig, axes = plt.subplots(ncols=2, figsize=(8, 3))\n",
    "ax = axes.ravel()\n",
    "\n",
    "ax[0].imshow(image, cmap=plt.cm.gray)\n",
    "ax[0].set_title('Original image')\n",
    "\n",
    "ax[1].imshow(binary, cmap=plt.cm.gray)\n",
    "ax[1].set_title('Result')\n",
    "\n",
    "for a in ax:\n",
    "    a.axis('off')\n",
    "\n",
    "plt.show()"
   ]
  },
  {
   "cell_type": "code",
   "execution_count": null,
   "metadata": {},
   "outputs": [],
   "source": [
    "from skimage.filters import threshold_otsu, threshold_local\n",
    "\n",
    "\n",
    "image = img\n",
    "\n",
    "global_thresh = threshold_otsu(image)\n",
    "binary_global = image > global_thresh\n",
    "\n",
    "block_size = 51\n",
    "local_thresh = threshold_local(image, block_size, offset=10)\n",
    "binary_local = image > local_thresh\n",
    "\n",
    "fig, axes = plt.subplots(nrows=3, figsize=(7, 8))\n",
    "ax = axes.ravel()\n",
    "plt.gray()\n",
    "\n",
    "ax[0].imshow(image)\n",
    "ax[0].set_title('Original')\n",
    "\n",
    "ax[1].imshow(binary_global)\n",
    "ax[1].set_title('Global thresholding')\n",
    "\n",
    "ax[2].imshow(binary_local)\n",
    "ax[2].set_title('Local thresholding')\n",
    "\n",
    "for a in ax:\n",
    "    a.axis('off')\n",
    "\n",
    "plt.show()"
   ]
  },
  {
   "cell_type": "markdown",
   "metadata": {},
   "source": [
    "# pretty plotting for images, e.g. making them larger:"
   ]
  },
  {
   "cell_type": "code",
   "execution_count": null,
   "metadata": {},
   "outputs": [],
   "source": [
    "plt.figure(dpi=150)\n",
    "plt.imshow(camera, cmap=plt.cm.hsv)"
   ]
  },
  {
   "cell_type": "code",
   "execution_count": null,
   "metadata": {},
   "outputs": [],
   "source": [
    "# next step: all of this has to become a package in pyLattice!\n",
    "\n",
    "import tifffile\n",
    "import numpy as np\n",
    "from pathlib import Path\n",
    "import matplotlib.pyplot as plt\n",
    "\n",
    "path = Path(\"~/public/imaging-spatial/Spindle_Pole_Assay.tif\").expanduser()\n",
    "imageData = tifffile.imread(path)\n",
    "print(imageData.shape)\n",
    "\n",
    "# only taking the third channel and put that into the 'img' variable\n",
    "t = 2\n",
    "z = 0\n",
    "single2DSlice = imageData[t,z,:,:]\n",
    "single3DSlice = imageData[t,:,:,:]\n",
    "\n",
    "# then plotting it\n",
    "plt.imshow(single2DSlice)\n",
    "plt.show()"
   ]
  },
  {
   "cell_type": "markdown",
   "metadata": {},
   "source": [
    "# Maximum intensity projection | pyLattice for 4D and 5D data processing\n",
    "\n",
    "e.g. use pyLattice, if you like it please give us a 'star' on github - it helps us with fundraising and keeping the project going\n",
    "\n",
    "https://github.com/pylattice/pyLattice\n",
    "\n",
    "https://github.com/pylattice/pyLattice/blob/master/src/jupyter/latticeMovie_correctBleaching.ipynb\n",
    "\n",
    "pip install pylattice"
   ]
  },
  {
   "cell_type": "code",
   "execution_count": null,
   "metadata": {},
   "outputs": [],
   "source": [
    "import pylattice \n",
    "import pylattice.functions.TiffProcessing as tiffproc\n",
    "\n",
    "t=2\n",
    "tiffproc.maxIntensityProjection(imageData[t,:,:,:])\n",
    "\n",
    "image_3d_to_process = imageData[t,:,:,:]\n",
    "print(image_3d_to_process.shape)\n",
    "\n",
    "# if I'm not using pylattice for max intensity projection:\n",
    "plt.imshow(image_3d_to_process[0])"
   ]
  },
  {
   "cell_type": "markdown",
   "metadata": {},
   "source": [
    "# lets try to treshold this raw image"
   ]
  },
  {
   "cell_type": "code",
   "execution_count": null,
   "metadata": {},
   "outputs": [],
   "source": [
    "# where do we want to put our threshold?\n",
    "plt.hist(image_3d_to_process.ravel())\n",
    "plt.xlabel(\"pixel intensity\")\n",
    "\n",
    "\n",
    "mask = image_3d_to_process > 2500\n",
    "\n",
    "tiffproc.maxIntensityProjection(mask)\n",
    "\n",
    "# if I'm not using pylattice for max intensity projection:\n",
    "plt.imshow(mask[0])"
   ]
  },
  {
   "cell_type": "markdown",
   "metadata": {},
   "source": [
    "# lets do it again with some smoothing"
   ]
  },
  {
   "cell_type": "code",
   "execution_count": null,
   "metadata": {},
   "outputs": [],
   "source": [
    "from skimage.filters import gaussian\n",
    "\n",
    "# Gaussian smoothing\n",
    "sigma = 2\n",
    "image_3d_to_process_smoothened = gaussian(image_3d_to_process, sigma)\n",
    "\n",
    "tiffproc.maxIntensityProjection(image_3d_to_process_smoothened)\n",
    "\n",
    "# if you cannot install pylattice, use: plt.imshow(image_3d_to_process_smoothened[0])\n",
    "\n",
    "# where do we want to put our threshold?\n",
    "plt.hist(image_3d_to_process_smoothened.ravel())\n",
    "\n",
    "\n",
    "mask = image_3d_to_process_smoothened > 0.03\n",
    "\n",
    "tiffproc.maxIntensityProjection(mask)\n",
    "\n",
    "# if you cannot install pylattice, use: plt.imshow(mask[0])"
   ]
  },
  {
   "cell_type": "markdown",
   "metadata": {},
   "source": [
    "# get centroids"
   ]
  },
  {
   "cell_type": "code",
   "execution_count": null,
   "metadata": {},
   "outputs": [],
   "source": [
    "\n",
    "from skimage import measure\n",
    "from skimage.measure import label, regionprops, regionprops_table\n",
    "import pandas as pd\n",
    "\n",
    "\n",
    "# this label function assigns a unique label to each blob that is disconnected from all other blobs\n",
    "blobs_labels = label(mask)     \n",
    "\n",
    "plt.imshow(blobs_labels[0])\n",
    "\n",
    "# regionprops calculates properties for all individual blobs that have been identified in the label function\n",
    "regions = regionprops(blobs_labels)\n",
    "#print(regions)\n",
    "for region in regions:\n",
    "    centroid = region.centroid\n",
    "    print(\"centroid coordinates\",centroid)\n",
    "\n"
   ]
  },
  {
   "cell_type": "code",
   "execution_count": null,
   "metadata": {},
   "outputs": [],
   "source": [
    "# ... calculate the distance, run this in a for loop to do it for every image in the 3D movie, use pyLattice for 4D bleach correction etc..."
   ]
  },
  {
   "cell_type": "code",
   "execution_count": null,
   "metadata": {},
   "outputs": [],
   "source": [
    "movieLength = 49\n",
    "for t in range(0,movieLength):\n",
    "    pass\n",
    "    # do all the steps from above..."
   ]
  }
 ],
 "metadata": {
  "kernelspec": {
   "display_name": "Python [conda env:imgproc]",
   "language": "python",
   "name": "conda-env-imgproc-py"
  },
  "language_info": {
   "codemirror_mode": {
    "name": "ipython",
    "version": 3
   },
   "file_extension": ".py",
   "mimetype": "text/x-python",
   "name": "python",
   "nbconvert_exporter": "python",
   "pygments_lexer": "ipython3",
   "version": "3.7.0"
  }
 },
 "nbformat": 4,
 "nbformat_minor": 4
}
