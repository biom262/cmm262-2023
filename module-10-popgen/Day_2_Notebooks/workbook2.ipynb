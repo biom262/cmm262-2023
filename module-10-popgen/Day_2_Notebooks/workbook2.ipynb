{
 "cells": [
  {
   "cell_type": "markdown",
   "id": "d09cfe8a-eb92-47cb-b227-1c013f536b4b",
   "metadata": {},
   "source": [
    "# Population Genetics Workshop 2"
   ]
  },
  {
   "cell_type": "markdown",
   "id": "f71d890e-19c0-4ed6-8a6d-cc8a6e6fbb45",
   "metadata": {},
   "source": [
    "Before beginning to run todays notebooks, please run the following commands to access the data:"
   ]
  },
  {
   "cell_type": "code",
   "execution_count": null,
   "id": "bf941876-16f5-4ee0-b42c-7b20bc12d345",
   "metadata": {},
   "outputs": [],
   "source": [
    "system(\"ln -sfn ~/public/module-10-popgen/data2 ~/module-10-popgen/Day_2_Notebooks/data2\")"
   ]
  },
  {
   "cell_type": "code",
   "execution_count": null,
   "id": "b34ed8b5",
   "metadata": {},
   "outputs": [],
   "source": [
    "rm( list=ls() ) "
   ]
  },
  {
   "cell_type": "code",
   "execution_count": null,
   "id": "3bb2b715",
   "metadata": {},
   "outputs": [],
   "source": [
    "require( data.table)"
   ]
  },
  {
   "cell_type": "code",
   "execution_count": null,
   "id": "db4d503b",
   "metadata": {},
   "outputs": [],
   "source": [
    "getwd()"
   ]
  },
  {
   "cell_type": "code",
   "execution_count": null,
   "id": "aea560ce",
   "metadata": {},
   "outputs": [],
   "source": [
    "list.files()"
   ]
  },
  {
   "cell_type": "markdown",
   "id": "dd383f29",
   "metadata": {},
   "source": [
    "## Load test GWAS \"summary statistics\""
   ]
  },
  {
   "cell_type": "code",
   "execution_count": null,
   "id": "c1e636a9",
   "metadata": {},
   "outputs": [],
   "source": [
    "# If computer hates you, switch which file you load\n",
    "data <- fread( \"./data/PGC3_SCZ_wave3_public.v2.tsv\", fill=T )\n",
    "#data <- fread( \"./data/SCZ_raw_sample.txt\" )"
   ]
  },
  {
   "cell_type": "code",
   "execution_count": null,
   "id": "e57b5c14",
   "metadata": {},
   "outputs": [],
   "source": [
    "dim( data )\n",
    "head( data )"
   ]
  },
  {
   "cell_type": "code",
   "execution_count": null,
   "id": "83fd9c3c",
   "metadata": {},
   "outputs": [],
   "source": [
    "data.size <- dim( data )"
   ]
  },
  {
   "cell_type": "code",
   "execution_count": null,
   "id": "b2085386",
   "metadata": {},
   "outputs": [],
   "source": [
    "data$CHR <- as.numeric( data$CHR )\n",
    "data <- data[ !is.na( data$CHR ), ]\n",
    "data <- data[ order( data$CHR, data$BP ), ]"
   ]
  },
  {
   "cell_type": "code",
   "execution_count": null,
   "id": "e59176ee",
   "metadata": {},
   "outputs": [],
   "source": [
    "head( data )"
   ]
  },
  {
   "cell_type": "code",
   "execution_count": null,
   "id": "f3a6ead6",
   "metadata": {},
   "outputs": [],
   "source": [
    "## Some plot values\n",
    "data$ManPos <- cumsum( data$BP/1000 )\n",
    "chr.mids <- cbind( 1:22, NA )\n",
    "for ( i in 1:max(data$CHR) ) {\n",
    "    chr.start <- min( data$ManPos[ data$CHR == i ] )\n",
    "    chr.stop <- max( data$ManPos[ data$CHR == i ] )\n",
    "    chr.length <- chr.stop-chr.start\n",
    "    chr.mids[ i,2 ] <- chr.start + chr.length/2\n",
    "}"
   ]
  },
  {
   "cell_type": "code",
   "execution_count": null,
   "id": "c6b5b8c5",
   "metadata": {},
   "outputs": [],
   "source": [
    "#jpeg( \"SCZ_QuickManhattan_sample.jpeg\", width=1440, height=480)\n",
    "plot( data$ManPos[ data$P < 0.01 ], -log10( data$P[ data$P < 0.01 ] ),\n",
    "        xaxt='n', \n",
    "        col=c( 'black','grey' )[ data$CHR[ data$P < 0.01 ] %% 2 + 1 ],\n",
    "        xlab=\"Genome Position\", ylab=\"-log10(p)\",\n",
    "        ylim=c(0,40), \n",
    "        pch=16 )\n",
    "abline( h=-log10( 5e-8 ), col='green' )\n",
    "axis( 1, at=chr.mids[,2], labels=chr.mids[,1] )"
   ]
  },
  {
   "cell_type": "code",
   "execution_count": null,
   "id": "034e6ce2",
   "metadata": {},
   "outputs": [],
   "source": [
    "# Mini qq-plot\n",
    "#jpeg( \"SCZ_QuickQQ_sample.jpeg\", width=480, height=480)\n",
    "observed.p <- -log10( data$P[ order( data$P ) ] )\n",
    "expected.p <- -log10( ( 1:length( data$P ) ) / ( length( data$P ) + 1 ) )\n",
    "plot( expected.p[ expected.p < 4 ], observed.p[ expected.p < 4 ], \n",
    "        type='l', \n",
    "        lwd=4,\n",
    "        ylim=c( 0, max(observed.p)+1),\n",
    "        xlim=c( 0, max(expected.p)+1) )\n",
    "points( expected.p[ expected.p > 4 ], observed.p[ expected.p > 4 ], pch=16 )\n",
    "abline( 0,1 )\n",
    "abline( v=-log10(0.5), lty=2, col='blue' )\n",
    "abline( v=-log10(0.25), lty=3, col='blue' )\n",
    "abline( v=-log10(0.1), lty=4, col='blue' )"
   ]
  },
  {
   "cell_type": "markdown",
   "id": "b3fa5d35",
   "metadata": {},
   "source": [
    "## Prep genotype data"
   ]
  },
  {
   "cell_type": "code",
   "execution_count": null,
   "id": "492264cf",
   "metadata": {},
   "outputs": [],
   "source": [
    "rm( list=ls() )"
   ]
  },
  {
   "cell_type": "code",
   "execution_count": null,
   "id": "a7670824",
   "metadata": {},
   "outputs": [],
   "source": [
    "# Load target individual\n",
    "ajs <- fread( './data/AndrewSchork.traw' )"
   ]
  },
  {
   "cell_type": "code",
   "execution_count": null,
   "id": "9f2fbbb6",
   "metadata": {},
   "outputs": [],
   "source": [
    "dim( ajs )\n",
    "head( ajs )"
   ]
  },
  {
   "cell_type": "code",
   "execution_count": null,
   "id": "905a0a6e",
   "metadata": {},
   "outputs": [],
   "source": [
    "# Load Reference individuals\n",
    "kgp <- fread( './data/KGP_GSA_PGS.traw' )"
   ]
  },
  {
   "cell_type": "code",
   "execution_count": null,
   "id": "4747aa47",
   "metadata": {},
   "outputs": [],
   "source": [
    "dim( kgp )\n",
    "head( kgp[,1:10] )"
   ]
  },
  {
   "cell_type": "code",
   "execution_count": null,
   "id": "0fb93757",
   "metadata": {},
   "outputs": [],
   "source": [
    "# Combine data\n",
    "tped <- cbind( kgp[ ,1:6 ], ajs[ ,7 ], kgp[ ,7:1170 ] )"
   ]
  },
  {
   "cell_type": "code",
   "execution_count": null,
   "id": "31e89b11",
   "metadata": {},
   "outputs": [],
   "source": [
    "dim( tped )\n",
    "head( tped[,1:15] )"
   ]
  },
  {
   "cell_type": "markdown",
   "id": "0d14ded8",
   "metadata": {},
   "source": [
    "#### Assess fit to reference to test subject"
   ]
  },
  {
   "cell_type": "code",
   "execution_count": null,
   "id": "efe39a81",
   "metadata": {},
   "outputs": [],
   "source": [
    "# Get a smaller set of SNPs (2000) for computational speed, if you are brave try more!\n",
    "tped.small <- tped[ sample( dim(tped)[1], 2000 ) ,7:1171 ]"
   ]
  },
  {
   "cell_type": "code",
   "execution_count": null,
   "id": "3268dc62",
   "metadata": {},
   "outputs": [],
   "source": [
    "# Compute PCs to check ancestry\n",
    "# This step takes a while\n",
    "pca <- prcomp( t( tped.small ) )\n",
    "pcs <- cbind( do.call( rbind, strsplit( names(tped)[ 7:1171 ], split=\"_\" ) ), pca$x[ ,1:25 ] )\n",
    "pcs <- data.table( pcs )"
   ]
  },
  {
   "cell_type": "code",
   "execution_count": null,
   "id": "ef1eb2e9",
   "metadata": {},
   "outputs": [],
   "source": [
    "# Plot reference and test subject ancestry PCAs\n",
    "# This step also takes a while\n",
    "par( mfrow=c(2,3) )\n",
    "plot( pcs$PC1, pcs$PC2, \n",
    "        col=c( \"red\", \"blue\" )[ 1 + 1*(pcs[[1]] == 'EUR') ] )\n",
    "points( pcs$PC1[1], pcs$PC2[1], col=\"green\", pch=16 )\n",
    "plot( pcs$PC3, pcs$PC4, \n",
    "        col=c( \"red\", \"blue\" )[ 1 + 1*(pcs[[1]] == 'EUR') ] )\n",
    "points( pcs$PC3[1], pcs$PC4[1], col=\"green\", pch=16 )\n",
    "plot( pcs$PC5, pcs$PC6, \n",
    "        col=c( \"red\", \"blue\" )[ 1 + 1*(pcs[[1]] == 'EUR') ] )\n",
    "points( pcs$PC5[1], pcs$PC6[1], col=\"green\", pch=16 )\n",
    "plot( pcs$PC7, pcs$PC8, \n",
    "        col=c( \"red\", \"blue\" )[ 1 + 1*(pcs[[1]] == 'EUR') ] )\n",
    "points( pcs$PC7[1], pcs$PC8[1], col=\"green\", pch=16 )\n",
    "plot( pcs$PC9, pcs$PC10, \n",
    "        col=c( \"red\", \"blue\" )[ 1 + 1*(pcs[[1]] == 'EUR') ] )\n",
    "points( pcs$PC9[1], pcs$PC10[1], col=\"green\", pch=16 )\n",
    "plot(0,0,type='n')\n",
    "legend( \"center\", legend=c(\"AFR\", \"EUR\", \"AJS\" ), col=c( \"red\", \"blue\", \"green\" ), pch=c(1,1,16) )"
   ]
  },
  {
   "cell_type": "markdown",
   "id": "2376e11a",
   "metadata": {},
   "source": [
    "## Let's explore my PGS, computed from 65,000 SNPs"
   ]
  },
  {
   "cell_type": "code",
   "execution_count": null,
   "id": "05d56694",
   "metadata": {},
   "outputs": [],
   "source": [
    "## I got your back.  Delete everything, and load PGS file for all traits and disorders.  \n",
    "rm( list=ls() )"
   ]
  },
  {
   "cell_type": "code",
   "execution_count": null,
   "id": "20fc653a",
   "metadata": {},
   "outputs": [],
   "source": [
    "PGS <- fread( './data/PGS.txt' )\n",
    "head( PGS )"
   ]
  },
  {
   "cell_type": "code",
   "execution_count": null,
   "id": "3442001f",
   "metadata": {},
   "outputs": [],
   "source": [
    "# Lets start with height\n",
    "\n",
    "par( mfrow=c(1,2) )\n",
    "hist(  PGS$ht_pgs, breaks='fd' )\n",
    "hist(  PGS$ht_count, breaks='fd' )"
   ]
  },
  {
   "cell_type": "code",
   "execution_count": null,
   "id": "3b38e636",
   "metadata": {},
   "outputs": [],
   "source": [
    "# Lets add me\n",
    "\n",
    "par( mfrow=c(1,2) )\n",
    "hist(  PGS$ht_pgs, breaks='fd' )\n",
    "abline( v=PGS$ht_pgs[1], col='red', lwd=2 )\n",
    "hist(  PGS$ht_count, breaks='fd' )\n",
    "abline( v=PGS$ht_count[1], col='red', lwd=2 )"
   ]
  },
  {
   "cell_type": "code",
   "execution_count": null,
   "id": "83dc3173-316e-48ed-b97f-9ef95dde6226",
   "metadata": {},
   "outputs": [],
   "source": [
    "# Ancestry\n",
    "\n",
    "par( mfrow=c(2,2) )\n",
    "hist(  PGS$ht_pgs[ PGS$FID == 'EUR' ], breaks='fd', xlim=c(-4.3,4.3) )\n",
    "abline( v=PGS$ht_pgs[1], col='red', lwd=2 )\n",
    "hist(  PGS$ht_count[ PGS$FID == 'EUR' ], breaks='fd', xlim=c( 64150,65600 ) )\n",
    "abline( v=PGS$ht_count[1], col='red', lwd=2 )\n",
    "hist(  PGS$ht_pgs[ PGS$FID == 'AFR' ], breaks='fd', xlim=c(-4.3,4.3)  )\n",
    "abline( v=PGS$ht_pgs[1], col='red', lwd=2 )\n",
    "hist(  PGS$ht_count[ PGS$FID == 'AFR' ], breaks='fd', xlim=c( 64150,65600 ) )\n",
    "abline( v=PGS$ht_count[1], col='red', lwd=2 )"
   ]
  },
  {
   "cell_type": "code",
   "execution_count": null,
   "id": "fceeb87e",
   "metadata": {},
   "outputs": [],
   "source": [
    "## Summarize distribution to look up my percentile\n",
    "\n",
    "all.pgs.ecdf <- ecdf( PGS$ht_pgs )\n",
    "all.ct.ecdf <- ecdf( PGS$ht_count )\n",
    "eur.pgs.ecdf <- ecdf( PGS$ht_pgs[ PGS$FID == 'EUR' ] )\n",
    "eur.ct.ecdf <- ecdf( PGS$ht_count[ PGS$FID == 'EUR' ] )\n",
    "afr.pgs.ecdf <- ecdf( PGS$ht_pgs[ PGS$FID == 'AFR' ] )\n",
    "afr.ct.ecdf <- ecdf( PGS$ht_count[ PGS$FID == 'AFR' ] )\n",
    "\n",
    "plot( eur.pgs.ecdf )\n",
    "abline( v=PGS$ht_pgs[1], col='red', lwd=2 )"
   ]
  },
  {
   "cell_type": "code",
   "execution_count": null,
   "id": "d491e628",
   "metadata": {},
   "outputs": [],
   "source": [
    "## What are my percentiles?\n",
    "\n",
    "all.pgs.ecdf( PGS$ht_pgs[1] )\n",
    "all.ct.ecdf( PGS$ht_count[1] )\n",
    "eur.pgs.ecdf( PGS$ht_pgs[1] )\n",
    "eur.ct.ecdf( PGS$ht_count[1] )\n",
    "afr.pgs.ecdf( PGS$ht_pgs[1] )\n",
    "afr.ct.ecdf( PGS$ht_count[1] )"
   ]
  },
  {
   "cell_type": "code",
   "execution_count": null,
   "id": "eede1896",
   "metadata": {},
   "outputs": [],
   "source": [
    "## So, am I tall? I need to know.\n",
    "## Any speculations?"
   ]
  },
  {
   "cell_type": "markdown",
   "id": "a79f9d0a",
   "metadata": {},
   "source": [
    "## My score vs. different backgrounds"
   ]
  },
  {
   "cell_type": "markdown",
   "id": "19fc9abd",
   "metadata": {},
   "source": [
    "##### ADHD"
   ]
  },
  {
   "cell_type": "code",
   "execution_count": null,
   "id": "828d6ecd",
   "metadata": {},
   "outputs": [],
   "source": [
    "temp <- PGS[ ,c(1,2,5,6) ]"
   ]
  },
  {
   "cell_type": "code",
   "execution_count": null,
   "id": "e95ad7ab",
   "metadata": {},
   "outputs": [],
   "source": [
    "head( temp )"
   ]
  },
  {
   "cell_type": "code",
   "execution_count": null,
   "id": "87b59bfd",
   "metadata": {},
   "outputs": [],
   "source": [
    "par( mfrow=c(2,2) )\n",
    "\n",
    "hist(  temp[[3]][ temp$FID == 'EUR' ], breaks='fd' )\n",
    "abline( v=temp[[3]][1], col='red', lwd=2 )\n",
    "hist(  temp[[4]][ temp$FID == 'EUR' ], breaks='fd' )\n",
    "abline( v=temp[[4]][1], col='red', lwd=2 )\n",
    "\n",
    "pgs.ecdf <- ecdf( temp[[3]][ temp$FID == 'EUR' ] )\n",
    "ct.ecdf <- ecdf( temp[[4]][ temp$FID == 'EUR' ] )\n",
    "\n",
    "plot( pgs.ecdf )\n",
    "abline( v=temp[[3]][1], col='red', lwd=2 )\n",
    "plot( ct.ecdf )\n",
    "abline( v=temp[[4]][1], col='red', lwd=2 )"
   ]
  },
  {
   "cell_type": "code",
   "execution_count": null,
   "id": "917b399a",
   "metadata": {},
   "outputs": [],
   "source": [
    "pgs.ecdf( temp[[3]][1] )\n",
    "ct.ecdf( temp[[4]][1] )"
   ]
  },
  {
   "cell_type": "markdown",
   "id": "06396544",
   "metadata": {},
   "source": [
    "#### ASD"
   ]
  },
  {
   "cell_type": "code",
   "execution_count": null,
   "id": "838b15d0",
   "metadata": {},
   "outputs": [],
   "source": [
    "temp <- PGS[ ,c(1,2,7,8) ]"
   ]
  },
  {
   "cell_type": "code",
   "execution_count": null,
   "id": "f8489939-ee1e-4e6c-95e8-74a16939e005",
   "metadata": {},
   "outputs": [],
   "source": [
    "par( mfrow=c(2,2) )\n",
    "\n",
    "hist(  temp[[3]][ temp$FID == 'EUR' ], breaks='fd' )\n",
    "abline( v=temp[[3]][1], col='red', lwd=2 )\n",
    "hist(  temp[[4]][ temp$FID == 'EUR' ], breaks='fd' )\n",
    "abline( v=temp[[4]][1], col='red', lwd=2 )\n",
    "\n",
    "pgs.ecdf <- ecdf( temp[[3]][ temp$FID == 'EUR' ] )\n",
    "ct.ecdf <- ecdf( temp[[4]][ temp$FID == 'EUR' ] )\n",
    "\n",
    "plot( pgs.ecdf )\n",
    "abline( v=temp[[3]][1], col='red', lwd=2 )\n",
    "plot( ct.ecdf )\n",
    "abline( v=temp[[4]][1], col='red', lwd=2 )"
   ]
  },
  {
   "cell_type": "code",
   "execution_count": null,
   "id": "6cc728da-84c8-44ee-9117-8e46b16f63f3",
   "metadata": {},
   "outputs": [],
   "source": [
    "pgs.ecdf( temp[[3]][1] )\n",
    "ct.ecdf( temp[[4]][1] )"
   ]
  },
  {
   "cell_type": "markdown",
   "id": "a14ae087",
   "metadata": {},
   "source": [
    "#### MDD"
   ]
  },
  {
   "cell_type": "code",
   "execution_count": null,
   "id": "27d09b95",
   "metadata": {},
   "outputs": [],
   "source": [
    "temp <- PGS[ ,c(1,2,9,10) ]"
   ]
  },
  {
   "cell_type": "code",
   "execution_count": null,
   "id": "b7c61993-6dd3-47f8-8805-b26f290fa47c",
   "metadata": {},
   "outputs": [],
   "source": [
    "par( mfrow=c(2,2) )\n",
    "\n",
    "hist(  temp[[3]][ temp$FID == 'EUR' ], breaks='fd' )\n",
    "abline( v=temp[[3]][1], col='red', lwd=2 )\n",
    "hist(  temp[[4]][ temp$FID == 'EUR' ], breaks='fd' )\n",
    "abline( v=temp[[4]][1], col='red', lwd=2 )\n",
    "\n",
    "pgs.ecdf <- ecdf( temp[[3]][ temp$FID == 'EUR' ] )\n",
    "ct.ecdf <- ecdf( temp[[4]][ temp$FID == 'EUR' ] )\n",
    "\n",
    "plot( pgs.ecdf )\n",
    "abline( v=temp[[3]][1], col='red', lwd=2 )\n",
    "plot( ct.ecdf )\n",
    "abline( v=temp[[4]][1], col='red', lwd=2 )"
   ]
  },
  {
   "cell_type": "code",
   "execution_count": null,
   "id": "36b36d57-b6b8-4c6a-ab3a-9e66d946253a",
   "metadata": {},
   "outputs": [],
   "source": [
    "pgs.ecdf( temp[[3]][1] )\n",
    "ct.ecdf( temp[[4]][1] )"
   ]
  },
  {
   "cell_type": "markdown",
   "id": "34d3041d",
   "metadata": {},
   "source": [
    "#### SCZ"
   ]
  },
  {
   "cell_type": "code",
   "execution_count": null,
   "id": "1c250485",
   "metadata": {},
   "outputs": [],
   "source": [
    "temp <- PGS[ ,c(1,2,3,4) ]"
   ]
  },
  {
   "cell_type": "code",
   "execution_count": null,
   "id": "c1e38d44-42f7-4d8c-8e33-3ff6bf374495",
   "metadata": {},
   "outputs": [],
   "source": [
    "par( mfrow=c(2,2) )\n",
    "\n",
    "hist(  temp[[3]][ temp$FID == 'EUR' ], breaks='fd' )\n",
    "abline( v=temp[[3]][1], col='red', lwd=2 )\n",
    "hist(  temp[[4]][ temp$FID == 'EUR' ], breaks='fd' )\n",
    "abline( v=temp[[4]][1], col='red', lwd=2 )\n",
    "\n",
    "pgs.ecdf <- ecdf( temp[[3]][ temp$FID == 'EUR' ] )\n",
    "ct.ecdf <- ecdf( temp[[4]][ temp$FID == 'EUR' ] )\n",
    "\n",
    "plot( pgs.ecdf )\n",
    "abline( v=temp[[3]][1], col='red', lwd=2 )\n",
    "plot( ct.ecdf )\n",
    "abline( v=temp[[4]][1], col='red', lwd=2 )"
   ]
  },
  {
   "cell_type": "code",
   "execution_count": null,
   "id": "346b76b4-eca3-4381-9809-a13288cbd534",
   "metadata": {},
   "outputs": [],
   "source": [
    "pgs.ecdf( temp[[3]][1] )\n",
    "ct.ecdf( temp[[4]][1] )"
   ]
  },
  {
   "cell_type": "markdown",
   "id": "dd6e8222",
   "metadata": {},
   "source": [
    "#### IQ"
   ]
  },
  {
   "cell_type": "code",
   "execution_count": null,
   "id": "58f20497",
   "metadata": {},
   "outputs": [],
   "source": [
    "temp <- PGS[ ,c(1,2,13,14) ]"
   ]
  },
  {
   "cell_type": "code",
   "execution_count": null,
   "id": "7ab1a3fd-a9bf-45e7-aef6-d48c3f508f4b",
   "metadata": {},
   "outputs": [],
   "source": [
    "par( mfrow=c(2,2) )\n",
    "\n",
    "hist(  temp[[3]][ temp$FID == 'EUR' ], breaks='fd' )\n",
    "abline( v=temp[[3]][1], col='red', lwd=2 )\n",
    "hist(  temp[[4]][ temp$FID == 'EUR' ], breaks='fd' )\n",
    "abline( v=temp[[4]][1], col='red', lwd=2 )\n",
    "\n",
    "pgs.ecdf <- ecdf( temp[[3]][ temp$FID == 'EUR' ] )\n",
    "ct.ecdf <- ecdf( temp[[4]][ temp$FID == 'EUR' ] )\n",
    "\n",
    "plot( pgs.ecdf )\n",
    "abline( v=temp[[3]][1], col='red', lwd=2 )\n",
    "plot( ct.ecdf )\n",
    "abline( v=temp[[4]][1], col='red', lwd=2 )"
   ]
  },
  {
   "cell_type": "code",
   "execution_count": null,
   "id": "f04136c6-22af-4bc0-afbe-4b03eaca232b",
   "metadata": {},
   "outputs": [],
   "source": [
    "pgs.ecdf( temp[[3]][1] )\n",
    "ct.ecdf( temp[[4]][1] )"
   ]
  }
 ],
 "metadata": {
  "kernelspec": {
   "display_name": "R",
   "language": "R",
   "name": "ir"
  },
  "language_info": {
   "codemirror_mode": "r",
   "file_extension": ".r",
   "mimetype": "text/x-r-source",
   "name": "R",
   "pygments_lexer": "r",
   "version": "3.6.3"
  }
 },
 "nbformat": 4,
 "nbformat_minor": 5
}
