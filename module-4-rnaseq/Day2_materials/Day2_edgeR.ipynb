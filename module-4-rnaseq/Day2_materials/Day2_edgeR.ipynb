{
 "cells": [
  {
   "cell_type": "markdown",
   "id": "00d41c7b",
   "metadata": {},
   "source": [
    "## edgeR-TMM normalization with miRNA counts table"
   ]
  },
  {
   "cell_type": "markdown",
   "id": "ab90723d",
   "metadata": {},
   "source": [
    "https://www.bioconductor.org/packages/release/bioc/vignettes/edgeR/inst/doc/edgeRUsersGuide.pdf"
   ]
  },
  {
   "cell_type": "code",
   "execution_count": null,
   "id": "00fd40e7",
   "metadata": {},
   "outputs": [],
   "source": [
    "options(stringsAsFactors = FALSE)"
   ]
  },
  {
   "cell_type": "markdown",
   "id": "ffb2818c",
   "metadata": {},
   "source": [
    "Load required libraries (install packages if required)"
   ]
  },
  {
   "cell_type": "code",
   "execution_count": null,
   "id": "2c474922",
   "metadata": {},
   "outputs": [],
   "source": [
    "#Load packages\n",
    "library(limma)\n",
    "library(edgeR)\n",
    "library(data.table)\n",
    "library(RColorBrewer)\n",
    "library(gplots)"
   ]
  },
  {
   "cell_type": "markdown",
   "id": "6fd498fc",
   "metadata": {},
   "source": [
    "### Creating DGE object for edgeR"
   ]
  },
  {
   "cell_type": "markdown",
   "id": "f47b1a47",
   "metadata": {},
   "source": [
    "Read in counts file `data/Serum_ExoR_Nor_miRNA_counts.csv` and view head of file"
   ]
  },
  {
   "cell_type": "code",
   "execution_count": null,
   "id": "8530eb9d",
   "metadata": {},
   "outputs": [],
   "source": [
    "#Read file\n",
    "counts <- read.csv(\"FILE\", stringsAsFactors=F, row.names=1)\n",
    "head(VARIABLE)"
   ]
  },
  {
   "cell_type": "markdown",
   "id": "b24ee115",
   "metadata": {},
   "source": [
    "Define groups and design and create `dge` using `DGEList()`."
   ]
  },
  {
   "cell_type": "code",
   "execution_count": null,
   "id": "8f10427a",
   "metadata": {},
   "outputs": [],
   "source": [
    "group<-as.factor(c(\"ExoR\",\"ExoR\",\"ExoR\",\"ExoR\",\"Nor\",\"Nor\",\"Nor\"))\n",
    "group\n",
    "\n",
    "design <- model.matrix(~0+group)\n",
    "design\n",
    "\n",
    "dge<- DGEList(counts=VARIABLE,group=VARIABLE)"
   ]
  },
  {
   "cell_type": "markdown",
   "id": "93f18146",
   "metadata": {},
   "source": [
    "Plot library sizes"
   ]
  },
  {
   "cell_type": "code",
   "execution_count": null,
   "id": "48d672f4",
   "metadata": {},
   "outputs": [],
   "source": [
    "par(mar=c(10,5,5,5))\n",
    "options(scipen=5)\n",
    "barplot(dge$samples$lib.size, horiz=F, names.arg=colnames(dge$counts), las=2, cex.name = 0.5, cex.axis=.5, \n",
    "        main=\"Library Size\")"
   ]
  },
  {
   "cell_type": "code",
   "execution_count": null,
   "id": "44bceb91",
   "metadata": {},
   "outputs": [],
   "source": [
    "#To check\n",
    "class(dge)\n",
    "dim(dge)\n",
    "dge$samples"
   ]
  },
  {
   "cell_type": "markdown",
   "id": "1164af51",
   "metadata": {},
   "source": [
    "### Filtering based on cpm cutoff\n",
    "\n",
    "Filter miRNAs with at least 12 cpm present in at least 2 samples"
   ]
  },
  {
   "cell_type": "code",
   "execution_count": null,
   "id": "26416db1",
   "metadata": {},
   "outputs": [],
   "source": [
    "table(rowSums(dge$counts==0)==7)\n",
    "keep <- rowSums(cpm(dge) > NUMBER) >= NUMBER\n",
    "dge.f <- dge[keep, , keep.lib.sizes=FALSE]\n",
    "dim(dge.f)"
   ]
  },
  {
   "cell_type": "markdown",
   "id": "657ebe88",
   "metadata": {},
   "source": [
    "### Estimate dispersion\n",
    "Estimate dispersion: The square root of the common dispersion gives the coefficient of variation of biological variation.\n",
    "\n",
    "Generate the estimate dispersion `d` with `estimateDisp()` using the filtered dge (`dge.f`)."
   ]
  },
  {
   "cell_type": "code",
   "execution_count": null,
   "id": "9113fd3b",
   "metadata": {},
   "outputs": [],
   "source": [
    "#estimate dispersions\n",
    "d <- estimateDisp(VARIABLE, design=PARAMETER)"
   ]
  },
  {
   "cell_type": "markdown",
   "id": "298ee8e8",
   "metadata": {},
   "source": [
    "Here the common dispersion is found to be 0.92, so the coefficient of biological variation (BCV) is around 0.96. "
   ]
  },
  {
   "cell_type": "code",
   "execution_count": null,
   "id": "13fb7b8d",
   "metadata": {},
   "outputs": [],
   "source": [
    "d$common.dispersion\n",
    "sqrt(d$common.disp)"
   ]
  },
  {
   "cell_type": "markdown",
   "id": "c397e0fb",
   "metadata": {},
   "source": [
    "### Normalization using TMM\n",
    "“TMM (weighted trimmed mean of log expression) determines scaling factor calculated after double trimming values at the two extremes based on log-intensity ratios (M-values) and log-intensity averages (A-values)” (Dillies et al. Briefings in Bioinformatics, Vol. 14 (6): 671–683, 2013)\n",
    "\n",
    "To normalize using TMM, \n",
    "- Calculate the normalization factors (`calcNormFactors()`) using `d`\n",
    "- Maximize the negative binomial conditional common likelihood to estimate a common dispersion value across all genes (`estimateCommonDisp()`)\n",
    "- Compute genewise exact tests for differences in the means between two groups of negative-binomially distributed counts (`exactTest()`)"
   ]
  },
  {
   "cell_type": "code",
   "execution_count": null,
   "id": "a595b392",
   "metadata": {},
   "outputs": [],
   "source": [
    "TMM <- calcNormFactors(VARIABLE, method=\"TMM\")\n",
    "TMM <- estimateCommonDisp(TMM)\n",
    "TMM <- exactTest(TMM)\n",
    "table(p.adjust(TMM$table$PValue, method=\"BH\")<0.05)\n",
    "TMM.table<-data.frame(topTags(TMM,n=61))\n",
    "write.table(TMM.table,file=\"output/edgeR_TMM_p0.05.txt\",sep=\"\\t\")"
   ]
  },
  {
   "cell_type": "markdown",
   "id": "d44fa58f",
   "metadata": {},
   "source": [
    "## Plots"
   ]
  },
  {
   "cell_type": "markdown",
   "id": "dd89f0d4",
   "metadata": {},
   "source": [
    "### Raw and unfiltered data"
   ]
  },
  {
   "cell_type": "markdown",
   "id": "896c7e99",
   "metadata": {},
   "source": [
    "First calculate cpm and log cpm using the unfiltered data (`dge`)"
   ]
  },
  {
   "cell_type": "code",
   "execution_count": null,
   "id": "b7997fc2",
   "metadata": {},
   "outputs": [],
   "source": [
    "# Raw data\n",
    "cpm <- cpm(VARIABLE)\n",
    "lcpm <- cpm(VARIABLE, log=PARAMETER)"
   ]
  },
  {
   "cell_type": "markdown",
   "id": "747688ee",
   "metadata": {},
   "source": [
    "Now calculate the log cpm for the filtered data (`dge.f`)"
   ]
  },
  {
   "cell_type": "code",
   "execution_count": null,
   "id": "2eb433aa",
   "metadata": {},
   "outputs": [],
   "source": [
    "# Filtered data\n",
    "lcpm.f <- cpm(VARIABLE, log=PARAMETER)"
   ]
  },
  {
   "cell_type": "code",
   "execution_count": null,
   "id": "0a5dd304",
   "metadata": {},
   "outputs": [],
   "source": [
    "#set colours for graphs\n",
    "nsamples <- ncol(dge)\n",
    "nsamples<-(dge.f)\n",
    "nsamples<-ncol(dge.norm)\n",
    "col <- brewer.pal(nsamples, \"Paired\")\n",
    "\n",
    "#Visualise filtered vs unfiltered data\n",
    "par(mfrow=c(1,2))\n",
    "\n",
    "#plot unfiltered data\n",
    "samplenames<-c(\"ExoR1\",\"ExoR2\",\"ExoR3\",\"ExoR4\",\"Nor1\",\"Nor2\",\"Nor3\")\n",
    "\n",
    "plot(density(VARIABLE[,1]),col=col(lcpm,as.factor = FALSE),lwd=1,ylim=c(0,2.5),las=2,main=\"\",xlab=\"\")\n",
    "\n",
    "title(main=\"A. Raw data\", xlab=\"Log-cpm\")\n",
    "abline(v=0, lty=3)\n",
    "for (i in 2:nsamples){\n",
    "  den <- density(lcpm[,i])\n",
    "  lines(den$x, den$y, col=col[i], lwd=2)\n",
    "}\n",
    "legend(\"topright\", samplenames, text.col=col, bty=\"n\",cex=0.8,pt.cex=0.8)\n",
    "\n",
    "\n",
    "#plot filtered data\n",
    "plot(density(VARIABLE[,1]), col=col(lcpm.f,as.factor=FALSE), lwd=2, ylim=c(0,0.5), las=2,\n",
    "     main=\"\", xlab=\"\")\n",
    "\n",
    "title(main=\"B. Filtered data\", xlab=\"Log-cpm\")\n",
    "abline(v=0, lty=3)\n",
    "for (i in 2:nsamples){\n",
    "  den <- density(lcpm.f[,i])\n",
    "  lines(den$x, den$y, col=col[i], lwd=2)\n",
    "}\n",
    "legend(\"topright\", samplenames, text.col=col, bty=\"n\",cex=0.8,pt.cex=0.8)"
   ]
  },
  {
   "cell_type": "markdown",
   "id": "ce0d2b2b",
   "metadata": {},
   "source": [
    "### Boxplots of TMM-Normalized vs. unnormalized data"
   ]
  },
  {
   "cell_type": "code",
   "execution_count": null,
   "id": "3a4296a5",
   "metadata": {},
   "outputs": [],
   "source": [
    "# Unnormalized data\n",
    "lcpm <- cpm(dge, log=TRUE)"
   ]
  },
  {
   "cell_type": "code",
   "execution_count": null,
   "id": "0f672dc5",
   "metadata": {},
   "outputs": [],
   "source": [
    "# TMM normalized data\n",
    "dge.norm <- calcNormFactors(dge.f,method=\"TMM\") \n",
    "dge.norm$samples$norm.factors\n",
    "lcpm.norm <- cpm(VARIABLE, log=PARAMETER)"
   ]
  },
  {
   "cell_type": "code",
   "execution_count": null,
   "id": "ec486e2e",
   "metadata": {},
   "outputs": [],
   "source": [
    "par(mfrow=c(1,2))\n",
    "\n",
    "# Unnormalised data\n",
    "boxplot(VARIABLE,las=2, col=col, main=\"\",ylim=c(2,20),names=c(\"ExoR1\",\"ExoR2\",\"ExoR3\",\"ExoR4\",\"Nor1\",\"Nor2\",\"Nor3\"))\n",
    "title(main=\"A. Unnormalized data\",ylab=\"Log-cpm\")\n",
    "\n",
    "# TMM normalized data\n",
    "boxplot(VARIABLE, las=2, col=col, main=\"\", ylim=c(2,20),\n",
    "        names=c(\"ExoR1\",\"ExoR2\",\"ExoR3\",\"ExoR4\",\"Nor1\",\"Nor2\",\"Nor3\"))\n",
    "\n",
    "title(main=\"B. TMM Normalized data\",ylab=\"Log-cpm\")"
   ]
  },
  {
   "cell_type": "markdown",
   "id": "ee1d490c",
   "metadata": {},
   "source": [
    "### PCA plot\n",
    "Make a PCA plot using the log cpm normalized data (`lcpm.norm`)"
   ]
  },
  {
   "cell_type": "code",
   "execution_count": null,
   "id": "ebdebf6f",
   "metadata": {},
   "outputs": [],
   "source": [
    "#MDS plot PCA\n",
    "par(mfrow=c(1,2))\n",
    "col.group <- group\n",
    "levels(col.group) <- brewer.pal(nlevels(col.group), \"Set1\")\n",
    "col.group <- as.character(col.group)\n",
    "\n",
    "plotMDS(VARIABLE, labels=group, col=col.group)\n",
    "\n",
    "title(main=\"Sample groups\")"
   ]
  },
  {
   "cell_type": "markdown",
   "id": "33741747",
   "metadata": {},
   "source": [
    "### Heatmap of miRNAs significantly different between groups"
   ]
  },
  {
   "cell_type": "markdown",
   "id": "84edf565",
   "metadata": {},
   "source": [
    "<div class=\"alert alert-block alert-success\">\n",
    "    <p><b>Exercise:</b> Generate the heatmap for significantly different miRNAs</p>\n",
    "</div>\n",
    "\n",
    "Hint: First subset the miRNAs in the log cpm TMM-normalized data (`lcpm.norm`) using the miRNAs in the `TMM.table`"
   ]
  },
  {
   "cell_type": "code",
   "execution_count": null,
   "id": "26ba7950",
   "metadata": {},
   "outputs": [],
   "source": [
    "# subset miRNAs from lcpm normalized data\n"
   ]
  },
  {
   "cell_type": "code",
   "execution_count": null,
   "id": "bc3af33d",
   "metadata": {},
   "outputs": [],
   "source": [
    "## Get some nicer colours\n",
    "mypalette <- brewer.pal(11,\"RdYlBu\")\n",
    "morecols <- colorRampPalette(mypalette)\n",
    "# Set up colour vector for celltype variable\n",
    "col.cell <- c(\"purple\",\"orange\")[group]\n",
    "\n",
    "heatmap.2(VARIABLE,col=rev(morecols(50)),trace=\"PARAMETER\", main=\"TITLE\",\n",
    "          ColSideColors=col.cell,scale=\"row\",margins=c(9,9), cexCol=0.8)\n"
   ]
  }
 ],
 "metadata": {
  "kernelspec": {
   "display_name": "R",
   "language": "R",
   "name": "ir"
  },
  "language_info": {
   "codemirror_mode": "r",
   "file_extension": ".r",
   "mimetype": "text/x-r-source",
   "name": "R",
   "pygments_lexer": "r",
   "version": "3.6.3"
  }
 },
 "nbformat": 4,
 "nbformat_minor": 5
}
