{
 "cells": [
  {
   "cell_type": "markdown",
   "id": "85cf0ca8-929d-4e64-81f5-b3cfe303d854",
   "metadata": {},
   "source": [
    "# Homework 1: Statistics\n",
    "The module for this assignment was taught by Professor Graham McVicker."
   ]
  },
  {
   "cell_type": "markdown",
   "id": "53db6539-cb02-4f23-9308-2493f3862b64",
   "metadata": {},
   "source": [
    "**Name:** *your_name_here*\n",
    "\n",
    "**PID:** *your_PID_here*"
   ]
  },
  {
   "cell_type": "markdown",
   "id": "bb983b6d-a95a-4e08-b4c8-7e01c06be8cd",
   "metadata": {},
   "source": [
    "## Instructions"
   ]
  },
  {
   "cell_type": "markdown",
   "id": "f2e3607f-60ec-462d-bcc4-ee7476d05b21",
   "metadata": {},
   "source": [
    "Answer the following questions in your own words using a Jupyter notebook and upload a PDF of your code and written answers to Gradescope. Make sure to write your name and PID at the start of your answers. This assignment is due **2/2/23 at 9:00AM**."
   ]
  },
  {
   "cell_type": "markdown",
   "id": "1c5181f0-d443-40b8-99a1-9f68da5307fd",
   "metadata": {},
   "source": [
    "See this document for instructions on creating a Jupyter notebook:\n",
    "\n",
    "[https://docs.google.com/document/d/1HP5Q7PARCKluQtfkovnBrupaQZ9oDLxrwxd1asQCtqM](https://docs.google.com/document/d/1HP5Q7PARCKluQtfkovnBrupaQZ9oDLxrwxd1asQCtqM)"
   ]
  },
  {
   "cell_type": "markdown",
   "id": "bf560bc6-016b-4b5d-aaa8-7bc04ad3039c",
   "metadata": {},
   "source": [
    "## Part 1: Statistics"
   ]
  },
  {
   "cell_type": "markdown",
   "id": "cea01609-53ec-431e-85b8-83346700046f",
   "metadata": {},
   "source": [
    "_Flora colossus_ is a plant-like organism native to the planet X. This species is capable of human speech but their vocabulary consists solely of three words: \"I\", \"am\", and their name. It is thought that _F. colossus_ can communicate a vast array of complex thoughts and expressions through the pitch and intonation of these three words, but an exact translation has not yet been thoroughly explored."
   ]
  },
  {
   "cell_type": "markdown",
   "id": "25173dae-eee9-4d42-9e6e-4cdd80cf6928",
   "metadata": {},
   "source": [
    "In an attempt at decoding these rules, scientists asked an _F. colossus_ named Groot to translate a set of 50 words carrying either a negative (**neg**) or positive (**pos**) connotation (**conn**). They recorded the responses to each word, and extracted the highest pitch from each response. Their data appears in the file `colossus_pitch.csv`."
   ]
  },
  {
   "cell_type": "code",
   "execution_count": 1,
   "id": "de861ee3-2d88-4376-9248-8ff13841cdbb",
   "metadata": {},
   "outputs": [
    {
     "data": {
      "text/html": [
       "<table class=\"dataframe\">\n",
       "<caption>A data.frame: 6 × 2</caption>\n",
       "<thead>\n",
       "\t<tr><th></th><th scope=col>conn</th><th scope=col>pitch</th></tr>\n",
       "\t<tr><th></th><th scope=col>&lt;fct&gt;</th><th scope=col>&lt;int&gt;</th></tr>\n",
       "</thead>\n",
       "<tbody>\n",
       "\t<tr><th scope=row>1</th><td>neg</td><td>198</td></tr>\n",
       "\t<tr><th scope=row>2</th><td>neg</td><td>199</td></tr>\n",
       "\t<tr><th scope=row>3</th><td>neg</td><td>202</td></tr>\n",
       "\t<tr><th scope=row>4</th><td>neg</td><td>206</td></tr>\n",
       "\t<tr><th scope=row>5</th><td>neg</td><td>195</td></tr>\n",
       "\t<tr><th scope=row>6</th><td>neg</td><td>199</td></tr>\n",
       "</tbody>\n",
       "</table>\n"
      ],
      "text/latex": [
       "A data.frame: 6 × 2\n",
       "\\begin{tabular}{r|ll}\n",
       "  & conn & pitch\\\\\n",
       "  & <fct> & <int>\\\\\n",
       "\\hline\n",
       "\t1 & neg & 198\\\\\n",
       "\t2 & neg & 199\\\\\n",
       "\t3 & neg & 202\\\\\n",
       "\t4 & neg & 206\\\\\n",
       "\t5 & neg & 195\\\\\n",
       "\t6 & neg & 199\\\\\n",
       "\\end{tabular}\n"
      ],
      "text/markdown": [
       "\n",
       "A data.frame: 6 × 2\n",
       "\n",
       "| <!--/--> | conn &lt;fct&gt; | pitch &lt;int&gt; |\n",
       "|---|---|---|\n",
       "| 1 | neg | 198 |\n",
       "| 2 | neg | 199 |\n",
       "| 3 | neg | 202 |\n",
       "| 4 | neg | 206 |\n",
       "| 5 | neg | 195 |\n",
       "| 6 | neg | 199 |\n",
       "\n"
      ],
      "text/plain": [
       "  conn pitch\n",
       "1 neg  198  \n",
       "2 neg  199  \n",
       "3 neg  202  \n",
       "4 neg  206  \n",
       "5 neg  195  \n",
       "6 neg  199  "
      ]
     },
     "metadata": {},
     "output_type": "display_data"
    }
   ],
   "source": [
    "# let's load the data into a variable named \"data\"\n",
    "data = read.csv(\"colossus_pitch.csv\")\n",
    "head(data)"
   ]
  },
  {
   "cell_type": "markdown",
   "id": "e81c3292-0f7a-4fc7-babe-793acb7efcac",
   "metadata": {},
   "source": [
    "### Problem 1"
   ]
  },
  {
   "cell_type": "markdown",
   "id": "d842cac2-ddcb-4b40-913d-99def4cc5bcc",
   "metadata": {},
   "source": [
    "Plot two histograms for the pitches in response to 1) the negative words and 2) the positive words. Please label your axes. (2 points)\n",
    "\n",
    "Based on the plots, do you think there is a significant difference between the two variables? Justify your reasoning. (1 point)"
   ]
  },
  {
   "cell_type": "code",
   "execution_count": 2,
   "id": "6105f02d-5bc6-4d4a-b979-602650cd936a",
   "metadata": {},
   "outputs": [],
   "source": [
    "# YOUR CODE HERE"
   ]
  },
  {
   "cell_type": "markdown",
   "id": "83ad672f-5be0-40cf-a0b5-7994fede3308",
   "metadata": {},
   "source": [
    "YOUR ANSWER HERE"
   ]
  },
  {
   "cell_type": "markdown",
   "id": "a69aceab-a151-4b41-8119-8afad9ac858a",
   "metadata": {},
   "source": [
    "### Problem 2"
   ]
  },
  {
   "cell_type": "markdown",
   "id": "daee0e81-a935-4be6-a01a-bf75d31dee0d",
   "metadata": {},
   "source": [
    "Report the mean and standard deviation of the pitches for 1) the negative words and 2) the positive words. (2 points)"
   ]
  },
  {
   "cell_type": "code",
   "execution_count": 3,
   "id": "91918e79-fcf1-4552-b993-e4bc8d16c873",
   "metadata": {},
   "outputs": [],
   "source": [
    "# YOUR CODE HERE"
   ]
  },
  {
   "cell_type": "markdown",
   "id": "d3a5b0b4-654d-4877-aa36-632089858e9e",
   "metadata": {},
   "source": [
    "### Problem 3"
   ]
  },
  {
   "cell_type": "markdown",
   "id": "fa2fd6d0-588f-4514-9a74-ed76fb30fb18",
   "metadata": {},
   "source": [
    "The scientists think that _F. colossus_ will respond with a lower pitch to words carrying a negative connotation and a higher pitch to words carrying a positive connotation.\n",
    "\n",
    "Use your results from the previous question to calculate a z-score for this hypothesis. (1 point)"
   ]
  },
  {
   "cell_type": "code",
   "execution_count": 4,
   "id": "a4d3c42e-ffb9-42dc-b53b-a6f68db8d1a4",
   "metadata": {},
   "outputs": [],
   "source": [
    "# YOUR CODE HERE"
   ]
  },
  {
   "cell_type": "markdown",
   "id": "fb526ddd-13c5-49fd-bd43-977ed64a106e",
   "metadata": {},
   "source": [
    "### Problem 4"
   ]
  },
  {
   "cell_type": "markdown",
   "id": "b8855f33-4897-43db-860d-5f648c36fc0a",
   "metadata": {},
   "source": [
    "Perform a two-sided z-test and compute the p-value using the `pnorm()` function. Use the results of the prior question as your test statistic. (1 point)"
   ]
  },
  {
   "cell_type": "code",
   "execution_count": 5,
   "id": "197d7de9-73a8-4984-86df-d3c9e471dd9c",
   "metadata": {},
   "outputs": [],
   "source": [
    "# YOUR CODE HERE"
   ]
  },
  {
   "cell_type": "markdown",
   "id": "9470c57b-7245-4f9a-a217-aa588a0f9a23",
   "metadata": {},
   "source": [
    "### Problem 5"
   ]
  },
  {
   "cell_type": "markdown",
   "id": "d097d5df-110f-44c7-ab8c-0e0e95a429cd",
   "metadata": {},
   "source": [
    "Under the threshold $\\alpha=0.05$, is this a significant result? Was the scientists' hypothesis correct? (1 point)"
   ]
  },
  {
   "cell_type": "markdown",
   "id": "77b47628-e771-481d-817a-1041f4d7eebc",
   "metadata": {},
   "source": [
    "YOUR ANSWER HERE"
   ]
  }
 ],
 "metadata": {
  "kernelspec": {
   "display_name": "R [conda env:r-bio]",
   "language": "R",
   "name": "conda-env-r-bio-r"
  },
  "language_info": {
   "codemirror_mode": "r",
   "file_extension": ".r",
   "mimetype": "text/x-r-source",
   "name": "R",
   "pygments_lexer": "r",
   "version": "3.6.3"
  }
 },
 "nbformat": 4,
 "nbformat_minor": 5
}
