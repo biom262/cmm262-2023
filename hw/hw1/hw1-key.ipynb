{
 "cells": [
  {
   "cell_type": "markdown",
   "id": "85cf0ca8-929d-4e64-81f5-b3cfe303d854",
   "metadata": {},
   "source": [
    "# Homework 1: Statistics\n",
    "The module for this assignment was taught by Professor Graham McVicker."
   ]
  },
  {
   "cell_type": "markdown",
   "id": "53db6539-cb02-4f23-9308-2493f3862b64",
   "metadata": {},
   "source": [
    "**Name:** *your_name_here*\n",
    "\n",
    "**PID:** *your_PID_here*"
   ]
  },
  {
   "cell_type": "markdown",
   "id": "bb983b6d-a95a-4e08-b4c8-7e01c06be8cd",
   "metadata": {},
   "source": [
    "## Instructions"
   ]
  },
  {
   "cell_type": "markdown",
   "id": "f2e3607f-60ec-462d-bcc4-ee7476d05b21",
   "metadata": {},
   "source": [
    "Answer the following questions in your own words using a Jupyter notebook and upload a PDF of your code and written answers to Gradescope. Make sure to write your name and PID at the start of your answers. This assignment is due 2/2/23 at 9:00AM."
   ]
  },
  {
   "cell_type": "markdown",
   "id": "1c5181f0-d443-40b8-99a1-9f68da5307fd",
   "metadata": {},
   "source": [
    "See this document for instructions on creating a Jupyter notebook:\n",
    "\n",
    "[https://docs.google.com/document/d/1HP5Q7PARCKluQtfkovnBrupaQZ9oDLxrwxd1asQCtqM](https://docs.google.com/document/d/1HP5Q7PARCKluQtfkovnBrupaQZ9oDLxrwxd1asQCtqM)\n",
    "\n",
    "***Please use the 16 CPU environment for this assignment. Use the Python [conda env:r-bio] kernel for Part 1 and the R [conda env:r-bio] kernel for Part 2. You can switch the kernel of this notebook by clicking the kernel name in the top right and selecting the new kernel from the drop-down menu.***"
   ]
  },
  {
   "cell_type": "markdown",
   "id": "bf560bc6-016b-4b5d-aaa8-7bc04ad3039c",
   "metadata": {},
   "source": [
    "## Part 1: CHIP-seq"
   ]
  },
  {
   "cell_type": "markdown",
   "id": "cea01609-53ec-431e-85b8-83346700046f",
   "metadata": {},
   "source": [
    "The following questions refer to these two files:\n",
    "```\n",
    "~/public/hw1/hw-f1.bam\n",
    "~/public/hw1/hw-f2.bam\n",
    "```"
   ]
  },
  {
   "cell_type": "markdown",
   "id": "0f174a6e-ffb1-4ae2-8a68-3c86b11ffa2e",
   "metadata": {},
   "source": [
    "### Problem 1"
   ]
  },
  {
   "cell_type": "markdown",
   "id": "389f1a5a-dd9f-4f1f-9a2d-ba0337c9950c",
   "metadata": {},
   "source": [
    "You received two BAM files from a colleague (hw-f1.bam and hw-f2.bam) but there was a mess up, and the files were not annotated properly. Which UNIX command(s) might you use to investigate which species the data was aligned to? Justify why your command(s) would work. (2 points)"
   ]
  },
  {
   "cell_type": "markdown",
   "id": "07959fae-240f-43f4-8b4e-7931cc4210ee",
   "metadata": {},
   "source": [
    "```samtools view -H file.bam | less -S```\n",
    "\n"
   ]
  },
  {
   "cell_type": "markdown",
   "id": "45b25a74-3ff5-44cc-bdf3-21e1bc2ffcad",
   "metadata": {},
   "source": [
    "**ANSWER:** The header of the files should have information on which genome they were aligned to.\n"
   ]
  },
  {
   "cell_type": "markdown",
   "id": "0450a10a-249d-4505-bc38-3d1876b6a786",
   "metadata": {},
   "source": [
    "### Problem 2"
   ]
  },
  {
   "cell_type": "markdown",
   "id": "b73ee0f7-841c-4aef-a4b4-cead4c1d449c",
   "metadata": {},
   "source": [
    "Find the two BAM files in the hw1 directory and then open the terminal and run your suggested commands from part 1. Which species were the two BAM files aligned to? (1 point)\n"
   ]
  },
  {
   "cell_type": "markdown",
   "id": "b1029594-7ba8-4b93-a0b4-10c0bac51dde",
   "metadata": {},
   "source": [
    "**ANSWER:** Human (hg19)\n"
   ]
  },
  {
   "cell_type": "markdown",
   "id": "cf18f1f1-3820-4d95-ada1-9c1b63da809b",
   "metadata": {},
   "source": [
    "### Problem 3"
   ]
  },
  {
   "cell_type": "markdown",
   "id": "49e5554c-6762-4cdc-bef6-6b408759d9be",
   "metadata": {},
   "source": [
    "What chromosome does the data in these two files come from? Note, some reads can align to multiple chromosomes, so if you view on IGV or similar make sure to set the data range to 1000 before you zoom to full genome view. (1 points)\n"
   ]
  },
  {
   "cell_type": "markdown",
   "id": "1eeaf718-8c3d-4f69-a9ca-bba1c5225047",
   "metadata": {},
   "source": [
    "**ANSWER:**\n",
    "chr19"
   ]
  },
  {
   "cell_type": "markdown",
   "id": "d90b955a-fa6d-4278-9518-e814f5e932c8",
   "metadata": {},
   "source": [
    "### Problem 4"
   ]
  },
  {
   "cell_type": "markdown",
   "id": "10559ad2-4c49-4f32-8618-5ffcf441d84f",
   "metadata": {},
   "source": [
    "You were told that the two files are from a ChIP-seq experiment and you are trying to figure out what is in each file: input or ChIP of DNA-binding protein. Which file is the input and which file comes from the ChIP-seq of the DNA-binding protein? What is the target protein/histone modification? Explain the steps you took to reach this decision. Hint: use two consecutive steps of the eleven in the ChIP-seq module. (3 points)\n"
   ]
  },
  {
   "cell_type": "markdown",
   "id": "f2f88ec1-0dd4-4d38-8866-71d8091f1dbb",
   "metadata": {},
   "source": [
    "**ANSWER:**"
   ]
  },
  {
   "cell_type": "markdown",
   "id": "a5ae3b7f-f6cb-49c6-9f66-90706ec16f38",
   "metadata": {},
   "source": [
    "1. Make tag directories for both files"
   ]
  },
  {
   "cell_type": "code",
   "execution_count": 4,
   "id": "e6cf28a2-dbc1-4227-85b4-7be57b16bcaa",
   "metadata": {},
   "outputs": [],
   "source": [
    "%%bash\n",
    "\n",
    "# the students don’t need to include this code in their answer\n",
    "# but the TAs can use this code in future years if they ever need to change this question\n",
    "mkdir -p tagdirs\n",
    "for f in ~/public/hw1/hw-f*.bam; do \n",
    "    fname=\"$(basename $f .bam)\"\n",
    "    nohup makeTagDirectory tagdirs/\"$fname\" -genome ~/public/chipseq/mm9 \\\n",
    "    -checkGC \"$f\" 2> tagdirs/out.\"$fname\" &\n",
    "done"
   ]
  },
  {
   "cell_type": "markdown",
   "id": "83584ffb-09e0-470b-93cf-fd9779a4e5e5",
   "metadata": {},
   "source": [
    "2. Make bedgraph file and view in IGV browser\n"
   ]
  },
  {
   "cell_type": "code",
   "execution_count": 6,
   "id": "8b371d55-3c6c-4d40-8414-92515de86ea7",
   "metadata": {},
   "outputs": [],
   "source": [
    "%%bash\n",
    "# the students don’t need to include this code in their answer\n",
    "# but the TAs can use this code in future years if they ever need to change this question\n",
    "mkdir -p viewer\n",
    "for dir in tagdirs/hw-f*; do\n",
    "    dirname=\"$(basename $dir)\"\n",
    "    nohup makeUCSCfile $dir -o viewer/$dirname.ucsc.bedGraph \\\n",
    "    2> viewer/$dirname.out &\n",
    "done\n",
    "\n"
   ]
  },
  {
   "cell_type": "markdown",
   "id": "7ef799be-d425-4a79-ab34-28400415e31e",
   "metadata": {},
   "source": [
    "**ANSWER:**"
   ]
  },
  {
   "cell_type": "markdown",
   "id": "9f0f9f4e-b4fb-43c6-981c-fcf4f51028f9",
   "metadata": {},
   "source": [
    "H3K4me3 should be on promoter and sharp while input should be flat\n",
    "IGV shots:Genome view -. Reference Google drive for screenshots. \n"
   ]
  },
  {
   "cell_type": "markdown",
   "id": "f869ef7e-bada-4a9d-9d8d-800b8ba7af30",
   "metadata": {},
   "source": [
    "## Part 2: Statistics"
   ]
  },
  {
   "cell_type": "markdown",
   "id": "a472958e-6a35-462f-aa98-888edf97009e",
   "metadata": {},
   "source": [
    "**Reminder to switch you env to R [conda env:r-bio] kernel for Part 2.**"
   ]
  },
  {
   "cell_type": "markdown",
   "id": "5d1d356e-38ca-4ca4-aa0b-905766d40ecb",
   "metadata": {},
   "source": [
    "Flora colossus is a plant-like organism native to the planet X. This species is capable of human speech but their vocabulary consists solely of three words: \"I\", \"am\", and their name. It is thought that F. colossus can communicate a vast array of complex thoughts and expressions through the pitch and intonation of these three words, but an exact translation has not yet been thoroughly explored."
   ]
  },
  {
   "cell_type": "markdown",
   "id": "7e0c24b9-356e-4092-b614-8b20a20a65ae",
   "metadata": {},
   "source": [
    "In an attempt at decoding these rules, scientists asked an F. colossus named Groot to translate a set of 50 words carrying either a negative (neg) or positive (pos) connotation (con). They recorded the responses to each word, and extracted the highest pitch from each response. Their data appears in the file colossus_pitch.csv"
   ]
  },
  {
   "cell_type": "code",
   "execution_count": 1,
   "id": "30ed5357-cf7f-4166-9e17-7f12d37be67f",
   "metadata": {},
   "outputs": [],
   "source": [
    "neg = as.integer(rnorm(22, mean=200.99, sd=3.18))\n",
    "pos = as.integer(rnorm(28, mean=210.81, sd=20.67))"
   ]
  },
  {
   "cell_type": "code",
   "execution_count": 2,
   "id": "63adef4a-e0dc-4bc1-94de-2a5ef53d0382",
   "metadata": {},
   "outputs": [],
   "source": [
    "data = data.frame(conn=c(rep('neg', 22), rep('pos', 28)), pitch=c(neg, pos))\n",
    "# write.csv(data, 'colossus_pitch.csv', row.names=F)"
   ]
  },
  {
   "cell_type": "code",
   "execution_count": 3,
   "id": "ff97c2a8-2c28-43fd-b6c4-646da5c5d0ab",
   "metadata": {},
   "outputs": [
    {
     "data": {
      "text/html": [
       "<table class=\"dataframe\">\n",
       "<caption>A data.frame: 6 × 2</caption>\n",
       "<thead>\n",
       "\t<tr><th></th><th scope=col>conn</th><th scope=col>pitch</th></tr>\n",
       "\t<tr><th></th><th scope=col>&lt;fct&gt;</th><th scope=col>&lt;int&gt;</th></tr>\n",
       "</thead>\n",
       "<tbody>\n",
       "\t<tr><th scope=row>1</th><td>neg</td><td>198</td></tr>\n",
       "\t<tr><th scope=row>2</th><td>neg</td><td>199</td></tr>\n",
       "\t<tr><th scope=row>3</th><td>neg</td><td>202</td></tr>\n",
       "\t<tr><th scope=row>4</th><td>neg</td><td>206</td></tr>\n",
       "\t<tr><th scope=row>5</th><td>neg</td><td>195</td></tr>\n",
       "\t<tr><th scope=row>6</th><td>neg</td><td>199</td></tr>\n",
       "</tbody>\n",
       "</table>\n"
      ],
      "text/latex": [
       "A data.frame: 6 × 2\n",
       "\\begin{tabular}{r|ll}\n",
       "  & conn & pitch\\\\\n",
       "  & <fct> & <int>\\\\\n",
       "\\hline\n",
       "\t1 & neg & 198\\\\\n",
       "\t2 & neg & 199\\\\\n",
       "\t3 & neg & 202\\\\\n",
       "\t4 & neg & 206\\\\\n",
       "\t5 & neg & 195\\\\\n",
       "\t6 & neg & 199\\\\\n",
       "\\end{tabular}\n"
      ],
      "text/markdown": [
       "\n",
       "A data.frame: 6 × 2\n",
       "\n",
       "| <!--/--> | conn &lt;fct&gt; | pitch &lt;int&gt; |\n",
       "|---|---|---|\n",
       "| 1 | neg | 198 |\n",
       "| 2 | neg | 199 |\n",
       "| 3 | neg | 202 |\n",
       "| 4 | neg | 206 |\n",
       "| 5 | neg | 195 |\n",
       "| 6 | neg | 199 |\n",
       "\n"
      ],
      "text/plain": [
       "  conn pitch\n",
       "1 neg  198  \n",
       "2 neg  199  \n",
       "3 neg  202  \n",
       "4 neg  206  \n",
       "5 neg  195  \n",
       "6 neg  199  "
      ]
     },
     "metadata": {},
     "output_type": "display_data"
    }
   ],
   "source": [
    "# let's load the data into a variable named \"data\"\n",
    "data = read.csv(\"colossus_pitch.csv\")\n",
    "head(data)"
   ]
  },
  {
   "cell_type": "markdown",
   "id": "58ce7e15-eea5-4acf-8eb1-e556ff55a64c",
   "metadata": {},
   "source": [
    "### Problem 5"
   ]
  },
  {
   "cell_type": "markdown",
   "id": "d842cac2-ddcb-4b40-913d-99def4cc5bcc",
   "metadata": {},
   "source": [
    "Plot two histograms for the pitches in response to 1) the negative words and 2) the positive words. Please label your axes. Based on the plots, do you think there is a significant difference between the two variables? Justify your reasoning. (2 points)"
   ]
  },
  {
   "cell_type": "markdown",
   "id": "28098c12-c091-4ecf-ab6a-96907c667d45",
   "metadata": {},
   "source": [
    "**ANSWER:**"
   ]
  },
  {
   "cell_type": "code",
   "execution_count": 13,
   "id": "76843e9c-0844-4736-950b-9465429be89f",
   "metadata": {},
   "outputs": [
    {
     "data": {
      "image/png": "[encoded data removed]",
      "text/plain": [
       "Plot with title “Histogram of data$pitch[data$conn == \"neg\"]”"
      ]
     },
     "metadata": {
      "image/png": {
       "height": 420,
       "width": 420
      }
     },
     "output_type": "display_data"
    }
   ],
   "source": [
    "hist(data$pitch[data$conn == 'neg'])"
   ]
  },
  {
   "cell_type": "code",
   "execution_count": 14,
   "id": "de046b44-8f00-49b0-a001-d9cadc2d7521",
   "metadata": {},
   "outputs": [
    {
     "data": {
      "image/png": "[encoded data removed]",
      "text/plain": [
       "Plot with title “Histogram of data$pitch[data$conn == \"pos\"]”"
      ]
     },
     "metadata": {
      "image/png": {
       "height": 420,
       "width": 420
      }
     },
     "output_type": "display_data"
    }
   ],
   "source": [
    "hist(data$pitch[data$conn == 'pos'])"
   ]
  },
  {
   "cell_type": "markdown",
   "id": "a69aceab-a151-4b41-8119-8afad9ac858a",
   "metadata": {},
   "source": [
    "### Problem 6"
   ]
  },
  {
   "cell_type": "markdown",
   "id": "daee0e81-a935-4be6-a01a-bf75d31dee0d",
   "metadata": {},
   "source": [
    "Report the mean and standard deviation of the pitches for:\n",
    "1) the negative words \n",
    "2) the positive words.(2 points)"
   ]
  },
  {
   "cell_type": "markdown",
   "id": "2abf4629-54d2-4871-9181-821ca6ce840a",
   "metadata": {},
   "source": [
    "**ANSWER:**"
   ]
  },
  {
   "cell_type": "code",
   "execution_count": 15,
   "id": "37323db7-1b6f-441c-be0d-72b6891cb024",
   "metadata": {},
   "outputs": [
    {
     "name": "stdout",
     "output_type": "stream",
     "text": [
      "[1] 200.227273 208.071429   3.890548  17.303240\n"
     ]
    }
   ],
   "source": [
    "mu_neg = mean(data$pitch[data$conn=='neg'])\n",
    "mu_pos = mean(data$pitch[data$conn=='pos'])\n",
    "sd_neg = sd(data$pitch[data$conn=='neg'])\n",
    "sd_pos = sd(data$pitch[data$conn=='pos'])\n",
    "n_neg = sum(data$conn=='neg')\n",
    "n_pos = sum(data$conn=='pos')\n",
    "print(c(mu_neg, mu_pos, sd_neg, sd_pos))"
   ]
  },
  {
   "cell_type": "markdown",
   "id": "d3a5b0b4-654d-4877-aa36-632089858e9e",
   "metadata": {},
   "source": [
    "### Problem 7"
   ]
  },
  {
   "cell_type": "markdown",
   "id": "fa2fd6d0-588f-4514-9a74-ed76fb30fb18",
   "metadata": {},
   "source": [
    "The scientists think that _F. colossus_ will respond with a lower pitch to words carrying a negative connotation and a higher pitch to words carrying a positive connotation.\n",
    "\n",
    "Use your results from the previous question to calculate a z-score for this hypothesis. (1 point)"
   ]
  },
  {
   "cell_type": "markdown",
   "id": "b186562c-ea3d-4e62-8bb9-412ca8b9a0f3",
   "metadata": {},
   "source": [
    "**ANSWER:**"
   ]
  },
  {
   "cell_type": "code",
   "execution_count": 19,
   "id": "98a4ac5d-dca3-48ef-a284-f4ab4860b1cb",
   "metadata": {},
   "outputs": [
    {
     "data": {
      "text/html": [
       "-2.32518209452143"
      ],
      "text/latex": [
       "-2.32518209452143"
      ],
      "text/markdown": [
       "-2.32518209452143"
      ],
      "text/plain": [
       "[1] -2.325182"
      ]
     },
     "metadata": {},
     "output_type": "display_data"
    }
   ],
   "source": [
    "z = (mu_neg - mu_pos) / sqrt((sd_neg**2)/n_neg + (sd_pos**2)/n_pos)\n",
    "z"
   ]
  },
  {
   "cell_type": "markdown",
   "id": "fb526ddd-13c5-49fd-bd43-977ed64a106e",
   "metadata": {},
   "source": [
    "### Problem 8"
   ]
  },
  {
   "cell_type": "markdown",
   "id": "b8855f33-4897-43db-860d-5f648c36fc0a",
   "metadata": {},
   "source": [
    "Perform a two-sided z-test and compute the p-value using the `pnorm()` function. Use the results of the prior question as your test statistic. (1 point)"
   ]
  },
  {
   "cell_type": "markdown",
   "id": "655f6947-4ef5-4f0f-a240-7e1a7d9088a7",
   "metadata": {},
   "source": [
    "**ANSWER:**"
   ]
  },
  {
   "cell_type": "code",
   "execution_count": 20,
   "id": "197d7de9-73a8-4984-86df-d3c9e471dd9c",
   "metadata": {},
   "outputs": [
    {
     "data": {
      "text/html": [
       "0.0200622253687056"
      ],
      "text/latex": [
       "0.0200622253687056"
      ],
      "text/markdown": [
       "0.0200622253687056"
      ],
      "text/plain": [
       "[1] 0.02006223"
      ]
     },
     "metadata": {},
     "output_type": "display_data"
    }
   ],
   "source": [
    "p.val = pnorm(z)*2\n",
    "p.val"
   ]
  },
  {
   "cell_type": "markdown",
   "id": "9470c57b-7245-4f9a-a217-aa588a0f9a23",
   "metadata": {},
   "source": [
    "### Problem 9"
   ]
  },
  {
   "cell_type": "markdown",
   "id": "d097d5df-110f-44c7-ab8c-0e0e95a429cd",
   "metadata": {},
   "source": [
    "Under the threshold $\\alpha=0.05$, is this a significant result? Was the scientists' hypothesis correct? (1 point)"
   ]
  },
  {
   "cell_type": "markdown",
   "id": "77b47628-e771-481d-817a-1041f4d7eebc",
   "metadata": {},
   "source": [
    "**ANSWER:**"
   ]
  },
  {
   "cell_type": "markdown",
   "id": "49cc0529-826f-4687-9161-12438b8c5a97",
   "metadata": {},
   "source": [
    "YES"
   ]
  },
  {
   "cell_type": "markdown",
   "id": "f18926f2-4c28-4ebd-a90a-4dfb568a7a92",
   "metadata": {},
   "source": [
    "### Problem 10"
   ]
  },
  {
   "cell_type": "markdown",
   "id": "9fefb94d-0080-462c-b6a6-de60bf1310c2",
   "metadata": {},
   "source": [
    "Let's say that we decide to use a t-test instead of a z-test. What kind of distribution are we assuming that the sample means (of the pitches) follow now? Are we now more or less likely to reject the null hypothesis? For full credit, please justify your response.(3 points)"
   ]
  },
  {
   "cell_type": "markdown",
   "id": "02edd00a-2e56-4662-8ced-3ba270fa5cda",
   "metadata": {},
   "source": [
    "**ANSWER:**"
   ]
  },
  {
   "cell_type": "markdown",
   "id": "68b90087-8631-47b1-b852-82ce99b74dee",
   "metadata": {},
   "source": [
    "We are assuming that the data follow a Student's t-distribution. Use of the t-test slightly increases the chance that we will reject the null hypothesis because the t-distribution is wider.\n"
   ]
  }
 ],
 "metadata": {
  "kernelspec": {
   "display_name": "Python [conda env:r-bio]",
   "language": "python",
   "name": "conda-env-r-bio-py"
  },
  "language_info": {
   "codemirror_mode": {
    "name": "ipython",
    "version": 3
   },
   "file_extension": ".py",
   "mimetype": "text/x-python",
   "name": "python",
   "nbconvert_exporter": "python",
   "pygments_lexer": "ipython3",
   "version": "3.8.12"
  }
 },
 "nbformat": 4,
 "nbformat_minor": 5
}
