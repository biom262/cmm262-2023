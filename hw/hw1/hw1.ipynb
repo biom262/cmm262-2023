{
 "cells": [
  {
   "cell_type": "markdown",
   "id": "85cf0ca8-929d-4e64-81f5-b3cfe303d854",
   "metadata": {},
   "source": [
    "# Homework 1: ChIP-seq and Statistics\n",
    "The modules for this assignment were taught by Professor Alon Goren and Professor Graham McVicker."
   ]
  },
  {
   "cell_type": "markdown",
   "id": "53db6539-cb02-4f23-9308-2493f3862b64",
   "metadata": {},
   "source": [
    "**Name:** *your_name_here*\n",
    "\n",
    "**PID:** *your_PID_here*"
   ]
  },
  {
   "cell_type": "markdown",
   "id": "bb983b6d-a95a-4e08-b4c8-7e01c06be8cd",
   "metadata": {},
   "source": [
    "## Instructions"
   ]
  },
  {
   "cell_type": "markdown",
   "id": "f2e3607f-60ec-462d-bcc4-ee7476d05b21",
   "metadata": {},
   "source": [
    "Answer the following questions in your own words using a Jupyter notebook and upload a PDF of your code and written answers to Gradescope. Make sure to write your name and PID at the start of your answers. This assignment is due ***2/2/23 at 9:00AM.***"
   ]
  },
  {
   "cell_type": "markdown",
   "id": "1c5181f0-d443-40b8-99a1-9f68da5307fd",
   "metadata": {},
   "source": [
    "See this document for instructions on creating a Jupyter notebook:\n",
    "\n",
    "[https://docs.google.com/document/d/1HP5Q7PARCKluQtfkovnBrupaQZ9oDLxrwxd1asQCtqM](https://docs.google.com/document/d/1HP5Q7PARCKluQtfkovnBrupaQZ9oDLxrwxd1asQCtqM)\n",
    "\n",
    "_Please use the 16 CPU environment for this assignment. Use the **Python [conda env:r-bio]** kernel for Part 1 and the **R [conda env:r-bio]** kernel for Part 2. You can switch the kernel of this notebook by clicking the kernel name in the top right and selecting the new kernel from the drop-down menu._"
   ]
  },
  {
   "cell_type": "markdown",
   "id": "bf560bc6-016b-4b5d-aaa8-7bc04ad3039c",
   "metadata": {},
   "source": [
    "## Part 1: ChIP-seq"
   ]
  },
  {
   "cell_type": "markdown",
   "id": "cea01609-53ec-431e-85b8-83346700046f",
   "metadata": {},
   "source": [
    "The following questions refer to these two files:\n",
    "```\n",
    "~/public/hw1/hw-f1.bam\n",
    "~/public/hw1/hw-f2.bam\n",
    "```"
   ]
  },
  {
   "cell_type": "markdown",
   "id": "0f174a6e-ffb1-4ae2-8a68-3c86b11ffa2e",
   "metadata": {},
   "source": [
    "### Problem 1"
   ]
  },
  {
   "cell_type": "markdown",
   "id": "389f1a5a-dd9f-4f1f-9a2d-ba0337c9950c",
   "metadata": {},
   "source": [
    "You received two BAM files from a colleague (`hw-f1.bam` and `hw-f2.bam`) but there was a mess up, and the files were not annotated properly. Which UNIX command(s) might you use to investigate which species the data was aligned to? Justify why your command(s) would work. (2 points)"
   ]
  },
  {
   "cell_type": "code",
   "execution_count": 2,
   "id": "1cc9994f-1866-4bb6-b90c-290447a7e3e5",
   "metadata": {},
   "outputs": [],
   "source": [
    "#YOUR CODE HERE"
   ]
  },
  {
   "cell_type": "markdown",
   "id": "45b25a74-3ff5-44cc-bdf3-21e1bc2ffcad",
   "metadata": {},
   "source": [
    "YOUR ANSWER HERE"
   ]
  },
  {
   "cell_type": "markdown",
   "id": "0450a10a-249d-4505-bc38-3d1876b6a786",
   "metadata": {},
   "source": [
    "### Problem 2"
   ]
  },
  {
   "cell_type": "markdown",
   "id": "b73ee0f7-841c-4aef-a4b4-cead4c1d449c",
   "metadata": {},
   "source": [
    "Find the two BAM files in the `hw1/` directory and then run your suggested commands from part 1. Which species were the two BAM files aligned to? (1 point)\n"
   ]
  },
  {
   "cell_type": "markdown",
   "id": "b1029594-7ba8-4b93-a0b4-10c0bac51dde",
   "metadata": {},
   "source": [
    "YOUR ANSWER HERE"
   ]
  },
  {
   "cell_type": "markdown",
   "id": "cf18f1f1-3820-4d95-ada1-9c1b63da809b",
   "metadata": {},
   "source": [
    "### Problem 3"
   ]
  },
  {
   "cell_type": "markdown",
   "id": "49e5554c-6762-4cdc-bef6-6b408759d9be",
   "metadata": {},
   "source": [
    "What chromosome does the data in these two files come from? Note, some reads can align to multiple chromosomes, so make sure to not be impacted by outliers. (1 point)"
   ]
  },
  {
   "cell_type": "markdown",
   "id": "1eeaf718-8c3d-4f69-a9ca-bba1c5225047",
   "metadata": {},
   "source": [
    "YOUR ANSWER HERE"
   ]
  },
  {
   "cell_type": "markdown",
   "id": "d90b955a-fa6d-4278-9518-e814f5e932c8",
   "metadata": {},
   "source": [
    "### Problem 4"
   ]
  },
  {
   "cell_type": "markdown",
   "id": "10559ad2-4c49-4f32-8618-5ffcf441d84f",
   "metadata": {},
   "source": [
    "You were told that the two files are from a ChIP-seq experiment and you are trying to figure out what is in each file: input or ChIP of DNA-binding protein. Which file is the input and which file comes from the ChIP-seq of the DNA-binding protein? What is the target protein/histone modification? Explain the steps you took and include the commands that you used to reach this decision and add screenshots of any visualization tools. Hint: use two consecutive steps of the eleven in the ChIP-seq module. (3 points)"
   ]
  },
  {
   "cell_type": "markdown",
   "id": "f2f88ec1-0dd4-4d38-8866-71d8091f1dbb",
   "metadata": {},
   "source": [
    "YOUR ANSWER HERE"
   ]
  },
  {
   "cell_type": "markdown",
   "id": "f869ef7e-bada-4a9d-9d8d-800b8ba7af30",
   "metadata": {},
   "source": [
    "## Part 2: Statistics"
   ]
  },
  {
   "cell_type": "markdown",
   "id": "a472958e-6a35-462f-aa98-888edf97009e",
   "metadata": {},
   "source": [
    "_Reminder to switch your kernel to **R [conda env:r-bio]** for Part 2._"
   ]
  },
  {
   "cell_type": "markdown",
   "id": "5d1d356e-38ca-4ca4-aa0b-905766d40ecb",
   "metadata": {},
   "source": [
    "Flora colossus is a plant-like organism native to the planet X. This species is capable of human speech but their vocabulary consists solely of three words: \"I\", \"am\", and their name. It is thought that F. colossus can communicate a vast array of complex thoughts and expressions through the pitch and intonation of these three words, but an exact translation has not yet been thoroughly explored."
   ]
  },
  {
   "cell_type": "markdown",
   "id": "7e0c24b9-356e-4092-b614-8b20a20a65ae",
   "metadata": {},
   "source": [
    "In an attempt at decoding these rules, scientists asked an F. colossus named Groot to translate a set of 50 words carrying either a negative (neg) or positive (pos) connotation (con). They recorded the responses to each word, and extracted the highest pitch from each response. Their data appears in the file colossus_pitch.csv"
   ]
  },
  {
   "cell_type": "code",
   "execution_count": 3,
   "id": "ff97c2a8-2c28-43fd-b6c4-646da5c5d0ab",
   "metadata": {},
   "outputs": [
    {
     "data": {
      "text/html": [
       "<table class=\"dataframe\">\n",
       "<caption>A data.frame: 6 × 2</caption>\n",
       "<thead>\n",
       "\t<tr><th></th><th scope=col>conn</th><th scope=col>pitch</th></tr>\n",
       "\t<tr><th></th><th scope=col>&lt;fct&gt;</th><th scope=col>&lt;int&gt;</th></tr>\n",
       "</thead>\n",
       "<tbody>\n",
       "\t<tr><th scope=row>1</th><td>neg</td><td>198</td></tr>\n",
       "\t<tr><th scope=row>2</th><td>neg</td><td>199</td></tr>\n",
       "\t<tr><th scope=row>3</th><td>neg</td><td>202</td></tr>\n",
       "\t<tr><th scope=row>4</th><td>neg</td><td>206</td></tr>\n",
       "\t<tr><th scope=row>5</th><td>neg</td><td>195</td></tr>\n",
       "\t<tr><th scope=row>6</th><td>neg</td><td>199</td></tr>\n",
       "</tbody>\n",
       "</table>\n"
      ],
      "text/latex": [
       "A data.frame: 6 × 2\n",
       "\\begin{tabular}{r|ll}\n",
       "  & conn & pitch\\\\\n",
       "  & <fct> & <int>\\\\\n",
       "\\hline\n",
       "\t1 & neg & 198\\\\\n",
       "\t2 & neg & 199\\\\\n",
       "\t3 & neg & 202\\\\\n",
       "\t4 & neg & 206\\\\\n",
       "\t5 & neg & 195\\\\\n",
       "\t6 & neg & 199\\\\\n",
       "\\end{tabular}\n"
      ],
      "text/markdown": [
       "\n",
       "A data.frame: 6 × 2\n",
       "\n",
       "| <!--/--> | conn &lt;fct&gt; | pitch &lt;int&gt; |\n",
       "|---|---|---|\n",
       "| 1 | neg | 198 |\n",
       "| 2 | neg | 199 |\n",
       "| 3 | neg | 202 |\n",
       "| 4 | neg | 206 |\n",
       "| 5 | neg | 195 |\n",
       "| 6 | neg | 199 |\n",
       "\n"
      ],
      "text/plain": [
       "  conn pitch\n",
       "1 neg  198  \n",
       "2 neg  199  \n",
       "3 neg  202  \n",
       "4 neg  206  \n",
       "5 neg  195  \n",
       "6 neg  199  "
      ]
     },
     "metadata": {},
     "output_type": "display_data"
    }
   ],
   "source": [
    "# let's load the data into a variable named \"data\"\n",
    "data = read.csv(\"colossus_pitch.csv\")\n",
    "head(data)"
   ]
  },
  {
   "cell_type": "markdown",
   "id": "58ce7e15-eea5-4acf-8eb1-e556ff55a64c",
   "metadata": {},
   "source": [
    "### Problem 5"
   ]
  },
  {
   "cell_type": "markdown",
   "id": "d842cac2-ddcb-4b40-913d-99def4cc5bcc",
   "metadata": {},
   "source": [
    "Plot two histograms for the pitches in response to 1) the negative words and 2) the positive words. (2 points) \n",
    "\n",
    "Please label your axes. Based on the plots, do you think there is a significant difference between the two variables? Justify your reasoning. (1 point)"
   ]
  },
  {
   "cell_type": "code",
   "execution_count": 4,
   "id": "562ba17e-ef99-4f15-9c59-c7503312ee98",
   "metadata": {},
   "outputs": [],
   "source": [
    "#YOUR CODE HERE"
   ]
  },
  {
   "cell_type": "markdown",
   "id": "db24dc2f-21ed-4404-9126-c73c10183ea1",
   "metadata": {},
   "source": [
    "YOUR ANSWER HERE"
   ]
  },
  {
   "cell_type": "markdown",
   "id": "a69aceab-a151-4b41-8119-8afad9ac858a",
   "metadata": {},
   "source": [
    "### Problem 6"
   ]
  },
  {
   "cell_type": "markdown",
   "id": "daee0e81-a935-4be6-a01a-bf75d31dee0d",
   "metadata": {},
   "source": [
    "Report the mean and standard deviation of the pitches for:\n",
    "1) the negative words \n",
    "2) the positive words.\n",
    "\n",
    "(2 points)"
   ]
  },
  {
   "cell_type": "code",
   "execution_count": 5,
   "id": "0db41770-aa68-4f32-9eaa-1b904837a33e",
   "metadata": {},
   "outputs": [],
   "source": [
    "#YOUR CODE HERE"
   ]
  },
  {
   "cell_type": "markdown",
   "id": "d3a5b0b4-654d-4877-aa36-632089858e9e",
   "metadata": {},
   "source": [
    "### Problem 7"
   ]
  },
  {
   "cell_type": "markdown",
   "id": "fa2fd6d0-588f-4514-9a74-ed76fb30fb18",
   "metadata": {},
   "source": [
    "The scientists think that _F. colossus_ will respond with a lower pitch to words carrying a negative connotation and a higher pitch to words carrying a positive connotation.\n",
    "\n",
    "Use your results from the previous question to calculate a z-score for this hypothesis. (1 point)"
   ]
  },
  {
   "cell_type": "code",
   "execution_count": 6,
   "id": "16797348-69dc-4d9d-8cd0-62e790d92e08",
   "metadata": {},
   "outputs": [],
   "source": [
    "#YOUR CODE HERE"
   ]
  },
  {
   "cell_type": "markdown",
   "id": "fb526ddd-13c5-49fd-bd43-977ed64a106e",
   "metadata": {},
   "source": [
    "### Problem 8"
   ]
  },
  {
   "cell_type": "markdown",
   "id": "b8855f33-4897-43db-860d-5f648c36fc0a",
   "metadata": {},
   "source": [
    "Perform a two-sided z-test and compute the p-value using the `pnorm()` function. Use the results of the prior question as your test statistic. (1 point)"
   ]
  },
  {
   "cell_type": "code",
   "execution_count": 7,
   "id": "197d7de9-73a8-4984-86df-d3c9e471dd9c",
   "metadata": {},
   "outputs": [],
   "source": [
    "#YOUR CODE HERE"
   ]
  },
  {
   "cell_type": "markdown",
   "id": "9470c57b-7245-4f9a-a217-aa588a0f9a23",
   "metadata": {},
   "source": [
    "### Problem 9"
   ]
  },
  {
   "cell_type": "markdown",
   "id": "d097d5df-110f-44c7-ab8c-0e0e95a429cd",
   "metadata": {},
   "source": [
    "Under the threshold $\\alpha=0.05$, is this a significant result? Was the scientists' hypothesis correct? (1 point)"
   ]
  },
  {
   "cell_type": "markdown",
   "id": "026cbc4a-342c-43f2-b8c6-a0d373ef3308",
   "metadata": {},
   "source": [
    "YOUR ANSWER HERE"
   ]
  },
  {
   "cell_type": "markdown",
   "id": "f18926f2-4c28-4ebd-a90a-4dfb568a7a92",
   "metadata": {},
   "source": [
    "### Problem 10"
   ]
  },
  {
   "cell_type": "markdown",
   "id": "9fefb94d-0080-462c-b6a6-de60bf1310c2",
   "metadata": {},
   "source": [
    "Let's say that we decide to use a t-test instead of a z-test. What kind of distribution are we assuming that the sample means (of the pitches) follow now? Are we now more or less likely to reject the null hypothesis? For full credit, please justify your response. (3 points)"
   ]
  },
  {
   "cell_type": "markdown",
   "id": "02edd00a-2e56-4662-8ced-3ba270fa5cda",
   "metadata": {},
   "source": [
    "YOUR ANSWER HERE"
   ]
  }
 ],
 "metadata": {
  "kernelspec": {
   "display_name": "Python [conda env:r-bio]",
   "language": "python",
   "name": "conda-env-r-bio-py"
  },
  "language_info": {
   "codemirror_mode": {
    "name": "ipython",
    "version": 3
   },
   "file_extension": ".py",
   "mimetype": "text/x-python",
   "name": "python",
   "nbconvert_exporter": "python",
   "pygments_lexer": "ipython3",
   "version": "3.8.12"
  }
 },
 "nbformat": 4,
 "nbformat_minor": 5
}
