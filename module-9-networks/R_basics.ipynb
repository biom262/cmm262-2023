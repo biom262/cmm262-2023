{
 "cells": [
  {
   "cell_type": "code",
   "execution_count": 1,
   "metadata": {
    "tags": []
   },
   "outputs": [],
   "source": [
    "# R Basics adapted from http://kateto.net/networks-r-igraph"
   ]
  },
  {
   "cell_type": "code",
   "execution_count": 2,
   "metadata": {},
   "outputs": [
    {
     "data": {
      "text/html": [
       "3"
      ],
      "text/latex": [
       "3"
      ],
      "text/markdown": [
       "3"
      ],
      "text/plain": [
       "[1] 3"
      ]
     },
     "metadata": {},
     "output_type": "display_data"
    },
    {
     "data": {
      "text/html": [
       "9"
      ],
      "text/latex": [
       "9"
      ],
      "text/markdown": [
       "9"
      ],
      "text/plain": [
       "[1] 9"
      ]
     },
     "metadata": {},
     "output_type": "display_data"
    },
    {
     "data": {
      "text/html": [
       "71"
      ],
      "text/latex": [
       "71"
      ],
      "text/markdown": [
       "71"
      ],
      "text/plain": [
       "[1] 71"
      ]
     },
     "metadata": {},
     "output_type": "display_data"
    }
   ],
   "source": [
    "# ================ 1. A quick R introduction/reminder ================\n",
    "\n",
    "# You can assign a value to an object using assign(),  \"<-\", or \"=\".\n",
    "\n",
    "x <- 3         # Assignment\n",
    "x              # Evaluate the expression and print result\n",
    "\n",
    "y <- 4         # Assignment\n",
    "y + 5          # Evaluation, y remains 4\n",
    "\n",
    "z <- x + 17*y  # Assignment\n",
    "z              # Evaluation\n",
    "\n",
    "rm(z)          # Remove z: deletes the object."
   ]
  },
  {
   "cell_type": "code",
   "execution_count": 3,
   "metadata": {},
   "outputs": [
    {
     "data": {
      "text/html": [
       "TRUE"
      ],
      "text/latex": [
       "TRUE"
      ],
      "text/markdown": [
       "TRUE"
      ],
      "text/plain": [
       "[1] TRUE"
      ]
     },
     "metadata": {},
     "output_type": "display_data"
    },
    {
     "data": {
      "text/html": [
       "FALSE"
      ],
      "text/latex": [
       "FALSE"
      ],
      "text/markdown": [
       "FALSE"
      ],
      "text/plain": [
       "[1] FALSE"
      ]
     },
     "metadata": {},
     "output_type": "display_data"
    },
    {
     "data": {
      "text/html": [
       "TRUE"
      ],
      "text/latex": [
       "TRUE"
      ],
      "text/markdown": [
       "TRUE"
      ],
      "text/plain": [
       "[1] TRUE"
      ]
     },
     "metadata": {},
     "output_type": "display_data"
    },
    {
     "data": {
      "text/html": [
       "<style>\n",
       ".list-inline {list-style: none; margin:0; padding: 0}\n",
       ".list-inline>li {display: inline-block}\n",
       ".list-inline>li:not(:last-child)::after {content: \"\\00b7\"; padding: 0 .5ex}\n",
       "</style>\n",
       "<ol class=list-inline><li>TRUE</li><li>FALSE</li><li>TRUE</li><li>FALSE</li><li>TRUE</li><li>FALSE</li><li>FALSE</li><li>FALSE</li><li>TRUE</li><li>FALSE</li></ol>\n"
      ],
      "text/latex": [
       "\\begin{enumerate*}\n",
       "\\item TRUE\n",
       "\\item FALSE\n",
       "\\item TRUE\n",
       "\\item FALSE\n",
       "\\item TRUE\n",
       "\\item FALSE\n",
       "\\item FALSE\n",
       "\\item FALSE\n",
       "\\item TRUE\n",
       "\\item FALSE\n",
       "\\end{enumerate*}\n"
      ],
      "text/markdown": [
       "1. TRUE\n",
       "2. FALSE\n",
       "3. TRUE\n",
       "4. FALSE\n",
       "5. TRUE\n",
       "6. FALSE\n",
       "7. FALSE\n",
       "8. FALSE\n",
       "9. TRUE\n",
       "10. FALSE\n",
       "\n",
       "\n"
      ],
      "text/plain": [
       " [1]  TRUE FALSE  TRUE FALSE  TRUE FALSE FALSE FALSE  TRUE FALSE"
      ]
     },
     "metadata": {},
     "output_type": "display_data"
    }
   ],
   "source": [
    "#  ------->> Value comparisons: --------\n",
    "\n",
    "# Comparisons return boolean values: TRUE or FALSE (often abbreviated to T and F)\n",
    " \n",
    "2==2  # Equality\n",
    "2!=2  # Inequality\n",
    "x <= y # less than or equal: \"<\", \">\", and \">=\" also work\n",
    "1:10 %in% c(1,3,5,9) # value matching"
   ]
  },
  {
   "cell_type": "code",
   "execution_count": 4,
   "metadata": {},
   "outputs": [
    {
     "data": {
      "text/html": [
       "&lt;NA&gt;"
      ],
      "text/latex": [
       "<NA>"
      ],
      "text/markdown": [
       "&lt;NA&gt;"
      ],
      "text/plain": [
       "[1] NA"
      ]
     },
     "metadata": {},
     "output_type": "display_data"
    },
    {
     "data": {
      "text/html": [
       "TRUE"
      ],
      "text/latex": [
       "TRUE"
      ],
      "text/markdown": [
       "TRUE"
      ],
      "text/plain": [
       "[1] TRUE"
      ]
     },
     "metadata": {},
     "output_type": "display_data"
    },
    {
     "data": {
      "text/html": [],
      "text/latex": [],
      "text/markdown": [],
      "text/plain": [
       "numeric(0)"
      ]
     },
     "metadata": {},
     "output_type": "display_data"
    },
    {
     "data": {
      "text/html": [
       "TRUE"
      ],
      "text/latex": [
       "TRUE"
      ],
      "text/markdown": [
       "TRUE"
      ],
      "text/plain": [
       "[1] TRUE"
      ]
     },
     "metadata": {},
     "output_type": "display_data"
    },
    {
     "data": {
      "text/html": [
       "Inf"
      ],
      "text/latex": [
       "Inf"
      ],
      "text/markdown": [
       "Inf"
      ],
      "text/plain": [
       "[1] Inf"
      ]
     },
     "metadata": {},
     "output_type": "display_data"
    },
    {
     "data": {
      "text/html": [
       "FALSE"
      ],
      "text/latex": [
       "FALSE"
      ],
      "text/markdown": [
       "FALSE"
      ],
      "text/plain": [
       "[1] FALSE"
      ]
     },
     "metadata": {},
     "output_type": "display_data"
    },
    {
     "data": {
      "text/html": [
       "NaN"
      ],
      "text/latex": [
       "NaN"
      ],
      "text/markdown": [
       "NaN"
      ],
      "text/plain": [
       "[1] NaN"
      ]
     },
     "metadata": {},
     "output_type": "display_data"
    },
    {
     "data": {
      "text/html": [
       "TRUE"
      ],
      "text/latex": [
       "TRUE"
      ],
      "text/markdown": [
       "TRUE"
      ],
      "text/plain": [
       "[1] TRUE"
      ]
     },
     "metadata": {},
     "output_type": "display_data"
    }
   ],
   "source": [
    "#  ------->> Special constants -------- \n",
    "\n",
    "# NA, NULL, Inf, -Inf, NaN\n",
    "\n",
    "# NA - missing or undefined data\n",
    "5 + NA      # When used in an expression, the result is generally NA\n",
    "is.na(5+NA) # Check if missing\n",
    "\n",
    "# NULL - an empty object, e.g. a null/empty list\n",
    "10 + NULL     # use returns an empty object (length zero)\n",
    "is.null(NULL) # check if NULL\n",
    "\n",
    "# Inf and -Inf represent positive and negative infinity\n",
    "# They can be returned by  mathematical operations like division of a number by zero:\n",
    "\n",
    "5/0\n",
    "is.finite(5/0) # Check if a number is finite\n",
    "\n",
    "# NaN (Not a Number) - the result of an operation that cannot be reasonably defined \n",
    "0/0\n",
    "is.nan(0/0)"
   ]
  },
  {
   "cell_type": "code",
   "execution_count": 5,
   "metadata": {},
   "outputs": [
    {
     "data": {
      "text/html": [
       "6"
      ],
      "text/latex": [
       "6"
      ],
      "text/markdown": [
       "6"
      ],
      "text/plain": [
       "[1] 6"
      ]
     },
     "metadata": {},
     "output_type": "display_data"
    },
    {
     "data": {
      "text/html": [
       "<style>\n",
       ".list-inline {list-style: none; margin:0; padding: 0}\n",
       ".list-inline>li {display: inline-block}\n",
       ".list-inline>li:not(:last-child)::after {content: \"\\00b7\"; padding: 0 .5ex}\n",
       "</style>\n",
       "<ol class=list-inline><li>2</li><li>3</li><li>4</li><li>5</li><li>6</li></ol>\n"
      ],
      "text/latex": [
       "\\begin{enumerate*}\n",
       "\\item 2\n",
       "\\item 3\n",
       "\\item 4\n",
       "\\item 5\n",
       "\\item 6\n",
       "\\end{enumerate*}\n"
      ],
      "text/markdown": [
       "1. 2\n",
       "2. 3\n",
       "3. 4\n",
       "4. 5\n",
       "5. 6\n",
       "\n",
       "\n"
      ],
      "text/plain": [
       "[1] 2 3 4 5 6"
      ]
     },
     "metadata": {},
     "output_type": "display_data"
    },
    {
     "data": {
      "text/html": [
       "<style>\n",
       ".list-inline {list-style: none; margin:0; padding: 0}\n",
       ".list-inline>li {display: inline-block}\n",
       ".list-inline>li:not(:last-child)::after {content: \"\\00b7\"; padding: 0 .5ex}\n",
       "</style>\n",
       "<ol class=list-inline><li>2</li><li>3</li><li>4</li><li>5</li><li>6</li></ol>\n"
      ],
      "text/latex": [
       "\\begin{enumerate*}\n",
       "\\item 2\n",
       "\\item 3\n",
       "\\item 4\n",
       "\\item 5\n",
       "\\item 6\n",
       "\\end{enumerate*}\n"
      ],
      "text/markdown": [
       "1. 2\n",
       "2. 3\n",
       "3. 4\n",
       "4. 5\n",
       "5. 6\n",
       "\n",
       "\n"
      ],
      "text/plain": [
       "[1] 2 3 4 5 6"
      ]
     },
     "metadata": {},
     "output_type": "display_data"
    },
    {
     "data": {
      "text/html": [
       "<style>\n",
       ".list-inline {list-style: none; margin:0; padding: 0}\n",
       ".list-inline>li {display: inline-block}\n",
       ".list-inline>li:not(:last-child)::after {content: \"\\00b7\"; padding: 0 .5ex}\n",
       "</style>\n",
       "<ol class=list-inline><li>2</li><li>4</li><li>6</li><li>8</li><li>10</li></ol>\n"
      ],
      "text/latex": [
       "\\begin{enumerate*}\n",
       "\\item 2\n",
       "\\item 4\n",
       "\\item 6\n",
       "\\item 8\n",
       "\\item 10\n",
       "\\end{enumerate*}\n"
      ],
      "text/markdown": [
       "1. 2\n",
       "2. 4\n",
       "3. 6\n",
       "4. 8\n",
       "5. 10\n",
       "\n",
       "\n"
      ],
      "text/plain": [
       "[1]  2  4  6  8 10"
      ]
     },
     "metadata": {},
     "output_type": "display_data"
    },
    {
     "name": "stderr",
     "output_type": "stream",
     "text": [
      "Warning message in v1 + c(1, 7):\n",
      "“longer object length is not a multiple of shorter object length”\n"
     ]
    },
    {
     "data": {
      "text/html": [
       "<style>\n",
       ".list-inline {list-style: none; margin:0; padding: 0}\n",
       ".list-inline>li {display: inline-block}\n",
       ".list-inline>li:not(:last-child)::after {content: \"\\00b7\"; padding: 0 .5ex}\n",
       "</style>\n",
       "<ol class=list-inline><li>2</li><li>9</li><li>4</li><li>11</li><li>6</li></ol>\n"
      ],
      "text/latex": [
       "\\begin{enumerate*}\n",
       "\\item 2\n",
       "\\item 9\n",
       "\\item 4\n",
       "\\item 11\n",
       "\\item 6\n",
       "\\end{enumerate*}\n"
      ],
      "text/markdown": [
       "1. 2\n",
       "2. 9\n",
       "3. 4\n",
       "4. 11\n",
       "5. 6\n",
       "\n",
       "\n"
      ],
      "text/plain": [
       "[1]  2  9  4 11  6"
      ]
     },
     "metadata": {},
     "output_type": "display_data"
    },
    {
     "data": {
      "text/html": [
       "15"
      ],
      "text/latex": [
       "15"
      ],
      "text/markdown": [
       "15"
      ],
      "text/plain": [
       "[1] 15"
      ]
     },
     "metadata": {},
     "output_type": "display_data"
    },
    {
     "data": {
      "text/html": [
       "3"
      ],
      "text/latex": [
       "3"
      ],
      "text/markdown": [
       "3"
      ],
      "text/plain": [
       "[1] 3"
      ]
     },
     "metadata": {},
     "output_type": "display_data"
    },
    {
     "data": {
      "text/html": [
       "1.58113883008419"
      ],
      "text/latex": [
       "1.58113883008419"
      ],
      "text/markdown": [
       "1.58113883008419"
      ],
      "text/plain": [
       "[1] 1.581139"
      ]
     },
     "metadata": {},
     "output_type": "display_data"
    },
    {
     "data": {
      "text/html": [
       "1"
      ],
      "text/latex": [
       "1"
      ],
      "text/markdown": [
       "1"
      ],
      "text/plain": [
       "[1] 1"
      ]
     },
     "metadata": {},
     "output_type": "display_data"
    },
    {
     "data": {
      "text/html": [
       "<style>\n",
       ".list-inline {list-style: none; margin:0; padding: 0}\n",
       ".list-inline>li {display: inline-block}\n",
       ".list-inline>li:not(:last-child)::after {content: \"\\00b7\"; padding: 0 .5ex}\n",
       "</style>\n",
       "<ol class=list-inline><li>FALSE</li><li>FALSE</li><li>TRUE</li><li>TRUE</li><li>TRUE</li></ol>\n"
      ],
      "text/latex": [
       "\\begin{enumerate*}\n",
       "\\item FALSE\n",
       "\\item FALSE\n",
       "\\item TRUE\n",
       "\\item TRUE\n",
       "\\item TRUE\n",
       "\\end{enumerate*}\n"
      ],
      "text/markdown": [
       "1. FALSE\n",
       "2. FALSE\n",
       "3. TRUE\n",
       "4. TRUE\n",
       "5. TRUE\n",
       "\n",
       "\n"
      ],
      "text/plain": [
       "[1] FALSE FALSE  TRUE  TRUE  TRUE"
      ]
     },
     "metadata": {},
     "output_type": "display_data"
    },
    {
     "data": {
      "text/html": [
       "<style>\n",
       ".list-inline {list-style: none; margin:0; padding: 0}\n",
       ".list-inline>li {display: inline-block}\n",
       ".list-inline>li:not(:last-child)::after {content: \"\\00b7\"; padding: 0 .5ex}\n",
       "</style>\n",
       "<ol class=list-inline><li>TRUE</li><li>FALSE</li><li>FALSE</li><li>FALSE</li><li>FALSE</li></ol>\n"
      ],
      "text/latex": [
       "\\begin{enumerate*}\n",
       "\\item TRUE\n",
       "\\item FALSE\n",
       "\\item FALSE\n",
       "\\item FALSE\n",
       "\\item FALSE\n",
       "\\end{enumerate*}\n"
      ],
      "text/markdown": [
       "1. TRUE\n",
       "2. FALSE\n",
       "3. FALSE\n",
       "4. FALSE\n",
       "5. FALSE\n",
       "\n",
       "\n"
      ],
      "text/plain": [
       "[1]  TRUE FALSE FALSE FALSE FALSE"
      ]
     },
     "metadata": {},
     "output_type": "display_data"
    },
    {
     "data": {
      "text/html": [
       "<style>\n",
       ".list-inline {list-style: none; margin:0; padding: 0}\n",
       ".list-inline>li {display: inline-block}\n",
       ".list-inline>li:not(:last-child)::after {content: \"\\00b7\"; padding: 0 .5ex}\n",
       "</style>\n",
       "<ol class=list-inline><li>FALSE</li><li>TRUE</li><li>TRUE</li><li>TRUE</li><li>TRUE</li></ol>\n"
      ],
      "text/latex": [
       "\\begin{enumerate*}\n",
       "\\item FALSE\n",
       "\\item TRUE\n",
       "\\item TRUE\n",
       "\\item TRUE\n",
       "\\item TRUE\n",
       "\\end{enumerate*}\n"
      ],
      "text/markdown": [
       "1. FALSE\n",
       "2. TRUE\n",
       "3. TRUE\n",
       "4. TRUE\n",
       "5. TRUE\n",
       "\n",
       "\n"
      ],
      "text/plain": [
       "[1] FALSE  TRUE  TRUE  TRUE  TRUE"
      ]
     },
     "metadata": {},
     "output_type": "display_data"
    },
    {
     "data": {
      "text/html": [
       "<style>\n",
       ".list-inline {list-style: none; margin:0; padding: 0}\n",
       ".list-inline>li {display: inline-block}\n",
       ".list-inline>li:not(:last-child)::after {content: \"\\00b7\"; padding: 0 .5ex}\n",
       "</style>\n",
       "<ol class=list-inline><li>TRUE</li><li>TRUE</li><li>TRUE</li><li>TRUE</li><li>TRUE</li></ol>\n"
      ],
      "text/latex": [
       "\\begin{enumerate*}\n",
       "\\item TRUE\n",
       "\\item TRUE\n",
       "\\item TRUE\n",
       "\\item TRUE\n",
       "\\item TRUE\n",
       "\\end{enumerate*}\n"
      ],
      "text/markdown": [
       "1. TRUE\n",
       "2. TRUE\n",
       "3. TRUE\n",
       "4. TRUE\n",
       "5. TRUE\n",
       "\n",
       "\n"
      ],
      "text/plain": [
       "[1] TRUE TRUE TRUE TRUE TRUE"
      ]
     },
     "metadata": {},
     "output_type": "display_data"
    },
    {
     "data": {
      "text/html": [
       "<style>\n",
       ".list-inline {list-style: none; margin:0; padding: 0}\n",
       ".list-inline>li {display: inline-block}\n",
       ".list-inline>li:not(:last-child)::after {content: \"\\00b7\"; padding: 0 .5ex}\n",
       "</style>\n",
       "<ol class=list-inline><li>FALSE</li><li>FALSE</li><li>TRUE</li><li>TRUE</li><li>TRUE</li></ol>\n"
      ],
      "text/latex": [
       "\\begin{enumerate*}\n",
       "\\item FALSE\n",
       "\\item FALSE\n",
       "\\item TRUE\n",
       "\\item TRUE\n",
       "\\item TRUE\n",
       "\\end{enumerate*}\n"
      ],
      "text/markdown": [
       "1. FALSE\n",
       "2. FALSE\n",
       "3. TRUE\n",
       "4. TRUE\n",
       "5. TRUE\n",
       "\n",
       "\n"
      ],
      "text/plain": [
       "[1] FALSE FALSE  TRUE  TRUE  TRUE"
      ]
     },
     "metadata": {},
     "output_type": "display_data"
    },
    {
     "data": {
      "text/html": [
       "TRUE"
      ],
      "text/latex": [
       "TRUE"
      ],
      "text/markdown": [
       "TRUE"
      ],
      "text/plain": [
       "[1] TRUE"
      ]
     },
     "metadata": {},
     "output_type": "display_data"
    },
    {
     "data": {
      "text/html": [
       "FALSE"
      ],
      "text/latex": [
       "FALSE"
      ],
      "text/markdown": [
       "FALSE"
      ],
      "text/plain": [
       "[1] FALSE"
      ]
     },
     "metadata": {},
     "output_type": "display_data"
    },
    {
     "data": {
      "text/html": [
       "3"
      ],
      "text/latex": [
       "3"
      ],
      "text/markdown": [
       "3"
      ],
      "text/plain": [
       "[1] 3"
      ]
     },
     "metadata": {},
     "output_type": "display_data"
    },
    {
     "data": {
      "text/html": [
       "<style>\n",
       ".list-inline {list-style: none; margin:0; padding: 0}\n",
       ".list-inline>li {display: inline-block}\n",
       ".list-inline>li:not(:last-child)::after {content: \"\\00b7\"; padding: 0 .5ex}\n",
       "</style>\n",
       "<ol class=list-inline><li>2</li><li>3</li><li>4</li></ol>\n"
      ],
      "text/latex": [
       "\\begin{enumerate*}\n",
       "\\item 2\n",
       "\\item 3\n",
       "\\item 4\n",
       "\\end{enumerate*}\n"
      ],
      "text/markdown": [
       "1. 2\n",
       "2. 3\n",
       "3. 4\n",
       "\n",
       "\n"
      ],
      "text/plain": [
       "[1] 2 3 4"
      ]
     },
     "metadata": {},
     "output_type": "display_data"
    },
    {
     "data": {
      "text/html": [
       "<style>\n",
       ".list-inline {list-style: none; margin:0; padding: 0}\n",
       ".list-inline>li {display: inline-block}\n",
       ".list-inline>li:not(:last-child)::after {content: \"\\00b7\"; padding: 0 .5ex}\n",
       "</style>\n",
       "<ol class=list-inline><li>1</li><li>3</li></ol>\n"
      ],
      "text/latex": [
       "\\begin{enumerate*}\n",
       "\\item 1\n",
       "\\item 3\n",
       "\\end{enumerate*}\n"
      ],
      "text/markdown": [
       "1. 1\n",
       "2. 3\n",
       "\n",
       "\n"
      ],
      "text/plain": [
       "[1] 1 3"
      ]
     },
     "metadata": {},
     "output_type": "display_data"
    },
    {
     "data": {
      "text/html": [
       "<style>\n",
       ".list-inline {list-style: none; margin:0; padding: 0}\n",
       ".list-inline>li {display: inline-block}\n",
       ".list-inline>li:not(:last-child)::after {content: \"\\00b7\"; padding: 0 .5ex}\n",
       "</style>\n",
       "<ol class=list-inline><li>1</li><li>2</li></ol>\n"
      ],
      "text/latex": [
       "\\begin{enumerate*}\n",
       "\\item 1\n",
       "\\item 2\n",
       "\\end{enumerate*}\n"
      ],
      "text/markdown": [
       "1. 1\n",
       "2. 2\n",
       "\n",
       "\n"
      ],
      "text/plain": [
       "[1] 1 2"
      ]
     },
     "metadata": {},
     "output_type": "display_data"
    },
    {
     "data": {
      "text/html": [
       "<style>\n",
       ".list-inline {list-style: none; margin:0; padding: 0}\n",
       ".list-inline>li {display: inline-block}\n",
       ".list-inline>li:not(:last-child)::after {content: \"\\00b7\"; padding: 0 .5ex}\n",
       "</style>\n",
       "<ol class=list-inline><li>4</li><li>5</li></ol>\n"
      ],
      "text/latex": [
       "\\begin{enumerate*}\n",
       "\\item 4\n",
       "\\item 5\n",
       "\\end{enumerate*}\n"
      ],
      "text/markdown": [
       "1. 4\n",
       "2. 5\n",
       "\n",
       "\n"
      ],
      "text/plain": [
       "[1] 4 5"
      ]
     },
     "metadata": {},
     "output_type": "display_data"
    }
   ],
   "source": [
    "#  ------->> Vectors --------  \n",
    "\n",
    "v1 <- c(1, 5, 11, 33)       # Numeric vector, length 4\n",
    "v2 <- c(\"hello\",\"world\")    # Character vector, length 2 (a vector of strings)\n",
    "v3 <- c(TRUE, TRUE, FALSE)  # Logical vector, same as c(T, T, F)\n",
    "\n",
    "# Combining different types of elements in one vector will coerce the elements \n",
    "# to the least restrictive type:\n",
    "\n",
    "v4 <- c(v1,v2,v3,\"boo\") \t# All elements turn into strings\n",
    "\n",
    "# Other ways to create vectors:\n",
    "v <- 1:7         # same as c(1,2,3,4,5,6,7)  \n",
    "v <- rep(0, 77)  # repeat zero 77 times: v is a vector of 77 zeroes\n",
    "v <- rep(1:3, times=2) # Repeat 1,2,3 twice  \n",
    "v <- rep(1:10, each=2) # Repeat each element twice  \n",
    "v <- seq(10,20,2) # sequence: numbers between 10 and 20, in jumps of 2  \n",
    "\n",
    "length(v)        # check the length of the vector\n",
    "\n",
    "v1 <- 1:5         # 1,2,3,4,5\n",
    "v2 <- rep(1,5)    # 1,1,1,1,1 \n",
    "\n",
    "# Element-wise operations:\n",
    "v1 + v2      # Element-wise addition\n",
    "v1 + 1       # Add 1 to each element\n",
    "v1 * 2       # Multiply each element by 2\n",
    "v1 + c(1,7)  # This doesn't work: (1,7) is a vector of different length\n",
    "\n",
    "# Mathematical operations:\n",
    "sum(v1)      # The sum of all elements\n",
    "mean(v1)     # The average of all elements\n",
    "sd(v1)       # The standard deviation\n",
    "cor(v1,v1*5) # Correlation between v1 and v1*5 \n",
    "\n",
    "# Logical operations:\n",
    "v1 > 2       # Each element is compared to 2, returns logical vector\n",
    "v1==v2       # Are corresponding elements equivalent, returns logical vector.\n",
    "v1!=v2       # Are corresponding elements *not* equivalent? Same as !(v1==v2)\n",
    "(v1>2) | (v2>0)   # | is the boolean OR, returns a vector.\n",
    "(v1>2) & (v2>0)   # & is the boolean AND, returns a vector.\n",
    "(v1>2) || (v2>0)  # || is the boolean OR, returns a single value\n",
    "(v1>2) && (v2>0)  # && is the boolean AND, ditto\n",
    "\n",
    "# Vector elements\n",
    "v1[3]             # third element of v1\n",
    "v1[2:4]           # elements 2, 3, 4 of v1\n",
    "v1[c(1,3)]        # elements 1 and 3 - note that your indexes are a vector\n",
    "v1[c(T,T,F,F,F)]  # elements 1 and 2 - only the ones that are TRUE\n",
    "v1[v1>3]          # v1>3 is a logical vector TRUE for elements >3\n",
    "\n",
    "# NOTE: If you are used to languages indexing from 0, R will surprise you by indexing from 1.\n",
    "\n",
    "# To add more elements to a vector, simply assign them values.\n",
    "v1[6:10] <- 6:10\n",
    "\n",
    "# We can also directly assign the vector a length:\n",
    "length(v1) <- 15 # the last 5 elements are added as missing data: NA"
   ]
  },
  {
   "cell_type": "code",
   "execution_count": 6,
   "metadata": {},
   "outputs": [
    {
     "data": {
      "text/html": [
       "<style>\n",
       ".list-inline {list-style: none; margin:0; padding: 0}\n",
       ".list-inline>li {display: inline-block}\n",
       ".list-inline>li:not(:last-child)::after {content: \"\\00b7\"; padding: 0 .5ex}\n",
       "</style>\n",
       "<ol class=list-inline><li>'brown'</li><li>'green'</li><li>'brown'</li><li>'blue'</li><li>'blue'</li><li>'blue'</li></ol>\n"
      ],
      "text/latex": [
       "\\begin{enumerate*}\n",
       "\\item 'brown'\n",
       "\\item 'green'\n",
       "\\item 'brown'\n",
       "\\item 'blue'\n",
       "\\item 'blue'\n",
       "\\item 'blue'\n",
       "\\end{enumerate*}\n"
      ],
      "text/markdown": [
       "1. 'brown'\n",
       "2. 'green'\n",
       "3. 'brown'\n",
       "4. 'blue'\n",
       "5. 'blue'\n",
       "6. 'blue'\n",
       "\n",
       "\n"
      ],
      "text/plain": [
       "[1] \"brown\" \"green\" \"brown\" \"blue\"  \"blue\"  \"blue\" "
      ]
     },
     "metadata": {},
     "output_type": "display_data"
    },
    {
     "data": {
      "text/html": [
       "<style>\n",
       ".list-inline {list-style: none; margin:0; padding: 0}\n",
       ".list-inline>li {display: inline-block}\n",
       ".list-inline>li:not(:last-child)::after {content: \"\\00b7\"; padding: 0 .5ex}\n",
       "</style>\n",
       "<ol class=list-inline><li>brown</li><li>green</li><li>brown</li><li>blue</li><li>blue</li><li>blue</li></ol>\n",
       "\n",
       "<details>\n",
       "\t<summary style=display:list-item;cursor:pointer>\n",
       "\t\t<strong>Levels</strong>:\n",
       "\t</summary>\n",
       "\t<style>\n",
       "\t.list-inline {list-style: none; margin:0; padding: 0}\n",
       "\t.list-inline>li {display: inline-block}\n",
       "\t.list-inline>li:not(:last-child)::after {content: \"\\00b7\"; padding: 0 .5ex}\n",
       "\t</style>\n",
       "\t<ol class=list-inline><li>'blue'</li><li>'brown'</li><li>'green'</li></ol>\n",
       "</details>"
      ],
      "text/latex": [
       "\\begin{enumerate*}\n",
       "\\item brown\n",
       "\\item green\n",
       "\\item brown\n",
       "\\item blue\n",
       "\\item blue\n",
       "\\item blue\n",
       "\\end{enumerate*}\n",
       "\n",
       "\\emph{Levels}: \\begin{enumerate*}\n",
       "\\item 'blue'\n",
       "\\item 'brown'\n",
       "\\item 'green'\n",
       "\\end{enumerate*}\n"
      ],
      "text/markdown": [
       "1. brown\n",
       "2. green\n",
       "3. brown\n",
       "4. blue\n",
       "5. blue\n",
       "6. blue\n",
       "\n",
       "\n",
       "\n",
       "**Levels**: 1. 'blue'\n",
       "2. 'brown'\n",
       "3. 'green'\n",
       "\n",
       "\n"
      ],
      "text/plain": [
       "[1] brown green brown blue  blue  blue \n",
       "Levels: blue brown green"
      ]
     },
     "metadata": {},
     "output_type": "display_data"
    },
    {
     "data": {
      "text/html": [
       "<style>\n",
       ".list-inline {list-style: none; margin:0; padding: 0}\n",
       ".list-inline>li {display: inline-block}\n",
       ".list-inline>li:not(:last-child)::after {content: \"\\00b7\"; padding: 0 .5ex}\n",
       "</style>\n",
       "<ol class=list-inline><li>'blue'</li><li>'brown'</li><li>'green'</li></ol>\n"
      ],
      "text/latex": [
       "\\begin{enumerate*}\n",
       "\\item 'blue'\n",
       "\\item 'brown'\n",
       "\\item 'green'\n",
       "\\end{enumerate*}\n"
      ],
      "text/markdown": [
       "1. 'blue'\n",
       "2. 'brown'\n",
       "3. 'green'\n",
       "\n",
       "\n"
      ],
      "text/plain": [
       "[1] \"blue\"  \"brown\" \"green\""
      ]
     },
     "metadata": {},
     "output_type": "display_data"
    },
    {
     "data": {
      "text/html": [
       "<style>\n",
       ".list-inline {list-style: none; margin:0; padding: 0}\n",
       ".list-inline>li {display: inline-block}\n",
       ".list-inline>li:not(:last-child)::after {content: \"\\00b7\"; padding: 0 .5ex}\n",
       "</style>\n",
       "<ol class=list-inline><li>2</li><li>3</li><li>2</li><li>1</li><li>1</li><li>1</li></ol>\n"
      ],
      "text/latex": [
       "\\begin{enumerate*}\n",
       "\\item 2\n",
       "\\item 3\n",
       "\\item 2\n",
       "\\item 1\n",
       "\\item 1\n",
       "\\item 1\n",
       "\\end{enumerate*}\n"
      ],
      "text/markdown": [
       "1. 2\n",
       "2. 3\n",
       "3. 2\n",
       "4. 1\n",
       "5. 1\n",
       "6. 1\n",
       "\n",
       "\n"
      ],
      "text/plain": [
       "[1] 2 3 2 1 1 1"
      ]
     },
     "metadata": {},
     "output_type": "display_data"
    },
    {
     "name": "stderr",
     "output_type": "stream",
     "text": [
      "Warning message in eval(expr, envir, enclos):\n",
      "“NAs introduced by coercion”\n"
     ]
    },
    {
     "data": {
      "text/html": [
       "<style>\n",
       ".list-inline {list-style: none; margin:0; padding: 0}\n",
       ".list-inline>li {display: inline-block}\n",
       ".list-inline>li:not(:last-child)::after {content: \"\\00b7\"; padding: 0 .5ex}\n",
       "</style>\n",
       "<ol class=list-inline><li>&lt;NA&gt;</li><li>&lt;NA&gt;</li><li>&lt;NA&gt;</li><li>&lt;NA&gt;</li><li>&lt;NA&gt;</li><li>&lt;NA&gt;</li></ol>\n"
      ],
      "text/latex": [
       "\\begin{enumerate*}\n",
       "\\item <NA>\n",
       "\\item <NA>\n",
       "\\item <NA>\n",
       "\\item <NA>\n",
       "\\item <NA>\n",
       "\\item <NA>\n",
       "\\end{enumerate*}\n"
      ],
      "text/markdown": [
       "1. &lt;NA&gt;\n",
       "2. &lt;NA&gt;\n",
       "3. &lt;NA&gt;\n",
       "4. &lt;NA&gt;\n",
       "5. &lt;NA&gt;\n",
       "6. &lt;NA&gt;\n",
       "\n",
       "\n"
      ],
      "text/plain": [
       "[1] NA NA NA NA NA NA"
      ]
     },
     "metadata": {},
     "output_type": "display_data"
    },
    {
     "data": {
      "text/html": [
       "<style>\n",
       ".list-inline {list-style: none; margin:0; padding: 0}\n",
       ".list-inline>li {display: inline-block}\n",
       ".list-inline>li:not(:last-child)::after {content: \"\\00b7\"; padding: 0 .5ex}\n",
       "</style>\n",
       "<ol class=list-inline><li>'brown'</li><li>'green'</li><li>'brown'</li><li>'blue'</li><li>'blue'</li><li>'blue'</li></ol>\n"
      ],
      "text/latex": [
       "\\begin{enumerate*}\n",
       "\\item 'brown'\n",
       "\\item 'green'\n",
       "\\item 'brown'\n",
       "\\item 'blue'\n",
       "\\item 'blue'\n",
       "\\item 'blue'\n",
       "\\end{enumerate*}\n"
      ],
      "text/markdown": [
       "1. 'brown'\n",
       "2. 'green'\n",
       "3. 'brown'\n",
       "4. 'blue'\n",
       "5. 'blue'\n",
       "6. 'blue'\n",
       "\n",
       "\n"
      ],
      "text/plain": [
       "[1] \"brown\" \"green\" \"brown\" \"blue\"  \"blue\"  \"blue\" "
      ]
     },
     "metadata": {},
     "output_type": "display_data"
    },
    {
     "data": {
      "text/html": [
       "<style>\n",
       ".list-inline {list-style: none; margin:0; padding: 0}\n",
       ".list-inline>li {display: inline-block}\n",
       ".list-inline>li:not(:last-child)::after {content: \"\\00b7\"; padding: 0 .5ex}\n",
       "</style>\n",
       "<ol class=list-inline><li>'brown'</li><li>'green'</li><li>'brown'</li><li>'blue'</li><li>'blue'</li><li>'blue'</li></ol>\n"
      ],
      "text/latex": [
       "\\begin{enumerate*}\n",
       "\\item 'brown'\n",
       "\\item 'green'\n",
       "\\item 'brown'\n",
       "\\item 'blue'\n",
       "\\item 'blue'\n",
       "\\item 'blue'\n",
       "\\end{enumerate*}\n"
      ],
      "text/markdown": [
       "1. 'brown'\n",
       "2. 'green'\n",
       "3. 'brown'\n",
       "4. 'blue'\n",
       "5. 'blue'\n",
       "6. 'blue'\n",
       "\n",
       "\n"
      ],
      "text/plain": [
       "[1] \"brown\" \"green\" \"brown\" \"blue\"  \"blue\"  \"blue\" "
      ]
     },
     "metadata": {},
     "output_type": "display_data"
    }
   ],
   "source": [
    "#  ------->> Factors --------\n",
    "\n",
    "# Factors are used to store categorical data.\n",
    "\n",
    "eye.col.v <- c(\"brown\", \"green\", \"brown\", \"blue\", \"blue\", \"blue\")         #vector\n",
    "eye.col.f <- factor(c(\"brown\", \"green\", \"brown\", \"blue\", \"blue\", \"blue\")) #factor\n",
    "eye.col.v\n",
    "eye.col.f\n",
    "\n",
    "# R will identify the different levels of the factor - e.g. all distinct values. \n",
    "# The data is stored internally as integers - each number corresponding to a factor level.\n",
    "\n",
    "levels(eye.col.f)  # The levels (distinct values) of the factor (categorical variable)\n",
    "\n",
    "as.numeric(eye.col.f)  # The factor as numeric values: 1 is  blue, 2 is brown, 3 is green\n",
    "as.numeric(eye.col.v)  # The character vector, however, can not be coerced to numeric\n",
    "\n",
    "as.character(eye.col.f)  \n",
    "as.character(eye.col.v)"
   ]
  },
  {
   "cell_type": "code",
   "execution_count": 7,
   "metadata": {},
   "outputs": [
    {
     "data": {
      "text/html": [
       "<style>\n",
       ".list-inline {list-style: none; margin:0; padding: 0}\n",
       ".list-inline>li {display: inline-block}\n",
       ".list-inline>li:not(:last-child)::after {content: \"\\00b7\"; padding: 0 .5ex}\n",
       "</style>\n",
       "<ol class=list-inline><li>5</li><li>4</li></ol>\n"
      ],
      "text/latex": [
       "\\begin{enumerate*}\n",
       "\\item 5\n",
       "\\item 4\n",
       "\\end{enumerate*}\n"
      ],
      "text/markdown": [
       "1. 5\n",
       "2. 4\n",
       "\n",
       "\n"
      ],
      "text/plain": [
       "[1] 5 4"
      ]
     },
     "metadata": {},
     "output_type": "display_data"
    },
    {
     "data": {
      "text/html": [
       "2"
      ],
      "text/latex": [
       "2"
      ],
      "text/markdown": [
       "2"
      ],
      "text/plain": [
       "[1] 2"
      ]
     },
     "metadata": {},
     "output_type": "display_data"
    },
    {
     "data": {
      "text/html": [
       "<style>\n",
       ".list-inline {list-style: none; margin:0; padding: 0}\n",
       ".list-inline>li {display: inline-block}\n",
       ".list-inline>li:not(:last-child)::after {content: \"\\00b7\"; padding: 0 .5ex}\n",
       "</style>\n",
       "<ol class=list-inline><li>2</li><li>2</li><li>2</li><li>2</li><li>2</li><li>2</li><li>2</li><li>2</li><li>2</li><li>2</li></ol>\n"
      ],
      "text/latex": [
       "\\begin{enumerate*}\n",
       "\\item 2\n",
       "\\item 2\n",
       "\\item 2\n",
       "\\item 2\n",
       "\\item 2\n",
       "\\item 2\n",
       "\\item 2\n",
       "\\item 2\n",
       "\\item 2\n",
       "\\item 2\n",
       "\\end{enumerate*}\n"
      ],
      "text/markdown": [
       "1. 2\n",
       "2. 2\n",
       "3. 2\n",
       "4. 2\n",
       "5. 2\n",
       "6. 2\n",
       "7. 2\n",
       "8. 2\n",
       "9. 2\n",
       "10. 2\n",
       "\n",
       "\n"
      ],
      "text/plain": [
       " [1] 2 2 2 2 2 2 2 2 2 2"
      ]
     },
     "metadata": {},
     "output_type": "display_data"
    },
    {
     "data": {
      "text/html": [
       "<style>\n",
       ".list-inline {list-style: none; margin:0; padding: 0}\n",
       ".list-inline>li {display: inline-block}\n",
       ".list-inline>li:not(:last-child)::after {content: \"\\00b7\"; padding: 0 .5ex}\n",
       "</style>\n",
       "<ol class=list-inline><li>1</li><li>2</li><li>3</li><li>4</li><li>5</li><li>6</li><li>7</li><li>8</li><li>9</li><li>10</li></ol>\n"
      ],
      "text/latex": [
       "\\begin{enumerate*}\n",
       "\\item 1\n",
       "\\item 2\n",
       "\\item 3\n",
       "\\item 4\n",
       "\\item 5\n",
       "\\item 6\n",
       "\\item 7\n",
       "\\item 8\n",
       "\\item 9\n",
       "\\item 10\n",
       "\\end{enumerate*}\n"
      ],
      "text/markdown": [
       "1. 1\n",
       "2. 2\n",
       "3. 3\n",
       "4. 4\n",
       "5. 5\n",
       "6. 6\n",
       "7. 7\n",
       "8. 8\n",
       "9. 9\n",
       "10. 10\n",
       "\n",
       "\n"
      ],
      "text/plain": [
       " [1]  1  2  3  4  5  6  7  8  9 10"
      ]
     },
     "metadata": {},
     "output_type": "display_data"
    },
    {
     "data": {
      "text/html": [
       "<table class=\"dataframe\">\n",
       "<caption>A matrix: 2 × 3 of type int</caption>\n",
       "<tbody>\n",
       "\t<tr><td>1</td><td>1</td><td>1</td></tr>\n",
       "\t<tr><td>2</td><td>2</td><td>2</td></tr>\n",
       "</tbody>\n",
       "</table>\n"
      ],
      "text/latex": [
       "A matrix: 2 × 3 of type int\n",
       "\\begin{tabular}{lll}\n",
       "\t 1 & 1 & 1\\\\\n",
       "\t 2 & 2 & 2\\\\\n",
       "\\end{tabular}\n"
      ],
      "text/markdown": [
       "\n",
       "A matrix: 2 × 3 of type int\n",
       "\n",
       "| 1 | 1 | 1 |\n",
       "| 2 | 2 | 2 |\n",
       "\n"
      ],
      "text/plain": [
       "     [,1] [,2] [,3]\n",
       "[1,] 1    1    1   \n",
       "[2,] 2    2    2   "
      ]
     },
     "metadata": {},
     "output_type": "display_data"
    },
    {
     "data": {
      "text/html": [
       "<table class=\"dataframe\">\n",
       "<caption>A matrix: 9 × 10 of type int</caption>\n",
       "<tbody>\n",
       "\t<tr><td> 2</td><td> 2</td><td> 2</td><td> 2</td><td> 2</td><td> 2</td><td> 2</td><td> 2</td><td> 2</td><td> 2</td></tr>\n",
       "\t<tr><td> 3</td><td> 3</td><td> 3</td><td> 3</td><td> 3</td><td> 3</td><td> 3</td><td> 3</td><td> 3</td><td> 3</td></tr>\n",
       "\t<tr><td> 4</td><td> 4</td><td> 4</td><td> 4</td><td> 4</td><td> 4</td><td> 4</td><td> 4</td><td> 4</td><td> 4</td></tr>\n",
       "\t<tr><td> 5</td><td> 5</td><td> 5</td><td> 5</td><td> 5</td><td> 5</td><td> 5</td><td> 5</td><td> 5</td><td> 5</td></tr>\n",
       "\t<tr><td> 6</td><td> 6</td><td> 6</td><td> 6</td><td> 6</td><td> 6</td><td> 6</td><td> 6</td><td> 6</td><td> 6</td></tr>\n",
       "\t<tr><td> 7</td><td> 7</td><td> 7</td><td> 7</td><td> 7</td><td> 7</td><td> 7</td><td> 7</td><td> 7</td><td> 7</td></tr>\n",
       "\t<tr><td> 8</td><td> 8</td><td> 8</td><td> 8</td><td> 8</td><td> 8</td><td> 8</td><td> 8</td><td> 8</td><td> 8</td></tr>\n",
       "\t<tr><td> 9</td><td> 9</td><td> 9</td><td> 9</td><td> 9</td><td> 9</td><td> 9</td><td> 9</td><td> 9</td><td> 9</td></tr>\n",
       "\t<tr><td>10</td><td>10</td><td>10</td><td>10</td><td>10</td><td>10</td><td>10</td><td>10</td><td>10</td><td>10</td></tr>\n",
       "</tbody>\n",
       "</table>\n"
      ],
      "text/latex": [
       "A matrix: 9 × 10 of type int\n",
       "\\begin{tabular}{llllllllll}\n",
       "\t  2 &  2 &  2 &  2 &  2 &  2 &  2 &  2 &  2 &  2\\\\\n",
       "\t  3 &  3 &  3 &  3 &  3 &  3 &  3 &  3 &  3 &  3\\\\\n",
       "\t  4 &  4 &  4 &  4 &  4 &  4 &  4 &  4 &  4 &  4\\\\\n",
       "\t  5 &  5 &  5 &  5 &  5 &  5 &  5 &  5 &  5 &  5\\\\\n",
       "\t  6 &  6 &  6 &  6 &  6 &  6 &  6 &  6 &  6 &  6\\\\\n",
       "\t  7 &  7 &  7 &  7 &  7 &  7 &  7 &  7 &  7 &  7\\\\\n",
       "\t  8 &  8 &  8 &  8 &  8 &  8 &  8 &  8 &  8 &  8\\\\\n",
       "\t  9 &  9 &  9 &  9 &  9 &  9 &  9 &  9 &  9 &  9\\\\\n",
       "\t 10 & 10 & 10 & 10 & 10 & 10 & 10 & 10 & 10 & 10\\\\\n",
       "\\end{tabular}\n"
      ],
      "text/markdown": [
       "\n",
       "A matrix: 9 × 10 of type int\n",
       "\n",
       "|  2 |  2 |  2 |  2 |  2 |  2 |  2 |  2 |  2 |  2 |\n",
       "|  3 |  3 |  3 |  3 |  3 |  3 |  3 |  3 |  3 |  3 |\n",
       "|  4 |  4 |  4 |  4 |  4 |  4 |  4 |  4 |  4 |  4 |\n",
       "|  5 |  5 |  5 |  5 |  5 |  5 |  5 |  5 |  5 |  5 |\n",
       "|  6 |  6 |  6 |  6 |  6 |  6 |  6 |  6 |  6 |  6 |\n",
       "|  7 |  7 |  7 |  7 |  7 |  7 |  7 |  7 |  7 |  7 |\n",
       "|  8 |  8 |  8 |  8 |  8 |  8 |  8 |  8 |  8 |  8 |\n",
       "|  9 |  9 |  9 |  9 |  9 |  9 |  9 |  9 |  9 |  9 |\n",
       "| 10 | 10 | 10 | 10 | 10 | 10 | 10 | 10 | 10 | 10 |\n",
       "\n"
      ],
      "text/plain": [
       "      [,1] [,2] [,3] [,4] [,5] [,6] [,7] [,8] [,9] [,10]\n",
       " [1,]  2    2    2    2    2    2    2    2    2    2   \n",
       " [2,]  3    3    3    3    3    3    3    3    3    3   \n",
       " [3,]  4    4    4    4    4    4    4    4    4    4   \n",
       " [4,]  5    5    5    5    5    5    5    5    5    5   \n",
       " [5,]  6    6    6    6    6    6    6    6    6    6   \n",
       " [6,]  7    7    7    7    7    7    7    7    7    7   \n",
       " [7,]  8    8    8    8    8    8    8    8    8    8   \n",
       " [8,]  9    9    9    9    9    9    9    9    9    9   \n",
       " [9,] 10   10   10   10   10   10   10   10   10   10   "
      ]
     },
     "metadata": {},
     "output_type": "display_data"
    },
    {
     "data": {
      "text/html": [
       "<style>\n",
       ".list-inline {list-style: none; margin:0; padding: 0}\n",
       ".list-inline>li {display: inline-block}\n",
       ".list-inline>li:not(:last-child)::after {content: \"\\00b7\"; padding: 0 .5ex}\n",
       "</style>\n",
       "<ol class=list-inline><li>TRUE</li><li>FALSE</li><li>FALSE</li><li>FALSE</li><li>FALSE</li><li>FALSE</li><li>FALSE</li><li>FALSE</li><li>FALSE</li><li>FALSE</li></ol>\n"
      ],
      "text/latex": [
       "\\begin{enumerate*}\n",
       "\\item TRUE\n",
       "\\item FALSE\n",
       "\\item FALSE\n",
       "\\item FALSE\n",
       "\\item FALSE\n",
       "\\item FALSE\n",
       "\\item FALSE\n",
       "\\item FALSE\n",
       "\\item FALSE\n",
       "\\item FALSE\n",
       "\\end{enumerate*}\n"
      ],
      "text/markdown": [
       "1. TRUE\n",
       "2. FALSE\n",
       "3. FALSE\n",
       "4. FALSE\n",
       "5. FALSE\n",
       "6. FALSE\n",
       "7. FALSE\n",
       "8. FALSE\n",
       "9. FALSE\n",
       "10. FALSE\n",
       "\n",
       "\n"
      ],
      "text/plain": [
       " [1]  TRUE FALSE FALSE FALSE FALSE FALSE FALSE FALSE FALSE FALSE"
      ]
     },
     "metadata": {},
     "output_type": "display_data"
    },
    {
     "data": {
      "text/html": [
       "<table class=\"dataframe\">\n",
       "<caption>A matrix: 10 × 10 of type lgl</caption>\n",
       "<tbody>\n",
       "\t<tr><td>FALSE</td><td>FALSE</td><td>FALSE</td><td>FALSE</td><td>FALSE</td><td>FALSE</td><td>FALSE</td><td>FALSE</td><td>FALSE</td><td>FALSE</td></tr>\n",
       "\t<tr><td>FALSE</td><td>FALSE</td><td>FALSE</td><td>FALSE</td><td>FALSE</td><td>FALSE</td><td>FALSE</td><td>FALSE</td><td>FALSE</td><td>FALSE</td></tr>\n",
       "\t<tr><td>FALSE</td><td>FALSE</td><td>FALSE</td><td>FALSE</td><td>FALSE</td><td>FALSE</td><td>FALSE</td><td>FALSE</td><td>FALSE</td><td>FALSE</td></tr>\n",
       "\t<tr><td> TRUE</td><td> TRUE</td><td> TRUE</td><td> TRUE</td><td> TRUE</td><td> TRUE</td><td> TRUE</td><td> TRUE</td><td> TRUE</td><td> TRUE</td></tr>\n",
       "\t<tr><td> TRUE</td><td> TRUE</td><td> TRUE</td><td> TRUE</td><td> TRUE</td><td> TRUE</td><td> TRUE</td><td> TRUE</td><td> TRUE</td><td> TRUE</td></tr>\n",
       "\t<tr><td> TRUE</td><td> TRUE</td><td> TRUE</td><td> TRUE</td><td> TRUE</td><td> TRUE</td><td> TRUE</td><td> TRUE</td><td> TRUE</td><td> TRUE</td></tr>\n",
       "\t<tr><td> TRUE</td><td> TRUE</td><td> TRUE</td><td> TRUE</td><td> TRUE</td><td> TRUE</td><td> TRUE</td><td> TRUE</td><td> TRUE</td><td> TRUE</td></tr>\n",
       "\t<tr><td> TRUE</td><td> TRUE</td><td> TRUE</td><td> TRUE</td><td> TRUE</td><td> TRUE</td><td> TRUE</td><td> TRUE</td><td> TRUE</td><td> TRUE</td></tr>\n",
       "\t<tr><td> TRUE</td><td> TRUE</td><td> TRUE</td><td> TRUE</td><td> TRUE</td><td> TRUE</td><td> TRUE</td><td> TRUE</td><td> TRUE</td><td> TRUE</td></tr>\n",
       "\t<tr><td> TRUE</td><td> TRUE</td><td> TRUE</td><td> TRUE</td><td> TRUE</td><td> TRUE</td><td> TRUE</td><td> TRUE</td><td> TRUE</td><td> TRUE</td></tr>\n",
       "</tbody>\n",
       "</table>\n"
      ],
      "text/latex": [
       "A matrix: 10 × 10 of type lgl\n",
       "\\begin{tabular}{llllllllll}\n",
       "\t FALSE & FALSE & FALSE & FALSE & FALSE & FALSE & FALSE & FALSE & FALSE & FALSE\\\\\n",
       "\t FALSE & FALSE & FALSE & FALSE & FALSE & FALSE & FALSE & FALSE & FALSE & FALSE\\\\\n",
       "\t FALSE & FALSE & FALSE & FALSE & FALSE & FALSE & FALSE & FALSE & FALSE & FALSE\\\\\n",
       "\t  TRUE &  TRUE &  TRUE &  TRUE &  TRUE &  TRUE &  TRUE &  TRUE &  TRUE &  TRUE\\\\\n",
       "\t  TRUE &  TRUE &  TRUE &  TRUE &  TRUE &  TRUE &  TRUE &  TRUE &  TRUE &  TRUE\\\\\n",
       "\t  TRUE &  TRUE &  TRUE &  TRUE &  TRUE &  TRUE &  TRUE &  TRUE &  TRUE &  TRUE\\\\\n",
       "\t  TRUE &  TRUE &  TRUE &  TRUE &  TRUE &  TRUE &  TRUE &  TRUE &  TRUE &  TRUE\\\\\n",
       "\t  TRUE &  TRUE &  TRUE &  TRUE &  TRUE &  TRUE &  TRUE &  TRUE &  TRUE &  TRUE\\\\\n",
       "\t  TRUE &  TRUE &  TRUE &  TRUE &  TRUE &  TRUE &  TRUE &  TRUE &  TRUE &  TRUE\\\\\n",
       "\t  TRUE &  TRUE &  TRUE &  TRUE &  TRUE &  TRUE &  TRUE &  TRUE &  TRUE &  TRUE\\\\\n",
       "\\end{tabular}\n"
      ],
      "text/markdown": [
       "\n",
       "A matrix: 10 × 10 of type lgl\n",
       "\n",
       "| FALSE | FALSE | FALSE | FALSE | FALSE | FALSE | FALSE | FALSE | FALSE | FALSE |\n",
       "| FALSE | FALSE | FALSE | FALSE | FALSE | FALSE | FALSE | FALSE | FALSE | FALSE |\n",
       "| FALSE | FALSE | FALSE | FALSE | FALSE | FALSE | FALSE | FALSE | FALSE | FALSE |\n",
       "|  TRUE |  TRUE |  TRUE |  TRUE |  TRUE |  TRUE |  TRUE |  TRUE |  TRUE |  TRUE |\n",
       "|  TRUE |  TRUE |  TRUE |  TRUE |  TRUE |  TRUE |  TRUE |  TRUE |  TRUE |  TRUE |\n",
       "|  TRUE |  TRUE |  TRUE |  TRUE |  TRUE |  TRUE |  TRUE |  TRUE |  TRUE |  TRUE |\n",
       "|  TRUE |  TRUE |  TRUE |  TRUE |  TRUE |  TRUE |  TRUE |  TRUE |  TRUE |  TRUE |\n",
       "|  TRUE |  TRUE |  TRUE |  TRUE |  TRUE |  TRUE |  TRUE |  TRUE |  TRUE |  TRUE |\n",
       "|  TRUE |  TRUE |  TRUE |  TRUE |  TRUE |  TRUE |  TRUE |  TRUE |  TRUE |  TRUE |\n",
       "|  TRUE |  TRUE |  TRUE |  TRUE |  TRUE |  TRUE |  TRUE |  TRUE |  TRUE |  TRUE |\n",
       "\n"
      ],
      "text/plain": [
       "      [,1]  [,2]  [,3]  [,4]  [,5]  [,6]  [,7]  [,8]  [,9]  [,10]\n",
       " [1,] FALSE FALSE FALSE FALSE FALSE FALSE FALSE FALSE FALSE FALSE\n",
       " [2,] FALSE FALSE FALSE FALSE FALSE FALSE FALSE FALSE FALSE FALSE\n",
       " [3,] FALSE FALSE FALSE FALSE FALSE FALSE FALSE FALSE FALSE FALSE\n",
       " [4,]  TRUE  TRUE  TRUE  TRUE  TRUE  TRUE  TRUE  TRUE  TRUE  TRUE\n",
       " [5,]  TRUE  TRUE  TRUE  TRUE  TRUE  TRUE  TRUE  TRUE  TRUE  TRUE\n",
       " [6,]  TRUE  TRUE  TRUE  TRUE  TRUE  TRUE  TRUE  TRUE  TRUE  TRUE\n",
       " [7,]  TRUE  TRUE  TRUE  TRUE  TRUE  TRUE  TRUE  TRUE  TRUE  TRUE\n",
       " [8,]  TRUE  TRUE  TRUE  TRUE  TRUE  TRUE  TRUE  TRUE  TRUE  TRUE\n",
       " [9,]  TRUE  TRUE  TRUE  TRUE  TRUE  TRUE  TRUE  TRUE  TRUE  TRUE\n",
       "[10,]  TRUE  TRUE  TRUE  TRUE  TRUE  TRUE  TRUE  TRUE  TRUE  TRUE"
      ]
     },
     "metadata": {},
     "output_type": "display_data"
    },
    {
     "data": {
      "text/html": [
       "<style>\n",
       ".list-inline {list-style: none; margin:0; padding: 0}\n",
       ".list-inline>li {display: inline-block}\n",
       ".list-inline>li:not(:last-child)::after {content: \"\\00b7\"; padding: 0 .5ex}\n",
       "</style>\n",
       "<ol class=list-inline><li>4</li><li>5</li><li>6</li><li>7</li><li>8</li><li>9</li><li>10</li><li>4</li><li>5</li><li>6</li><li>7</li><li>8</li><li>9</li><li>10</li><li>4</li><li>5</li><li>6</li><li>7</li><li>8</li><li>9</li><li>10</li><li>4</li><li>5</li><li>6</li><li>7</li><li>8</li><li>9</li><li>10</li><li>4</li><li>5</li><li>6</li><li>7</li><li>8</li><li>9</li><li>10</li><li>4</li><li>5</li><li>6</li><li>7</li><li>8</li><li>9</li><li>10</li><li>4</li><li>5</li><li>6</li><li>7</li><li>8</li><li>9</li><li>10</li><li>4</li><li>5</li><li>6</li><li>7</li><li>8</li><li>9</li><li>10</li><li>4</li><li>5</li><li>6</li><li>7</li><li>8</li><li>9</li><li>10</li><li>4</li><li>5</li><li>6</li><li>7</li><li>8</li><li>9</li><li>10</li></ol>\n"
      ],
      "text/latex": [
       "\\begin{enumerate*}\n",
       "\\item 4\n",
       "\\item 5\n",
       "\\item 6\n",
       "\\item 7\n",
       "\\item 8\n",
       "\\item 9\n",
       "\\item 10\n",
       "\\item 4\n",
       "\\item 5\n",
       "\\item 6\n",
       "\\item 7\n",
       "\\item 8\n",
       "\\item 9\n",
       "\\item 10\n",
       "\\item 4\n",
       "\\item 5\n",
       "\\item 6\n",
       "\\item 7\n",
       "\\item 8\n",
       "\\item 9\n",
       "\\item 10\n",
       "\\item 4\n",
       "\\item 5\n",
       "\\item 6\n",
       "\\item 7\n",
       "\\item 8\n",
       "\\item 9\n",
       "\\item 10\n",
       "\\item 4\n",
       "\\item 5\n",
       "\\item 6\n",
       "\\item 7\n",
       "\\item 8\n",
       "\\item 9\n",
       "\\item 10\n",
       "\\item 4\n",
       "\\item 5\n",
       "\\item 6\n",
       "\\item 7\n",
       "\\item 8\n",
       "\\item 9\n",
       "\\item 10\n",
       "\\item 4\n",
       "\\item 5\n",
       "\\item 6\n",
       "\\item 7\n",
       "\\item 8\n",
       "\\item 9\n",
       "\\item 10\n",
       "\\item 4\n",
       "\\item 5\n",
       "\\item 6\n",
       "\\item 7\n",
       "\\item 8\n",
       "\\item 9\n",
       "\\item 10\n",
       "\\item 4\n",
       "\\item 5\n",
       "\\item 6\n",
       "\\item 7\n",
       "\\item 8\n",
       "\\item 9\n",
       "\\item 10\n",
       "\\item 4\n",
       "\\item 5\n",
       "\\item 6\n",
       "\\item 7\n",
       "\\item 8\n",
       "\\item 9\n",
       "\\item 10\n",
       "\\end{enumerate*}\n"
      ],
      "text/markdown": [
       "1. 4\n",
       "2. 5\n",
       "3. 6\n",
       "4. 7\n",
       "5. 8\n",
       "6. 9\n",
       "7. 10\n",
       "8. 4\n",
       "9. 5\n",
       "10. 6\n",
       "11. 7\n",
       "12. 8\n",
       "13. 9\n",
       "14. 10\n",
       "15. 4\n",
       "16. 5\n",
       "17. 6\n",
       "18. 7\n",
       "19. 8\n",
       "20. 9\n",
       "21. 10\n",
       "22. 4\n",
       "23. 5\n",
       "24. 6\n",
       "25. 7\n",
       "26. 8\n",
       "27. 9\n",
       "28. 10\n",
       "29. 4\n",
       "30. 5\n",
       "31. 6\n",
       "32. 7\n",
       "33. 8\n",
       "34. 9\n",
       "35. 10\n",
       "36. 4\n",
       "37. 5\n",
       "38. 6\n",
       "39. 7\n",
       "40. 8\n",
       "41. 9\n",
       "42. 10\n",
       "43. 4\n",
       "44. 5\n",
       "45. 6\n",
       "46. 7\n",
       "47. 8\n",
       "48. 9\n",
       "49. 10\n",
       "50. 4\n",
       "51. 5\n",
       "52. 6\n",
       "53. 7\n",
       "54. 8\n",
       "55. 9\n",
       "56. 10\n",
       "57. 4\n",
       "58. 5\n",
       "59. 6\n",
       "60. 7\n",
       "61. 8\n",
       "62. 9\n",
       "63. 10\n",
       "64. 4\n",
       "65. 5\n",
       "66. 6\n",
       "67. 7\n",
       "68. 8\n",
       "69. 9\n",
       "70. 10\n",
       "\n",
       "\n"
      ],
      "text/plain": [
       " [1]  4  5  6  7  8  9 10  4  5  6  7  8  9 10  4  5  6  7  8  9 10  4  5  6  7\n",
       "[26]  8  9 10  4  5  6  7  8  9 10  4  5  6  7  8  9 10  4  5  6  7  8  9 10  4\n",
       "[51]  5  6  7  8  9 10  4  5  6  7  8  9 10  4  5  6  7  8  9 10"
      ]
     },
     "metadata": {},
     "output_type": "display_data"
    },
    {
     "data": {
      "text/html": [
       "<table class=\"dataframe\">\n",
       "<caption>A matrix: 10 × 10 of type int</caption>\n",
       "<tbody>\n",
       "\t<tr><td>1</td><td>2</td><td>3</td><td>4</td><td>5</td><td>6</td><td>7</td><td>8</td><td>9</td><td>10</td></tr>\n",
       "\t<tr><td>1</td><td>2</td><td>3</td><td>4</td><td>5</td><td>6</td><td>7</td><td>8</td><td>9</td><td>10</td></tr>\n",
       "\t<tr><td>1</td><td>2</td><td>3</td><td>4</td><td>5</td><td>6</td><td>7</td><td>8</td><td>9</td><td>10</td></tr>\n",
       "\t<tr><td>1</td><td>2</td><td>3</td><td>4</td><td>5</td><td>6</td><td>7</td><td>8</td><td>9</td><td>10</td></tr>\n",
       "\t<tr><td>1</td><td>2</td><td>3</td><td>4</td><td>5</td><td>6</td><td>7</td><td>8</td><td>9</td><td>10</td></tr>\n",
       "\t<tr><td>1</td><td>2</td><td>3</td><td>4</td><td>5</td><td>6</td><td>7</td><td>8</td><td>9</td><td>10</td></tr>\n",
       "\t<tr><td>1</td><td>2</td><td>3</td><td>4</td><td>5</td><td>6</td><td>7</td><td>8</td><td>9</td><td>10</td></tr>\n",
       "\t<tr><td>1</td><td>2</td><td>3</td><td>4</td><td>5</td><td>6</td><td>7</td><td>8</td><td>9</td><td>10</td></tr>\n",
       "\t<tr><td>1</td><td>2</td><td>3</td><td>4</td><td>5</td><td>6</td><td>7</td><td>8</td><td>9</td><td>10</td></tr>\n",
       "\t<tr><td>1</td><td>2</td><td>3</td><td>4</td><td>5</td><td>6</td><td>7</td><td>8</td><td>9</td><td>10</td></tr>\n",
       "</tbody>\n",
       "</table>\n"
      ],
      "text/latex": [
       "A matrix: 10 × 10 of type int\n",
       "\\begin{tabular}{llllllllll}\n",
       "\t 1 & 2 & 3 & 4 & 5 & 6 & 7 & 8 & 9 & 10\\\\\n",
       "\t 1 & 2 & 3 & 4 & 5 & 6 & 7 & 8 & 9 & 10\\\\\n",
       "\t 1 & 2 & 3 & 4 & 5 & 6 & 7 & 8 & 9 & 10\\\\\n",
       "\t 1 & 2 & 3 & 4 & 5 & 6 & 7 & 8 & 9 & 10\\\\\n",
       "\t 1 & 2 & 3 & 4 & 5 & 6 & 7 & 8 & 9 & 10\\\\\n",
       "\t 1 & 2 & 3 & 4 & 5 & 6 & 7 & 8 & 9 & 10\\\\\n",
       "\t 1 & 2 & 3 & 4 & 5 & 6 & 7 & 8 & 9 & 10\\\\\n",
       "\t 1 & 2 & 3 & 4 & 5 & 6 & 7 & 8 & 9 & 10\\\\\n",
       "\t 1 & 2 & 3 & 4 & 5 & 6 & 7 & 8 & 9 & 10\\\\\n",
       "\t 1 & 2 & 3 & 4 & 5 & 6 & 7 & 8 & 9 & 10\\\\\n",
       "\\end{tabular}\n"
      ],
      "text/markdown": [
       "\n",
       "A matrix: 10 × 10 of type int\n",
       "\n",
       "| 1 | 2 | 3 | 4 | 5 | 6 | 7 | 8 | 9 | 10 |\n",
       "| 1 | 2 | 3 | 4 | 5 | 6 | 7 | 8 | 9 | 10 |\n",
       "| 1 | 2 | 3 | 4 | 5 | 6 | 7 | 8 | 9 | 10 |\n",
       "| 1 | 2 | 3 | 4 | 5 | 6 | 7 | 8 | 9 | 10 |\n",
       "| 1 | 2 | 3 | 4 | 5 | 6 | 7 | 8 | 9 | 10 |\n",
       "| 1 | 2 | 3 | 4 | 5 | 6 | 7 | 8 | 9 | 10 |\n",
       "| 1 | 2 | 3 | 4 | 5 | 6 | 7 | 8 | 9 | 10 |\n",
       "| 1 | 2 | 3 | 4 | 5 | 6 | 7 | 8 | 9 | 10 |\n",
       "| 1 | 2 | 3 | 4 | 5 | 6 | 7 | 8 | 9 | 10 |\n",
       "| 1 | 2 | 3 | 4 | 5 | 6 | 7 | 8 | 9 | 10 |\n",
       "\n"
      ],
      "text/plain": [
       "      [,1] [,2] [,3] [,4] [,5] [,6] [,7] [,8] [,9] [,10]\n",
       " [1,] 1    2    3    4    5    6    7    8    9    10   \n",
       " [2,] 1    2    3    4    5    6    7    8    9    10   \n",
       " [3,] 1    2    3    4    5    6    7    8    9    10   \n",
       " [4,] 1    2    3    4    5    6    7    8    9    10   \n",
       " [5,] 1    2    3    4    5    6    7    8    9    10   \n",
       " [6,] 1    2    3    4    5    6    7    8    9    10   \n",
       " [7,] 1    2    3    4    5    6    7    8    9    10   \n",
       " [8,] 1    2    3    4    5    6    7    8    9    10   \n",
       " [9,] 1    2    3    4    5    6    7    8    9    10   \n",
       "[10,] 1    2    3    4    5    6    7    8    9    10   "
      ]
     },
     "metadata": {},
     "output_type": "display_data"
    },
    {
     "data": {
      "text/html": [
       "<table class=\"dataframe\">\n",
       "<caption>A matrix: 10 × 10 of type dbl</caption>\n",
       "<tbody>\n",
       "\t<tr><td>385</td><td>385</td><td>385</td><td>385</td><td>385</td><td>385</td><td>385</td><td>385</td><td>385</td><td>385</td></tr>\n",
       "\t<tr><td>385</td><td>385</td><td>385</td><td>385</td><td>385</td><td>385</td><td>385</td><td>385</td><td>385</td><td>385</td></tr>\n",
       "\t<tr><td>385</td><td>385</td><td>385</td><td>385</td><td>385</td><td>385</td><td>385</td><td>385</td><td>385</td><td>385</td></tr>\n",
       "\t<tr><td>385</td><td>385</td><td>385</td><td>385</td><td>385</td><td>385</td><td>385</td><td>385</td><td>385</td><td>385</td></tr>\n",
       "\t<tr><td>385</td><td>385</td><td>385</td><td>385</td><td>385</td><td>385</td><td>385</td><td>385</td><td>385</td><td>385</td></tr>\n",
       "\t<tr><td>385</td><td>385</td><td>385</td><td>385</td><td>385</td><td>385</td><td>385</td><td>385</td><td>385</td><td>385</td></tr>\n",
       "\t<tr><td>385</td><td>385</td><td>385</td><td>385</td><td>385</td><td>385</td><td>385</td><td>385</td><td>385</td><td>385</td></tr>\n",
       "\t<tr><td>385</td><td>385</td><td>385</td><td>385</td><td>385</td><td>385</td><td>385</td><td>385</td><td>385</td><td>385</td></tr>\n",
       "\t<tr><td>385</td><td>385</td><td>385</td><td>385</td><td>385</td><td>385</td><td>385</td><td>385</td><td>385</td><td>385</td></tr>\n",
       "\t<tr><td>385</td><td>385</td><td>385</td><td>385</td><td>385</td><td>385</td><td>385</td><td>385</td><td>385</td><td>385</td></tr>\n",
       "</tbody>\n",
       "</table>\n"
      ],
      "text/latex": [
       "A matrix: 10 × 10 of type dbl\n",
       "\\begin{tabular}{llllllllll}\n",
       "\t 385 & 385 & 385 & 385 & 385 & 385 & 385 & 385 & 385 & 385\\\\\n",
       "\t 385 & 385 & 385 & 385 & 385 & 385 & 385 & 385 & 385 & 385\\\\\n",
       "\t 385 & 385 & 385 & 385 & 385 & 385 & 385 & 385 & 385 & 385\\\\\n",
       "\t 385 & 385 & 385 & 385 & 385 & 385 & 385 & 385 & 385 & 385\\\\\n",
       "\t 385 & 385 & 385 & 385 & 385 & 385 & 385 & 385 & 385 & 385\\\\\n",
       "\t 385 & 385 & 385 & 385 & 385 & 385 & 385 & 385 & 385 & 385\\\\\n",
       "\t 385 & 385 & 385 & 385 & 385 & 385 & 385 & 385 & 385 & 385\\\\\n",
       "\t 385 & 385 & 385 & 385 & 385 & 385 & 385 & 385 & 385 & 385\\\\\n",
       "\t 385 & 385 & 385 & 385 & 385 & 385 & 385 & 385 & 385 & 385\\\\\n",
       "\t 385 & 385 & 385 & 385 & 385 & 385 & 385 & 385 & 385 & 385\\\\\n",
       "\\end{tabular}\n"
      ],
      "text/markdown": [
       "\n",
       "A matrix: 10 × 10 of type dbl\n",
       "\n",
       "| 385 | 385 | 385 | 385 | 385 | 385 | 385 | 385 | 385 | 385 |\n",
       "| 385 | 385 | 385 | 385 | 385 | 385 | 385 | 385 | 385 | 385 |\n",
       "| 385 | 385 | 385 | 385 | 385 | 385 | 385 | 385 | 385 | 385 |\n",
       "| 385 | 385 | 385 | 385 | 385 | 385 | 385 | 385 | 385 | 385 |\n",
       "| 385 | 385 | 385 | 385 | 385 | 385 | 385 | 385 | 385 | 385 |\n",
       "| 385 | 385 | 385 | 385 | 385 | 385 | 385 | 385 | 385 | 385 |\n",
       "| 385 | 385 | 385 | 385 | 385 | 385 | 385 | 385 | 385 | 385 |\n",
       "| 385 | 385 | 385 | 385 | 385 | 385 | 385 | 385 | 385 | 385 |\n",
       "| 385 | 385 | 385 | 385 | 385 | 385 | 385 | 385 | 385 | 385 |\n",
       "| 385 | 385 | 385 | 385 | 385 | 385 | 385 | 385 | 385 | 385 |\n",
       "\n"
      ],
      "text/plain": [
       "      [,1] [,2] [,3] [,4] [,5] [,6] [,7] [,8] [,9] [,10]\n",
       " [1,] 385  385  385  385  385  385  385  385  385  385  \n",
       " [2,] 385  385  385  385  385  385  385  385  385  385  \n",
       " [3,] 385  385  385  385  385  385  385  385  385  385  \n",
       " [4,] 385  385  385  385  385  385  385  385  385  385  \n",
       " [5,] 385  385  385  385  385  385  385  385  385  385  \n",
       " [6,] 385  385  385  385  385  385  385  385  385  385  \n",
       " [7,] 385  385  385  385  385  385  385  385  385  385  \n",
       " [8,] 385  385  385  385  385  385  385  385  385  385  \n",
       " [9,] 385  385  385  385  385  385  385  385  385  385  \n",
       "[10,] 385  385  385  385  385  385  385  385  385  385  "
      ]
     },
     "metadata": {},
     "output_type": "display_data"
    },
    {
     "data": {
      "text/html": [
       "<table class=\"dataframe\">\n",
       "<caption>A matrix: 10 × 10 of type int</caption>\n",
       "<tbody>\n",
       "\t<tr><td>1</td><td>4</td><td>9</td><td>16</td><td>25</td><td>36</td><td>49</td><td>64</td><td>81</td><td>100</td></tr>\n",
       "\t<tr><td>1</td><td>4</td><td>9</td><td>16</td><td>25</td><td>36</td><td>49</td><td>64</td><td>81</td><td>100</td></tr>\n",
       "\t<tr><td>1</td><td>4</td><td>9</td><td>16</td><td>25</td><td>36</td><td>49</td><td>64</td><td>81</td><td>100</td></tr>\n",
       "\t<tr><td>1</td><td>4</td><td>9</td><td>16</td><td>25</td><td>36</td><td>49</td><td>64</td><td>81</td><td>100</td></tr>\n",
       "\t<tr><td>1</td><td>4</td><td>9</td><td>16</td><td>25</td><td>36</td><td>49</td><td>64</td><td>81</td><td>100</td></tr>\n",
       "\t<tr><td>1</td><td>4</td><td>9</td><td>16</td><td>25</td><td>36</td><td>49</td><td>64</td><td>81</td><td>100</td></tr>\n",
       "\t<tr><td>1</td><td>4</td><td>9</td><td>16</td><td>25</td><td>36</td><td>49</td><td>64</td><td>81</td><td>100</td></tr>\n",
       "\t<tr><td>1</td><td>4</td><td>9</td><td>16</td><td>25</td><td>36</td><td>49</td><td>64</td><td>81</td><td>100</td></tr>\n",
       "\t<tr><td>1</td><td>4</td><td>9</td><td>16</td><td>25</td><td>36</td><td>49</td><td>64</td><td>81</td><td>100</td></tr>\n",
       "\t<tr><td>1</td><td>4</td><td>9</td><td>16</td><td>25</td><td>36</td><td>49</td><td>64</td><td>81</td><td>100</td></tr>\n",
       "</tbody>\n",
       "</table>\n"
      ],
      "text/latex": [
       "A matrix: 10 × 10 of type int\n",
       "\\begin{tabular}{llllllllll}\n",
       "\t 1 & 4 & 9 & 16 & 25 & 36 & 49 & 64 & 81 & 100\\\\\n",
       "\t 1 & 4 & 9 & 16 & 25 & 36 & 49 & 64 & 81 & 100\\\\\n",
       "\t 1 & 4 & 9 & 16 & 25 & 36 & 49 & 64 & 81 & 100\\\\\n",
       "\t 1 & 4 & 9 & 16 & 25 & 36 & 49 & 64 & 81 & 100\\\\\n",
       "\t 1 & 4 & 9 & 16 & 25 & 36 & 49 & 64 & 81 & 100\\\\\n",
       "\t 1 & 4 & 9 & 16 & 25 & 36 & 49 & 64 & 81 & 100\\\\\n",
       "\t 1 & 4 & 9 & 16 & 25 & 36 & 49 & 64 & 81 & 100\\\\\n",
       "\t 1 & 4 & 9 & 16 & 25 & 36 & 49 & 64 & 81 & 100\\\\\n",
       "\t 1 & 4 & 9 & 16 & 25 & 36 & 49 & 64 & 81 & 100\\\\\n",
       "\t 1 & 4 & 9 & 16 & 25 & 36 & 49 & 64 & 81 & 100\\\\\n",
       "\\end{tabular}\n"
      ],
      "text/markdown": [
       "\n",
       "A matrix: 10 × 10 of type int\n",
       "\n",
       "| 1 | 4 | 9 | 16 | 25 | 36 | 49 | 64 | 81 | 100 |\n",
       "| 1 | 4 | 9 | 16 | 25 | 36 | 49 | 64 | 81 | 100 |\n",
       "| 1 | 4 | 9 | 16 | 25 | 36 | 49 | 64 | 81 | 100 |\n",
       "| 1 | 4 | 9 | 16 | 25 | 36 | 49 | 64 | 81 | 100 |\n",
       "| 1 | 4 | 9 | 16 | 25 | 36 | 49 | 64 | 81 | 100 |\n",
       "| 1 | 4 | 9 | 16 | 25 | 36 | 49 | 64 | 81 | 100 |\n",
       "| 1 | 4 | 9 | 16 | 25 | 36 | 49 | 64 | 81 | 100 |\n",
       "| 1 | 4 | 9 | 16 | 25 | 36 | 49 | 64 | 81 | 100 |\n",
       "| 1 | 4 | 9 | 16 | 25 | 36 | 49 | 64 | 81 | 100 |\n",
       "| 1 | 4 | 9 | 16 | 25 | 36 | 49 | 64 | 81 | 100 |\n",
       "\n"
      ],
      "text/plain": [
       "      [,1] [,2] [,3] [,4] [,5] [,6] [,7] [,8] [,9] [,10]\n",
       " [1,] 1    4    9    16   25   36   49   64   81   100  \n",
       " [2,] 1    4    9    16   25   36   49   64   81   100  \n",
       " [3,] 1    4    9    16   25   36   49   64   81   100  \n",
       " [4,] 1    4    9    16   25   36   49   64   81   100  \n",
       " [5,] 1    4    9    16   25   36   49   64   81   100  \n",
       " [6,] 1    4    9    16   25   36   49   64   81   100  \n",
       " [7,] 1    4    9    16   25   36   49   64   81   100  \n",
       " [8,] 1    4    9    16   25   36   49   64   81   100  \n",
       " [9,] 1    4    9    16   25   36   49   64   81   100  \n",
       "[10,] 1    4    9    16   25   36   49   64   81   100  "
      ]
     },
     "metadata": {},
     "output_type": "display_data"
    }
   ],
   "source": [
    "#  ------->> Matrices & Arrays --------  \n",
    "\n",
    "# A matrix is a vector with dimensions:\n",
    "m <- rep(1, 20)   # A vector of 20 elements, all 1\n",
    "dim(m) <- c(5,4)  # Dimensions set to 5 & 4, so m is now a 5x4 matrix\n",
    "\n",
    "# Create a matrix using matrix():\n",
    "m <- matrix(data=1, nrow=5, ncol=4)  # same matrix as above, 5x4, full of 1s\n",
    "m <- matrix(1,5,4) \t\t\t             # same matrix as above\n",
    "dim(m)                               # What are the dimensions of m?\n",
    "\n",
    "# Create a matrix by combining vectors:\n",
    "m <- cbind(1:5, 5:1, 5:9)  # Bind 3 vectors as columns, 5x3 matrix\n",
    "m <- rbind(1:5, 5:1, 5:9)  # Bind 3 vectors as rows, 3x5 matrix\n",
    "\n",
    "m <- matrix(1:10,10,10)\n",
    "\n",
    "# Select matrix elements: \n",
    "m[2,3]  # Matrix m, row 2, column 3 - a single cell\n",
    "m[2,]   # The whole second row of m as a vector\n",
    "m[,2]   # The whole second column of m as a vector\n",
    "m[1:2,4:6] # submatrix: rows 1 and 2, columns 4, 5 and 6\n",
    "m[-1,]     # all rows *except* the first one\n",
    "\n",
    "m[1,]==m[,1]  # Are elements in row 1 equivalent to corresponding elements from column 1? \n",
    "m>3           # A logical matrix: TRUE for m elements >3, FALSE otherwise\n",
    "m[m>3]        # Selects only TRUE elements - that is ones greater than 3\n",
    "\n",
    "\n",
    "t(m)          # Transpose m     \n",
    "m <- t(m)     # Assign m the transposed m\n",
    "m %*% t(m)    # %*% does matrix multiplication\n",
    "m * m         # * does element-wise multiplication\n",
    "\n",
    "# Arrays: more than 2 dimensions\n",
    "# Created with the array() function:\n",
    "\n",
    "a <- array(data=1:18,dim=c(3,3,2)) # 3d with dimensions 3x3x2\n",
    "a <- array(1:18,c(3,3,2))          # the same array"
   ]
  },
  {
   "cell_type": "code",
   "execution_count": 8,
   "metadata": {},
   "outputs": [
    {
     "data": {
      "text/html": [
       "<strong>$boo</strong> = <style>\n",
       ".list-inline {list-style: none; margin:0; padding: 0}\n",
       ".list-inline>li {display: inline-block}\n",
       ".list-inline>li:not(:last-child)::after {content: \"\\00b7\"; padding: 0 .5ex}\n",
       "</style>\n",
       "<ol class=list-inline><li>1</li><li>2</li><li>3</li><li>4</li><li>5</li><li>6</li><li>7</li><li>8</li><li>9</li><li>10</li><li>&lt;NA&gt;</li><li>&lt;NA&gt;</li><li>&lt;NA&gt;</li><li>&lt;NA&gt;</li><li>&lt;NA&gt;</li></ol>\n"
      ],
      "text/latex": [
       "\\textbf{\\$boo} = \\begin{enumerate*}\n",
       "\\item 1\n",
       "\\item 2\n",
       "\\item 3\n",
       "\\item 4\n",
       "\\item 5\n",
       "\\item 6\n",
       "\\item 7\n",
       "\\item 8\n",
       "\\item 9\n",
       "\\item 10\n",
       "\\item <NA>\n",
       "\\item <NA>\n",
       "\\item <NA>\n",
       "\\item <NA>\n",
       "\\item <NA>\n",
       "\\end{enumerate*}\n"
      ],
      "text/markdown": [
       "**$boo** = 1. 1\n",
       "2. 2\n",
       "3. 3\n",
       "4. 4\n",
       "5. 5\n",
       "6. 6\n",
       "7. 7\n",
       "8. 8\n",
       "9. 9\n",
       "10. 10\n",
       "11. &lt;NA&gt;\n",
       "12. &lt;NA&gt;\n",
       "13. &lt;NA&gt;\n",
       "14. &lt;NA&gt;\n",
       "15. &lt;NA&gt;\n",
       "\n",
       "\n"
      ],
      "text/plain": [
       "$boo\n",
       " [1]  1  2  3  4  5  6  7  8  9 10 NA NA NA NA NA\n"
      ]
     },
     "metadata": {},
     "output_type": "display_data"
    },
    {
     "data": {
      "text/html": [
       "<style>\n",
       ".list-inline {list-style: none; margin:0; padding: 0}\n",
       ".list-inline>li {display: inline-block}\n",
       ".list-inline>li:not(:last-child)::after {content: \"\\00b7\"; padding: 0 .5ex}\n",
       "</style>\n",
       "<ol class=list-inline><li>1</li><li>2</li><li>3</li><li>4</li><li>5</li><li>6</li><li>7</li><li>8</li><li>9</li><li>10</li><li>&lt;NA&gt;</li><li>&lt;NA&gt;</li><li>&lt;NA&gt;</li><li>&lt;NA&gt;</li><li>&lt;NA&gt;</li></ol>\n"
      ],
      "text/latex": [
       "\\begin{enumerate*}\n",
       "\\item 1\n",
       "\\item 2\n",
       "\\item 3\n",
       "\\item 4\n",
       "\\item 5\n",
       "\\item 6\n",
       "\\item 7\n",
       "\\item 8\n",
       "\\item 9\n",
       "\\item 10\n",
       "\\item <NA>\n",
       "\\item <NA>\n",
       "\\item <NA>\n",
       "\\item <NA>\n",
       "\\item <NA>\n",
       "\\end{enumerate*}\n"
      ],
      "text/markdown": [
       "1. 1\n",
       "2. 2\n",
       "3. 3\n",
       "4. 4\n",
       "5. 5\n",
       "6. 6\n",
       "7. 7\n",
       "8. 8\n",
       "9. 9\n",
       "10. 10\n",
       "11. &lt;NA&gt;\n",
       "12. &lt;NA&gt;\n",
       "13. &lt;NA&gt;\n",
       "14. &lt;NA&gt;\n",
       "15. &lt;NA&gt;\n",
       "\n",
       "\n"
      ],
      "text/plain": [
       " [1]  1  2  3  4  5  6  7  8  9 10 NA NA NA NA NA"
      ]
     },
     "metadata": {},
     "output_type": "display_data"
    },
    {
     "data": {
      "text/html": [
       "<style>\n",
       ".list-inline {list-style: none; margin:0; padding: 0}\n",
       ".list-inline>li {display: inline-block}\n",
       ".list-inline>li:not(:last-child)::after {content: \"\\00b7\"; padding: 0 .5ex}\n",
       "</style>\n",
       "<ol class=list-inline><li>1</li><li>2</li><li>3</li><li>4</li><li>5</li><li>6</li><li>7</li><li>8</li><li>9</li><li>10</li><li>&lt;NA&gt;</li><li>&lt;NA&gt;</li><li>&lt;NA&gt;</li><li>&lt;NA&gt;</li><li>&lt;NA&gt;</li></ol>\n"
      ],
      "text/latex": [
       "\\begin{enumerate*}\n",
       "\\item 1\n",
       "\\item 2\n",
       "\\item 3\n",
       "\\item 4\n",
       "\\item 5\n",
       "\\item 6\n",
       "\\item 7\n",
       "\\item 8\n",
       "\\item 9\n",
       "\\item 10\n",
       "\\item <NA>\n",
       "\\item <NA>\n",
       "\\item <NA>\n",
       "\\item <NA>\n",
       "\\item <NA>\n",
       "\\end{enumerate*}\n"
      ],
      "text/markdown": [
       "1. 1\n",
       "2. 2\n",
       "3. 3\n",
       "4. 4\n",
       "5. 5\n",
       "6. 6\n",
       "7. 7\n",
       "8. 8\n",
       "9. 9\n",
       "10. 10\n",
       "11. &lt;NA&gt;\n",
       "12. &lt;NA&gt;\n",
       "13. &lt;NA&gt;\n",
       "14. &lt;NA&gt;\n",
       "15. &lt;NA&gt;\n",
       "\n",
       "\n"
      ],
      "text/plain": [
       " [1]  1  2  3  4  5  6  7  8  9 10 NA NA NA NA NA"
      ]
     },
     "metadata": {},
     "output_type": "display_data"
    },
    {
     "data": {
      "text/html": [
       "<style>\n",
       ".list-inline {list-style: none; margin:0; padding: 0}\n",
       ".list-inline>li {display: inline-block}\n",
       ".list-inline>li:not(:last-child)::after {content: \"\\00b7\"; padding: 0 .5ex}\n",
       "</style>\n",
       "<ol class=list-inline><li>1</li><li>2</li><li>3</li><li>4</li><li>5</li><li>6</li><li>7</li><li>8</li><li>9</li><li>10</li><li>&lt;NA&gt;</li><li>&lt;NA&gt;</li><li>&lt;NA&gt;</li><li>&lt;NA&gt;</li><li>&lt;NA&gt;</li></ol>\n"
      ],
      "text/latex": [
       "\\begin{enumerate*}\n",
       "\\item 1\n",
       "\\item 2\n",
       "\\item 3\n",
       "\\item 4\n",
       "\\item 5\n",
       "\\item 6\n",
       "\\item 7\n",
       "\\item 8\n",
       "\\item 9\n",
       "\\item 10\n",
       "\\item <NA>\n",
       "\\item <NA>\n",
       "\\item <NA>\n",
       "\\item <NA>\n",
       "\\item <NA>\n",
       "\\end{enumerate*}\n"
      ],
      "text/markdown": [
       "1. 1\n",
       "2. 2\n",
       "3. 3\n",
       "4. 4\n",
       "5. 5\n",
       "6. 6\n",
       "7. 7\n",
       "8. 8\n",
       "9. 9\n",
       "10. 10\n",
       "11. &lt;NA&gt;\n",
       "12. &lt;NA&gt;\n",
       "13. &lt;NA&gt;\n",
       "14. &lt;NA&gt;\n",
       "15. &lt;NA&gt;\n",
       "\n",
       "\n"
      ],
      "text/plain": [
       " [1]  1  2  3  4  5  6  7  8  9 10 NA NA NA NA NA"
      ]
     },
     "metadata": {},
     "output_type": "display_data"
    }
   ],
   "source": [
    "#  ------->> Lists --------  \n",
    "\n",
    "# Lists are collections of objects (e.g. of strings, vectors, matrices, other lists, etc.)\n",
    "\n",
    "l1 <- list(boo=v1,foo=v2,moo=v3,zoo=\"Animals!\")  # A list with four components\n",
    "l2 <- list(v1,v2,v3,\"Animals!\")\n",
    "\n",
    "l3 <- list()\n",
    "l4 <- NULL\n",
    "\n",
    "l1[\"boo\"]      # Access boo: this returns a list.\n",
    "l1[[\"boo\"]]    # Access boo: this returns the numeric vector\n",
    "l1[[1]]        # Returns the first component of the list, equivalent to above.\n",
    "l1$boo         # Named elements can be accessed using the $ operator - equivalent to [[]]\n",
    "\n",
    "# Add more elements to a list:\n",
    "l3[[1]] <- 11 # add an element to the empty list l3\n",
    "l4[[3]] <- c(22, 23) # add a vector as element 3 in the empty list l4. \n",
    "                     # Since we added element 3, elements 1 & 2 will be generated and empty (NULL)\n",
    "l1[[5]] <- \"More elements!\" # The list l1 had 4 elements, we're adding a 5th here.\n",
    "l1[[8]] <- 1:11 # We added an 8th element, but not 6th or 7th. Those will be created empty (NULL)\n",
    "l1$Something <- \"A thing\"  # Adds a ninth element - \"A thing\", named \"Something\"\n"
   ]
  },
  {
   "cell_type": "code",
   "execution_count": 9,
   "metadata": {},
   "outputs": [
    {
     "data": {
      "text/html": [
       "<style>\n",
       ".list-inline {list-style: none; margin:0; padding: 0}\n",
       ".list-inline>li {display: inline-block}\n",
       ".list-inline>li:not(:last-child)::after {content: \"\\00b7\"; padding: 0 .5ex}\n",
       "</style>\n",
       "<ol class=list-inline><li>John</li><li>Jim</li><li>Jane</li><li>Jill</li></ol>\n",
       "\n",
       "<details>\n",
       "\t<summary style=display:list-item;cursor:pointer>\n",
       "\t\t<strong>Levels</strong>:\n",
       "\t</summary>\n",
       "\t<style>\n",
       "\t.list-inline {list-style: none; margin:0; padding: 0}\n",
       "\t.list-inline>li {display: inline-block}\n",
       "\t.list-inline>li:not(:last-child)::after {content: \"\\00b7\"; padding: 0 .5ex}\n",
       "\t</style>\n",
       "\t<ol class=list-inline><li>'Jane'</li><li>'Jill'</li><li>'Jim'</li><li>'John'</li></ol>\n",
       "</details>"
      ],
      "text/latex": [
       "\\begin{enumerate*}\n",
       "\\item John\n",
       "\\item Jim\n",
       "\\item Jane\n",
       "\\item Jill\n",
       "\\end{enumerate*}\n",
       "\n",
       "\\emph{Levels}: \\begin{enumerate*}\n",
       "\\item 'Jane'\n",
       "\\item 'Jill'\n",
       "\\item 'Jim'\n",
       "\\item 'John'\n",
       "\\end{enumerate*}\n"
      ],
      "text/markdown": [
       "1. John\n",
       "2. Jim\n",
       "3. Jane\n",
       "4. Jill\n",
       "\n",
       "\n",
       "\n",
       "**Levels**: 1. 'Jane'\n",
       "2. 'Jill'\n",
       "3. 'Jim'\n",
       "4. 'John'\n",
       "\n",
       "\n"
      ],
      "text/plain": [
       "[1] John Jim  Jane Jill\n",
       "Levels: Jane Jill Jim John"
      ]
     },
     "metadata": {},
     "output_type": "display_data"
    },
    {
     "data": {
      "text/html": [
       "<style>\n",
       ".list-inline {list-style: none; margin:0; padding: 0}\n",
       ".list-inline>li {display: inline-block}\n",
       ".list-inline>li:not(:last-child)::after {content: \"\\00b7\"; padding: 0 .5ex}\n",
       "</style>\n",
       "<ol class=list-inline><li>'John'</li><li>'Jim'</li><li>'Jane'</li><li>'Jill'</li></ol>\n"
      ],
      "text/latex": [
       "\\begin{enumerate*}\n",
       "\\item 'John'\n",
       "\\item 'Jim'\n",
       "\\item 'Jane'\n",
       "\\item 'Jill'\n",
       "\\end{enumerate*}\n"
      ],
      "text/markdown": [
       "1. 'John'\n",
       "2. 'Jim'\n",
       "3. 'Jane'\n",
       "4. 'Jill'\n",
       "\n",
       "\n"
      ],
      "text/plain": [
       "[1] \"John\" \"Jim\"  \"Jane\" \"Jill\""
      ]
     },
     "metadata": {},
     "output_type": "display_data"
    },
    {
     "data": {
      "text/html": [
       "<table class=\"dataframe\">\n",
       "<caption>A data.frame: 1 × 4</caption>\n",
       "<thead>\n",
       "\t<tr><th></th><th scope=col>ID</th><th scope=col>FirstName</th><th scope=col>Female</th><th scope=col>Age</th></tr>\n",
       "\t<tr><th></th><th scope=col>&lt;int&gt;</th><th scope=col>&lt;chr&gt;</th><th scope=col>&lt;lgl&gt;</th><th scope=col>&lt;dbl&gt;</th></tr>\n",
       "</thead>\n",
       "<tbody>\n",
       "\t<tr><th scope=row>1</th><td>1</td><td>John</td><td>FALSE</td><td>22</td></tr>\n",
       "</tbody>\n",
       "</table>\n"
      ],
      "text/latex": [
       "A data.frame: 1 × 4\n",
       "\\begin{tabular}{r|llll}\n",
       "  & ID & FirstName & Female & Age\\\\\n",
       "  & <int> & <chr> & <lgl> & <dbl>\\\\\n",
       "\\hline\n",
       "\t1 & 1 & John & FALSE & 22\\\\\n",
       "\\end{tabular}\n"
      ],
      "text/markdown": [
       "\n",
       "A data.frame: 1 × 4\n",
       "\n",
       "| <!--/--> | ID &lt;int&gt; | FirstName &lt;chr&gt; | Female &lt;lgl&gt; | Age &lt;dbl&gt; |\n",
       "|---|---|---|---|---|\n",
       "| 1 | 1 | John | FALSE | 22 |\n",
       "\n"
      ],
      "text/plain": [
       "  ID FirstName Female Age\n",
       "1 1  John      FALSE  22 "
      ]
     },
     "metadata": {},
     "output_type": "display_data"
    },
    {
     "data": {
      "text/html": [
       "<style>\n",
       ".list-inline {list-style: none; margin:0; padding: 0}\n",
       ".list-inline>li {display: inline-block}\n",
       ".list-inline>li:not(:last-child)::after {content: \"\\00b7\"; padding: 0 .5ex}\n",
       "</style>\n",
       "<ol class=list-inline><li>1</li><li>2</li><li>3</li><li>4</li></ol>\n"
      ],
      "text/latex": [
       "\\begin{enumerate*}\n",
       "\\item 1\n",
       "\\item 2\n",
       "\\item 3\n",
       "\\item 4\n",
       "\\end{enumerate*}\n"
      ],
      "text/markdown": [
       "1. 1\n",
       "2. 2\n",
       "3. 3\n",
       "4. 4\n",
       "\n",
       "\n"
      ],
      "text/plain": [
       "[1] 1 2 3 4"
      ]
     },
     "metadata": {},
     "output_type": "display_data"
    },
    {
     "data": {
      "text/html": [
       "<style>\n",
       ".list-inline {list-style: none; margin:0; padding: 0}\n",
       ".list-inline>li {display: inline-block}\n",
       ".list-inline>li:not(:last-child)::after {content: \"\\00b7\"; padding: 0 .5ex}\n",
       "</style>\n",
       "<ol class=list-inline><li>22</li><li>33</li><li>44</li><li>55</li></ol>\n"
      ],
      "text/latex": [
       "\\begin{enumerate*}\n",
       "\\item 22\n",
       "\\item 33\n",
       "\\item 44\n",
       "\\item 55\n",
       "\\end{enumerate*}\n"
      ],
      "text/markdown": [
       "1. 22\n",
       "2. 33\n",
       "3. 44\n",
       "4. 55\n",
       "\n",
       "\n"
      ],
      "text/plain": [
       "[1] 22 33 44 55"
      ]
     },
     "metadata": {},
     "output_type": "display_data"
    },
    {
     "data": {
      "text/html": [
       "<table class=\"dataframe\">\n",
       "<caption>A data.frame: 2 × 2</caption>\n",
       "<thead>\n",
       "\t<tr><th></th><th scope=col>Female</th><th scope=col>Age</th></tr>\n",
       "\t<tr><th></th><th scope=col>&lt;lgl&gt;</th><th scope=col>&lt;dbl&gt;</th></tr>\n",
       "</thead>\n",
       "<tbody>\n",
       "\t<tr><th scope=row>1</th><td>FALSE</td><td>22</td></tr>\n",
       "\t<tr><th scope=row>2</th><td>FALSE</td><td>33</td></tr>\n",
       "</tbody>\n",
       "</table>\n"
      ],
      "text/latex": [
       "A data.frame: 2 × 2\n",
       "\\begin{tabular}{r|ll}\n",
       "  & Female & Age\\\\\n",
       "  & <lgl> & <dbl>\\\\\n",
       "\\hline\n",
       "\t1 & FALSE & 22\\\\\n",
       "\t2 & FALSE & 33\\\\\n",
       "\\end{tabular}\n"
      ],
      "text/markdown": [
       "\n",
       "A data.frame: 2 × 2\n",
       "\n",
       "| <!--/--> | Female &lt;lgl&gt; | Age &lt;dbl&gt; |\n",
       "|---|---|---|\n",
       "| 1 | FALSE | 22 |\n",
       "| 2 | FALSE | 33 |\n",
       "\n"
      ],
      "text/plain": [
       "  Female Age\n",
       "1 FALSE  22 \n",
       "2 FALSE  33 "
      ]
     },
     "metadata": {},
     "output_type": "display_data"
    },
    {
     "data": {
      "text/html": [
       "<table class=\"dataframe\">\n",
       "<caption>A data.frame: 2 × 4</caption>\n",
       "<thead>\n",
       "\t<tr><th></th><th scope=col>ID</th><th scope=col>FirstName</th><th scope=col>Female</th><th scope=col>Age</th></tr>\n",
       "\t<tr><th></th><th scope=col>&lt;int&gt;</th><th scope=col>&lt;chr&gt;</th><th scope=col>&lt;lgl&gt;</th><th scope=col>&lt;dbl&gt;</th></tr>\n",
       "</thead>\n",
       "<tbody>\n",
       "\t<tr><th scope=row>1</th><td>1</td><td>John</td><td>FALSE</td><td>22</td></tr>\n",
       "\t<tr><th scope=row>3</th><td>3</td><td>Jane</td><td> TRUE</td><td>44</td></tr>\n",
       "</tbody>\n",
       "</table>\n"
      ],
      "text/latex": [
       "A data.frame: 2 × 4\n",
       "\\begin{tabular}{r|llll}\n",
       "  & ID & FirstName & Female & Age\\\\\n",
       "  & <int> & <chr> & <lgl> & <dbl>\\\\\n",
       "\\hline\n",
       "\t1 & 1 & John & FALSE & 22\\\\\n",
       "\t3 & 3 & Jane &  TRUE & 44\\\\\n",
       "\\end{tabular}\n"
      ],
      "text/markdown": [
       "\n",
       "A data.frame: 2 × 4\n",
       "\n",
       "| <!--/--> | ID &lt;int&gt; | FirstName &lt;chr&gt; | Female &lt;lgl&gt; | Age &lt;dbl&gt; |\n",
       "|---|---|---|---|---|\n",
       "| 1 | 1 | John | FALSE | 22 |\n",
       "| 3 | 3 | Jane |  TRUE | 44 |\n",
       "\n"
      ],
      "text/plain": [
       "  ID FirstName Female Age\n",
       "1 1  John      FALSE  22 \n",
       "3 3  Jane       TRUE  44 "
      ]
     },
     "metadata": {},
     "output_type": "display_data"
    },
    {
     "data": {
      "text/html": [
       "<style>\n",
       ".list-inline {list-style: none; margin:0; padding: 0}\n",
       ".list-inline>li {display: inline-block}\n",
       ".list-inline>li:not(:last-child)::after {content: \"\\00b7\"; padding: 0 .5ex}\n",
       "</style>\n",
       "<ol class=list-inline><li>'Jim'</li><li>'Jane'</li><li>'Jill'</li></ol>\n"
      ],
      "text/latex": [
       "\\begin{enumerate*}\n",
       "\\item 'Jim'\n",
       "\\item 'Jane'\n",
       "\\item 'Jill'\n",
       "\\end{enumerate*}\n"
      ],
      "text/markdown": [
       "1. 'Jim'\n",
       "2. 'Jane'\n",
       "3. 'Jill'\n",
       "\n",
       "\n"
      ],
      "text/plain": [
       "[1] \"Jim\"  \"Jane\" \"Jill\""
      ]
     },
     "metadata": {},
     "output_type": "display_data"
    },
    {
     "data": {
      "text/html": [
       "49.5"
      ],
      "text/latex": [
       "49.5"
      ],
      "text/markdown": [
       "49.5"
      ],
      "text/plain": [
       "[1] 49.5"
      ]
     },
     "metadata": {},
     "output_type": "display_data"
    }
   ],
   "source": [
    "#  ------->> Data Frames --------  \n",
    "\n",
    "# The data frame is a special kind of list used for storing dataset tables.\n",
    "# Think of rows as cases, columns as variables. Each column is a vector or factor.\n",
    "\n",
    "# Creating a dataframe:\n",
    "\n",
    "dfr1 <- data.frame( ID=1:4,\n",
    "                    FirstName=c(\"John\",\"Jim\",\"Jane\",\"Jill\"),\n",
    "                    Female=c(F,F,T,T), \n",
    "                    Age=c(22,33,44,55) )\n",
    "\n",
    "dfr1$FirstName   # Access the second column of dfr1. \n",
    "# Notice that R thinks this is a categorical variable \n",
    "# and so it's treating it like a factor, not a character vector.\n",
    "\n",
    "# Let's get rid of the factor by telling R to treat FirstName as a vector:\n",
    "dfr1$FirstName <- as.vector(dfr1$FirstName)\n",
    "\n",
    "# Alternatively, you can tell R you don't like factors from the start using stringsAsFactors=FALSE\n",
    "dfr2 <- data.frame(FirstName=c(\"John\",\"Jim\",\"Jane\",\"Jill\"), stringsAsFactors=FALSE)\n",
    "dfr2$FirstName   # Success: not a factor.\n",
    "\n",
    "# Access elements of the data frame\n",
    "dfr1[1,]   # First row, all columns\n",
    "dfr1[,1]   # First column, all rows\n",
    "dfr1$Age   # Age column, all rows\n",
    "dfr1[1:2,3:4] # Rows 1 and 2, columns 3 and 4 - the gender and age of John & Jim\n",
    "dfr1[c(1,3),] # Rows 1 and 3, all columns\n",
    "\n",
    "# Find the names of everyone over the age of 30 in the data\n",
    "dfr1[dfr1$Age>30,2]\n",
    "\n",
    "# Find the average age of all females in the data:\n",
    "mean ( dfr1[dfr1$Female==TRUE,4] )"
   ]
  },
  {
   "cell_type": "code",
   "execution_count": 10,
   "metadata": {},
   "outputs": [
    {
     "data": {
      "text/html": [
       "2"
      ],
      "text/latex": [
       "2"
      ],
      "text/markdown": [
       "2"
      ],
      "text/plain": [
       "[1] 2"
      ]
     },
     "metadata": {},
     "output_type": "display_data"
    },
    {
     "data": {
      "text/html": [
       "15"
      ],
      "text/latex": [
       "15"
      ],
      "text/markdown": [
       "15"
      ],
      "text/plain": [
       "[1] 15"
      ]
     },
     "metadata": {},
     "output_type": "display_data"
    },
    {
     "data": {
      "text/html": [
       "120"
      ],
      "text/latex": [
       "120"
      ],
      "text/markdown": [
       "120"
      ],
      "text/plain": [
       "[1] 120"
      ]
     },
     "metadata": {},
     "output_type": "display_data"
    },
    {
     "name": "stdout",
     "output_type": "stream",
     "text": [
      "[1] 5\n",
      "[1] 4\n",
      "[1] 3\n",
      "[1] 2\n",
      "[1] 1\n",
      "[1] 0\n",
      "[1] 1\n",
      "[1] 2\n",
      "[1] 3\n",
      "[1] 4\n",
      "[1] 5\n",
      "[1] 6\n",
      "[1] 7\n",
      "[1] 8\n",
      "[1] 9\n",
      "[1] 10\n"
     ]
    }
   ],
   "source": [
    "#  ------->> Flow Control --------\n",
    "\n",
    "# if (condition) expr1 else expr2\n",
    "x <- 5; y <- 10\n",
    "if (x==0) y <- 0 else y <- y/x #  \n",
    "y\n",
    "\n",
    "# for (variable in sequence) expr\n",
    "ASum <- 0; AProd <- 1\n",
    "for (i in 1:x)  \n",
    "{\n",
    "  ASum <- ASum + i\n",
    "  AProd <- AProd * i\n",
    "}\n",
    "ASum  # equivalent to sum(1:x)\n",
    "AProd # equivalemt to prod(1:x)\n",
    "\n",
    "# while (condintion) expr\n",
    "while (x > 0) {print(x); x <- x-1;}\n",
    "\n",
    "# repeat expr, use break to exit the loop\n",
    "repeat { print(x); x <- x+1; if (x>10) break}"
   ]
  },
  {
   "cell_type": "code",
   "execution_count": 11,
   "metadata": {},
   "outputs": [
    {
     "data": {
      "text/html": [
       "'#0A6464'"
      ],
      "text/latex": [
       "'\\#0A6464'"
      ],
      "text/markdown": [
       "'#0A6464'"
      ],
      "text/plain": [
       "[1] \"#0A6464\""
      ]
     },
     "metadata": {},
     "output_type": "display_data"
    },
    {
     "data": {
      "image/png": "[encoded data removed]",
      "text/plain": [
       "plot without title"
      ]
     },
     "metadata": {
      "image/png": {
       "height": 420,
       "width": 420
      }
     },
     "output_type": "display_data"
    },
    {
     "data": {
      "image/png": "[encoded data removed]",
      "text/plain": [
       "plot without title"
      ]
     },
     "metadata": {
      "image/png": {
       "height": 420,
       "width": 420
      }
     },
     "output_type": "display_data"
    },
    {
     "data": {
      "text/html": [
       "<style>\n",
       ".list-inline {list-style: none; margin:0; padding: 0}\n",
       ".list-inline>li {display: inline-block}\n",
       ".list-inline>li:not(:last-child)::after {content: \"\\00b7\"; padding: 0 .5ex}\n",
       "</style>\n",
       "<ol class=list-inline><li>'white'</li><li>'aliceblue'</li><li>'antiquewhite'</li><li>'antiquewhite1'</li><li>'antiquewhite2'</li><li>'antiquewhite3'</li><li>'antiquewhite4'</li><li>'aquamarine'</li><li>'aquamarine1'</li><li>'aquamarine2'</li><li>'aquamarine3'</li><li>'aquamarine4'</li><li>'azure'</li><li>'azure1'</li><li>'azure2'</li><li>'azure3'</li><li>'azure4'</li><li>'beige'</li><li>'bisque'</li><li>'bisque1'</li><li>'bisque2'</li><li>'bisque3'</li><li>'bisque4'</li><li>'black'</li><li>'blanchedalmond'</li><li>'blue'</li><li>'blue1'</li><li>'blue2'</li><li>'blue3'</li><li>'blue4'</li><li>'blueviolet'</li><li>'brown'</li><li>'brown1'</li><li>'brown2'</li><li>'brown3'</li><li>'brown4'</li><li>'burlywood'</li><li>'burlywood1'</li><li>'burlywood2'</li><li>'burlywood3'</li><li>'burlywood4'</li><li>'cadetblue'</li><li>'cadetblue1'</li><li>'cadetblue2'</li><li>'cadetblue3'</li><li>'cadetblue4'</li><li>'chartreuse'</li><li>'chartreuse1'</li><li>'chartreuse2'</li><li>'chartreuse3'</li><li>'chartreuse4'</li><li>'chocolate'</li><li>'chocolate1'</li><li>'chocolate2'</li><li>'chocolate3'</li><li>'chocolate4'</li><li>'coral'</li><li>'coral1'</li><li>'coral2'</li><li>'coral3'</li><li>'coral4'</li><li>'cornflowerblue'</li><li>'cornsilk'</li><li>'cornsilk1'</li><li>'cornsilk2'</li><li>'cornsilk3'</li><li>'cornsilk4'</li><li>'cyan'</li><li>'cyan1'</li><li>'cyan2'</li><li>'cyan3'</li><li>'cyan4'</li><li>'darkblue'</li><li>'darkcyan'</li><li>'darkgoldenrod'</li><li>'darkgoldenrod1'</li><li>'darkgoldenrod2'</li><li>'darkgoldenrod3'</li><li>'darkgoldenrod4'</li><li>'darkgray'</li><li>'darkgreen'</li><li>'darkgrey'</li><li>'darkkhaki'</li><li>'darkmagenta'</li><li>'darkolivegreen'</li><li>'darkolivegreen1'</li><li>'darkolivegreen2'</li><li>'darkolivegreen3'</li><li>'darkolivegreen4'</li><li>'darkorange'</li><li>'darkorange1'</li><li>'darkorange2'</li><li>'darkorange3'</li><li>'darkorange4'</li><li>'darkorchid'</li><li>'darkorchid1'</li><li>'darkorchid2'</li><li>'darkorchid3'</li><li>'darkorchid4'</li><li>'darkred'</li><li>'darksalmon'</li><li>'darkseagreen'</li><li>'darkseagreen1'</li><li>'darkseagreen2'</li><li>'darkseagreen3'</li><li>'darkseagreen4'</li><li>'darkslateblue'</li><li>'darkslategray'</li><li>'darkslategray1'</li><li>'darkslategray2'</li><li>'darkslategray3'</li><li>'darkslategray4'</li><li>'darkslategrey'</li><li>'darkturquoise'</li><li>'darkviolet'</li><li>'deeppink'</li><li>'deeppink1'</li><li>'deeppink2'</li><li>'deeppink3'</li><li>'deeppink4'</li><li>'deepskyblue'</li><li>'deepskyblue1'</li><li>'deepskyblue2'</li><li>'deepskyblue3'</li><li>'deepskyblue4'</li><li>'dimgray'</li><li>'dimgrey'</li><li>'dodgerblue'</li><li>'dodgerblue1'</li><li>'dodgerblue2'</li><li>'dodgerblue3'</li><li>'dodgerblue4'</li><li>'firebrick'</li><li>'firebrick1'</li><li>'firebrick2'</li><li>'firebrick3'</li><li>'firebrick4'</li><li>'floralwhite'</li><li>'forestgreen'</li><li>'gainsboro'</li><li>'ghostwhite'</li><li>'gold'</li><li>'gold1'</li><li>'gold2'</li><li>'gold3'</li><li>'gold4'</li><li>'goldenrod'</li><li>'goldenrod1'</li><li>'goldenrod2'</li><li>'goldenrod3'</li><li>'goldenrod4'</li><li>'gray'</li><li>'gray0'</li><li>'gray1'</li><li>'gray2'</li><li>'gray3'</li><li>'gray4'</li><li>'gray5'</li><li>'gray6'</li><li>'gray7'</li><li>'gray8'</li><li>'gray9'</li><li>'gray10'</li><li>'gray11'</li><li>'gray12'</li><li>'gray13'</li><li>'gray14'</li><li>'gray15'</li><li>'gray16'</li><li>'gray17'</li><li>'gray18'</li><li>'gray19'</li><li>'gray20'</li><li>'gray21'</li><li>'gray22'</li><li>'gray23'</li><li>'gray24'</li><li>'gray25'</li><li>'gray26'</li><li>'gray27'</li><li>'gray28'</li><li>'gray29'</li><li>'gray30'</li><li>'gray31'</li><li>'gray32'</li><li>'gray33'</li><li>'gray34'</li><li>'gray35'</li><li>'gray36'</li><li>'gray37'</li><li>'gray38'</li><li>'gray39'</li><li>'gray40'</li><li>'gray41'</li><li>'gray42'</li><li>'gray43'</li><li>'gray44'</li><li>'gray45'</li><li>'gray46'</li><li>'gray47'</li><li>⋯</li><li>'maroon3'</li><li>'maroon4'</li><li>'mediumaquamarine'</li><li>'mediumblue'</li><li>'mediumorchid'</li><li>'mediumorchid1'</li><li>'mediumorchid2'</li><li>'mediumorchid3'</li><li>'mediumorchid4'</li><li>'mediumpurple'</li><li>'mediumpurple1'</li><li>'mediumpurple2'</li><li>'mediumpurple3'</li><li>'mediumpurple4'</li><li>'mediumseagreen'</li><li>'mediumslateblue'</li><li>'mediumspringgreen'</li><li>'mediumturquoise'</li><li>'mediumvioletred'</li><li>'midnightblue'</li><li>'mintcream'</li><li>'mistyrose'</li><li>'mistyrose1'</li><li>'mistyrose2'</li><li>'mistyrose3'</li><li>'mistyrose4'</li><li>'moccasin'</li><li>'navajowhite'</li><li>'navajowhite1'</li><li>'navajowhite2'</li><li>'navajowhite3'</li><li>'navajowhite4'</li><li>'navy'</li><li>'navyblue'</li><li>'oldlace'</li><li>'olivedrab'</li><li>'olivedrab1'</li><li>'olivedrab2'</li><li>'olivedrab3'</li><li>'olivedrab4'</li><li>'orange'</li><li>'orange1'</li><li>'orange2'</li><li>'orange3'</li><li>'orange4'</li><li>'orangered'</li><li>'orangered1'</li><li>'orangered2'</li><li>'orangered3'</li><li>'orangered4'</li><li>'orchid'</li><li>'orchid1'</li><li>'orchid2'</li><li>'orchid3'</li><li>'orchid4'</li><li>'palegoldenrod'</li><li>'palegreen'</li><li>'palegreen1'</li><li>'palegreen2'</li><li>'palegreen3'</li><li>'palegreen4'</li><li>'paleturquoise'</li><li>'paleturquoise1'</li><li>'paleturquoise2'</li><li>'paleturquoise3'</li><li>'paleturquoise4'</li><li>'palevioletred'</li><li>'palevioletred1'</li><li>'palevioletred2'</li><li>'palevioletred3'</li><li>'palevioletred4'</li><li>'papayawhip'</li><li>'peachpuff'</li><li>'peachpuff1'</li><li>'peachpuff2'</li><li>'peachpuff3'</li><li>'peachpuff4'</li><li>'peru'</li><li>'pink'</li><li>'pink1'</li><li>'pink2'</li><li>'pink3'</li><li>'pink4'</li><li>'plum'</li><li>'plum1'</li><li>'plum2'</li><li>'plum3'</li><li>'plum4'</li><li>'powderblue'</li><li>'purple'</li><li>'purple1'</li><li>'purple2'</li><li>'purple3'</li><li>'purple4'</li><li>'red'</li><li>'red1'</li><li>'red2'</li><li>'red3'</li><li>'red4'</li><li>'rosybrown'</li><li>'rosybrown1'</li><li>'rosybrown2'</li><li>'rosybrown3'</li><li>'rosybrown4'</li><li>'royalblue'</li><li>'royalblue1'</li><li>'royalblue2'</li><li>'royalblue3'</li><li>'royalblue4'</li><li>'saddlebrown'</li><li>'salmon'</li><li>'salmon1'</li><li>'salmon2'</li><li>'salmon3'</li><li>'salmon4'</li><li>'sandybrown'</li><li>'seagreen'</li><li>'seagreen1'</li><li>'seagreen2'</li><li>'seagreen3'</li><li>'seagreen4'</li><li>'seashell'</li><li>'seashell1'</li><li>'seashell2'</li><li>'seashell3'</li><li>'seashell4'</li><li>'sienna'</li><li>'sienna1'</li><li>'sienna2'</li><li>'sienna3'</li><li>'sienna4'</li><li>'skyblue'</li><li>'skyblue1'</li><li>'skyblue2'</li><li>'skyblue3'</li><li>'skyblue4'</li><li>'slateblue'</li><li>'slateblue1'</li><li>'slateblue2'</li><li>'slateblue3'</li><li>'slateblue4'</li><li>'slategray'</li><li>'slategray1'</li><li>'slategray2'</li><li>'slategray3'</li><li>'slategray4'</li><li>'slategrey'</li><li>'snow'</li><li>'snow1'</li><li>'snow2'</li><li>'snow3'</li><li>'snow4'</li><li>'springgreen'</li><li>'springgreen1'</li><li>'springgreen2'</li><li>'springgreen3'</li><li>'springgreen4'</li><li>'steelblue'</li><li>'steelblue1'</li><li>'steelblue2'</li><li>'steelblue3'</li><li>'steelblue4'</li><li>'tan'</li><li>'tan1'</li><li>'tan2'</li><li>'tan3'</li><li>'tan4'</li><li>'thistle'</li><li>'thistle1'</li><li>'thistle2'</li><li>'thistle3'</li><li>'thistle4'</li><li>'tomato'</li><li>'tomato1'</li><li>'tomato2'</li><li>'tomato3'</li><li>'tomato4'</li><li>'turquoise'</li><li>'turquoise1'</li><li>'turquoise2'</li><li>'turquoise3'</li><li>'turquoise4'</li><li>'violet'</li><li>'violetred'</li><li>'violetred1'</li><li>'violetred2'</li><li>'violetred3'</li><li>'violetred4'</li><li>'wheat'</li><li>'wheat1'</li><li>'wheat2'</li><li>'wheat3'</li><li>'wheat4'</li><li>'whitesmoke'</li><li>'yellow'</li><li>'yellow1'</li><li>'yellow2'</li><li>'yellow3'</li><li>'yellow4'</li><li>'yellowgreen'</li></ol>\n"
      ],
      "text/latex": [
       "\\begin{enumerate*}\n",
       "\\item 'white'\n",
       "\\item 'aliceblue'\n",
       "\\item 'antiquewhite'\n",
       "\\item 'antiquewhite1'\n",
       "\\item 'antiquewhite2'\n",
       "\\item 'antiquewhite3'\n",
       "\\item 'antiquewhite4'\n",
       "\\item 'aquamarine'\n",
       "\\item 'aquamarine1'\n",
       "\\item 'aquamarine2'\n",
       "\\item 'aquamarine3'\n",
       "\\item 'aquamarine4'\n",
       "\\item 'azure'\n",
       "\\item 'azure1'\n",
       "\\item 'azure2'\n",
       "\\item 'azure3'\n",
       "\\item 'azure4'\n",
       "\\item 'beige'\n",
       "\\item 'bisque'\n",
       "\\item 'bisque1'\n",
       "\\item 'bisque2'\n",
       "\\item 'bisque3'\n",
       "\\item 'bisque4'\n",
       "\\item 'black'\n",
       "\\item 'blanchedalmond'\n",
       "\\item 'blue'\n",
       "\\item 'blue1'\n",
       "\\item 'blue2'\n",
       "\\item 'blue3'\n",
       "\\item 'blue4'\n",
       "\\item 'blueviolet'\n",
       "\\item 'brown'\n",
       "\\item 'brown1'\n",
       "\\item 'brown2'\n",
       "\\item 'brown3'\n",
       "\\item 'brown4'\n",
       "\\item 'burlywood'\n",
       "\\item 'burlywood1'\n",
       "\\item 'burlywood2'\n",
       "\\item 'burlywood3'\n",
       "\\item 'burlywood4'\n",
       "\\item 'cadetblue'\n",
       "\\item 'cadetblue1'\n",
       "\\item 'cadetblue2'\n",
       "\\item 'cadetblue3'\n",
       "\\item 'cadetblue4'\n",
       "\\item 'chartreuse'\n",
       "\\item 'chartreuse1'\n",
       "\\item 'chartreuse2'\n",
       "\\item 'chartreuse3'\n",
       "\\item 'chartreuse4'\n",
       "\\item 'chocolate'\n",
       "\\item 'chocolate1'\n",
       "\\item 'chocolate2'\n",
       "\\item 'chocolate3'\n",
       "\\item 'chocolate4'\n",
       "\\item 'coral'\n",
       "\\item 'coral1'\n",
       "\\item 'coral2'\n",
       "\\item 'coral3'\n",
       "\\item 'coral4'\n",
       "\\item 'cornflowerblue'\n",
       "\\item 'cornsilk'\n",
       "\\item 'cornsilk1'\n",
       "\\item 'cornsilk2'\n",
       "\\item 'cornsilk3'\n",
       "\\item 'cornsilk4'\n",
       "\\item 'cyan'\n",
       "\\item 'cyan1'\n",
       "\\item 'cyan2'\n",
       "\\item 'cyan3'\n",
       "\\item 'cyan4'\n",
       "\\item 'darkblue'\n",
       "\\item 'darkcyan'\n",
       "\\item 'darkgoldenrod'\n",
       "\\item 'darkgoldenrod1'\n",
       "\\item 'darkgoldenrod2'\n",
       "\\item 'darkgoldenrod3'\n",
       "\\item 'darkgoldenrod4'\n",
       "\\item 'darkgray'\n",
       "\\item 'darkgreen'\n",
       "\\item 'darkgrey'\n",
       "\\item 'darkkhaki'\n",
       "\\item 'darkmagenta'\n",
       "\\item 'darkolivegreen'\n",
       "\\item 'darkolivegreen1'\n",
       "\\item 'darkolivegreen2'\n",
       "\\item 'darkolivegreen3'\n",
       "\\item 'darkolivegreen4'\n",
       "\\item 'darkorange'\n",
       "\\item 'darkorange1'\n",
       "\\item 'darkorange2'\n",
       "\\item 'darkorange3'\n",
       "\\item 'darkorange4'\n",
       "\\item 'darkorchid'\n",
       "\\item 'darkorchid1'\n",
       "\\item 'darkorchid2'\n",
       "\\item 'darkorchid3'\n",
       "\\item 'darkorchid4'\n",
       "\\item 'darkred'\n",
       "\\item 'darksalmon'\n",
       "\\item 'darkseagreen'\n",
       "\\item 'darkseagreen1'\n",
       "\\item 'darkseagreen2'\n",
       "\\item 'darkseagreen3'\n",
       "\\item 'darkseagreen4'\n",
       "\\item 'darkslateblue'\n",
       "\\item 'darkslategray'\n",
       "\\item 'darkslategray1'\n",
       "\\item 'darkslategray2'\n",
       "\\item 'darkslategray3'\n",
       "\\item 'darkslategray4'\n",
       "\\item 'darkslategrey'\n",
       "\\item 'darkturquoise'\n",
       "\\item 'darkviolet'\n",
       "\\item 'deeppink'\n",
       "\\item 'deeppink1'\n",
       "\\item 'deeppink2'\n",
       "\\item 'deeppink3'\n",
       "\\item 'deeppink4'\n",
       "\\item 'deepskyblue'\n",
       "\\item 'deepskyblue1'\n",
       "\\item 'deepskyblue2'\n",
       "\\item 'deepskyblue3'\n",
       "\\item 'deepskyblue4'\n",
       "\\item 'dimgray'\n",
       "\\item 'dimgrey'\n",
       "\\item 'dodgerblue'\n",
       "\\item 'dodgerblue1'\n",
       "\\item 'dodgerblue2'\n",
       "\\item 'dodgerblue3'\n",
       "\\item 'dodgerblue4'\n",
       "\\item 'firebrick'\n",
       "\\item 'firebrick1'\n",
       "\\item 'firebrick2'\n",
       "\\item 'firebrick3'\n",
       "\\item 'firebrick4'\n",
       "\\item 'floralwhite'\n",
       "\\item 'forestgreen'\n",
       "\\item 'gainsboro'\n",
       "\\item 'ghostwhite'\n",
       "\\item 'gold'\n",
       "\\item 'gold1'\n",
       "\\item 'gold2'\n",
       "\\item 'gold3'\n",
       "\\item 'gold4'\n",
       "\\item 'goldenrod'\n",
       "\\item 'goldenrod1'\n",
       "\\item 'goldenrod2'\n",
       "\\item 'goldenrod3'\n",
       "\\item 'goldenrod4'\n",
       "\\item 'gray'\n",
       "\\item 'gray0'\n",
       "\\item 'gray1'\n",
       "\\item 'gray2'\n",
       "\\item 'gray3'\n",
       "\\item 'gray4'\n",
       "\\item 'gray5'\n",
       "\\item 'gray6'\n",
       "\\item 'gray7'\n",
       "\\item 'gray8'\n",
       "\\item 'gray9'\n",
       "\\item 'gray10'\n",
       "\\item 'gray11'\n",
       "\\item 'gray12'\n",
       "\\item 'gray13'\n",
       "\\item 'gray14'\n",
       "\\item 'gray15'\n",
       "\\item 'gray16'\n",
       "\\item 'gray17'\n",
       "\\item 'gray18'\n",
       "\\item 'gray19'\n",
       "\\item 'gray20'\n",
       "\\item 'gray21'\n",
       "\\item 'gray22'\n",
       "\\item 'gray23'\n",
       "\\item 'gray24'\n",
       "\\item 'gray25'\n",
       "\\item 'gray26'\n",
       "\\item 'gray27'\n",
       "\\item 'gray28'\n",
       "\\item 'gray29'\n",
       "\\item 'gray30'\n",
       "\\item 'gray31'\n",
       "\\item 'gray32'\n",
       "\\item 'gray33'\n",
       "\\item 'gray34'\n",
       "\\item 'gray35'\n",
       "\\item 'gray36'\n",
       "\\item 'gray37'\n",
       "\\item 'gray38'\n",
       "\\item 'gray39'\n",
       "\\item 'gray40'\n",
       "\\item 'gray41'\n",
       "\\item 'gray42'\n",
       "\\item 'gray43'\n",
       "\\item 'gray44'\n",
       "\\item 'gray45'\n",
       "\\item 'gray46'\n",
       "\\item 'gray47'\n",
       "\\item ⋯\n",
       "\\item 'maroon3'\n",
       "\\item 'maroon4'\n",
       "\\item 'mediumaquamarine'\n",
       "\\item 'mediumblue'\n",
       "\\item 'mediumorchid'\n",
       "\\item 'mediumorchid1'\n",
       "\\item 'mediumorchid2'\n",
       "\\item 'mediumorchid3'\n",
       "\\item 'mediumorchid4'\n",
       "\\item 'mediumpurple'\n",
       "\\item 'mediumpurple1'\n",
       "\\item 'mediumpurple2'\n",
       "\\item 'mediumpurple3'\n",
       "\\item 'mediumpurple4'\n",
       "\\item 'mediumseagreen'\n",
       "\\item 'mediumslateblue'\n",
       "\\item 'mediumspringgreen'\n",
       "\\item 'mediumturquoise'\n",
       "\\item 'mediumvioletred'\n",
       "\\item 'midnightblue'\n",
       "\\item 'mintcream'\n",
       "\\item 'mistyrose'\n",
       "\\item 'mistyrose1'\n",
       "\\item 'mistyrose2'\n",
       "\\item 'mistyrose3'\n",
       "\\item 'mistyrose4'\n",
       "\\item 'moccasin'\n",
       "\\item 'navajowhite'\n",
       "\\item 'navajowhite1'\n",
       "\\item 'navajowhite2'\n",
       "\\item 'navajowhite3'\n",
       "\\item 'navajowhite4'\n",
       "\\item 'navy'\n",
       "\\item 'navyblue'\n",
       "\\item 'oldlace'\n",
       "\\item 'olivedrab'\n",
       "\\item 'olivedrab1'\n",
       "\\item 'olivedrab2'\n",
       "\\item 'olivedrab3'\n",
       "\\item 'olivedrab4'\n",
       "\\item 'orange'\n",
       "\\item 'orange1'\n",
       "\\item 'orange2'\n",
       "\\item 'orange3'\n",
       "\\item 'orange4'\n",
       "\\item 'orangered'\n",
       "\\item 'orangered1'\n",
       "\\item 'orangered2'\n",
       "\\item 'orangered3'\n",
       "\\item 'orangered4'\n",
       "\\item 'orchid'\n",
       "\\item 'orchid1'\n",
       "\\item 'orchid2'\n",
       "\\item 'orchid3'\n",
       "\\item 'orchid4'\n",
       "\\item 'palegoldenrod'\n",
       "\\item 'palegreen'\n",
       "\\item 'palegreen1'\n",
       "\\item 'palegreen2'\n",
       "\\item 'palegreen3'\n",
       "\\item 'palegreen4'\n",
       "\\item 'paleturquoise'\n",
       "\\item 'paleturquoise1'\n",
       "\\item 'paleturquoise2'\n",
       "\\item 'paleturquoise3'\n",
       "\\item 'paleturquoise4'\n",
       "\\item 'palevioletred'\n",
       "\\item 'palevioletred1'\n",
       "\\item 'palevioletred2'\n",
       "\\item 'palevioletred3'\n",
       "\\item 'palevioletred4'\n",
       "\\item 'papayawhip'\n",
       "\\item 'peachpuff'\n",
       "\\item 'peachpuff1'\n",
       "\\item 'peachpuff2'\n",
       "\\item 'peachpuff3'\n",
       "\\item 'peachpuff4'\n",
       "\\item 'peru'\n",
       "\\item 'pink'\n",
       "\\item 'pink1'\n",
       "\\item 'pink2'\n",
       "\\item 'pink3'\n",
       "\\item 'pink4'\n",
       "\\item 'plum'\n",
       "\\item 'plum1'\n",
       "\\item 'plum2'\n",
       "\\item 'plum3'\n",
       "\\item 'plum4'\n",
       "\\item 'powderblue'\n",
       "\\item 'purple'\n",
       "\\item 'purple1'\n",
       "\\item 'purple2'\n",
       "\\item 'purple3'\n",
       "\\item 'purple4'\n",
       "\\item 'red'\n",
       "\\item 'red1'\n",
       "\\item 'red2'\n",
       "\\item 'red3'\n",
       "\\item 'red4'\n",
       "\\item 'rosybrown'\n",
       "\\item 'rosybrown1'\n",
       "\\item 'rosybrown2'\n",
       "\\item 'rosybrown3'\n",
       "\\item 'rosybrown4'\n",
       "\\item 'royalblue'\n",
       "\\item 'royalblue1'\n",
       "\\item 'royalblue2'\n",
       "\\item 'royalblue3'\n",
       "\\item 'royalblue4'\n",
       "\\item 'saddlebrown'\n",
       "\\item 'salmon'\n",
       "\\item 'salmon1'\n",
       "\\item 'salmon2'\n",
       "\\item 'salmon3'\n",
       "\\item 'salmon4'\n",
       "\\item 'sandybrown'\n",
       "\\item 'seagreen'\n",
       "\\item 'seagreen1'\n",
       "\\item 'seagreen2'\n",
       "\\item 'seagreen3'\n",
       "\\item 'seagreen4'\n",
       "\\item 'seashell'\n",
       "\\item 'seashell1'\n",
       "\\item 'seashell2'\n",
       "\\item 'seashell3'\n",
       "\\item 'seashell4'\n",
       "\\item 'sienna'\n",
       "\\item 'sienna1'\n",
       "\\item 'sienna2'\n",
       "\\item 'sienna3'\n",
       "\\item 'sienna4'\n",
       "\\item 'skyblue'\n",
       "\\item 'skyblue1'\n",
       "\\item 'skyblue2'\n",
       "\\item 'skyblue3'\n",
       "\\item 'skyblue4'\n",
       "\\item 'slateblue'\n",
       "\\item 'slateblue1'\n",
       "\\item 'slateblue2'\n",
       "\\item 'slateblue3'\n",
       "\\item 'slateblue4'\n",
       "\\item 'slategray'\n",
       "\\item 'slategray1'\n",
       "\\item 'slategray2'\n",
       "\\item 'slategray3'\n",
       "\\item 'slategray4'\n",
       "\\item 'slategrey'\n",
       "\\item 'snow'\n",
       "\\item 'snow1'\n",
       "\\item 'snow2'\n",
       "\\item 'snow3'\n",
       "\\item 'snow4'\n",
       "\\item 'springgreen'\n",
       "\\item 'springgreen1'\n",
       "\\item 'springgreen2'\n",
       "\\item 'springgreen3'\n",
       "\\item 'springgreen4'\n",
       "\\item 'steelblue'\n",
       "\\item 'steelblue1'\n",
       "\\item 'steelblue2'\n",
       "\\item 'steelblue3'\n",
       "\\item 'steelblue4'\n",
       "\\item 'tan'\n",
       "\\item 'tan1'\n",
       "\\item 'tan2'\n",
       "\\item 'tan3'\n",
       "\\item 'tan4'\n",
       "\\item 'thistle'\n",
       "\\item 'thistle1'\n",
       "\\item 'thistle2'\n",
       "\\item 'thistle3'\n",
       "\\item 'thistle4'\n",
       "\\item 'tomato'\n",
       "\\item 'tomato1'\n",
       "\\item 'tomato2'\n",
       "\\item 'tomato3'\n",
       "\\item 'tomato4'\n",
       "\\item 'turquoise'\n",
       "\\item 'turquoise1'\n",
       "\\item 'turquoise2'\n",
       "\\item 'turquoise3'\n",
       "\\item 'turquoise4'\n",
       "\\item 'violet'\n",
       "\\item 'violetred'\n",
       "\\item 'violetred1'\n",
       "\\item 'violetred2'\n",
       "\\item 'violetred3'\n",
       "\\item 'violetred4'\n",
       "\\item 'wheat'\n",
       "\\item 'wheat1'\n",
       "\\item 'wheat2'\n",
       "\\item 'wheat3'\n",
       "\\item 'wheat4'\n",
       "\\item 'whitesmoke'\n",
       "\\item 'yellow'\n",
       "\\item 'yellow1'\n",
       "\\item 'yellow2'\n",
       "\\item 'yellow3'\n",
       "\\item 'yellow4'\n",
       "\\item 'yellowgreen'\n",
       "\\end{enumerate*}\n"
      ],
      "text/markdown": [
       "1. 'white'\n",
       "2. 'aliceblue'\n",
       "3. 'antiquewhite'\n",
       "4. 'antiquewhite1'\n",
       "5. 'antiquewhite2'\n",
       "6. 'antiquewhite3'\n",
       "7. 'antiquewhite4'\n",
       "8. 'aquamarine'\n",
       "9. 'aquamarine1'\n",
       "10. 'aquamarine2'\n",
       "11. 'aquamarine3'\n",
       "12. 'aquamarine4'\n",
       "13. 'azure'\n",
       "14. 'azure1'\n",
       "15. 'azure2'\n",
       "16. 'azure3'\n",
       "17. 'azure4'\n",
       "18. 'beige'\n",
       "19. 'bisque'\n",
       "20. 'bisque1'\n",
       "21. 'bisque2'\n",
       "22. 'bisque3'\n",
       "23. 'bisque4'\n",
       "24. 'black'\n",
       "25. 'blanchedalmond'\n",
       "26. 'blue'\n",
       "27. 'blue1'\n",
       "28. 'blue2'\n",
       "29. 'blue3'\n",
       "30. 'blue4'\n",
       "31. 'blueviolet'\n",
       "32. 'brown'\n",
       "33. 'brown1'\n",
       "34. 'brown2'\n",
       "35. 'brown3'\n",
       "36. 'brown4'\n",
       "37. 'burlywood'\n",
       "38. 'burlywood1'\n",
       "39. 'burlywood2'\n",
       "40. 'burlywood3'\n",
       "41. 'burlywood4'\n",
       "42. 'cadetblue'\n",
       "43. 'cadetblue1'\n",
       "44. 'cadetblue2'\n",
       "45. 'cadetblue3'\n",
       "46. 'cadetblue4'\n",
       "47. 'chartreuse'\n",
       "48. 'chartreuse1'\n",
       "49. 'chartreuse2'\n",
       "50. 'chartreuse3'\n",
       "51. 'chartreuse4'\n",
       "52. 'chocolate'\n",
       "53. 'chocolate1'\n",
       "54. 'chocolate2'\n",
       "55. 'chocolate3'\n",
       "56. 'chocolate4'\n",
       "57. 'coral'\n",
       "58. 'coral1'\n",
       "59. 'coral2'\n",
       "60. 'coral3'\n",
       "61. 'coral4'\n",
       "62. 'cornflowerblue'\n",
       "63. 'cornsilk'\n",
       "64. 'cornsilk1'\n",
       "65. 'cornsilk2'\n",
       "66. 'cornsilk3'\n",
       "67. 'cornsilk4'\n",
       "68. 'cyan'\n",
       "69. 'cyan1'\n",
       "70. 'cyan2'\n",
       "71. 'cyan3'\n",
       "72. 'cyan4'\n",
       "73. 'darkblue'\n",
       "74. 'darkcyan'\n",
       "75. 'darkgoldenrod'\n",
       "76. 'darkgoldenrod1'\n",
       "77. 'darkgoldenrod2'\n",
       "78. 'darkgoldenrod3'\n",
       "79. 'darkgoldenrod4'\n",
       "80. 'darkgray'\n",
       "81. 'darkgreen'\n",
       "82. 'darkgrey'\n",
       "83. 'darkkhaki'\n",
       "84. 'darkmagenta'\n",
       "85. 'darkolivegreen'\n",
       "86. 'darkolivegreen1'\n",
       "87. 'darkolivegreen2'\n",
       "88. 'darkolivegreen3'\n",
       "89. 'darkolivegreen4'\n",
       "90. 'darkorange'\n",
       "91. 'darkorange1'\n",
       "92. 'darkorange2'\n",
       "93. 'darkorange3'\n",
       "94. 'darkorange4'\n",
       "95. 'darkorchid'\n",
       "96. 'darkorchid1'\n",
       "97. 'darkorchid2'\n",
       "98. 'darkorchid3'\n",
       "99. 'darkorchid4'\n",
       "100. 'darkred'\n",
       "101. 'darksalmon'\n",
       "102. 'darkseagreen'\n",
       "103. 'darkseagreen1'\n",
       "104. 'darkseagreen2'\n",
       "105. 'darkseagreen3'\n",
       "106. 'darkseagreen4'\n",
       "107. 'darkslateblue'\n",
       "108. 'darkslategray'\n",
       "109. 'darkslategray1'\n",
       "110. 'darkslategray2'\n",
       "111. 'darkslategray3'\n",
       "112. 'darkslategray4'\n",
       "113. 'darkslategrey'\n",
       "114. 'darkturquoise'\n",
       "115. 'darkviolet'\n",
       "116. 'deeppink'\n",
       "117. 'deeppink1'\n",
       "118. 'deeppink2'\n",
       "119. 'deeppink3'\n",
       "120. 'deeppink4'\n",
       "121. 'deepskyblue'\n",
       "122. 'deepskyblue1'\n",
       "123. 'deepskyblue2'\n",
       "124. 'deepskyblue3'\n",
       "125. 'deepskyblue4'\n",
       "126. 'dimgray'\n",
       "127. 'dimgrey'\n",
       "128. 'dodgerblue'\n",
       "129. 'dodgerblue1'\n",
       "130. 'dodgerblue2'\n",
       "131. 'dodgerblue3'\n",
       "132. 'dodgerblue4'\n",
       "133. 'firebrick'\n",
       "134. 'firebrick1'\n",
       "135. 'firebrick2'\n",
       "136. 'firebrick3'\n",
       "137. 'firebrick4'\n",
       "138. 'floralwhite'\n",
       "139. 'forestgreen'\n",
       "140. 'gainsboro'\n",
       "141. 'ghostwhite'\n",
       "142. 'gold'\n",
       "143. 'gold1'\n",
       "144. 'gold2'\n",
       "145. 'gold3'\n",
       "146. 'gold4'\n",
       "147. 'goldenrod'\n",
       "148. 'goldenrod1'\n",
       "149. 'goldenrod2'\n",
       "150. 'goldenrod3'\n",
       "151. 'goldenrod4'\n",
       "152. 'gray'\n",
       "153. 'gray0'\n",
       "154. 'gray1'\n",
       "155. 'gray2'\n",
       "156. 'gray3'\n",
       "157. 'gray4'\n",
       "158. 'gray5'\n",
       "159. 'gray6'\n",
       "160. 'gray7'\n",
       "161. 'gray8'\n",
       "162. 'gray9'\n",
       "163. 'gray10'\n",
       "164. 'gray11'\n",
       "165. 'gray12'\n",
       "166. 'gray13'\n",
       "167. 'gray14'\n",
       "168. 'gray15'\n",
       "169. 'gray16'\n",
       "170. 'gray17'\n",
       "171. 'gray18'\n",
       "172. 'gray19'\n",
       "173. 'gray20'\n",
       "174. 'gray21'\n",
       "175. 'gray22'\n",
       "176. 'gray23'\n",
       "177. 'gray24'\n",
       "178. 'gray25'\n",
       "179. 'gray26'\n",
       "180. 'gray27'\n",
       "181. 'gray28'\n",
       "182. 'gray29'\n",
       "183. 'gray30'\n",
       "184. 'gray31'\n",
       "185. 'gray32'\n",
       "186. 'gray33'\n",
       "187. 'gray34'\n",
       "188. 'gray35'\n",
       "189. 'gray36'\n",
       "190. 'gray37'\n",
       "191. 'gray38'\n",
       "192. 'gray39'\n",
       "193. 'gray40'\n",
       "194. 'gray41'\n",
       "195. 'gray42'\n",
       "196. 'gray43'\n",
       "197. 'gray44'\n",
       "198. 'gray45'\n",
       "199. 'gray46'\n",
       "200. 'gray47'\n",
       "201. ⋯\n",
       "202. 'maroon3'\n",
       "203. 'maroon4'\n",
       "204. 'mediumaquamarine'\n",
       "205. 'mediumblue'\n",
       "206. 'mediumorchid'\n",
       "207. 'mediumorchid1'\n",
       "208. 'mediumorchid2'\n",
       "209. 'mediumorchid3'\n",
       "210. 'mediumorchid4'\n",
       "211. 'mediumpurple'\n",
       "212. 'mediumpurple1'\n",
       "213. 'mediumpurple2'\n",
       "214. 'mediumpurple3'\n",
       "215. 'mediumpurple4'\n",
       "216. 'mediumseagreen'\n",
       "217. 'mediumslateblue'\n",
       "218. 'mediumspringgreen'\n",
       "219. 'mediumturquoise'\n",
       "220. 'mediumvioletred'\n",
       "221. 'midnightblue'\n",
       "222. 'mintcream'\n",
       "223. 'mistyrose'\n",
       "224. 'mistyrose1'\n",
       "225. 'mistyrose2'\n",
       "226. 'mistyrose3'\n",
       "227. 'mistyrose4'\n",
       "228. 'moccasin'\n",
       "229. 'navajowhite'\n",
       "230. 'navajowhite1'\n",
       "231. 'navajowhite2'\n",
       "232. 'navajowhite3'\n",
       "233. 'navajowhite4'\n",
       "234. 'navy'\n",
       "235. 'navyblue'\n",
       "236. 'oldlace'\n",
       "237. 'olivedrab'\n",
       "238. 'olivedrab1'\n",
       "239. 'olivedrab2'\n",
       "240. 'olivedrab3'\n",
       "241. 'olivedrab4'\n",
       "242. 'orange'\n",
       "243. 'orange1'\n",
       "244. 'orange2'\n",
       "245. 'orange3'\n",
       "246. 'orange4'\n",
       "247. 'orangered'\n",
       "248. 'orangered1'\n",
       "249. 'orangered2'\n",
       "250. 'orangered3'\n",
       "251. 'orangered4'\n",
       "252. 'orchid'\n",
       "253. 'orchid1'\n",
       "254. 'orchid2'\n",
       "255. 'orchid3'\n",
       "256. 'orchid4'\n",
       "257. 'palegoldenrod'\n",
       "258. 'palegreen'\n",
       "259. 'palegreen1'\n",
       "260. 'palegreen2'\n",
       "261. 'palegreen3'\n",
       "262. 'palegreen4'\n",
       "263. 'paleturquoise'\n",
       "264. 'paleturquoise1'\n",
       "265. 'paleturquoise2'\n",
       "266. 'paleturquoise3'\n",
       "267. 'paleturquoise4'\n",
       "268. 'palevioletred'\n",
       "269. 'palevioletred1'\n",
       "270. 'palevioletred2'\n",
       "271. 'palevioletred3'\n",
       "272. 'palevioletred4'\n",
       "273. 'papayawhip'\n",
       "274. 'peachpuff'\n",
       "275. 'peachpuff1'\n",
       "276. 'peachpuff2'\n",
       "277. 'peachpuff3'\n",
       "278. 'peachpuff4'\n",
       "279. 'peru'\n",
       "280. 'pink'\n",
       "281. 'pink1'\n",
       "282. 'pink2'\n",
       "283. 'pink3'\n",
       "284. 'pink4'\n",
       "285. 'plum'\n",
       "286. 'plum1'\n",
       "287. 'plum2'\n",
       "288. 'plum3'\n",
       "289. 'plum4'\n",
       "290. 'powderblue'\n",
       "291. 'purple'\n",
       "292. 'purple1'\n",
       "293. 'purple2'\n",
       "294. 'purple3'\n",
       "295. 'purple4'\n",
       "296. 'red'\n",
       "297. 'red1'\n",
       "298. 'red2'\n",
       "299. 'red3'\n",
       "300. 'red4'\n",
       "301. 'rosybrown'\n",
       "302. 'rosybrown1'\n",
       "303. 'rosybrown2'\n",
       "304. 'rosybrown3'\n",
       "305. 'rosybrown4'\n",
       "306. 'royalblue'\n",
       "307. 'royalblue1'\n",
       "308. 'royalblue2'\n",
       "309. 'royalblue3'\n",
       "310. 'royalblue4'\n",
       "311. 'saddlebrown'\n",
       "312. 'salmon'\n",
       "313. 'salmon1'\n",
       "314. 'salmon2'\n",
       "315. 'salmon3'\n",
       "316. 'salmon4'\n",
       "317. 'sandybrown'\n",
       "318. 'seagreen'\n",
       "319. 'seagreen1'\n",
       "320. 'seagreen2'\n",
       "321. 'seagreen3'\n",
       "322. 'seagreen4'\n",
       "323. 'seashell'\n",
       "324. 'seashell1'\n",
       "325. 'seashell2'\n",
       "326. 'seashell3'\n",
       "327. 'seashell4'\n",
       "328. 'sienna'\n",
       "329. 'sienna1'\n",
       "330. 'sienna2'\n",
       "331. 'sienna3'\n",
       "332. 'sienna4'\n",
       "333. 'skyblue'\n",
       "334. 'skyblue1'\n",
       "335. 'skyblue2'\n",
       "336. 'skyblue3'\n",
       "337. 'skyblue4'\n",
       "338. 'slateblue'\n",
       "339. 'slateblue1'\n",
       "340. 'slateblue2'\n",
       "341. 'slateblue3'\n",
       "342. 'slateblue4'\n",
       "343. 'slategray'\n",
       "344. 'slategray1'\n",
       "345. 'slategray2'\n",
       "346. 'slategray3'\n",
       "347. 'slategray4'\n",
       "348. 'slategrey'\n",
       "349. 'snow'\n",
       "350. 'snow1'\n",
       "351. 'snow2'\n",
       "352. 'snow3'\n",
       "353. 'snow4'\n",
       "354. 'springgreen'\n",
       "355. 'springgreen1'\n",
       "356. 'springgreen2'\n",
       "357. 'springgreen3'\n",
       "358. 'springgreen4'\n",
       "359. 'steelblue'\n",
       "360. 'steelblue1'\n",
       "361. 'steelblue2'\n",
       "362. 'steelblue3'\n",
       "363. 'steelblue4'\n",
       "364. 'tan'\n",
       "365. 'tan1'\n",
       "366. 'tan2'\n",
       "367. 'tan3'\n",
       "368. 'tan4'\n",
       "369. 'thistle'\n",
       "370. 'thistle1'\n",
       "371. 'thistle2'\n",
       "372. 'thistle3'\n",
       "373. 'thistle4'\n",
       "374. 'tomato'\n",
       "375. 'tomato1'\n",
       "376. 'tomato2'\n",
       "377. 'tomato3'\n",
       "378. 'tomato4'\n",
       "379. 'turquoise'\n",
       "380. 'turquoise1'\n",
       "381. 'turquoise2'\n",
       "382. 'turquoise3'\n",
       "383. 'turquoise4'\n",
       "384. 'violet'\n",
       "385. 'violetred'\n",
       "386. 'violetred1'\n",
       "387. 'violetred2'\n",
       "388. 'violetred3'\n",
       "389. 'violetred4'\n",
       "390. 'wheat'\n",
       "391. 'wheat1'\n",
       "392. 'wheat2'\n",
       "393. 'wheat3'\n",
       "394. 'wheat4'\n",
       "395. 'whitesmoke'\n",
       "396. 'yellow'\n",
       "397. 'yellow1'\n",
       "398. 'yellow2'\n",
       "399. 'yellow3'\n",
       "400. 'yellow4'\n",
       "401. 'yellowgreen'\n",
       "\n",
       "\n"
      ],
      "text/plain": [
       "  [1] \"white\"                \"aliceblue\"            \"antiquewhite\"        \n",
       "  [4] \"antiquewhite1\"        \"antiquewhite2\"        \"antiquewhite3\"       \n",
       "  [7] \"antiquewhite4\"        \"aquamarine\"           \"aquamarine1\"         \n",
       " [10] \"aquamarine2\"          \"aquamarine3\"          \"aquamarine4\"         \n",
       " [13] \"azure\"                \"azure1\"               \"azure2\"              \n",
       " [16] \"azure3\"               \"azure4\"               \"beige\"               \n",
       " [19] \"bisque\"               \"bisque1\"              \"bisque2\"             \n",
       " [22] \"bisque3\"              \"bisque4\"              \"black\"               \n",
       " [25] \"blanchedalmond\"       \"blue\"                 \"blue1\"               \n",
       " [28] \"blue2\"                \"blue3\"                \"blue4\"               \n",
       " [31] \"blueviolet\"           \"brown\"                \"brown1\"              \n",
       " [34] \"brown2\"               \"brown3\"               \"brown4\"              \n",
       " [37] \"burlywood\"            \"burlywood1\"           \"burlywood2\"          \n",
       " [40] \"burlywood3\"           \"burlywood4\"           \"cadetblue\"           \n",
       " [43] \"cadetblue1\"           \"cadetblue2\"           \"cadetblue3\"          \n",
       " [46] \"cadetblue4\"           \"chartreuse\"           \"chartreuse1\"         \n",
       " [49] \"chartreuse2\"          \"chartreuse3\"          \"chartreuse4\"         \n",
       " [52] \"chocolate\"            \"chocolate1\"           \"chocolate2\"          \n",
       " [55] \"chocolate3\"           \"chocolate4\"           \"coral\"               \n",
       " [58] \"coral1\"               \"coral2\"               \"coral3\"              \n",
       " [61] \"coral4\"               \"cornflowerblue\"       \"cornsilk\"            \n",
       " [64] \"cornsilk1\"            \"cornsilk2\"            \"cornsilk3\"           \n",
       " [67] \"cornsilk4\"            \"cyan\"                 \"cyan1\"               \n",
       " [70] \"cyan2\"                \"cyan3\"                \"cyan4\"               \n",
       " [73] \"darkblue\"             \"darkcyan\"             \"darkgoldenrod\"       \n",
       " [76] \"darkgoldenrod1\"       \"darkgoldenrod2\"       \"darkgoldenrod3\"      \n",
       " [79] \"darkgoldenrod4\"       \"darkgray\"             \"darkgreen\"           \n",
       " [82] \"darkgrey\"             \"darkkhaki\"            \"darkmagenta\"         \n",
       " [85] \"darkolivegreen\"       \"darkolivegreen1\"      \"darkolivegreen2\"     \n",
       " [88] \"darkolivegreen3\"      \"darkolivegreen4\"      \"darkorange\"          \n",
       " [91] \"darkorange1\"          \"darkorange2\"          \"darkorange3\"         \n",
       " [94] \"darkorange4\"          \"darkorchid\"           \"darkorchid1\"         \n",
       " [97] \"darkorchid2\"          \"darkorchid3\"          \"darkorchid4\"         \n",
       "[100] \"darkred\"              \"darksalmon\"           \"darkseagreen\"        \n",
       "[103] \"darkseagreen1\"        \"darkseagreen2\"        \"darkseagreen3\"       \n",
       "[106] \"darkseagreen4\"        \"darkslateblue\"        \"darkslategray\"       \n",
       "[109] \"darkslategray1\"       \"darkslategray2\"       \"darkslategray3\"      \n",
       "[112] \"darkslategray4\"       \"darkslategrey\"        \"darkturquoise\"       \n",
       "[115] \"darkviolet\"           \"deeppink\"             \"deeppink1\"           \n",
       "[118] \"deeppink2\"            \"deeppink3\"            \"deeppink4\"           \n",
       "[121] \"deepskyblue\"          \"deepskyblue1\"         \"deepskyblue2\"        \n",
       "[124] \"deepskyblue3\"         \"deepskyblue4\"         \"dimgray\"             \n",
       "[127] \"dimgrey\"              \"dodgerblue\"           \"dodgerblue1\"         \n",
       "[130] \"dodgerblue2\"          \"dodgerblue3\"          \"dodgerblue4\"         \n",
       "[133] \"firebrick\"            \"firebrick1\"           \"firebrick2\"          \n",
       "[136] \"firebrick3\"           \"firebrick4\"           \"floralwhite\"         \n",
       "[139] \"forestgreen\"          \"gainsboro\"            \"ghostwhite\"          \n",
       "[142] \"gold\"                 \"gold1\"                \"gold2\"               \n",
       "[145] \"gold3\"                \"gold4\"                \"goldenrod\"           \n",
       "[148] \"goldenrod1\"           \"goldenrod2\"           \"goldenrod3\"          \n",
       "[151] \"goldenrod4\"           \"gray\"                 \"gray0\"               \n",
       "[154] \"gray1\"                \"gray2\"                \"gray3\"               \n",
       "[157] \"gray4\"                \"gray5\"                \"gray6\"               \n",
       "[160] \"gray7\"                \"gray8\"                \"gray9\"               \n",
       "[163] \"gray10\"               \"gray11\"               \"gray12\"              \n",
       "[166] \"gray13\"               \"gray14\"               \"gray15\"              \n",
       "[169] \"gray16\"               \"gray17\"               \"gray18\"              \n",
       "[172] \"gray19\"               \"gray20\"               \"gray21\"              \n",
       "[175] \"gray22\"               \"gray23\"               \"gray24\"              \n",
       "[178] \"gray25\"               \"gray26\"               \"gray27\"              \n",
       "[181] \"gray28\"               \"gray29\"               \"gray30\"              \n",
       "[184] \"gray31\"               \"gray32\"               \"gray33\"              \n",
       "[187] \"gray34\"               \"gray35\"               \"gray36\"              \n",
       "[190] \"gray37\"               \"gray38\"               \"gray39\"              \n",
       "[193] \"gray40\"               \"gray41\"               \"gray42\"              \n",
       "[196] \"gray43\"               \"gray44\"               \"gray45\"              \n",
       "[199] \"gray46\"               \"gray47\"               \"gray48\"              \n",
       "[202] \"gray49\"               \"gray50\"               \"gray51\"              \n",
       "[205] \"gray52\"               \"gray53\"               \"gray54\"              \n",
       "[208] \"gray55\"               \"gray56\"               \"gray57\"              \n",
       "[211] \"gray58\"               \"gray59\"               \"gray60\"              \n",
       "[214] \"gray61\"               \"gray62\"               \"gray63\"              \n",
       "[217] \"gray64\"               \"gray65\"               \"gray66\"              \n",
       "[220] \"gray67\"               \"gray68\"               \"gray69\"              \n",
       "[223] \"gray70\"               \"gray71\"               \"gray72\"              \n",
       "[226] \"gray73\"               \"gray74\"               \"gray75\"              \n",
       "[229] \"gray76\"               \"gray77\"               \"gray78\"              \n",
       "[232] \"gray79\"               \"gray80\"               \"gray81\"              \n",
       "[235] \"gray82\"               \"gray83\"               \"gray84\"              \n",
       "[238] \"gray85\"               \"gray86\"               \"gray87\"              \n",
       "[241] \"gray88\"               \"gray89\"               \"gray90\"              \n",
       "[244] \"gray91\"               \"gray92\"               \"gray93\"              \n",
       "[247] \"gray94\"               \"gray95\"               \"gray96\"              \n",
       "[250] \"gray97\"               \"gray98\"               \"gray99\"              \n",
       "[253] \"gray100\"              \"green\"                \"green1\"              \n",
       "[256] \"green2\"               \"green3\"               \"green4\"              \n",
       "[259] \"greenyellow\"          \"grey\"                 \"grey0\"               \n",
       "[262] \"grey1\"                \"grey2\"                \"grey3\"               \n",
       "[265] \"grey4\"                \"grey5\"                \"grey6\"               \n",
       "[268] \"grey7\"                \"grey8\"                \"grey9\"               \n",
       "[271] \"grey10\"               \"grey11\"               \"grey12\"              \n",
       "[274] \"grey13\"               \"grey14\"               \"grey15\"              \n",
       "[277] \"grey16\"               \"grey17\"               \"grey18\"              \n",
       "[280] \"grey19\"               \"grey20\"               \"grey21\"              \n",
       "[283] \"grey22\"               \"grey23\"               \"grey24\"              \n",
       "[286] \"grey25\"               \"grey26\"               \"grey27\"              \n",
       "[289] \"grey28\"               \"grey29\"               \"grey30\"              \n",
       "[292] \"grey31\"               \"grey32\"               \"grey33\"              \n",
       "[295] \"grey34\"               \"grey35\"               \"grey36\"              \n",
       "[298] \"grey37\"               \"grey38\"               \"grey39\"              \n",
       "[301] \"grey40\"               \"grey41\"               \"grey42\"              \n",
       "[304] \"grey43\"               \"grey44\"               \"grey45\"              \n",
       "[307] \"grey46\"               \"grey47\"               \"grey48\"              \n",
       "[310] \"grey49\"               \"grey50\"               \"grey51\"              \n",
       "[313] \"grey52\"               \"grey53\"               \"grey54\"              \n",
       "[316] \"grey55\"               \"grey56\"               \"grey57\"              \n",
       "[319] \"grey58\"               \"grey59\"               \"grey60\"              \n",
       "[322] \"grey61\"               \"grey62\"               \"grey63\"              \n",
       "[325] \"grey64\"               \"grey65\"               \"grey66\"              \n",
       "[328] \"grey67\"               \"grey68\"               \"grey69\"              \n",
       "[331] \"grey70\"               \"grey71\"               \"grey72\"              \n",
       "[334] \"grey73\"               \"grey74\"               \"grey75\"              \n",
       "[337] \"grey76\"               \"grey77\"               \"grey78\"              \n",
       "[340] \"grey79\"               \"grey80\"               \"grey81\"              \n",
       "[343] \"grey82\"               \"grey83\"               \"grey84\"              \n",
       "[346] \"grey85\"               \"grey86\"               \"grey87\"              \n",
       "[349] \"grey88\"               \"grey89\"               \"grey90\"              \n",
       "[352] \"grey91\"               \"grey92\"               \"grey93\"              \n",
       "[355] \"grey94\"               \"grey95\"               \"grey96\"              \n",
       "[358] \"grey97\"               \"grey98\"               \"grey99\"              \n",
       "[361] \"grey100\"              \"honeydew\"             \"honeydew1\"           \n",
       "[364] \"honeydew2\"            \"honeydew3\"            \"honeydew4\"           \n",
       "[367] \"hotpink\"              \"hotpink1\"             \"hotpink2\"            \n",
       "[370] \"hotpink3\"             \"hotpink4\"             \"indianred\"           \n",
       "[373] \"indianred1\"           \"indianred2\"           \"indianred3\"          \n",
       "[376] \"indianred4\"           \"ivory\"                \"ivory1\"              \n",
       "[379] \"ivory2\"               \"ivory3\"               \"ivory4\"              \n",
       "[382] \"khaki\"                \"khaki1\"               \"khaki2\"              \n",
       "[385] \"khaki3\"               \"khaki4\"               \"lavender\"            \n",
       "[388] \"lavenderblush\"        \"lavenderblush1\"       \"lavenderblush2\"      \n",
       "[391] \"lavenderblush3\"       \"lavenderblush4\"       \"lawngreen\"           \n",
       "[394] \"lemonchiffon\"         \"lemonchiffon1\"        \"lemonchiffon2\"       \n",
       "[397] \"lemonchiffon3\"        \"lemonchiffon4\"        \"lightblue\"           \n",
       "[400] \"lightblue1\"           \"lightblue2\"           \"lightblue3\"          \n",
       "[403] \"lightblue4\"           \"lightcoral\"           \"lightcyan\"           \n",
       "[406] \"lightcyan1\"           \"lightcyan2\"           \"lightcyan3\"          \n",
       "[409] \"lightcyan4\"           \"lightgoldenrod\"       \"lightgoldenrod1\"     \n",
       "[412] \"lightgoldenrod2\"      \"lightgoldenrod3\"      \"lightgoldenrod4\"     \n",
       "[415] \"lightgoldenrodyellow\" \"lightgray\"            \"lightgreen\"          \n",
       "[418] \"lightgrey\"            \"lightpink\"            \"lightpink1\"          \n",
       "[421] \"lightpink2\"           \"lightpink3\"           \"lightpink4\"          \n",
       "[424] \"lightsalmon\"          \"lightsalmon1\"         \"lightsalmon2\"        \n",
       "[427] \"lightsalmon3\"         \"lightsalmon4\"         \"lightseagreen\"       \n",
       "[430] \"lightskyblue\"         \"lightskyblue1\"        \"lightskyblue2\"       \n",
       "[433] \"lightskyblue3\"        \"lightskyblue4\"        \"lightslateblue\"      \n",
       "[436] \"lightslategray\"       \"lightslategrey\"       \"lightsteelblue\"      \n",
       "[439] \"lightsteelblue1\"      \"lightsteelblue2\"      \"lightsteelblue3\"     \n",
       "[442] \"lightsteelblue4\"      \"lightyellow\"          \"lightyellow1\"        \n",
       "[445] \"lightyellow2\"         \"lightyellow3\"         \"lightyellow4\"        \n",
       "[448] \"limegreen\"            \"linen\"                \"magenta\"             \n",
       "[451] \"magenta1\"             \"magenta2\"             \"magenta3\"            \n",
       "[454] \"magenta4\"             \"maroon\"               \"maroon1\"             \n",
       "[457] \"maroon2\"              \"maroon3\"              \"maroon4\"             \n",
       "[460] \"mediumaquamarine\"     \"mediumblue\"           \"mediumorchid\"        \n",
       "[463] \"mediumorchid1\"        \"mediumorchid2\"        \"mediumorchid3\"       \n",
       "[466] \"mediumorchid4\"        \"mediumpurple\"         \"mediumpurple1\"       \n",
       "[469] \"mediumpurple2\"        \"mediumpurple3\"        \"mediumpurple4\"       \n",
       "[472] \"mediumseagreen\"       \"mediumslateblue\"      \"mediumspringgreen\"   \n",
       "[475] \"mediumturquoise\"      \"mediumvioletred\"      \"midnightblue\"        \n",
       "[478] \"mintcream\"            \"mistyrose\"            \"mistyrose1\"          \n",
       "[481] \"mistyrose2\"           \"mistyrose3\"           \"mistyrose4\"          \n",
       "[484] \"moccasin\"             \"navajowhite\"          \"navajowhite1\"        \n",
       "[487] \"navajowhite2\"         \"navajowhite3\"         \"navajowhite4\"        \n",
       "[490] \"navy\"                 \"navyblue\"             \"oldlace\"             \n",
       "[493] \"olivedrab\"            \"olivedrab1\"           \"olivedrab2\"          \n",
       "[496] \"olivedrab3\"           \"olivedrab4\"           \"orange\"              \n",
       "[499] \"orange1\"              \"orange2\"              \"orange3\"             \n",
       "[502] \"orange4\"              \"orangered\"            \"orangered1\"          \n",
       "[505] \"orangered2\"           \"orangered3\"           \"orangered4\"          \n",
       "[508] \"orchid\"               \"orchid1\"              \"orchid2\"             \n",
       "[511] \"orchid3\"              \"orchid4\"              \"palegoldenrod\"       \n",
       "[514] \"palegreen\"            \"palegreen1\"           \"palegreen2\"          \n",
       "[517] \"palegreen3\"           \"palegreen4\"           \"paleturquoise\"       \n",
       "[520] \"paleturquoise1\"       \"paleturquoise2\"       \"paleturquoise3\"      \n",
       "[523] \"paleturquoise4\"       \"palevioletred\"        \"palevioletred1\"      \n",
       "[526] \"palevioletred2\"       \"palevioletred3\"       \"palevioletred4\"      \n",
       "[529] \"papayawhip\"           \"peachpuff\"            \"peachpuff1\"          \n",
       "[532] \"peachpuff2\"           \"peachpuff3\"           \"peachpuff4\"          \n",
       "[535] \"peru\"                 \"pink\"                 \"pink1\"               \n",
       "[538] \"pink2\"                \"pink3\"                \"pink4\"               \n",
       "[541] \"plum\"                 \"plum1\"                \"plum2\"               \n",
       "[544] \"plum3\"                \"plum4\"                \"powderblue\"          \n",
       "[547] \"purple\"               \"purple1\"              \"purple2\"             \n",
       "[550] \"purple3\"              \"purple4\"              \"red\"                 \n",
       "[553] \"red1\"                 \"red2\"                 \"red3\"                \n",
       "[556] \"red4\"                 \"rosybrown\"            \"rosybrown1\"          \n",
       "[559] \"rosybrown2\"           \"rosybrown3\"           \"rosybrown4\"          \n",
       "[562] \"royalblue\"            \"royalblue1\"           \"royalblue2\"          \n",
       "[565] \"royalblue3\"           \"royalblue4\"           \"saddlebrown\"         \n",
       "[568] \"salmon\"               \"salmon1\"              \"salmon2\"             \n",
       "[571] \"salmon3\"              \"salmon4\"              \"sandybrown\"          \n",
       "[574] \"seagreen\"             \"seagreen1\"            \"seagreen2\"           \n",
       "[577] \"seagreen3\"            \"seagreen4\"            \"seashell\"            \n",
       "[580] \"seashell1\"            \"seashell2\"            \"seashell3\"           \n",
       "[583] \"seashell4\"            \"sienna\"               \"sienna1\"             \n",
       "[586] \"sienna2\"              \"sienna3\"              \"sienna4\"             \n",
       "[589] \"skyblue\"              \"skyblue1\"             \"skyblue2\"            \n",
       "[592] \"skyblue3\"             \"skyblue4\"             \"slateblue\"           \n",
       "[595] \"slateblue1\"           \"slateblue2\"           \"slateblue3\"          \n",
       "[598] \"slateblue4\"           \"slategray\"            \"slategray1\"          \n",
       "[601] \"slategray2\"           \"slategray3\"           \"slategray4\"          \n",
       "[604] \"slategrey\"            \"snow\"                 \"snow1\"               \n",
       "[607] \"snow2\"                \"snow3\"                \"snow4\"               \n",
       "[610] \"springgreen\"          \"springgreen1\"         \"springgreen2\"        \n",
       "[613] \"springgreen3\"         \"springgreen4\"         \"steelblue\"           \n",
       "[616] \"steelblue1\"           \"steelblue2\"           \"steelblue3\"          \n",
       "[619] \"steelblue4\"           \"tan\"                  \"tan1\"                \n",
       "[622] \"tan2\"                 \"tan3\"                 \"tan4\"                \n",
       "[625] \"thistle\"              \"thistle1\"             \"thistle2\"            \n",
       "[628] \"thistle3\"             \"thistle4\"             \"tomato\"              \n",
       "[631] \"tomato1\"              \"tomato2\"              \"tomato3\"             \n",
       "[634] \"tomato4\"              \"turquoise\"            \"turquoise1\"          \n",
       "[637] \"turquoise2\"           \"turquoise3\"           \"turquoise4\"          \n",
       "[640] \"violet\"               \"violetred\"            \"violetred1\"          \n",
       "[643] \"violetred2\"           \"violetred3\"           \"violetred4\"          \n",
       "[646] \"wheat\"                \"wheat1\"               \"wheat2\"              \n",
       "[649] \"wheat3\"               \"wheat4\"               \"whitesmoke\"          \n",
       "[652] \"yellow\"               \"yellow1\"              \"yellow2\"             \n",
       "[655] \"yellow3\"              \"yellow4\"              \"yellowgreen\"         "
      ]
     },
     "metadata": {},
     "output_type": "display_data"
    },
    {
     "data": {
      "text/html": [
       "<style>\n",
       ".list-inline {list-style: none; margin:0; padding: 0}\n",
       ".list-inline>li {display: inline-block}\n",
       ".list-inline>li:not(:last-child)::after {content: \"\\00b7\"; padding: 0 .5ex}\n",
       "</style>\n",
       "<ol class=list-inline><li>'aliceblue'</li><li>'blue'</li><li>'blue1'</li><li>'blue2'</li><li>'blue3'</li><li>'blue4'</li><li>'blueviolet'</li><li>'cadetblue'</li><li>'cadetblue1'</li><li>'cadetblue2'</li><li>'cadetblue3'</li><li>'cadetblue4'</li><li>'cornflowerblue'</li><li>'darkblue'</li><li>'darkslateblue'</li><li>'deepskyblue'</li><li>'deepskyblue1'</li><li>'deepskyblue2'</li><li>'deepskyblue3'</li><li>'deepskyblue4'</li><li>'dodgerblue'</li><li>'dodgerblue1'</li><li>'dodgerblue2'</li><li>'dodgerblue3'</li><li>'dodgerblue4'</li><li>'lightblue'</li><li>'lightblue1'</li><li>'lightblue2'</li><li>'lightblue3'</li><li>'lightblue4'</li><li>'lightskyblue'</li><li>'lightskyblue1'</li><li>'lightskyblue2'</li><li>'lightskyblue3'</li><li>'lightskyblue4'</li><li>'lightslateblue'</li><li>'lightsteelblue'</li><li>'lightsteelblue1'</li><li>'lightsteelblue2'</li><li>'lightsteelblue3'</li><li>'lightsteelblue4'</li><li>'mediumblue'</li><li>'mediumslateblue'</li><li>'midnightblue'</li><li>'navyblue'</li><li>'powderblue'</li><li>'royalblue'</li><li>'royalblue1'</li><li>'royalblue2'</li><li>'royalblue3'</li><li>'royalblue4'</li><li>'skyblue'</li><li>'skyblue1'</li><li>'skyblue2'</li><li>'skyblue3'</li><li>'skyblue4'</li><li>'slateblue'</li><li>'slateblue1'</li><li>'slateblue2'</li><li>'slateblue3'</li><li>'slateblue4'</li><li>'steelblue'</li><li>'steelblue1'</li><li>'steelblue2'</li><li>'steelblue3'</li><li>'steelblue4'</li></ol>\n"
      ],
      "text/latex": [
       "\\begin{enumerate*}\n",
       "\\item 'aliceblue'\n",
       "\\item 'blue'\n",
       "\\item 'blue1'\n",
       "\\item 'blue2'\n",
       "\\item 'blue3'\n",
       "\\item 'blue4'\n",
       "\\item 'blueviolet'\n",
       "\\item 'cadetblue'\n",
       "\\item 'cadetblue1'\n",
       "\\item 'cadetblue2'\n",
       "\\item 'cadetblue3'\n",
       "\\item 'cadetblue4'\n",
       "\\item 'cornflowerblue'\n",
       "\\item 'darkblue'\n",
       "\\item 'darkslateblue'\n",
       "\\item 'deepskyblue'\n",
       "\\item 'deepskyblue1'\n",
       "\\item 'deepskyblue2'\n",
       "\\item 'deepskyblue3'\n",
       "\\item 'deepskyblue4'\n",
       "\\item 'dodgerblue'\n",
       "\\item 'dodgerblue1'\n",
       "\\item 'dodgerblue2'\n",
       "\\item 'dodgerblue3'\n",
       "\\item 'dodgerblue4'\n",
       "\\item 'lightblue'\n",
       "\\item 'lightblue1'\n",
       "\\item 'lightblue2'\n",
       "\\item 'lightblue3'\n",
       "\\item 'lightblue4'\n",
       "\\item 'lightskyblue'\n",
       "\\item 'lightskyblue1'\n",
       "\\item 'lightskyblue2'\n",
       "\\item 'lightskyblue3'\n",
       "\\item 'lightskyblue4'\n",
       "\\item 'lightslateblue'\n",
       "\\item 'lightsteelblue'\n",
       "\\item 'lightsteelblue1'\n",
       "\\item 'lightsteelblue2'\n",
       "\\item 'lightsteelblue3'\n",
       "\\item 'lightsteelblue4'\n",
       "\\item 'mediumblue'\n",
       "\\item 'mediumslateblue'\n",
       "\\item 'midnightblue'\n",
       "\\item 'navyblue'\n",
       "\\item 'powderblue'\n",
       "\\item 'royalblue'\n",
       "\\item 'royalblue1'\n",
       "\\item 'royalblue2'\n",
       "\\item 'royalblue3'\n",
       "\\item 'royalblue4'\n",
       "\\item 'skyblue'\n",
       "\\item 'skyblue1'\n",
       "\\item 'skyblue2'\n",
       "\\item 'skyblue3'\n",
       "\\item 'skyblue4'\n",
       "\\item 'slateblue'\n",
       "\\item 'slateblue1'\n",
       "\\item 'slateblue2'\n",
       "\\item 'slateblue3'\n",
       "\\item 'slateblue4'\n",
       "\\item 'steelblue'\n",
       "\\item 'steelblue1'\n",
       "\\item 'steelblue2'\n",
       "\\item 'steelblue3'\n",
       "\\item 'steelblue4'\n",
       "\\end{enumerate*}\n"
      ],
      "text/markdown": [
       "1. 'aliceblue'\n",
       "2. 'blue'\n",
       "3. 'blue1'\n",
       "4. 'blue2'\n",
       "5. 'blue3'\n",
       "6. 'blue4'\n",
       "7. 'blueviolet'\n",
       "8. 'cadetblue'\n",
       "9. 'cadetblue1'\n",
       "10. 'cadetblue2'\n",
       "11. 'cadetblue3'\n",
       "12. 'cadetblue4'\n",
       "13. 'cornflowerblue'\n",
       "14. 'darkblue'\n",
       "15. 'darkslateblue'\n",
       "16. 'deepskyblue'\n",
       "17. 'deepskyblue1'\n",
       "18. 'deepskyblue2'\n",
       "19. 'deepskyblue3'\n",
       "20. 'deepskyblue4'\n",
       "21. 'dodgerblue'\n",
       "22. 'dodgerblue1'\n",
       "23. 'dodgerblue2'\n",
       "24. 'dodgerblue3'\n",
       "25. 'dodgerblue4'\n",
       "26. 'lightblue'\n",
       "27. 'lightblue1'\n",
       "28. 'lightblue2'\n",
       "29. 'lightblue3'\n",
       "30. 'lightblue4'\n",
       "31. 'lightskyblue'\n",
       "32. 'lightskyblue1'\n",
       "33. 'lightskyblue2'\n",
       "34. 'lightskyblue3'\n",
       "35. 'lightskyblue4'\n",
       "36. 'lightslateblue'\n",
       "37. 'lightsteelblue'\n",
       "38. 'lightsteelblue1'\n",
       "39. 'lightsteelblue2'\n",
       "40. 'lightsteelblue3'\n",
       "41. 'lightsteelblue4'\n",
       "42. 'mediumblue'\n",
       "43. 'mediumslateblue'\n",
       "44. 'midnightblue'\n",
       "45. 'navyblue'\n",
       "46. 'powderblue'\n",
       "47. 'royalblue'\n",
       "48. 'royalblue1'\n",
       "49. 'royalblue2'\n",
       "50. 'royalblue3'\n",
       "51. 'royalblue4'\n",
       "52. 'skyblue'\n",
       "53. 'skyblue1'\n",
       "54. 'skyblue2'\n",
       "55. 'skyblue3'\n",
       "56. 'skyblue4'\n",
       "57. 'slateblue'\n",
       "58. 'slateblue1'\n",
       "59. 'slateblue2'\n",
       "60. 'slateblue3'\n",
       "61. 'slateblue4'\n",
       "62. 'steelblue'\n",
       "63. 'steelblue1'\n",
       "64. 'steelblue2'\n",
       "65. 'steelblue3'\n",
       "66. 'steelblue4'\n",
       "\n",
       "\n"
      ],
      "text/plain": [
       " [1] \"aliceblue\"       \"blue\"            \"blue1\"           \"blue2\"          \n",
       " [5] \"blue3\"           \"blue4\"           \"blueviolet\"      \"cadetblue\"      \n",
       " [9] \"cadetblue1\"      \"cadetblue2\"      \"cadetblue3\"      \"cadetblue4\"     \n",
       "[13] \"cornflowerblue\"  \"darkblue\"        \"darkslateblue\"   \"deepskyblue\"    \n",
       "[17] \"deepskyblue1\"    \"deepskyblue2\"    \"deepskyblue3\"    \"deepskyblue4\"   \n",
       "[21] \"dodgerblue\"      \"dodgerblue1\"     \"dodgerblue2\"     \"dodgerblue3\"    \n",
       "[25] \"dodgerblue4\"     \"lightblue\"       \"lightblue1\"      \"lightblue2\"     \n",
       "[29] \"lightblue3\"      \"lightblue4\"      \"lightskyblue\"    \"lightskyblue1\"  \n",
       "[33] \"lightskyblue2\"   \"lightskyblue3\"   \"lightskyblue4\"   \"lightslateblue\" \n",
       "[37] \"lightsteelblue\"  \"lightsteelblue1\" \"lightsteelblue2\" \"lightsteelblue3\"\n",
       "[41] \"lightsteelblue4\" \"mediumblue\"      \"mediumslateblue\" \"midnightblue\"   \n",
       "[45] \"navyblue\"        \"powderblue\"      \"royalblue\"       \"royalblue1\"     \n",
       "[49] \"royalblue2\"      \"royalblue3\"      \"royalblue4\"      \"skyblue\"        \n",
       "[53] \"skyblue1\"        \"skyblue2\"        \"skyblue3\"        \"skyblue4\"       \n",
       "[57] \"slateblue\"       \"slateblue1\"      \"slateblue2\"      \"slateblue3\"     \n",
       "[61] \"slateblue4\"      \"steelblue\"       \"steelblue1\"      \"steelblue2\"     \n",
       "[65] \"steelblue3\"      \"steelblue4\"     "
      ]
     },
     "metadata": {},
     "output_type": "display_data"
    },
    {
     "data": {
      "image/png": "[encoded data removed]",
      "text/plain": [
       "plot without title"
      ]
     },
     "metadata": {
      "image/png": {
       "height": 420,
       "width": 420
      }
     },
     "output_type": "display_data"
    },
    {
     "data": {
      "image/png": "[encoded data removed]",
      "text/plain": [
       "plot without title"
      ]
     },
     "metadata": {
      "image/png": {
       "height": 420,
       "width": 420
      }
     },
     "output_type": "display_data"
    },
    {
     "data": {
      "image/png": "[encoded data removed]",
      "text/plain": [
       "plot without title"
      ]
     },
     "metadata": {
      "image/png": {
       "height": 420,
       "width": 420
      }
     },
     "output_type": "display_data"
    },
    {
     "data": {
      "image/png": "[encoded data removed]",
      "text/plain": [
       "plot without title"
      ]
     },
     "metadata": {
      "image/png": {
       "height": 420,
       "width": 420
      }
     },
     "output_type": "display_data"
    },
    {
     "data": {
      "image/png": "[encoded data removed]",
      "text/plain": [
       "plot without title"
      ]
     },
     "metadata": {
      "image/png": {
       "height": 420,
       "width": 420
      }
     },
     "output_type": "display_data"
    }
   ],
   "source": [
    "#  ------->> R plots and colors --------\n",
    "\n",
    "# In most R functions, you can use named colors, hex, or rgb values:\n",
    "# (In the simple base plot chart below x and y are point coordiantes, pch \n",
    "# is the point symbol shape, cex is the point size, and col is the color.\n",
    "# to see the parameters for ploting in base R, check out ?par\n",
    "plot(x=1:10, y=rep(5,10), pch=19, cex=5, col=\"dark red\")\n",
    "points(x=1:10, y=rep(6, 10), pch=19, cex=5, col=\"#557799\")\n",
    "points(x=1:10, y=rep(4, 10), pch=19, cex=5, col=rgb(.25, .5, .3))\n",
    "\n",
    "# You may notice that rgb here ranges from 0 to 1. While this is the R default,\n",
    "# you can also set it for the 0-255 range: \n",
    "rgb(10, 100, 100, maxColorValue=255) \n",
    "\n",
    "# We can also set the opacity/transparency using the parameter 'alpha' (range 0-1):\n",
    "plot(x=1:5, y=rep(5,5), pch=19, cex=16, col=rgb(.25, .5, .3, alpha=.5), xlim=c(0,6))  \n",
    "\n",
    "# If we have a hex color representation, we can set the transparency alpha \n",
    "# using 'adjustcolor' from package 'grDevices'. For fun, let's also set the\n",
    "# the plot background to gray using the par() function for graphical parameters.\n",
    "par(bg=\"black\")\n",
    "col.tr <- grDevices::adjustcolor(\"#557799\", alpha=0.7)\n",
    "plot(x=1:5, y=rep(5,5), pch=19, cex=20, col=col.tr, xlim=c(0,6)) \n",
    "par(bg=\"white\")\n",
    "\n",
    "# If you plan on using the built-in color names, here's what they are: \n",
    "colors()\n",
    "grep(\"blue\", colors(), value=T)\n",
    "\n",
    "# In many cases, we need a number of contrasting colors, or multiple shades of a color.\n",
    "# R comes with some predefined palette function that can generate those for us.\n",
    "pal1 <- heat.colors(5, alpha=1)   # generate 5 colors from the heat palette, opaque\n",
    "pal2 <- rainbow(5, alpha=.5)      # generate 5 colors from the heat palette, semi-transparent\n",
    "plot(x=1:10, y=1:10, pch=19, cex=10, col=pal1)\n",
    "plot(x=10:1, y=1:10, pch=19, cex=10, col=pal2)\n",
    "\n",
    "# We can also generate our own gradients using colorRampPalette.\n",
    "# Note that colorRampPalette returns a *function* that we can use \n",
    "# to generate as many colors from that palette as we need.\n",
    "\n",
    "palf <- colorRampPalette(c(\"gray70\", \"red\")) \n",
    "plot(x=10:1, y=1:10, pch=19, cex=10, col=palf(100)) \n",
    "\n",
    "# To add transparency to colorRampPalette, you need to add a parameter `alpha=TRUE`:\n",
    "palf <- colorRampPalette(c(rgb(1,1,1, .2),rgb(.8,0,0, .7)), alpha=TRUE)\n",
    "plot(x=10:1, y=1:10, pch=19, cex=10, col=palf(10))"
   ]
  },
  {
   "cell_type": "code",
   "execution_count": 12,
   "metadata": {},
   "outputs": [
    {
     "name": "stderr",
     "output_type": "stream",
     "text": [
      "\n",
      "Attaching package: ‘igraph’\n",
      "\n",
      "\n",
      "The following objects are masked from ‘package:stats’:\n",
      "\n",
      "    decompose, spectrum\n",
      "\n",
      "\n",
      "The following object is masked from ‘package:base’:\n",
      "\n",
      "    union\n",
      "\n",
      "\n"
     ]
    }
   ],
   "source": [
    "#  ------->> R Libraries --------\n",
    "#  install.packages(\"igraph\")  #install a package\n",
    "                             # Other alternatives may be better\n",
    "                             # E.g. you may want to install packages \n",
    "                             # using Conda, or R Bioconductor\n",
    "\n",
    " library(igraph)          # load a package\n",
    " detach(package:igraph)   # detach a package"
   ]
  },
  {
   "cell_type": "code",
   "execution_count": 13,
   "metadata": {},
   "outputs": [
    {
     "data": {
      "text/html": [
       "\n",
       "<table width=\"100%\" summary=\"page for conditions {base}\"><tr><td>conditions {base}</td><td style=\"text-align: right;\">R Documentation</td></tr></table>\n",
       "\n",
       "<h2>Condition Handling and Recovery</h2>\n",
       "\n",
       "<h3>Description</h3>\n",
       "\n",
       "<p>These functions provide a mechanism for handling unusual conditions,\n",
       "including errors and warnings.\n",
       "</p>\n",
       "\n",
       "\n",
       "<h3>Usage</h3>\n",
       "\n",
       "<pre>\n",
       "tryCatch(expr, ..., finally)\n",
       "withCallingHandlers(expr, ...)\n",
       "\n",
       "signalCondition(cond)\n",
       "\n",
       "simpleCondition(message, call = NULL)\n",
       "simpleError    (message, call = NULL)\n",
       "simpleWarning  (message, call = NULL)\n",
       "simpleMessage  (message, call = NULL)\n",
       "\n",
       "errorCondition(message, ..., class = NULL, call = NULL)\n",
       "warningCondition(message, ..., class = NULL, call = NULL)\n",
       "\n",
       "## S3 method for class 'condition'\n",
       "as.character(x, ...)\n",
       "## S3 method for class 'error'\n",
       "as.character(x, ...)\n",
       "## S3 method for class 'condition'\n",
       "print(x, ...)\n",
       "## S3 method for class 'restart'\n",
       "print(x, ...)\n",
       "\n",
       "conditionCall(c)\n",
       "## S3 method for class 'condition'\n",
       "conditionCall(c)\n",
       "conditionMessage(c)\n",
       "## S3 method for class 'condition'\n",
       "conditionMessage(c)\n",
       "\n",
       "withRestarts(expr, ...)\n",
       "\n",
       "computeRestarts(cond = NULL)\n",
       "findRestart(name, cond = NULL)\n",
       "invokeRestart(r, ...)\n",
       "invokeRestartInteractively(r)\n",
       "\n",
       "isRestart(x)\n",
       "restartDescription(r)\n",
       "restartFormals(r)\n",
       "\n",
       "suspendInterrupts(expr)\n",
       "allowInterrupts(expr)\n",
       "\n",
       ".signalSimpleWarning(msg, call)\n",
       ".handleSimpleError(h, msg, call)\n",
       ".tryResumeInterrupt()\n",
       "</pre>\n",
       "\n",
       "\n",
       "<h3>Arguments</h3>\n",
       "\n",
       "<table summary=\"R argblock\">\n",
       "<tr valign=\"top\"><td><code>c</code></td>\n",
       "<td>\n",
       "<p>a condition object.</p>\n",
       "</td></tr>\n",
       "<tr valign=\"top\"><td><code>call</code></td>\n",
       "<td>\n",
       "<p>call expression.</p>\n",
       "</td></tr>\n",
       "<tr valign=\"top\"><td><code>cond</code></td>\n",
       "<td>\n",
       "<p>a condition object.</p>\n",
       "</td></tr>\n",
       "<tr valign=\"top\"><td><code>expr</code></td>\n",
       "<td>\n",
       "<p>expression to be evaluated.</p>\n",
       "</td></tr>\n",
       "<tr valign=\"top\"><td><code>finally</code></td>\n",
       "<td>\n",
       "<p>expression to be evaluated before returning or exiting.</p>\n",
       "</td></tr>\n",
       "<tr valign=\"top\"><td><code>h</code></td>\n",
       "<td>\n",
       "<p>function.</p>\n",
       "</td></tr>\n",
       "<tr valign=\"top\"><td><code>message</code></td>\n",
       "<td>\n",
       "<p>character string.</p>\n",
       "</td></tr>\n",
       "<tr valign=\"top\"><td><code>msg</code></td>\n",
       "<td>\n",
       "<p>character string.</p>\n",
       "</td></tr>\n",
       "<tr valign=\"top\"><td><code>name</code></td>\n",
       "<td>\n",
       "<p>character string naming a restart.</p>\n",
       "</td></tr>\n",
       "<tr valign=\"top\"><td><code>r</code></td>\n",
       "<td>\n",
       "<p>restart object.</p>\n",
       "</td></tr>\n",
       "<tr valign=\"top\"><td><code>x</code></td>\n",
       "<td>\n",
       "<p>object.</p>\n",
       "</td></tr>\n",
       "<tr valign=\"top\"><td><code>class</code></td>\n",
       "<td>\n",
       "<p>character string naming a condition class.</p>\n",
       "</td></tr>\n",
       "<tr valign=\"top\"><td><code>...</code></td>\n",
       "<td>\n",
       "<p>additional arguments; see details below.</p>\n",
       "</td></tr>\n",
       "</table>\n",
       "\n",
       "\n",
       "<h3>Details</h3>\n",
       "\n",
       "<p>The condition system provides a mechanism for signaling and\n",
       "handling unusual conditions, including errors and warnings.\n",
       "Conditions are represented as objects that contain information\n",
       "about the condition that occurred, such as a message and the call in\n",
       "which the condition occurred.  Currently conditions are S3-style\n",
       "objects, though this may eventually change.\n",
       "</p>\n",
       "<p>Conditions are objects inheriting from the abstract class\n",
       "<code>condition</code>.  Errors and warnings are objects inheriting\n",
       "from the abstract subclasses <code>error</code> and <code>warning</code>.\n",
       "The class <code>simpleError</code> is the class used by <code>stop</code>\n",
       "and all internal error signals.  Similarly, <code>simpleWarning</code>\n",
       "is used by <code>warning</code>, and <code>simpleMessage</code> is used by\n",
       "<code>message</code>.  The constructors by the same names take a string\n",
       "describing the condition as argument and an optional call.  The\n",
       "functions <code>conditionMessage</code> and <code>conditionCall</code> are\n",
       "generic functions that return the message and call of a condition.\n",
       "</p>\n",
       "<p>The function <code>errorCondition</code> and <code>warningCondition</code> can be\n",
       "used to construct error conditions of a particular class with\n",
       "additional fields specified as the <code>...</code> argument.\n",
       "<code>warningCondition</code> is analogous for warnings.\n",
       "</p>\n",
       "<p>Conditions are signaled by <code>signalCondition</code>.  In addition,\n",
       "the <code>stop</code> and <code>warning</code> functions have been modified to\n",
       "also accept condition arguments.\n",
       "</p>\n",
       "<p>The function <code>tryCatch</code> evaluates its expression argument\n",
       "in a context where the handlers provided in the <code>...</code>\n",
       "argument are available.  The <code>finally</code> expression is then\n",
       "evaluated in the context in which <code>tryCatch</code> was called; that\n",
       "is, the handlers supplied to the current <code>tryCatch</code> call are\n",
       "not active when the <code>finally</code> expression is evaluated.\n",
       "</p>\n",
       "<p>Handlers provided in the <code>...</code> argument to <code>tryCatch</code>\n",
       "are established for the duration of the evaluation of <code>expr</code>.\n",
       "If no condition is signaled when evaluating <code>expr</code> then\n",
       "<code>tryCatch</code> returns the value of the expression.\n",
       "</p>\n",
       "<p>If a condition is signaled while evaluating <code>expr</code> then\n",
       "established handlers are checked, starting with the most recently\n",
       "established ones, for one matching the class of the condition.\n",
       "When several handlers are supplied in a single <code>tryCatch</code> then\n",
       "the first one is considered more recent than the second.  If a\n",
       "handler is found then control is transferred to the\n",
       "<code>tryCatch</code> call that established the handler, the handler\n",
       "found and all more recent handlers are disestablished, the handler\n",
       "is called with the condition as its argument, and the result\n",
       "returned by the handler is returned as the value of the\n",
       "<code>tryCatch</code> call.\n",
       "</p>\n",
       "<p>Calling handlers are established by <code>withCallingHandlers</code>.  If\n",
       "a condition is signaled and the applicable handler is a calling\n",
       "handler, then the handler is called by <code>signalCondition</code> in\n",
       "the context where the condition was signaled but with the available\n",
       "handlers restricted to those below the handler called in the\n",
       "handler stack.  If the handler returns, then the next handler is\n",
       "tried; once the last handler has been tried, <code>signalCondition</code>\n",
       "returns <code>NULL</code>.\n",
       "</p>\n",
       "<p>User interrupts signal a condition of class <code>interrupt</code> that\n",
       "inherits directly from class <code>condition</code> before executing the\n",
       "default interrupt action.\n",
       "</p>\n",
       "<p>Restarts are used for establishing recovery protocols.  They can be\n",
       "established using <code>withRestarts</code>.  One pre-established restart is\n",
       "an <code>abort</code> restart that represents a jump to top level.\n",
       "</p>\n",
       "<p><code>findRestart</code> and <code>computeRestarts</code> find the available\n",
       "restarts.  <code>findRestart</code> returns the most recently established\n",
       "restart of the specified name.  <code>computeRestarts</code> returns a\n",
       "list of all restarts.  Both can be given a condition argument and\n",
       "will then ignore restarts that do not apply to the condition.\n",
       "</p>\n",
       "<p><code>invokeRestart</code> transfers control to the point where the\n",
       "specified restart was established and calls the restart's handler with the\n",
       "arguments, if any, given as additional arguments to\n",
       "<code>invokeRestart</code>.  The restart argument to <code>invokeRestart</code>\n",
       "can be a character string, in which case <code>findRestart</code> is used\n",
       "to find the restart.\n",
       "</p>\n",
       "<p>New restarts for <code>withRestarts</code> can be specified in several ways.\n",
       "The simplest is in <code>name = function</code> form where the function is\n",
       "the handler to call when the restart is invoked.  Another simple\n",
       "variant is as <code>name = string</code> where the string is stored in the\n",
       "<code>description</code> field of the restart object returned by\n",
       "<code>findRestart</code>; in this case the handler ignores its arguments\n",
       "and returns <code>NULL</code>.  The most flexible form of a restart\n",
       "specification is as a list that can include several fields, including\n",
       "<code>handler</code>, <code>description</code>, and <code>test</code>.  The\n",
       "<code>test</code> field should contain a function of one argument, a\n",
       "condition, that returns <code>TRUE</code> if the restart applies to the\n",
       "condition and <code>FALSE</code> if it does not; the default function\n",
       "returns <code>TRUE</code> for all conditions.\n",
       "</p>\n",
       "<p>One additional field that can be specified for a restart is\n",
       "<code>interactive</code>.  This should be a function of no arguments that\n",
       "returns a list of arguments to pass to the restart handler.  The list\n",
       "could be obtained by interacting with the user if necessary.  The\n",
       "function <code>invokeRestartInteractively</code> calls this function to\n",
       "obtain the arguments to use when invoking the restart.  The default\n",
       "<code>interactive</code> method queries the user for values for the\n",
       "formal arguments of the handler function.\n",
       "</p>\n",
       "<p>Interrupts can be suspended while evaluating an expression using\n",
       "<code>suspendInterrupts</code>.  Subexpression can be evaluated with\n",
       "interrupts enabled using <code>allowInterrupts</code>.  These functions\n",
       "can be used to make sure cleanup handlers cannot be interrupted.\n",
       "</p>\n",
       "<p><code>.signalSimpleWarning</code>, <code>.handleSimpleError</code>, and\n",
       "<code>.tryResumeInterrupt</code> are used internally and should not be\n",
       "called directly.\n",
       "</p>\n",
       "\n",
       "\n",
       "<h3>References</h3>\n",
       "\n",
       "<p>The <code>tryCatch</code> mechanism is similar to Java\n",
       "error handling.  Calling handlers are based on Common Lisp and\n",
       "Dylan.  Restarts are based on the Common Lisp restart mechanism.</p>\n",
       "\n",
       "\n",
       "<h3>See Also</h3>\n",
       "\n",
       "<p><code>stop</code> and <code>warning</code> signal conditions,\n",
       "and <code>try</code> is essentially a simplified version of\n",
       "<code>tryCatch</code>.\n",
       "<code>assertCondition</code> in package <span class=\"pkg\">tools</span> <em>tests</em>\n",
       "that conditions are signalled and works with several of the above\n",
       "handlers.\n",
       "</p>\n",
       "\n",
       "\n",
       "<h3>Examples</h3>\n",
       "\n",
       "<pre>\n",
       "tryCatch(1, finally = print(\"Hello\"))\n",
       "e &lt;- simpleError(\"test error\")\n",
       "## Not run: \n",
       " stop(e)\n",
       " tryCatch(stop(e), finally = print(\"Hello\"))\n",
       " tryCatch(stop(\"fred\"), finally = print(\"Hello\"))\n",
       "\n",
       "## End(Not run)\n",
       "tryCatch(stop(e), error = function(e) e, finally = print(\"Hello\"))\n",
       "tryCatch(stop(\"fred\"),  error = function(e) e, finally = print(\"Hello\"))\n",
       "withCallingHandlers({ warning(\"A\"); 1+2 }, warning = function(w) {})\n",
       "## Not run: \n",
       " { withRestarts(stop(\"A\"), abort = function() {}); 1 }\n",
       "\n",
       "## End(Not run)\n",
       "withRestarts(invokeRestart(\"foo\", 1, 2), foo = function(x, y) {x + y})\n",
       "\n",
       "##--&gt; More examples are part of\n",
       "##--&gt;   demo(error.catching)\n",
       "</pre>\n",
       "\n",
       "<hr /><div style=\"text-align: center;\">[Package <em>base</em> version 3.6.3 ]</div>"
      ],
      "text/latex": [
       "\\inputencoding{utf8}\n",
       "\\HeaderA{conditions}{Condition Handling and Recovery}{conditions}\n",
       "\\aliasA{.handleSimpleError}{conditions}{.handleSimpleError}\n",
       "\\aliasA{.signalSimpleWarning}{conditions}{.signalSimpleWarning}\n",
       "\\aliasA{.tryResumeInterrupt}{conditions}{.tryResumeInterrupt}\n",
       "\\aliasA{allowInterrupts}{conditions}{allowInterrupts}\n",
       "\\aliasA{as.character.condition}{conditions}{as.character.condition}\n",
       "\\aliasA{as.character.error}{conditions}{as.character.error}\n",
       "\\aliasA{computeRestarts}{conditions}{computeRestarts}\n",
       "\\aliasA{condition}{conditions}{condition}\n",
       "\\aliasA{conditionCall}{conditions}{conditionCall}\n",
       "\\methaliasA{conditionCall.condition}{conditions}{conditionCall.condition}\n",
       "\\aliasA{conditionMessage}{conditions}{conditionMessage}\n",
       "\\methaliasA{conditionMessage.condition}{conditions}{conditionMessage.condition}\n",
       "\\aliasA{errorCondition}{conditions}{errorCondition}\n",
       "\\aliasA{findRestart}{conditions}{findRestart}\n",
       "\\aliasA{invokeRestart}{conditions}{invokeRestart}\n",
       "\\aliasA{invokeRestartInteractively}{conditions}{invokeRestartInteractively}\n",
       "\\aliasA{isRestart}{conditions}{isRestart}\n",
       "\\aliasA{print.condition}{conditions}{print.condition}\n",
       "\\aliasA{print.restart}{conditions}{print.restart}\n",
       "\\aliasA{restartDescription}{conditions}{restartDescription}\n",
       "\\aliasA{restartFormals}{conditions}{restartFormals}\n",
       "\\aliasA{signalCondition}{conditions}{signalCondition}\n",
       "\\aliasA{simpleCondition}{conditions}{simpleCondition}\n",
       "\\aliasA{simpleError}{conditions}{simpleError}\n",
       "\\aliasA{simpleMessage}{conditions}{simpleMessage}\n",
       "\\aliasA{simpleWarning}{conditions}{simpleWarning}\n",
       "\\aliasA{suspendInterrupts}{conditions}{suspendInterrupts}\n",
       "\\aliasA{tryCatch}{conditions}{tryCatch}\n",
       "\\aliasA{warningCondition}{conditions}{warningCondition}\n",
       "\\aliasA{withCallingHandlers}{conditions}{withCallingHandlers}\n",
       "\\aliasA{withRestarts}{conditions}{withRestarts}\n",
       "\\keyword{programming}{conditions}\n",
       "\\keyword{error}{conditions}\n",
       "%\n",
       "\\begin{Description}\\relax\n",
       "These functions provide a mechanism for handling unusual conditions,\n",
       "including errors and warnings.\n",
       "\\end{Description}\n",
       "%\n",
       "\\begin{Usage}\n",
       "\\begin{verbatim}\n",
       "tryCatch(expr, ..., finally)\n",
       "withCallingHandlers(expr, ...)\n",
       "\n",
       "signalCondition(cond)\n",
       "\n",
       "simpleCondition(message, call = NULL)\n",
       "simpleError    (message, call = NULL)\n",
       "simpleWarning  (message, call = NULL)\n",
       "simpleMessage  (message, call = NULL)\n",
       "\n",
       "errorCondition(message, ..., class = NULL, call = NULL)\n",
       "warningCondition(message, ..., class = NULL, call = NULL)\n",
       "\n",
       "## S3 method for class 'condition'\n",
       "as.character(x, ...)\n",
       "## S3 method for class 'error'\n",
       "as.character(x, ...)\n",
       "## S3 method for class 'condition'\n",
       "print(x, ...)\n",
       "## S3 method for class 'restart'\n",
       "print(x, ...)\n",
       "\n",
       "conditionCall(c)\n",
       "## S3 method for class 'condition'\n",
       "conditionCall(c)\n",
       "conditionMessage(c)\n",
       "## S3 method for class 'condition'\n",
       "conditionMessage(c)\n",
       "\n",
       "withRestarts(expr, ...)\n",
       "\n",
       "computeRestarts(cond = NULL)\n",
       "findRestart(name, cond = NULL)\n",
       "invokeRestart(r, ...)\n",
       "invokeRestartInteractively(r)\n",
       "\n",
       "isRestart(x)\n",
       "restartDescription(r)\n",
       "restartFormals(r)\n",
       "\n",
       "suspendInterrupts(expr)\n",
       "allowInterrupts(expr)\n",
       "\n",
       ".signalSimpleWarning(msg, call)\n",
       ".handleSimpleError(h, msg, call)\n",
       ".tryResumeInterrupt()\n",
       "\\end{verbatim}\n",
       "\\end{Usage}\n",
       "%\n",
       "\\begin{Arguments}\n",
       "\\begin{ldescription}\n",
       "\\item[\\code{c}] a condition object.\n",
       "\\item[\\code{call}] call expression.\n",
       "\\item[\\code{cond}] a condition object.\n",
       "\\item[\\code{expr}] expression to be evaluated.\n",
       "\\item[\\code{finally}] expression to be evaluated before returning or exiting.\n",
       "\\item[\\code{h}] function.\n",
       "\\item[\\code{message}] character string.\n",
       "\\item[\\code{msg}] character string.\n",
       "\\item[\\code{name}] character string naming a restart.\n",
       "\\item[\\code{r}] restart object.\n",
       "\\item[\\code{x}] object.\n",
       "\\item[\\code{class}] character string naming a condition class.\n",
       "\\item[\\code{...}] additional arguments; see details below.\n",
       "\\end{ldescription}\n",
       "\\end{Arguments}\n",
       "%\n",
       "\\begin{Details}\\relax\n",
       "\n",
       "The condition system provides a mechanism for signaling and\n",
       "handling unusual conditions, including errors and warnings.\n",
       "Conditions are represented as objects that contain information\n",
       "about the condition that occurred, such as a message and the call in\n",
       "which the condition occurred.  Currently conditions are S3-style\n",
       "objects, though this may eventually change.\n",
       "\n",
       "Conditions are objects inheriting from the abstract class\n",
       "\\code{condition}.  Errors and warnings are objects inheriting\n",
       "from the abstract subclasses \\code{error} and \\code{warning}.\n",
       "The class \\code{simpleError} is the class used by \\code{stop}\n",
       "and all internal error signals.  Similarly, \\code{simpleWarning}\n",
       "is used by \\code{warning}, and \\code{simpleMessage} is used by\n",
       "\\code{message}.  The constructors by the same names take a string\n",
       "describing the condition as argument and an optional call.  The\n",
       "functions \\code{conditionMessage} and \\code{conditionCall} are\n",
       "generic functions that return the message and call of a condition.\n",
       "\n",
       "The function \\code{errorCondition} and \\code{warningCondition} can be\n",
       "used to construct error conditions of a particular class with\n",
       "additional fields specified as the \\code{...} argument.\n",
       "\\code{warningCondition} is analogous for warnings.\n",
       "\n",
       "Conditions are signaled by \\code{signalCondition}.  In addition,\n",
       "the \\code{stop} and \\code{warning} functions have been modified to\n",
       "also accept condition arguments.\n",
       "\n",
       "The function \\code{tryCatch} evaluates its expression argument\n",
       "in a context where the handlers provided in the \\code{...}\n",
       "argument are available.  The \\code{finally} expression is then\n",
       "evaluated in the context in which \\code{tryCatch} was called; that\n",
       "is, the handlers supplied to the current \\code{tryCatch} call are\n",
       "not active when the \\code{finally} expression is evaluated.\n",
       "\n",
       "Handlers provided in the \\code{...} argument to \\code{tryCatch}\n",
       "are established for the duration of the evaluation of \\code{expr}.\n",
       "If no condition is signaled when evaluating \\code{expr} then\n",
       "\\code{tryCatch} returns the value of the expression.\n",
       "\n",
       "If a condition is signaled while evaluating \\code{expr} then\n",
       "established handlers are checked, starting with the most recently\n",
       "established ones, for one matching the class of the condition.\n",
       "When several handlers are supplied in a single \\code{tryCatch} then\n",
       "the first one is considered more recent than the second.  If a\n",
       "handler is found then control is transferred to the\n",
       "\\code{tryCatch} call that established the handler, the handler\n",
       "found and all more recent handlers are disestablished, the handler\n",
       "is called with the condition as its argument, and the result\n",
       "returned by the handler is returned as the value of the\n",
       "\\code{tryCatch} call.\n",
       "\n",
       "Calling handlers are established by \\code{withCallingHandlers}.  If\n",
       "a condition is signaled and the applicable handler is a calling\n",
       "handler, then the handler is called by \\code{signalCondition} in\n",
       "the context where the condition was signaled but with the available\n",
       "handlers restricted to those below the handler called in the\n",
       "handler stack.  If the handler returns, then the next handler is\n",
       "tried; once the last handler has been tried, \\code{signalCondition}\n",
       "returns \\code{NULL}.\n",
       "\n",
       "User interrupts signal a condition of class \\code{interrupt} that\n",
       "inherits directly from class \\code{condition} before executing the\n",
       "default interrupt action.\n",
       "\n",
       "Restarts are used for establishing recovery protocols.  They can be\n",
       "established using \\code{withRestarts}.  One pre-established restart is\n",
       "an \\code{abort} restart that represents a jump to top level.\n",
       "\n",
       "\\code{findRestart} and \\code{computeRestarts} find the available\n",
       "restarts.  \\code{findRestart} returns the most recently established\n",
       "restart of the specified name.  \\code{computeRestarts} returns a\n",
       "list of all restarts.  Both can be given a condition argument and\n",
       "will then ignore restarts that do not apply to the condition.\n",
       "\n",
       "\\code{invokeRestart} transfers control to the point where the\n",
       "specified restart was established and calls the restart's handler with the\n",
       "arguments, if any, given as additional arguments to\n",
       "\\code{invokeRestart}.  The restart argument to \\code{invokeRestart}\n",
       "can be a character string, in which case \\code{findRestart} is used\n",
       "to find the restart.\n",
       "\n",
       "New restarts for \\code{withRestarts} can be specified in several ways.\n",
       "The simplest is in \\code{name = function} form where the function is\n",
       "the handler to call when the restart is invoked.  Another simple\n",
       "variant is as \\code{name = string} where the string is stored in the\n",
       "\\code{description} field of the restart object returned by\n",
       "\\code{findRestart}; in this case the handler ignores its arguments\n",
       "and returns \\code{NULL}.  The most flexible form of a restart\n",
       "specification is as a list that can include several fields, including\n",
       "\\code{handler}, \\code{description}, and \\code{test}.  The\n",
       "\\code{test} field should contain a function of one argument, a\n",
       "condition, that returns \\code{TRUE} if the restart applies to the\n",
       "condition and \\code{FALSE} if it does not; the default function\n",
       "returns \\code{TRUE} for all conditions.\n",
       "\n",
       "One additional field that can be specified for a restart is\n",
       "\\code{interactive}.  This should be a function of no arguments that\n",
       "returns a list of arguments to pass to the restart handler.  The list\n",
       "could be obtained by interacting with the user if necessary.  The\n",
       "function \\code{invokeRestartInteractively} calls this function to\n",
       "obtain the arguments to use when invoking the restart.  The default\n",
       "\\code{interactive} method queries the user for values for the\n",
       "formal arguments of the handler function.\n",
       "\n",
       "Interrupts can be suspended while evaluating an expression using\n",
       "\\code{suspendInterrupts}.  Subexpression can be evaluated with\n",
       "interrupts enabled using \\code{allowInterrupts}.  These functions\n",
       "can be used to make sure cleanup handlers cannot be interrupted.\n",
       "\n",
       "\\code{.signalSimpleWarning}, \\code{.handleSimpleError}, and\n",
       "\\code{.tryResumeInterrupt} are used internally and should not be\n",
       "called directly.\n",
       "\\end{Details}\n",
       "%\n",
       "\\begin{References}\\relax\n",
       "The \\code{tryCatch} mechanism is similar to Java\n",
       "error handling.  Calling handlers are based on Common Lisp and\n",
       "Dylan.  Restarts are based on the Common Lisp restart mechanism.\n",
       "\\end{References}\n",
       "%\n",
       "\\begin{SeeAlso}\\relax\n",
       "\\code{\\LinkA{stop}{stop}} and \\code{\\LinkA{warning}{warning}} signal conditions,\n",
       "and \\code{\\LinkA{try}{try}} is essentially a simplified version of\n",
       "\\code{tryCatch}.\n",
       "\\code{\\LinkA{assertCondition}{assertCondition}} in package \\pkg{tools} \\emph{tests}\n",
       "that conditions are signalled and works with several of the above\n",
       "handlers.\n",
       "\\end{SeeAlso}\n",
       "%\n",
       "\\begin{Examples}\n",
       "\\begin{ExampleCode}\n",
       "tryCatch(1, finally = print(\"Hello\"))\n",
       "e <- simpleError(\"test error\")\n",
       "## Not run: \n",
       " stop(e)\n",
       " tryCatch(stop(e), finally = print(\"Hello\"))\n",
       " tryCatch(stop(\"fred\"), finally = print(\"Hello\"))\n",
       "\n",
       "## End(Not run)\n",
       "tryCatch(stop(e), error = function(e) e, finally = print(\"Hello\"))\n",
       "tryCatch(stop(\"fred\"),  error = function(e) e, finally = print(\"Hello\"))\n",
       "withCallingHandlers({ warning(\"A\"); 1+2 }, warning = function(w) {})\n",
       "## Not run: \n",
       " { withRestarts(stop(\"A\"), abort = function() {}); 1 }\n",
       "\n",
       "## End(Not run)\n",
       "withRestarts(invokeRestart(\"foo\", 1, 2), foo = function(x, y) {x + y})\n",
       "\n",
       "##--> More examples are part of\n",
       "##-->   demo(error.catching)\n",
       "\\end{ExampleCode}\n",
       "\\end{Examples}"
      ],
      "text/plain": [
       "conditions                package:base                 R Documentation\n",
       "\n",
       "_\bC_\bo_\bn_\bd_\bi_\bt_\bi_\bo_\bn _\bH_\ba_\bn_\bd_\bl_\bi_\bn_\bg _\ba_\bn_\bd _\bR_\be_\bc_\bo_\bv_\be_\br_\by\n",
       "\n",
       "_\bD_\be_\bs_\bc_\br_\bi_\bp_\bt_\bi_\bo_\bn:\n",
       "\n",
       "     These functions provide a mechanism for handling unusual\n",
       "     conditions, including errors and warnings.\n",
       "\n",
       "_\bU_\bs_\ba_\bg_\be:\n",
       "\n",
       "     tryCatch(expr, ..., finally)\n",
       "     withCallingHandlers(expr, ...)\n",
       "     \n",
       "     signalCondition(cond)\n",
       "     \n",
       "     simpleCondition(message, call = NULL)\n",
       "     simpleError    (message, call = NULL)\n",
       "     simpleWarning  (message, call = NULL)\n",
       "     simpleMessage  (message, call = NULL)\n",
       "     \n",
       "     errorCondition(message, ..., class = NULL, call = NULL)\n",
       "     warningCondition(message, ..., class = NULL, call = NULL)\n",
       "     \n",
       "     ## S3 method for class 'condition'\n",
       "     as.character(x, ...)\n",
       "     ## S3 method for class 'error'\n",
       "     as.character(x, ...)\n",
       "     ## S3 method for class 'condition'\n",
       "     print(x, ...)\n",
       "     ## S3 method for class 'restart'\n",
       "     print(x, ...)\n",
       "     \n",
       "     conditionCall(c)\n",
       "     ## S3 method for class 'condition'\n",
       "     conditionCall(c)\n",
       "     conditionMessage(c)\n",
       "     ## S3 method for class 'condition'\n",
       "     conditionMessage(c)\n",
       "     \n",
       "     withRestarts(expr, ...)\n",
       "     \n",
       "     computeRestarts(cond = NULL)\n",
       "     findRestart(name, cond = NULL)\n",
       "     invokeRestart(r, ...)\n",
       "     invokeRestartInteractively(r)\n",
       "     \n",
       "     isRestart(x)\n",
       "     restartDescription(r)\n",
       "     restartFormals(r)\n",
       "     \n",
       "     suspendInterrupts(expr)\n",
       "     allowInterrupts(expr)\n",
       "     \n",
       "     .signalSimpleWarning(msg, call)\n",
       "     .handleSimpleError(h, msg, call)\n",
       "     .tryResumeInterrupt()\n",
       "     \n",
       "_\bA_\br_\bg_\bu_\bm_\be_\bn_\bt_\bs:\n",
       "\n",
       "       c: a condition object.\n",
       "\n",
       "    call: call expression.\n",
       "\n",
       "    cond: a condition object.\n",
       "\n",
       "    expr: expression to be evaluated.\n",
       "\n",
       " finally: expression to be evaluated before returning or exiting.\n",
       "\n",
       "       h: function.\n",
       "\n",
       " message: character string.\n",
       "\n",
       "     msg: character string.\n",
       "\n",
       "    name: character string naming a restart.\n",
       "\n",
       "       r: restart object.\n",
       "\n",
       "       x: object.\n",
       "\n",
       "   class: character string naming a condition class.\n",
       "\n",
       "     ...: additional arguments; see details below.\n",
       "\n",
       "_\bD_\be_\bt_\ba_\bi_\bl_\bs:\n",
       "\n",
       "     The condition system provides a mechanism for signaling and\n",
       "     handling unusual conditions, including errors and warnings.\n",
       "     Conditions are represented as objects that contain information\n",
       "     about the condition that occurred, such as a message and the call\n",
       "     in which the condition occurred.  Currently conditions are\n",
       "     S3-style objects, though this may eventually change.\n",
       "\n",
       "     Conditions are objects inheriting from the abstract class\n",
       "     ‘condition’.  Errors and warnings are objects inheriting from the\n",
       "     abstract subclasses ‘error’ and ‘warning’.  The class\n",
       "     ‘simpleError’ is the class used by ‘stop’ and all internal error\n",
       "     signals.  Similarly, ‘simpleWarning’ is used by ‘warning’, and\n",
       "     ‘simpleMessage’ is used by ‘message’.  The constructors by the\n",
       "     same names take a string describing the condition as argument and\n",
       "     an optional call.  The functions ‘conditionMessage’ and\n",
       "     ‘conditionCall’ are generic functions that return the message and\n",
       "     call of a condition.\n",
       "\n",
       "     The function ‘errorCondition’ and ‘warningCondition’ can be used\n",
       "     to construct error conditions of a particular class with\n",
       "     additional fields specified as the ‘...’ argument.\n",
       "     ‘warningCondition’ is analogous for warnings.\n",
       "\n",
       "     Conditions are signaled by ‘signalCondition’.  In addition, the\n",
       "     ‘stop’ and ‘warning’ functions have been modified to also accept\n",
       "     condition arguments.\n",
       "\n",
       "     The function ‘tryCatch’ evaluates its expression argument in a\n",
       "     context where the handlers provided in the ‘...’ argument are\n",
       "     available.  The ‘finally’ expression is then evaluated in the\n",
       "     context in which ‘tryCatch’ was called; that is, the handlers\n",
       "     supplied to the current ‘tryCatch’ call are not active when the\n",
       "     ‘finally’ expression is evaluated.\n",
       "\n",
       "     Handlers provided in the ‘...’ argument to ‘tryCatch’ are\n",
       "     established for the duration of the evaluation of ‘expr’.  If no\n",
       "     condition is signaled when evaluating ‘expr’ then ‘tryCatch’\n",
       "     returns the value of the expression.\n",
       "\n",
       "     If a condition is signaled while evaluating ‘expr’ then\n",
       "     established handlers are checked, starting with the most recently\n",
       "     established ones, for one matching the class of the condition.\n",
       "     When several handlers are supplied in a single ‘tryCatch’ then the\n",
       "     first one is considered more recent than the second.  If a handler\n",
       "     is found then control is transferred to the ‘tryCatch’ call that\n",
       "     established the handler, the handler found and all more recent\n",
       "     handlers are disestablished, the handler is called with the\n",
       "     condition as its argument, and the result returned by the handler\n",
       "     is returned as the value of the ‘tryCatch’ call.\n",
       "\n",
       "     Calling handlers are established by ‘withCallingHandlers’.  If a\n",
       "     condition is signaled and the applicable handler is a calling\n",
       "     handler, then the handler is called by ‘signalCondition’ in the\n",
       "     context where the condition was signaled but with the available\n",
       "     handlers restricted to those below the handler called in the\n",
       "     handler stack.  If the handler returns, then the next handler is\n",
       "     tried; once the last handler has been tried, ‘signalCondition’\n",
       "     returns ‘NULL’.\n",
       "\n",
       "     User interrupts signal a condition of class ‘interrupt’ that\n",
       "     inherits directly from class ‘condition’ before executing the\n",
       "     default interrupt action.\n",
       "\n",
       "     Restarts are used for establishing recovery protocols.  They can\n",
       "     be established using ‘withRestarts’.  One pre-established restart\n",
       "     is an ‘abort’ restart that represents a jump to top level.\n",
       "\n",
       "     ‘findRestart’ and ‘computeRestarts’ find the available restarts.\n",
       "     ‘findRestart’ returns the most recently established restart of the\n",
       "     specified name.  ‘computeRestarts’ returns a list of all restarts.\n",
       "     Both can be given a condition argument and will then ignore\n",
       "     restarts that do not apply to the condition.\n",
       "\n",
       "     ‘invokeRestart’ transfers control to the point where the specified\n",
       "     restart was established and calls the restart's handler with the\n",
       "     arguments, if any, given as additional arguments to\n",
       "     ‘invokeRestart’.  The restart argument to ‘invokeRestart’ can be a\n",
       "     character string, in which case ‘findRestart’ is used to find the\n",
       "     restart.\n",
       "\n",
       "     New restarts for ‘withRestarts’ can be specified in several ways.\n",
       "     The simplest is in ‘name = function’ form where the function is\n",
       "     the handler to call when the restart is invoked.  Another simple\n",
       "     variant is as ‘name = string’ where the string is stored in the\n",
       "     ‘description’ field of the restart object returned by\n",
       "     ‘findRestart’; in this case the handler ignores its arguments and\n",
       "     returns ‘NULL’.  The most flexible form of a restart specification\n",
       "     is as a list that can include several fields, including ‘handler’,\n",
       "     ‘description’, and ‘test’.  The ‘test’ field should contain a\n",
       "     function of one argument, a condition, that returns ‘TRUE’ if the\n",
       "     restart applies to the condition and ‘FALSE’ if it does not; the\n",
       "     default function returns ‘TRUE’ for all conditions.\n",
       "\n",
       "     One additional field that can be specified for a restart is\n",
       "     ‘interactive’.  This should be a function of no arguments that\n",
       "     returns a list of arguments to pass to the restart handler.  The\n",
       "     list could be obtained by interacting with the user if necessary.\n",
       "     The function ‘invokeRestartInteractively’ calls this function to\n",
       "     obtain the arguments to use when invoking the restart.  The\n",
       "     default ‘interactive’ method queries the user for values for the\n",
       "     formal arguments of the handler function.\n",
       "\n",
       "     Interrupts can be suspended while evaluating an expression using\n",
       "     ‘suspendInterrupts’.  Subexpression can be evaluated with\n",
       "     interrupts enabled using ‘allowInterrupts’.  These functions can\n",
       "     be used to make sure cleanup handlers cannot be interrupted.\n",
       "\n",
       "     ‘.signalSimpleWarning’, ‘.handleSimpleError’, and\n",
       "     ‘.tryResumeInterrupt’ are used internally and should not be called\n",
       "     directly.\n",
       "\n",
       "_\bR_\be_\bf_\be_\br_\be_\bn_\bc_\be_\bs:\n",
       "\n",
       "     The ‘tryCatch’ mechanism is similar to Java error handling.\n",
       "     Calling handlers are based on Common Lisp and Dylan.  Restarts are\n",
       "     based on the Common Lisp restart mechanism.\n",
       "\n",
       "_\bS_\be_\be _\bA_\bl_\bs_\bo:\n",
       "\n",
       "     ‘stop’ and ‘warning’ signal conditions, and ‘try’ is essentially a\n",
       "     simplified version of ‘tryCatch’.  ‘assertCondition’ in package\n",
       "     ‘tools’ _tests_ that conditions are signalled and works with\n",
       "     several of the above handlers.\n",
       "\n",
       "_\bE_\bx_\ba_\bm_\bp_\bl_\be_\bs:\n",
       "\n",
       "     tryCatch(1, finally = print(\"Hello\"))\n",
       "     e <- simpleError(\"test error\")\n",
       "     ## Not run:\n",
       "     \n",
       "      stop(e)\n",
       "      tryCatch(stop(e), finally = print(\"Hello\"))\n",
       "      tryCatch(stop(\"fred\"), finally = print(\"Hello\"))\n",
       "     ## End(Not run)\n",
       "     \n",
       "     tryCatch(stop(e), error = function(e) e, finally = print(\"Hello\"))\n",
       "     tryCatch(stop(\"fred\"),  error = function(e) e, finally = print(\"Hello\"))\n",
       "     withCallingHandlers({ warning(\"A\"); 1+2 }, warning = function(w) {})\n",
       "     ## Not run:\n",
       "     \n",
       "      { withRestarts(stop(\"A\"), abort = function() {}); 1 }\n",
       "     ## End(Not run)\n",
       "     \n",
       "     withRestarts(invokeRestart(\"foo\", 1, 2), foo = function(x, y) {x + y})\n",
       "     \n",
       "     ##--> More examples are part of\n",
       "     ##-->   demo(error.catching)\n",
       "     "
      ]
     },
     "metadata": {},
     "output_type": "display_data"
    }
   ],
   "source": [
    "#  ------->> R troubleshooting --------\n",
    "\n",
    "# While I generate many (and often very creative) errors in R, there are three\n",
    "# simple things that will most often go wrong for me. Those include: \n",
    "\n",
    "# 1) Capitalization. R is case sensitive - a graph vertex named \"Jack\" is not the same\n",
    "# as one named \"jack\". The function \"rowSums\" won't work as \"rowsums\" or \"RowSums\".\n",
    "#\n",
    "# 2) Object class. While many functions are willing to take anything you throw\n",
    "# at them, some will still surprisingly require character vector or a factor instead of\n",
    "# a numeric vector, or a matrix instead of a data frame. Functions will also occasionally\n",
    "# return results in an unexpected formats.\n",
    "#\n",
    "# 3) Package namespaces. Occasionally problems will arise when different packages\n",
    "# contain functions with the same name. R may warn you about this by saying something\n",
    "# like \"The following object(s) are masked from 'package:igraph'\" as you load a package.\n",
    "# One way to deal with this is to call functions from a package explicitly using '::'.\n",
    "# For instance, if function 'blah' is present in packages A and B, you can call\n",
    "# A::blah and B::blah. In other cases the problem is more complicated, and you may\n",
    "# have to load packages in certain order, or not use them together at all.\n",
    "# For example (and pertinent to this workshop), igraph and statnet packages cause\n",
    "# some problems when loaded at the same time. It is best to detach one before loading\n",
    "# the other.\n",
    "\n",
    "# For more advanced troubleshooting, check out try(), tryCatch(), and debug().\n",
    "?tryCatch"
   ]
  }
 ],
 "metadata": {
  "kernelspec": {
   "display_name": "R [conda env:r-bio]",
   "language": "R",
   "name": "conda-env-r-bio-r"
  },
  "language_info": {
   "codemirror_mode": "r",
   "file_extension": ".r",
   "mimetype": "text/x-r-source",
   "name": "R",
   "pygments_lexer": "r",
   "version": "3.6.3"
  }
 },
 "nbformat": 4,
 "nbformat_minor": 4
}
