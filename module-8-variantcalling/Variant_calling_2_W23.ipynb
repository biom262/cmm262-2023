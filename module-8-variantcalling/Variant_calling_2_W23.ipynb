{
 "cells": [
  {
   "cell_type": "markdown",
   "id": "7fb437a4",
   "metadata": {},
   "source": [
    "### Variant calling module pt 2\n",
    "\n",
    "**CMM262, Winter 2023**\n",
    "\n",
    "Kyle Gaulton, kgaulton@health.ucsd.edu\n",
    "\n",
    "Note: this notebook should be run using the `R [conda env: r-bio]` kernel.\n",
    "<br>\n",
    "<br>\n",
    "<br>\n",
    "<br>\n",
    "<b><u>Variant genotype and annotation filtering and visualization in R</u></b>\n",
    "<br><br>\n",
    "Load required R packages for this walk through\n"
   ]
  },
  {
   "cell_type": "code",
   "execution_count": 1,
   "id": "637ec0fb",
   "metadata": {
    "scrolled": true
   },
   "outputs": [
    {
     "ename": "ERROR",
     "evalue": "Error in library(tidyverse): there is no package called ‘tidyverse’\n",
     "output_type": "error",
     "traceback": [
      "Error in library(tidyverse): there is no package called ‘tidyverse’\nTraceback:\n",
      "1. library(tidyverse)"
     ]
    }
   ],
   "source": [
    "library(tidyverse)\n",
    "library(reshape2)\n"
   ]
  },
  {
   "cell_type": "markdown",
   "id": "57a314df",
   "metadata": {},
   "source": [
    "<br>\n",
    "Load tab-delimited genotype file and store in 'geno' data frame"
   ]
  },
  {
   "cell_type": "code",
   "execution_count": 2,
   "id": "cd2e9426",
   "metadata": {},
   "outputs": [
    {
     "ename": "NameError",
     "evalue": "name 'geno' is not defined",
     "output_type": "error",
     "traceback": [
      "\u001b[0;31m\u001b[0m",
      "\u001b[0;31mNameError\u001b[0mTraceback (most recent call last)",
      "\u001b[0;32m<ipython-input-2-38efcb273edb>\u001b[0m in \u001b[0;36m<module>\u001b[0;34m()\u001b[0m\n\u001b[0;32m----> 1\u001b[0;31m \u001b[0mgeno\u001b[0m \u001b[0;34m<\u001b[0m\u001b[0;34m-\u001b[0m \u001b[0mread\u001b[0m\u001b[0;34m.\u001b[0m\u001b[0mtable\u001b[0m\u001b[0;34m(\u001b[0m\u001b[0;34m\"outputs/GMTS.geno.txt\"\u001b[0m\u001b[0;34m)\u001b[0m\u001b[0;34m\u001b[0m\u001b[0m\n\u001b[0m",
      "\u001b[0;31mNameError\u001b[0m: name 'geno' is not defined"
     ]
    }
   ],
   "source": [
    "geno <- read.table(\"outputs/GMTS.geno.txt\")\n"
   ]
  },
  {
   "cell_type": "markdown",
   "id": "888cc79e",
   "metadata": {},
   "source": [
    "<br>\n",
    "View top part of geno so we can inspect the data frame"
   ]
  },
  {
   "cell_type": "code",
   "execution_count": 4,
   "id": "e8cc2e3e",
   "metadata": {
    "scrolled": true
   },
   "outputs": [
    {
     "data": {
      "text/html": [
       "<table class=\"dataframe\">\n",
       "<caption>A data.frame: 6 × 39</caption>\n",
       "<thead>\n",
       "\t<tr><th></th><th scope=col>V1</th><th scope=col>V2</th><th scope=col>V3</th><th scope=col>V4</th><th scope=col>V5</th><th scope=col>V6</th><th scope=col>V7</th><th scope=col>V8</th><th scope=col>V9</th><th scope=col>V10</th><th scope=col>⋯</th><th scope=col>V30</th><th scope=col>V31</th><th scope=col>V32</th><th scope=col>V33</th><th scope=col>V34</th><th scope=col>V35</th><th scope=col>V36</th><th scope=col>V37</th><th scope=col>V38</th><th scope=col>V39</th></tr>\n",
       "\t<tr><th></th><th scope=col>&lt;fct&gt;</th><th scope=col>&lt;int&gt;</th><th scope=col>&lt;fct&gt;</th><th scope=col>&lt;fct&gt;</th><th scope=col>&lt;fct&gt;</th><th scope=col>&lt;dbl&gt;</th><th scope=col>&lt;fct&gt;</th><th scope=col>&lt;int&gt;</th><th scope=col>&lt;dbl&gt;</th><th scope=col>&lt;int&gt;</th><th scope=col>⋯</th><th scope=col>&lt;fct&gt;</th><th scope=col>&lt;fct&gt;</th><th scope=col>&lt;fct&gt;</th><th scope=col>&lt;fct&gt;</th><th scope=col>&lt;fct&gt;</th><th scope=col>&lt;fct&gt;</th><th scope=col>&lt;fct&gt;</th><th scope=col>&lt;fct&gt;</th><th scope=col>&lt;fct&gt;</th><th scope=col>&lt;fct&gt;</th></tr>\n",
       "</thead>\n",
       "<tbody>\n",
       "\t<tr><th scope=row>1</th><td>chr21</td><td>10906915</td><td>.</td><td>C</td><td>A</td><td>1233.77</td><td>.</td><td>5</td><td>0.5</td><td>76</td><td>⋯</td><td>363,60</td><td>423</td><td>99</td><td>0/1</td><td>.</td><td>.</td><td>.</td><td>772,0,11205</td><td>.</td><td>.</td></tr>\n",
       "\t<tr><th scope=row>2</th><td>chr21</td><td>10906915</td><td>.</td><td>C</td><td>A</td><td>1233.77</td><td>.</td><td>5</td><td>0.5</td><td>76</td><td>⋯</td><td>.     </td><td>.  </td><td>. </td><td>0/0</td><td>.</td><td>.</td><td>.</td><td>.          </td><td>.</td><td>.</td></tr>\n",
       "\t<tr><th scope=row>3</th><td>chr21</td><td>10906915</td><td>.</td><td>C</td><td>A</td><td>1233.77</td><td>.</td><td>5</td><td>0.5</td><td>76</td><td>⋯</td><td>.     </td><td>.  </td><td>. </td><td>0/0</td><td>.</td><td>.</td><td>.</td><td>.          </td><td>.</td><td>.</td></tr>\n",
       "\t<tr><th scope=row>4</th><td>chr21</td><td>10906915</td><td>.</td><td>C</td><td>A</td><td>1233.77</td><td>.</td><td>5</td><td>0.5</td><td>76</td><td>⋯</td><td>.     </td><td>.  </td><td>. </td><td>0/0</td><td>.</td><td>.</td><td>.</td><td>.          </td><td>.</td><td>.</td></tr>\n",
       "\t<tr><th scope=row>5</th><td>chr21</td><td>10906915</td><td>.</td><td>C</td><td>A</td><td>1233.77</td><td>.</td><td>5</td><td>0.5</td><td>76</td><td>⋯</td><td>.     </td><td>.  </td><td>. </td><td>0/0</td><td>.</td><td>.</td><td>.</td><td>.          </td><td>.</td><td>.</td></tr>\n",
       "\t<tr><th scope=row>6</th><td>chr21</td><td>10906915</td><td>.</td><td>C</td><td>A</td><td>1233.77</td><td>.</td><td>5</td><td>0.5</td><td>76</td><td>⋯</td><td>.     </td><td>.  </td><td>. </td><td>0/0</td><td>.</td><td>.</td><td>.</td><td>.          </td><td>.</td><td>.</td></tr>\n",
       "</tbody>\n",
       "</table>\n"
      ],
      "text/latex": [
       "A data.frame: 6 × 39\n",
       "\\begin{tabular}{r|lllllllllllllllllllll}\n",
       "  & V1 & V2 & V3 & V4 & V5 & V6 & V7 & V8 & V9 & V10 & ⋯ & V30 & V31 & V32 & V33 & V34 & V35 & V36 & V37 & V38 & V39\\\\\n",
       "  & <fct> & <int> & <fct> & <fct> & <fct> & <dbl> & <fct> & <int> & <dbl> & <int> & ⋯ & <fct> & <fct> & <fct> & <fct> & <fct> & <fct> & <fct> & <fct> & <fct> & <fct>\\\\\n",
       "\\hline\n",
       "\t1 & chr21 & 10906915 & . & C & A & 1233.77 & . & 5 & 0.5 & 76 & ⋯ & 363,60 & 423 & 99 & 0/1 & . & . & . & 772,0,11205 & . & .\\\\\n",
       "\t2 & chr21 & 10906915 & . & C & A & 1233.77 & . & 5 & 0.5 & 76 & ⋯ & .      & .   & .  & 0/0 & . & . & . & .           & . & .\\\\\n",
       "\t3 & chr21 & 10906915 & . & C & A & 1233.77 & . & 5 & 0.5 & 76 & ⋯ & .      & .   & .  & 0/0 & . & . & . & .           & . & .\\\\\n",
       "\t4 & chr21 & 10906915 & . & C & A & 1233.77 & . & 5 & 0.5 & 76 & ⋯ & .      & .   & .  & 0/0 & . & . & . & .           & . & .\\\\\n",
       "\t5 & chr21 & 10906915 & . & C & A & 1233.77 & . & 5 & 0.5 & 76 & ⋯ & .      & .   & .  & 0/0 & . & . & . & .           & . & .\\\\\n",
       "\t6 & chr21 & 10906915 & . & C & A & 1233.77 & . & 5 & 0.5 & 76 & ⋯ & .      & .   & .  & 0/0 & . & . & . & .           & . & .\\\\\n",
       "\\end{tabular}\n"
      ],
      "text/markdown": [
       "\n",
       "A data.frame: 6 × 39\n",
       "\n",
       "| <!--/--> | V1 &lt;fct&gt; | V2 &lt;int&gt; | V3 &lt;fct&gt; | V4 &lt;fct&gt; | V5 &lt;fct&gt; | V6 &lt;dbl&gt; | V7 &lt;fct&gt; | V8 &lt;int&gt; | V9 &lt;dbl&gt; | V10 &lt;int&gt; | ⋯ ⋯ | V30 &lt;fct&gt; | V31 &lt;fct&gt; | V32 &lt;fct&gt; | V33 &lt;fct&gt; | V34 &lt;fct&gt; | V35 &lt;fct&gt; | V36 &lt;fct&gt; | V37 &lt;fct&gt; | V38 &lt;fct&gt; | V39 &lt;fct&gt; |\n",
       "|---|---|---|---|---|---|---|---|---|---|---|---|---|---|---|---|---|---|---|---|---|---|\n",
       "| 1 | chr21 | 10906915 | . | C | A | 1233.77 | . | 5 | 0.5 | 76 | ⋯ | 363,60 | 423 | 99 | 0/1 | . | . | . | 772,0,11205 | . | . |\n",
       "| 2 | chr21 | 10906915 | . | C | A | 1233.77 | . | 5 | 0.5 | 76 | ⋯ | .      | .   | .  | 0/0 | . | . | . | .           | . | . |\n",
       "| 3 | chr21 | 10906915 | . | C | A | 1233.77 | . | 5 | 0.5 | 76 | ⋯ | .      | .   | .  | 0/0 | . | . | . | .           | . | . |\n",
       "| 4 | chr21 | 10906915 | . | C | A | 1233.77 | . | 5 | 0.5 | 76 | ⋯ | .      | .   | .  | 0/0 | . | . | . | .           | . | . |\n",
       "| 5 | chr21 | 10906915 | . | C | A | 1233.77 | . | 5 | 0.5 | 76 | ⋯ | .      | .   | .  | 0/0 | . | . | . | .           | . | . |\n",
       "| 6 | chr21 | 10906915 | . | C | A | 1233.77 | . | 5 | 0.5 | 76 | ⋯ | .      | .   | .  | 0/0 | . | . | . | .           | . | . |\n",
       "\n"
      ],
      "text/plain": [
       "  V1    V2       V3 V4 V5 V6      V7 V8 V9  V10 ⋯ V30    V31 V32 V33 V34 V35\n",
       "1 chr21 10906915 .  C  A  1233.77 .  5  0.5 76  ⋯ 363,60 423 99  0/1 .   .  \n",
       "2 chr21 10906915 .  C  A  1233.77 .  5  0.5 76  ⋯ .      .   .   0/0 .   .  \n",
       "3 chr21 10906915 .  C  A  1233.77 .  5  0.5 76  ⋯ .      .   .   0/0 .   .  \n",
       "4 chr21 10906915 .  C  A  1233.77 .  5  0.5 76  ⋯ .      .   .   0/0 .   .  \n",
       "5 chr21 10906915 .  C  A  1233.77 .  5  0.5 76  ⋯ .      .   .   0/0 .   .  \n",
       "6 chr21 10906915 .  C  A  1233.77 .  5  0.5 76  ⋯ .      .   .   0/0 .   .  \n",
       "  V36 V37         V38 V39\n",
       "1 .   772,0,11205 .   .  \n",
       "2 .   .           .   .  \n",
       "3 .   .           .   .  \n",
       "4 .   .           .   .  \n",
       "5 .   .           .   .  \n",
       "6 .   .           .   .  "
      ]
     },
     "metadata": {},
     "output_type": "display_data"
    }
   ],
   "source": [
    "head(geno)"
   ]
  },
  {
   "cell_type": "markdown",
   "id": "0f07602a",
   "metadata": {},
   "source": [
    "<br>\n",
    "Assign column names to the data frame"
   ]
  },
  {
   "cell_type": "code",
   "execution_count": 5,
   "id": "b5c1c367",
   "metadata": {},
   "outputs": [],
   "source": [
    "colnames(geno) <- c(\"chr\",\"raw_pos\",\"id\",\"raw_ref\",\"raw_alt\",\"qual\",\"filter\",\"AC\",\"AF\",\"AN\",\"BaseQRankSum\",\"ClippingRankSum\",\"DP\",\"DS\",\"END\",\"ExcessHet\",\"FS\",\"Hrun\",\"HaplotypeScore\",\"InbreedingCoeff\",\"MLEAC\",\"MLEAF\",\"MQ\",\"MQRankSum\",\"QD\",\"RAW_MQ\",\"ReadPosRankSum\",\"SOR\",\"SAMPLE\",\"AD\",\"DP.1\",\"GQ\",\"GT\",\"MIN_DP\",\"PGT\",\"PID\",\"PL\",\"RGQ\",\"SB\")"
   ]
  },
  {
   "cell_type": "markdown",
   "id": "10a87c31",
   "metadata": {},
   "source": [
    "<br>\n",
    "Double check that column names look correct"
   ]
  },
  {
   "cell_type": "code",
   "execution_count": 6,
   "id": "f04ca72b",
   "metadata": {
    "scrolled": true
   },
   "outputs": [
    {
     "data": {
      "text/html": [
       "<table class=\"dataframe\">\n",
       "<caption>A data.frame: 6 × 39</caption>\n",
       "<thead>\n",
       "\t<tr><th></th><th scope=col>chr</th><th scope=col>raw_pos</th><th scope=col>id</th><th scope=col>raw_ref</th><th scope=col>raw_alt</th><th scope=col>qual</th><th scope=col>filter</th><th scope=col>AC</th><th scope=col>AF</th><th scope=col>AN</th><th scope=col>⋯</th><th scope=col>AD</th><th scope=col>DP.1</th><th scope=col>GQ</th><th scope=col>GT</th><th scope=col>MIN_DP</th><th scope=col>PGT</th><th scope=col>PID</th><th scope=col>PL</th><th scope=col>RGQ</th><th scope=col>SB</th></tr>\n",
       "\t<tr><th></th><th scope=col>&lt;fct&gt;</th><th scope=col>&lt;int&gt;</th><th scope=col>&lt;fct&gt;</th><th scope=col>&lt;fct&gt;</th><th scope=col>&lt;fct&gt;</th><th scope=col>&lt;dbl&gt;</th><th scope=col>&lt;fct&gt;</th><th scope=col>&lt;int&gt;</th><th scope=col>&lt;dbl&gt;</th><th scope=col>&lt;int&gt;</th><th scope=col>⋯</th><th scope=col>&lt;fct&gt;</th><th scope=col>&lt;fct&gt;</th><th scope=col>&lt;fct&gt;</th><th scope=col>&lt;fct&gt;</th><th scope=col>&lt;fct&gt;</th><th scope=col>&lt;fct&gt;</th><th scope=col>&lt;fct&gt;</th><th scope=col>&lt;fct&gt;</th><th scope=col>&lt;fct&gt;</th><th scope=col>&lt;fct&gt;</th></tr>\n",
       "</thead>\n",
       "<tbody>\n",
       "\t<tr><th scope=row>1</th><td>chr21</td><td>10906915</td><td>.</td><td>C</td><td>A</td><td>1233.77</td><td>.</td><td>5</td><td>0.5</td><td>76</td><td>⋯</td><td>363,60</td><td>423</td><td>99</td><td>0/1</td><td>.</td><td>.</td><td>.</td><td>772,0,11205</td><td>.</td><td>.</td></tr>\n",
       "\t<tr><th scope=row>2</th><td>chr21</td><td>10906915</td><td>.</td><td>C</td><td>A</td><td>1233.77</td><td>.</td><td>5</td><td>0.5</td><td>76</td><td>⋯</td><td>.     </td><td>.  </td><td>. </td><td>0/0</td><td>.</td><td>.</td><td>.</td><td>.          </td><td>.</td><td>.</td></tr>\n",
       "\t<tr><th scope=row>3</th><td>chr21</td><td>10906915</td><td>.</td><td>C</td><td>A</td><td>1233.77</td><td>.</td><td>5</td><td>0.5</td><td>76</td><td>⋯</td><td>.     </td><td>.  </td><td>. </td><td>0/0</td><td>.</td><td>.</td><td>.</td><td>.          </td><td>.</td><td>.</td></tr>\n",
       "\t<tr><th scope=row>4</th><td>chr21</td><td>10906915</td><td>.</td><td>C</td><td>A</td><td>1233.77</td><td>.</td><td>5</td><td>0.5</td><td>76</td><td>⋯</td><td>.     </td><td>.  </td><td>. </td><td>0/0</td><td>.</td><td>.</td><td>.</td><td>.          </td><td>.</td><td>.</td></tr>\n",
       "\t<tr><th scope=row>5</th><td>chr21</td><td>10906915</td><td>.</td><td>C</td><td>A</td><td>1233.77</td><td>.</td><td>5</td><td>0.5</td><td>76</td><td>⋯</td><td>.     </td><td>.  </td><td>. </td><td>0/0</td><td>.</td><td>.</td><td>.</td><td>.          </td><td>.</td><td>.</td></tr>\n",
       "\t<tr><th scope=row>6</th><td>chr21</td><td>10906915</td><td>.</td><td>C</td><td>A</td><td>1233.77</td><td>.</td><td>5</td><td>0.5</td><td>76</td><td>⋯</td><td>.     </td><td>.  </td><td>. </td><td>0/0</td><td>.</td><td>.</td><td>.</td><td>.          </td><td>.</td><td>.</td></tr>\n",
       "</tbody>\n",
       "</table>\n"
      ],
      "text/latex": [
       "A data.frame: 6 × 39\n",
       "\\begin{tabular}{r|lllllllllllllllllllll}\n",
       "  & chr & raw\\_pos & id & raw\\_ref & raw\\_alt & qual & filter & AC & AF & AN & ⋯ & AD & DP.1 & GQ & GT & MIN\\_DP & PGT & PID & PL & RGQ & SB\\\\\n",
       "  & <fct> & <int> & <fct> & <fct> & <fct> & <dbl> & <fct> & <int> & <dbl> & <int> & ⋯ & <fct> & <fct> & <fct> & <fct> & <fct> & <fct> & <fct> & <fct> & <fct> & <fct>\\\\\n",
       "\\hline\n",
       "\t1 & chr21 & 10906915 & . & C & A & 1233.77 & . & 5 & 0.5 & 76 & ⋯ & 363,60 & 423 & 99 & 0/1 & . & . & . & 772,0,11205 & . & .\\\\\n",
       "\t2 & chr21 & 10906915 & . & C & A & 1233.77 & . & 5 & 0.5 & 76 & ⋯ & .      & .   & .  & 0/0 & . & . & . & .           & . & .\\\\\n",
       "\t3 & chr21 & 10906915 & . & C & A & 1233.77 & . & 5 & 0.5 & 76 & ⋯ & .      & .   & .  & 0/0 & . & . & . & .           & . & .\\\\\n",
       "\t4 & chr21 & 10906915 & . & C & A & 1233.77 & . & 5 & 0.5 & 76 & ⋯ & .      & .   & .  & 0/0 & . & . & . & .           & . & .\\\\\n",
       "\t5 & chr21 & 10906915 & . & C & A & 1233.77 & . & 5 & 0.5 & 76 & ⋯ & .      & .   & .  & 0/0 & . & . & . & .           & . & .\\\\\n",
       "\t6 & chr21 & 10906915 & . & C & A & 1233.77 & . & 5 & 0.5 & 76 & ⋯ & .      & .   & .  & 0/0 & . & . & . & .           & . & .\\\\\n",
       "\\end{tabular}\n"
      ],
      "text/markdown": [
       "\n",
       "A data.frame: 6 × 39\n",
       "\n",
       "| <!--/--> | chr &lt;fct&gt; | raw_pos &lt;int&gt; | id &lt;fct&gt; | raw_ref &lt;fct&gt; | raw_alt &lt;fct&gt; | qual &lt;dbl&gt; | filter &lt;fct&gt; | AC &lt;int&gt; | AF &lt;dbl&gt; | AN &lt;int&gt; | ⋯ ⋯ | AD &lt;fct&gt; | DP.1 &lt;fct&gt; | GQ &lt;fct&gt; | GT &lt;fct&gt; | MIN_DP &lt;fct&gt; | PGT &lt;fct&gt; | PID &lt;fct&gt; | PL &lt;fct&gt; | RGQ &lt;fct&gt; | SB &lt;fct&gt; |\n",
       "|---|---|---|---|---|---|---|---|---|---|---|---|---|---|---|---|---|---|---|---|---|---|\n",
       "| 1 | chr21 | 10906915 | . | C | A | 1233.77 | . | 5 | 0.5 | 76 | ⋯ | 363,60 | 423 | 99 | 0/1 | . | . | . | 772,0,11205 | . | . |\n",
       "| 2 | chr21 | 10906915 | . | C | A | 1233.77 | . | 5 | 0.5 | 76 | ⋯ | .      | .   | .  | 0/0 | . | . | . | .           | . | . |\n",
       "| 3 | chr21 | 10906915 | . | C | A | 1233.77 | . | 5 | 0.5 | 76 | ⋯ | .      | .   | .  | 0/0 | . | . | . | .           | . | . |\n",
       "| 4 | chr21 | 10906915 | . | C | A | 1233.77 | . | 5 | 0.5 | 76 | ⋯ | .      | .   | .  | 0/0 | . | . | . | .           | . | . |\n",
       "| 5 | chr21 | 10906915 | . | C | A | 1233.77 | . | 5 | 0.5 | 76 | ⋯ | .      | .   | .  | 0/0 | . | . | . | .           | . | . |\n",
       "| 6 | chr21 | 10906915 | . | C | A | 1233.77 | . | 5 | 0.5 | 76 | ⋯ | .      | .   | .  | 0/0 | . | . | . | .           | . | . |\n",
       "\n"
      ],
      "text/plain": [
       "  chr   raw_pos  id raw_ref raw_alt qual    filter AC AF  AN ⋯ AD     DP.1 GQ\n",
       "1 chr21 10906915 .  C       A       1233.77 .      5  0.5 76 ⋯ 363,60 423  99\n",
       "2 chr21 10906915 .  C       A       1233.77 .      5  0.5 76 ⋯ .      .    . \n",
       "3 chr21 10906915 .  C       A       1233.77 .      5  0.5 76 ⋯ .      .    . \n",
       "4 chr21 10906915 .  C       A       1233.77 .      5  0.5 76 ⋯ .      .    . \n",
       "5 chr21 10906915 .  C       A       1233.77 .      5  0.5 76 ⋯ .      .    . \n",
       "6 chr21 10906915 .  C       A       1233.77 .      5  0.5 76 ⋯ .      .    . \n",
       "  GT  MIN_DP PGT PID PL          RGQ SB\n",
       "1 0/1 .      .   .   772,0,11205 .   . \n",
       "2 0/0 .      .   .   .           .   . \n",
       "3 0/0 .      .   .   .           .   . \n",
       "4 0/0 .      .   .   .           .   . \n",
       "5 0/0 .      .   .   .           .   . \n",
       "6 0/0 .      .   .   .           .   . "
      ]
     },
     "metadata": {},
     "output_type": "display_data"
    }
   ],
   "source": [
    "head(geno)"
   ]
  },
  {
   "cell_type": "markdown",
   "id": "3774b328",
   "metadata": {},
   "source": [
    "<br>\n",
    "Create a new column with a unique ID for each variant"
   ]
  },
  {
   "cell_type": "code",
   "execution_count": 7,
   "id": "77c9536e",
   "metadata": {},
   "outputs": [
    {
     "ename": "ERROR",
     "evalue": "Error in geno %>% mutate(varID = paste(chr, raw_pos, raw_ref, raw_alt, : could not find function \"%>%\"\n",
     "output_type": "error",
     "traceback": [
      "Error in geno %>% mutate(varID = paste(chr, raw_pos, raw_ref, raw_alt, : could not find function \"%>%\"\nTraceback:\n"
     ]
    }
   ],
   "source": [
    "#create a unique variant ID\n",
    "geno <- geno %>% mutate(varID=paste(chr,raw_pos,raw_ref,raw_alt,sep=\":\"))"
   ]
  },
  {
   "cell_type": "markdown",
   "id": "c6e8d809",
   "metadata": {},
   "source": [
    "<br>\n",
    "Double check that column names look correct"
   ]
  },
  {
   "cell_type": "code",
   "execution_count": null,
   "id": "e5f011b0",
   "metadata": {
    "scrolled": true
   },
   "outputs": [],
   "source": [
    "head(geno)"
   ]
  },
  {
   "cell_type": "markdown",
   "id": "510c87fd",
   "metadata": {},
   "source": [
    "<br>\n",
    "Create new column with SNP/indel variant info"
   ]
  },
  {
   "cell_type": "code",
   "execution_count": null,
   "id": "ecc851a2",
   "metadata": {},
   "outputs": [],
   "source": [
    "geno<-geno %>% mutate(type=ifelse(nchar(as.character(raw_ref))>1 | nchar(as.character(raw_alt))>1,\"indel\",\"SNV\"))\n"
   ]
  },
  {
   "cell_type": "markdown",
   "id": "5c8fd95a",
   "metadata": {},
   "source": [
    "<br>\n",
    "Double check that column names look correct"
   ]
  },
  {
   "cell_type": "code",
   "execution_count": null,
   "id": "eed13dfb",
   "metadata": {
    "scrolled": true
   },
   "outputs": [],
   "source": [
    "head(geno)"
   ]
  },
  {
   "cell_type": "markdown",
   "id": "72147d76",
   "metadata": {},
   "source": [
    "<br>\n",
    "Set sample column to type 'character' so it doesn't get mistakenly interpreted as numbers"
   ]
  },
  {
   "cell_type": "code",
   "execution_count": null,
   "id": "51998944",
   "metadata": {},
   "outputs": [],
   "source": [
    "geno$SAMPLE <- as.character(geno$SAMPLE)\n"
   ]
  },
  {
   "cell_type": "markdown",
   "id": "c47c022f",
   "metadata": {},
   "source": [
    "<br>\n",
    "Double check sample column"
   ]
  },
  {
   "cell_type": "code",
   "execution_count": null,
   "id": "19e769ea",
   "metadata": {
    "scrolled": true
   },
   "outputs": [],
   "source": [
    "head(geno$SAMPLE)"
   ]
  },
  {
   "cell_type": "markdown",
   "id": "0b24877e",
   "metadata": {},
   "source": [
    "<br>\n",
    "Determine how many unique variants there are"
   ]
  },
  {
   "cell_type": "code",
   "execution_count": null,
   "id": "86a2a0b0",
   "metadata": {},
   "outputs": [],
   "source": [
    "geno %>% select(varID) %>% unique() %>% nrow()\n"
   ]
  },
  {
   "cell_type": "markdown",
   "id": "8bc455ca",
   "metadata": {},
   "source": [
    "<br>\n",
    "Determine how many unique samples there are"
   ]
  },
  {
   "cell_type": "code",
   "execution_count": null,
   "id": "e9ac9ee6",
   "metadata": {},
   "outputs": [],
   "source": [
    "geno %>% select(SAMPLE) %>% unique() %>% nrow()\n"
   ]
  },
  {
   "cell_type": "markdown",
   "id": "292d0dfd",
   "metadata": {},
   "source": [
    "<br>\n",
    "How many of each genotype category are there?"
   ]
  },
  {
   "cell_type": "code",
   "execution_count": null,
   "id": "7fd3be49",
   "metadata": {},
   "outputs": [],
   "source": [
    "table(geno$GT)\n"
   ]
  },
  {
   "cell_type": "markdown",
   "id": "5bb317a9",
   "metadata": {},
   "source": [
    "<br>\n",
    "Filter only heterozygous or homozygous alternate genotype calls"
   ]
  },
  {
   "cell_type": "code",
   "execution_count": null,
   "id": "78ec9f9e",
   "metadata": {},
   "outputs": [],
   "source": [
    "geno <- geno %>% filter(GT==\"0/1\" | GT==\"1/1\")\n"
   ]
  },
  {
   "cell_type": "markdown",
   "id": "6588657b",
   "metadata": {},
   "source": [
    "<br>\n",
    "Filter only variants that are SNPs and save as new data frame geno2"
   ]
  },
  {
   "cell_type": "code",
   "execution_count": null,
   "id": "9bf89577",
   "metadata": {},
   "outputs": [],
   "source": [
    "geno$raw_ref <- as.character(geno$raw_ref)\n",
    "geno$raw_alt <- as.character(geno$raw_alt)\n",
    "geno$AD <- as.character(geno$AD)\n",
    "geno2<-geno %>% filter(!str_detect(AD,\"\\\\.\"))\n"
   ]
  },
  {
   "cell_type": "markdown",
   "id": "8e72f3fe",
   "metadata": {},
   "source": [
    "<br>\n",
    "Determine allele fraction observed for each SNP"
   ]
  },
  {
   "cell_type": "code",
   "execution_count": null,
   "id": "226c5f5e",
   "metadata": {},
   "outputs": [],
   "source": [
    "geno2<-geno2 %>% separate(AD,into=c(\"Rcnt\",\"Acnt\"),remove = F, convert=T, sep=\",\") %>% mutate(AF=Acnt/(Rcnt+Acnt))\n"
   ]
  },
  {
   "cell_type": "markdown",
   "id": "460b3c71",
   "metadata": {},
   "source": [
    "<br>\n",
    "Summarize variants by genotype and variant type per sample"
   ]
  },
  {
   "cell_type": "code",
   "execution_count": null,
   "id": "f4cde03e",
   "metadata": {},
   "outputs": [],
   "source": [
    "geno %>% select(SAMPLE,GT,type,varID) %>% \n",
    "  unique() %>% \n",
    "  group_by(SAMPLE,GT,type) %>% \n",
    "  tally() \n",
    "    "
   ]
  },
  {
   "cell_type": "markdown",
   "id": "346d6b12",
   "metadata": {},
   "source": [
    "<br>\n",
    "Summarize and plot average number of each variant type per sample"
   ]
  },
  {
   "cell_type": "code",
   "execution_count": null,
   "id": "e3524234",
   "metadata": {},
   "outputs": [],
   "source": [
    "geno %>% select(SAMPLE,type,varID) %>% \n",
    "  unique() %>% \n",
    "  group_by(SAMPLE,type) %>% \n",
    "  summarize(Nvariants=length(varID)) %>%\n",
    "  group_by(type) %>%\n",
    "  summarize(medVar=median(Nvariants),minVar=min(Nvariants),maxVar=max(Nvariants))"
   ]
  },
  {
   "cell_type": "code",
   "execution_count": null,
   "id": "f2060175",
   "metadata": {},
   "outputs": [],
   "source": [
    "geno3 <- geno %>% select(SAMPLE,type,varID) %>% \n",
    "  unique() %>% \n",
    "  group_by(SAMPLE,type) %>% \n",
    "  summarize(Nvariants=length(varID))\n",
    "\n",
    "ggplot(geno3,aes(x=Nvariants,y=SAMPLE,col=type)) + geom_point() + theme_classic()\n",
    "ggplot(filter(geno3,type==\"SNV\"),aes(x=Nvariants)) + geom_histogram() + theme_classic()\n",
    " ggplot(filter(geno3,type==\"indel\"),aes(x=Nvariants)) + geom_histogram() + theme_classic()"
   ]
  },
  {
   "cell_type": "markdown",
   "id": "e00151d7",
   "metadata": {},
   "source": [
    "<br>\n",
    "<b><u>Filtering and visualizing variant annotations</u></b>\n",
    "<br><br>\n",
    "Read in variant annotation file into data frame 'var', and add column names"
   ]
  },
  {
   "cell_type": "code",
   "execution_count": null,
   "id": "914961b6",
   "metadata": {},
   "outputs": [],
   "source": [
    "var <- read.delim2(\"myanno.21.txt\",header=F,sep=\"\\t\")\n",
    "colnames(var)<-c(\"chr\",\"pos\",\"raw_pos\",\"ref\",\"raw_ref\",\"alt\",\"raw_alt\",\"mut_type\",\"function\",\"region_type\",\"region_name\",\"refGene.name\",\"refGene.name2\",\"dbSNP.name\",\"ExAC_r0_3_sites_vep.name\",\"ExAC_r0_3_sites_vep.AF\",\"dbNSFP.SIFT_pred\",\"dbNSFP.Polyphen2_HDIV_pred\",\"dbNSFP.MutationTaster_pred\",\"dbNSFP.MetaSVM_pred\",\"dbNSFP.clinvar_clnsig\",\"clinvar.CLNSIG\")\n"
   ]
  },
  {
   "cell_type": "code",
   "execution_count": null,
   "id": "be87fc85-e08b-485e-bd16-137a8fb0297c",
   "metadata": {},
   "outputs": [],
   "source": []
  },
  {
   "cell_type": "raw",
   "id": "8558b63d-7c3e-49db-bf02-04d80d857272",
   "metadata": {},
   "source": []
  },
  {
   "cell_type": "markdown",
   "id": "12ead1ce",
   "metadata": {},
   "source": [
    "<br>\n",
    "View top of data frame to make sure all looks good"
   ]
  },
  {
   "cell_type": "code",
   "execution_count": null,
   "id": "83c02bd9",
   "metadata": {},
   "outputs": [],
   "source": [
    "head(var)"
   ]
  },
  {
   "cell_type": "markdown",
   "id": "b9ed88bb",
   "metadata": {},
   "source": [
    "<br>\n",
    "Remove leading and trailing white spaces and add column types in same data frame"
   ]
  },
  {
   "cell_type": "code",
   "execution_count": null,
   "id": "37720362",
   "metadata": {},
   "outputs": [],
   "source": [
    "var$chr <- paste0(\"chr\",trimws(var$chr))\n",
    "var$raw_pos<-as.numeric(trimws(var$raw_pos))\n",
    "var$raw_ref<-trimws(var$raw_ref)\n",
    "var$raw_alt<-trimws(var$raw_alt)\n",
    "var$refGene.name2<-trimws(var$refGene.name2)\n"
   ]
  },
  {
   "cell_type": "markdown",
   "id": "86866420",
   "metadata": {},
   "source": [
    "<br>\n",
    "Create a new column with a unique variant ID in same data frame"
   ]
  },
  {
   "cell_type": "code",
   "execution_count": null,
   "id": "f96ffcdd",
   "metadata": {},
   "outputs": [],
   "source": [
    "var <- var %>% mutate(varID=paste(chr,raw_pos,raw_ref,raw_alt,sep=\":\"))\n"
   ]
  },
  {
   "cell_type": "markdown",
   "id": "eda568b7",
   "metadata": {},
   "source": [
    "<br>\n",
    "Summarize number of unique variants"
   ]
  },
  {
   "cell_type": "code",
   "execution_count": null,
   "id": "2f5b82e2",
   "metadata": {},
   "outputs": [],
   "source": [
    "var %>% select(varID) %>% unique() %>% nrow()\n"
   ]
  },
  {
   "cell_type": "markdown",
   "id": "a30f63bd",
   "metadata": {},
   "source": [
    "<br>\n",
    "Summarize number of variants by functional category"
   ]
  },
  {
   "cell_type": "code",
   "execution_count": null,
   "id": "ea452acb",
   "metadata": {},
   "outputs": [],
   "source": [
    "var %>% group_by(mut_type) %>% tally()\n"
   ]
  },
  {
   "cell_type": "markdown",
   "id": "9d782e71",
   "metadata": {},
   "source": [
    "<br>\n",
    "Summarize number of variants in each functional category by gene"
   ]
  },
  {
   "cell_type": "code",
   "execution_count": null,
   "id": "304ab99e",
   "metadata": {},
   "outputs": [],
   "source": [
    "var %>% filter(refGene.name2==\"DOPEY2\") %>% group_by(mut_type) %>% tally()\n"
   ]
  },
  {
   "cell_type": "markdown",
   "id": "ed4e6214",
   "metadata": {},
   "source": [
    "<br>\n",
    "Summarize variants with potential clinical significance in Clinvar"
   ]
  },
  {
   "cell_type": "code",
   "execution_count": null,
   "id": "fcc2e3cb",
   "metadata": {
    "scrolled": true
   },
   "outputs": [],
   "source": [
    "var %>% filter(dbNSFP.clinvar_clnsig==5) %>% select(dbSNP.name,mut_type,refGene.name2) %>% unique()\n"
   ]
  },
  {
   "cell_type": "markdown",
   "id": "c6322a4b",
   "metadata": {},
   "source": [
    "<Br>\n",
    "Summarize nonsynonymous variants per gene and store in new data frame var2.  Then extract and plot the genes with the largest number of nonsynonymous variants"
   ]
  },
  {
   "cell_type": "code",
   "execution_count": null,
   "id": "c7f55d4c",
   "metadata": {
    "scrolled": true
   },
   "outputs": [],
   "source": [
    "var2 <- var %>% filter(grepl(\"nonsynonymous\",mut_type))\n",
    "\n",
    "ggplot(var2,aes(refGene.name2))+geom_bar()+coord_flip()+theme(axis.text.y = element_text(size = 5))\n",
    "\n"
   ]
  },
  {
   "cell_type": "code",
   "execution_count": null,
   "id": "87dc4744",
   "metadata": {
    "scrolled": true
   },
   "outputs": [],
   "source": [
    "topGenes <- var2 %>% group_by(refGene.name2) %>% tally() %>% top_n(20,n) %>% select(refGene.name2)\n",
    "topGenes\n",
    "var_top<-left_join(topGenes,var2)\n",
    "ggplot(var_top,aes(refGene.name2))+geom_bar() + coord_flip()\n"
   ]
  },
  {
   "cell_type": "markdown",
   "id": "99a8d467",
   "metadata": {},
   "source": [
    "<br>\n",
    "Combine annotation and genotype data into one data frame"
   ]
  },
  {
   "cell_type": "code",
   "execution_count": null,
   "id": "381e054a",
   "metadata": {},
   "outputs": [],
   "source": [
    "geno_lite <- geno %>% select(varID,SAMPLE,type,qual,GT,DP)\n",
    "anno_lite <- var %>% select(varID,refGene.name2,mut_type,region_type,`function`)\n",
    "data <- left_join(geno_lite,anno_lite)\n"
   ]
  },
  {
   "cell_type": "markdown",
   "id": "379d3729",
   "metadata": {},
   "source": [
    "<br>\n",
    "Summarize number of frameshift mutations per sample"
   ]
  },
  {
   "cell_type": "code",
   "execution_count": null,
   "id": "bad61a35",
   "metadata": {
    "scrolled": true
   },
   "outputs": [],
   "source": [
    "data %>% group_by(SAMPLE) %>% filter(grepl(\"frameshift\",mut_type)) %>% summarize(NS=length(varID))\n"
   ]
  },
  {
   "cell_type": "markdown",
   "id": "06df633a",
   "metadata": {},
   "source": [
    "<br>\n",
    "Visualize variant quality by type of variant and genotype class"
   ]
  },
  {
   "cell_type": "code",
   "execution_count": null,
   "id": "0a84a4a1",
   "metadata": {},
   "outputs": [],
   "source": [
    "ggplot(data,aes(type,qual))+geom_boxplot()+facet_wrap(~SAMPLE)\n",
    "\n",
    "ggplot(data,aes(type,qual))+geom_boxplot(outlier.shape = NA)+geom_jitter(width=0.1)+facet_wrap(~SAMPLE)\n",
    "\n"
   ]
  },
  {
   "cell_type": "markdown",
   "id": "80f8ed72",
   "metadata": {},
   "source": [
    "<br>\n",
    "Visualize variant quality for SNPs and indels from a single sample"
   ]
  },
  {
   "cell_type": "code",
   "execution_count": null,
   "id": "b13c034e",
   "metadata": {},
   "outputs": [],
   "source": [
    "sdata <- data %>% filter(SAMPLE==\"201849403\") %>% filter(type==\"SNV\")\n",
    "\n",
    "ggplot(sdata,aes(type,qual))+geom_boxplot(outlier.shape = NA)+geom_jitter(width=0.1)+facet_grid(~mut_type)\n",
    "\n",
    "sdata2 <- data %>% filter(SAMPLE==\"201849403\") %>% filter(type==\"indel\")\n",
    "\n",
    "ggplot(sdata2,aes(type,qual))+geom_boxplot(outlier.shape = NA)+geom_jitter(width=0.1)+facet_grid(~mut_type)\n"
   ]
  },
  {
   "cell_type": "markdown",
   "id": "3cd02427",
   "metadata": {},
   "source": [
    "<br>\n",
    "Visualize distribution of depth of coverage across variants"
   ]
  },
  {
   "cell_type": "code",
   "execution_count": null,
   "id": "be4dbdd8",
   "metadata": {},
   "outputs": [],
   "source": [
    "ggplot(data,aes(type,log10(DP)))+geom_boxplot()\n"
   ]
  },
  {
   "cell_type": "markdown",
   "id": "1f338e93",
   "metadata": {},
   "source": [
    "<br>\n",
    "Visualize variants per sample by specific functional categories"
   ]
  },
  {
   "cell_type": "code",
   "execution_count": null,
   "id": "c46c743e",
   "metadata": {},
   "outputs": [],
   "source": [
    "ggplot(data,aes(SAMPLE,fill=mut_type))+geom_bar()\n",
    "\n",
    "del_vars <- data %>% filter(grepl(\"^frameshift|^stop\",mut_type))\n",
    "\n",
    "ggplot(del_vars,aes(SAMPLE,fill=mut_type))+geom_bar()"
   ]
  }
 ],
 "metadata": {
  "kernelspec": {
   "display_name": "R [conda env:r-bio]",
   "language": "R",
   "name": "conda-env-r-bio-r"
  },
  "language_info": {
   "codemirror_mode": "r",
   "file_extension": ".r",
   "mimetype": "text/x-r-source",
   "name": "R",
   "pygments_lexer": "r",
   "version": "3.6.3"
  }
 },
 "nbformat": 4,
 "nbformat_minor": 5
}
