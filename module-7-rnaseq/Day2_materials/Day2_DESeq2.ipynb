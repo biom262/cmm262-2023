{
 "cells": [
  {
   "cell_type": "markdown",
   "id": "cd070ec7",
   "metadata": {},
   "source": [
    "# DESeq2 with miRNA counts table"
   ]
  },
  {
   "cell_type": "markdown",
   "id": "e396ea81",
   "metadata": {},
   "source": [
    "[Resources] (http://bioconductor.org/packages/devel/bioc/vignettes/DESeq2/inst/doc/DESeq2.html)"
   ]
  },
  {
   "cell_type": "code",
   "execution_count": null,
   "id": "7f674c79",
   "metadata": {},
   "outputs": [],
   "source": [
    "options(stringsAsFactors = FALSE)"
   ]
  },
  {
   "cell_type": "markdown",
   "id": "b5bc6325",
   "metadata": {},
   "source": [
    "Load required libraries (install packages if required)"
   ]
  },
  {
   "cell_type": "code",
   "execution_count": null,
   "id": "f132b43b",
   "metadata": {
    "scrolled": true
   },
   "outputs": [],
   "source": [
    "library(ggplot2)\n",
    "library(gplots)\n",
    "library(data.table)\n",
    "library(limma)\n",
    "library(DESeq2)\n",
    "library(RColorBrewer)\n",
    "library(apeglm) "
   ]
  },
  {
   "cell_type": "markdown",
   "id": "9657775c",
   "metadata": {},
   "source": [
    "### Creating DESeq2 object"
   ]
  },
  {
   "cell_type": "markdown",
   "id": "2e29a79d",
   "metadata": {},
   "source": [
    "Read in counts file from `Data/Serum_ExoR_Nor_miRNA_counts.csv` and view head of file"
   ]
  },
  {
   "cell_type": "code",
   "execution_count": null,
   "id": "754decc5",
   "metadata": {},
   "outputs": [],
   "source": [
    "counts<-read.csv(\"FILE\",header=TRUE,row.names=1)"
   ]
  },
  {
   "cell_type": "code",
   "execution_count": null,
   "id": "460da7d2",
   "metadata": {},
   "outputs": [],
   "source": [
    "head()"
   ]
  },
  {
   "cell_type": "markdown",
   "id": "225bb5c4",
   "metadata": {},
   "source": [
    "**Make DESeq2 object: Define counts matrix, groups, and design**\n",
    "- countData: matrix of counts\n",
    "- colData: dataframe with metadata for each sample\n",
    "- design: name of column in colData we want to use as comparators "
   ]
  },
  {
   "cell_type": "code",
   "execution_count": null,
   "id": "696b7a39",
   "metadata": {},
   "outputs": [],
   "source": [
    "countData<-as.matrix(VARIABLE)\n",
    "ncol(countData)"
   ]
  },
  {
   "cell_type": "code",
   "execution_count": null,
   "id": "bce584f5",
   "metadata": {},
   "outputs": [],
   "source": [
    "colData<-data.frame(condition=c(rep(\"ExoR\",times=4),rep(\"Nor\",times=3)))\n",
    "colData"
   ]
  },
  {
   "cell_type": "markdown",
   "id": "cda692d9",
   "metadata": {},
   "source": [
    "Create the DESeq2 object using `DESeqDataSetFromMatrix()`"
   ]
  },
  {
   "cell_type": "code",
   "execution_count": null,
   "id": "a3abd30f",
   "metadata": {},
   "outputs": [],
   "source": [
    "dds <- DESeqDataSetFromMatrix(countData = VARIABLE, colData = VARIABLE, design = ~VARIABLE) \n",
    "dds\n",
    "class(dds)"
   ]
  },
  {
   "cell_type": "markdown",
   "id": "6be40565",
   "metadata": {},
   "source": [
    "### Normalization"
   ]
  },
  {
   "cell_type": "markdown",
   "id": "292ba25d",
   "metadata": {},
   "source": [
    "Calculate normalization factors and read out normalized counts file. DESeq2 doesn’t actually use normalized counts, rather it uses the raw counts and models the normalization inside the Generalized Linear Model (GLM). \n",
    "\n",
    "To do this, we can use the function [`estimateSizeFactors()`](https://rdrr.io/bioc/DESeq2/man/estimateSizeFactors.html), which \"estimates the size factors using the \"median ratio method\" described by Equation 5 in Anders and Huber (2010)\"."
   ]
  },
  {
   "cell_type": "code",
   "execution_count": null,
   "id": "0f90b01c",
   "metadata": {},
   "outputs": [],
   "source": [
    "dds <- estimateSizeFactors(dds)\n",
    "sizeFactors(dds)"
   ]
  },
  {
   "cell_type": "markdown",
   "id": "c7cab8ab",
   "metadata": {},
   "source": [
    "These normalized counts will be useful for downstream visualization of results, but cannot be used as input to DESeq2 or any other tools that peform differential expression analysis which use the negative binomial model.\n",
    "\n",
    "We can extract the normalized counts using `counts()` with the parameter `normalized=TRUE`."
   ]
  },
  {
   "cell_type": "code",
   "execution_count": null,
   "id": "a963f2b3",
   "metadata": {},
   "outputs": [],
   "source": [
    "normalized_counts <- counts(VARIABLE, normalized=PARAMETER)\n",
    "write.table(normalized_counts, file=\"output/DESeq2normalized_counts_ExoR_Nor.txt\", sep=\"\\t\", quote=F, col.names=NA)"
   ]
  },
  {
   "cell_type": "markdown",
   "id": "edabc499",
   "metadata": {},
   "source": [
    "### Run DESeq2 "
   ]
  },
  {
   "cell_type": "code",
   "execution_count": null,
   "id": "24e8d22a",
   "metadata": {},
   "outputs": [],
   "source": [
    "#Run DESeq2 \n",
    "dds<-DESeq(dds)"
   ]
  },
  {
   "cell_type": "markdown",
   "id": "4d17e57e",
   "metadata": {},
   "source": [
    "The [`results()`](https://rdrr.io/bioc/DESeq2/man/results.html) function \"extracts a result table from a DESeq analysis giving base means across samples, log2 fold changes, standard errors, test statistics, p-values and adjusted p-values\". We want to contrast our two conditions \"ExoR\" and \"Nor\", and filter the genes to have the FDR cutoff at 0.05. \n",
    "\n",
    "\"alpha\" is the significance cutoff used for optimizing the independent filtering (by default 0.1). If the adjusted p-value cutoff (FDR) will be a value other than 0.1, alpha should be set to that value. Here we have set alpha to 0.05."
   ]
  },
  {
   "cell_type": "code",
   "execution_count": null,
   "id": "64141e45",
   "metadata": {},
   "outputs": [],
   "source": [
    "res<-results(VARIABLE, contrast=c(\"condition\",\"ExoR\",\"Nor\"),alpha=NUM)\n",
    "head(res)"
   ]
  },
  {
   "cell_type": "markdown",
   "id": "2edf915c",
   "metadata": {},
   "source": [
    "Make table of results and order by adjusted p-value using `table()`."
   ]
  },
  {
   "cell_type": "code",
   "execution_count": null,
   "id": "7f58c148",
   "metadata": {},
   "outputs": [],
   "source": [
    "table(res$padj<0.05)\n",
    "res <- res[order(res$padj),]"
   ]
  },
  {
   "cell_type": "markdown",
   "id": "017f85a7",
   "metadata": {},
   "source": [
    "Merge `res` with `normalized_counts` and write out final table"
   ]
  },
  {
   "cell_type": "code",
   "execution_count": null,
   "id": "4784a753",
   "metadata": {},
   "outputs": [],
   "source": [
    "resdata <- merge(as.data.frame(VARIABLE), as.data.frame(VARIABLE)), by=\"row.names\", sort=FALSE)\n",
    "\n",
    "write.table(resdata,file=\"output/ExoR_Nor_DESeq2_resultsalpha0.05.txt\",sep=\"\\t\")"
   ]
  },
  {
   "cell_type": "code",
   "execution_count": null,
   "id": "7add7ae7",
   "metadata": {},
   "outputs": [],
   "source": [
    "head(var)"
   ]
  },
  {
   "cell_type": "markdown",
   "id": "84217dd9",
   "metadata": {},
   "source": [
    "## Plots"
   ]
  },
  {
   "cell_type": "markdown",
   "id": "31215d89",
   "metadata": {},
   "source": [
    "### MA Plot\n",
    "In DESeq2, the function plotMA shows the log2 fold changes attributable to a given variable over the mean of normalized counts for all the samples in the DESeqDataSet. Points will be colored red if the adjusted p value is less than 0.1. Points which fall out of the window are plotted as open triangles pointing either up or down.\n",
    "\n",
    "Generate an MA plot from `res`."
   ]
  },
  {
   "cell_type": "code",
   "execution_count": null,
   "id": "35b223bd",
   "metadata": {},
   "outputs": [],
   "source": [
    "plotMA(VARIABLE, ylim=c(-9,9))"
   ]
  },
  {
   "cell_type": "markdown",
   "id": "af48df7a",
   "metadata": {},
   "source": [
    "The shrunken fold changes are useful for ranking genes by effect size and for visualization. We can do this using `lfcShrink()`. We need to set the following parameters: `coef=\"condition_Nor_vs_ExoR` and `type=\"apeglm\"`. "
   ]
  },
  {
   "cell_type": "code",
   "execution_count": null,
   "id": "47644bbb",
   "metadata": {},
   "outputs": [],
   "source": [
    "#Log fold change shrinkage for visualization and ranking\n",
    "resultsNames(dds)\n",
    "resLFC <- lfcShrink(dds, coef=\"PARAMETER\",type=\"PARAMETER\")\n",
    "resLFC"
   ]
  },
  {
   "cell_type": "markdown",
   "id": "48944bb1",
   "metadata": {},
   "source": [
    "Plot the results from `resLFC` using the shrunken log fold change data."
   ]
  },
  {
   "cell_type": "code",
   "execution_count": null,
   "id": "8d5b76ab",
   "metadata": {},
   "outputs": [],
   "source": [
    "plotMA(VARIABLE, ylim=c(-5,5))"
   ]
  },
  {
   "cell_type": "markdown",
   "id": "f0b42bbe",
   "metadata": {},
   "source": [
    "### PCA Plot\n",
    "Related to the distance matrix is the PCA plot, which shows the samples in the 2D plane spanned by their first two principal components. This type of plot is useful for visualizing the overall effect of experimental covariates and batch effects.\n",
    "\n",
    "First apply a regularized log transformation using `rlog()` to `dds`."
   ]
  },
  {
   "cell_type": "code",
   "execution_count": null,
   "id": "9b53bad5",
   "metadata": {
    "scrolled": true
   },
   "outputs": [],
   "source": [
    "###function rlog returns a SummarizedExperiment object which contains the rlog-transformed values in its assay slot:\n",
    "rld <- rlog(VARIABLE)\n",
    "head(rld)"
   ]
  },
  {
   "cell_type": "markdown",
   "id": "b05cebb1",
   "metadata": {},
   "source": [
    "Then plot the results from `rld` using `plotPCA()`."
   ]
  },
  {
   "cell_type": "code",
   "execution_count": null,
   "id": "a2e1871b",
   "metadata": {},
   "outputs": [],
   "source": [
    "#plot PCA\n",
    "plotPCA(VARIABLE, intgroup = c(\"condition\"))"
   ]
  },
  {
   "cell_type": "markdown",
   "id": "69ead4cb",
   "metadata": {},
   "source": [
    "### Heatmap of sample-to-sample distances\n",
    "A heatmap of this distance matrix gives us an overview over similarities and dissimilarities between samples. \n",
    "\n",
    "The [`dist()`](https://www.rdocumentation.org/packages/stats/versions/3.6.2/topics/dist) function \"computes and returns the distance matrix computed by using the specified distance measure to compute the distances between the rows of a data matrix\"."
   ]
  },
  {
   "cell_type": "code",
   "execution_count": null,
   "id": "c1f1ef0b",
   "metadata": {},
   "outputs": [],
   "source": [
    "#visualize sample distances\n",
    "sampleDists <- dist(t(assay(rld)))\n",
    "sampleDistMatrix <- as.matrix(sampleDists)\n",
    "head(sampleDistMatrix)"
   ]
  },
  {
   "cell_type": "markdown",
   "id": "2625544d",
   "metadata": {},
   "source": [
    "Rename the rows and columns so it only contains the condtion."
   ]
  },
  {
   "cell_type": "code",
   "execution_count": null,
   "id": "0067fb4b",
   "metadata": {},
   "outputs": [],
   "source": [
    "rownames(sampleDistMatrix) <- paste(rld$condition, sep=\"-\")\n",
    "colnames(sampleDistMatrix) <- paste(rld$condition, sep=\"-\")\n",
    "head(sampleDistMatrix)"
   ]
  },
  {
   "cell_type": "markdown",
   "id": "61419d33",
   "metadata": {},
   "source": [
    "Plot the `sampleDistMatrix` using `heatmap.2()`"
   ]
  },
  {
   "cell_type": "code",
   "execution_count": null,
   "id": "1a4f0f0f",
   "metadata": {},
   "outputs": [],
   "source": [
    "colours = colorRampPalette(rev(brewer.pal(9, \"Blues\")))(255)\n",
    "heatmap.2(sampleDistMatrix, trace=\"none\", col=colours)"
   ]
  },
  {
   "cell_type": "markdown",
   "id": "f48e0eea",
   "metadata": {},
   "source": [
    "### Heatmap of miRNAs significantly different between groups\n",
    "Make list of DE miRNAs and heatmap using heatmap.2.\n",
    "\n",
    "Read in the DE miRNAs from `data/DESeq2_p0.05_80miRNAs.txt` then subset the `normalized_counts` to only get the data for the DE miRNAs."
   ]
  },
  {
   "cell_type": "code",
   "execution_count": null,
   "id": "fdab5702",
   "metadata": {},
   "outputs": [],
   "source": [
    "for_merge<-data.frame(read.delim(\"FILE\",header=TRUE,row.names=1))\n",
    "miRNAs<-as.list(row.names(for_merge))\n",
    "miRNAs_norm<-subset(VARIABLE, rownames(normalized_counts) %in% miRNAs)"
   ]
  },
  {
   "cell_type": "markdown",
   "id": "cf504f06",
   "metadata": {},
   "source": [
    "Plot a heatmap using `miRNAs_norm` using `heatmap.2()`."
   ]
  },
  {
   "cell_type": "code",
   "execution_count": null,
   "id": "1239f519",
   "metadata": {},
   "outputs": [],
   "source": [
    "mypalette <- brewer.pal(11,\"RdYlBu\")\n",
    "morecols <- colorRampPalette(mypalette)\n",
    "heatmap.2(VARIABLE,col=rev(morecols(50)),trace=\"none\", main=\"p<0.05 DESeq2 normalized\",scale=\"row\",margins=c(9,9), cexCol=0.7)"
   ]
  },
  {
   "cell_type": "markdown",
   "id": "b1c2fa38",
   "metadata": {},
   "source": [
    "### Volcano plot\n",
    "The volcano plot enables to simultaneously capture the effect size and significance (ordinate) of each tested gene.\n",
    "\n",
    "Create a volcano plot using `res`."
   ]
  },
  {
   "cell_type": "code",
   "execution_count": null,
   "id": "d08ac35c",
   "metadata": {},
   "outputs": [],
   "source": [
    "#volcano plot\n",
    "#reset par\n",
    "par(mfrow=c(1,1))\n",
    "# Make a basic volcano plot\n",
    "with(VARIABLE, plot(log2FoldChange, -log10(pvalue), pch=20, main=\"Volcano plot\", xlim=c(-3,3),ylim=c(0,20)))\n",
    "\n",
    "# Add colored points: blue if padj<0.01, red if log2FC>1 and padj<0.05)\n",
    "with(subset(res, padj<.01 ), points(log2FoldChange, -log10(pvalue), pch=20, col=\"PARAMETER\"))\n",
    "with(subset(res, padj<.01 & abs(log2FoldChange)>2), points(log2FoldChange, -log10(pvalue), pch=20, col=\"PARAMETER\"))"
   ]
  }
 ],
 "metadata": {
  "kernelspec": {
   "display_name": "R",
   "language": "R",
   "name": "ir"
  },
  "language_info": {
   "codemirror_mode": "r",
   "file_extension": ".r",
   "mimetype": "text/x-r-source",
   "name": "R",
   "pygments_lexer": "r",
   "version": "3.6.3"
  }
 },
 "nbformat": 4,
 "nbformat_minor": 5
}
