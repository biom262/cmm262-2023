{
 "cells": [
  {
   "cell_type": "markdown",
   "id": "2703dca8",
   "metadata": {},
   "source": [
    "## edgeR TMM-Normalization with mRNA counts table"
   ]
  },
  {
   "cell_type": "code",
   "execution_count": null,
   "id": "7d998f26",
   "metadata": {},
   "outputs": [],
   "source": [
    "options(stringsAsFactors = FALSE)"
   ]
  },
  {
   "cell_type": "code",
   "execution_count": null,
   "id": "221611f7",
   "metadata": {},
   "outputs": [],
   "source": [
    "#Load packages\n",
    "library(limma)\n",
    "library(edgeR)\n",
    "library(data.table)\n",
    "library(RColorBrewer)\n",
    "library(gplots)\n",
    "library(ggplot2)\n",
    "library(biomaRt)\n",
    "library(apeglm)\n",
    "library(DESeq2)"
   ]
  },
  {
   "cell_type": "markdown",
   "id": "64234789",
   "metadata": {},
   "source": [
    "<div class=\"alert alert-block alert-success\">\n",
    "    <p><b>Your turn!</b> Try to go through the edgeR portion of the notebook using the mouse data. Create the DGE object and generate the plots. Fill out everything up to the section on Limma-voom.  </p>\n",
    "</div>"
   ]
  },
  {
   "cell_type": "markdown",
   "id": "826cd369",
   "metadata": {},
   "source": [
    "### Creating DGE object for edgeR\n",
    "Read in the count data `data/featCounts_mouse_E18.csv` and metadata `data/mouse_metadata.csv`"
   ]
  },
  {
   "cell_type": "code",
   "execution_count": null,
   "id": "cfae0c04",
   "metadata": {},
   "outputs": [],
   "source": [
    "meta <- read.csv(\"FILE\", stringsAsFactors=F)\n",
    "counts <- read.csv(\"FILE\", stringsAsFactors=F, row.names=1)\n",
    "head(meta)\n",
    "head(counts)"
   ]
  },
  {
   "cell_type": "markdown",
   "id": "5a8279c7",
   "metadata": {},
   "source": [
    "Make DGE object: \n",
    "- Define `group` using the `Group` column from `meta`\n",
    "- Define `design` using `group`\n",
    "- Create `dge` using `DGEList()`"
   ]
  },
  {
   "cell_type": "code",
   "execution_count": null,
   "id": "946210d9",
   "metadata": {},
   "outputs": [],
   "source": [
    "#define DGE list\n",
    "#define groups\n",
    "group<- VARIABLE\n",
    "group\n",
    "design <- model.matrix(~0+VARIABLE)\n",
    "dge<- DGEList(counts=VARIABLE,group=VARIABLE)"
   ]
  },
  {
   "cell_type": "markdown",
   "id": "5039f872",
   "metadata": {},
   "source": [
    "Plot library sizes using `dge$samples$lib.size`"
   ]
  },
  {
   "cell_type": "code",
   "execution_count": null,
   "id": "133831b3",
   "metadata": {},
   "outputs": [],
   "source": [
    "#lib sizes\n",
    "par(mar=c(10,5,5,5))\n",
    "options(scipen=5)\n",
    "barplot(VARIABLE, horiz=F, names.arg=colnames(dge$counts), las=2, cex.name = 0.8, cex.axis=.9, \n",
    "        main=\"Library Size\")"
   ]
  },
  {
   "cell_type": "code",
   "execution_count": null,
   "id": "bc88428f",
   "metadata": {},
   "outputs": [],
   "source": [
    "#To check\n",
    "class(dge)\n",
    "dim(dge)\n",
    "dge$samples"
   ]
  },
  {
   "cell_type": "markdown",
   "id": "7ee5d04e",
   "metadata": {},
   "source": [
    "<div class=\"alert alert-block alert-warning\">\n",
    "    The above cell should match these:\n",
    "</div>\n",
    "\n",
    "<p><code>class(dge)</code> should return 'DGEList' </p>\n",
    "<p><code>dim(dge)</code> should return 487956 · 6 </p>\n",
    "<p><code>dge$samples</code> should return </p>\n",
    "\n",
    "|                 | group<br><fct> | lib.size<br><dbl> | norm.factors<br><dbl> |\n",
    "|-----------------|----------------|-------------------|-----------------------|\n",
    "| E18_Double_KO_1 | KO             | 19967593          | 1                     |\n",
    "| E18_Double_KO_2 | KO             | 26123103          | 1                     |\n",
    "| E18_Double_KO_3 | KO             | 22356289          | 1                     |\n",
    "| E18_WT_2        | WT             | 23864118          | 1                     |\n",
    "| E18_WT_3        | WT             | 30210498          | 1                     |\n",
    "| E18_WT_4        | WT             | 21391109          | 1                     |"
   ]
  },
  {
   "cell_type": "markdown",
   "id": "7608f7c6",
   "metadata": {},
   "source": [
    "### Filtering based on cpm cutoff \n",
    "Filter miRNAs with at least 10 cpm present in at least 3 samples"
   ]
  },
  {
   "cell_type": "code",
   "execution_count": null,
   "id": "1afdfa22",
   "metadata": {},
   "outputs": [],
   "source": [
    "#filter\n",
    "table(rowSums(dge$counts==0)==6)\n",
    "keep <- rowSums(cpm(dge)>NUMBER) >= NUMER\n",
    "dge.f <- dge[keep, , keep.lib.sizes=FALSE]\n",
    "dim(dge.f)"
   ]
  },
  {
   "cell_type": "markdown",
   "id": "70855857",
   "metadata": {},
   "source": [
    "### Estimate dispersion"
   ]
  },
  {
   "cell_type": "markdown",
   "id": "0654d0bb",
   "metadata": {},
   "source": [
    "Generate the estimate dispersion `d` with `estimateDisp()` using the filtered dge (`dge.f`)."
   ]
  },
  {
   "cell_type": "code",
   "execution_count": null,
   "id": "0ebd03b3",
   "metadata": {},
   "outputs": [],
   "source": [
    "#estimate dispersions\n",
    "d <- estimateDisp(VARIABLE, design=VARIABLE)"
   ]
  },
  {
   "cell_type": "code",
   "execution_count": null,
   "id": "c57191ea",
   "metadata": {},
   "outputs": [],
   "source": [
    "d$samples$lib.size\n",
    "summary(d$prior.df)\n",
    "sqrt(d$common.disp)"
   ]
  },
  {
   "cell_type": "markdown",
   "id": "ecd50979",
   "metadata": {},
   "source": [
    "### Normalization using TMM\n",
    "“TMM (weighted trimmed mean of log expression) determines scaling factor calculated after double trimming values at the two extremes based on log-intensity ratios (M-values) and log-intensity averages (A-values)” (Dillies et al. Briefings in Bioinformatics, Vol. 14 (6): 671–683, 2013)"
   ]
  },
  {
   "cell_type": "markdown",
   "id": "e9e69a39",
   "metadata": {},
   "source": [
    "Calculate\n",
    "- cpm (cpm)\n",
    "- log cpm (lcpm)\n",
    "- filtered log cpm (lcpm.f)\n",
    "- log cpm normalized (lcpm.norm)"
   ]
  },
  {
   "cell_type": "code",
   "execution_count": null,
   "id": "1e3352a5",
   "metadata": {},
   "outputs": [],
   "source": [
    "cpm <- ADD\n",
    "lcpm <- ADD\n",
    "dge.norm <- ADD\n",
    "lcpm.f <- ADD\n",
    "lcpm.norm <- ADD"
   ]
  },
  {
   "cell_type": "markdown",
   "id": "fe626b6a",
   "metadata": {},
   "source": [
    "## Plots"
   ]
  },
  {
   "cell_type": "markdown",
   "id": "fd13d7a2",
   "metadata": {},
   "source": [
    "### Filtered and unfiltered data \n",
    "Create the density plots for the raw data (log cpm) and the filtered data (log cpm filtered)"
   ]
  },
  {
   "cell_type": "code",
   "execution_count": null,
   "id": "a96093ab",
   "metadata": {},
   "outputs": [],
   "source": [
    "#set colours for graphs\n",
    "nsamples<-ncol(dge.norm)\n",
    "col <- brewer.pal(nsamples, \"Paired\")\n",
    "\n",
    "#Visualise filtered vs unfiltered data\n",
    "par(mfrow=c(1,2))\n",
    "\n",
    "#plot unfiltered data (log cpm)\n",
    "samplenames<-meta$Sample_ID\n",
    "\n",
    "plot(density(VARIABLE[,1]),col=col(lcpm,as.factor = FALSE),lwd=1,ylim=c(0,2),las=2,main=\"\",xlab=\"\")\n",
    "\n",
    "title(main=\"A. Raw data\", xlab=\"Log-cpm\")\n",
    "abline(v=0, lty=3)\n",
    "for (i in 2:nsamples){\n",
    "  den <- density(lcpm[,i])\n",
    "  lines(den$x, den$y, col=col[i], lwd=2)\n",
    "}\n",
    "legend(\"topright\", samplenames, text.col=col, bty=\"n\",cex=0.8,pt.cex=0.8)\n",
    "\n",
    "#plot filtered data (log cpm filtered)\n",
    "plot(density(VARIABLE[,1]), col=col(lcpm.f,as.factor=FALSE), lwd=2, ylim=c(0,0.5), las=2,\n",
    "     main=\"\", xlab=\"\")\n",
    "title(main=\"B. Filtered data\", xlab=\"Log-cpm\")\n",
    "abline(v=0, lty=3)\n",
    "for (i in 2:nsamples){\n",
    "  den <- density(lcpm.f[,i])\n",
    "  lines(den$x, den$y, col=col[i], lwd=2)\n",
    "}\n",
    "legend(\"topright\", samplenames, text.col=col, bty=\"n\",cex=0.8,pt.cex=0.8)\n"
   ]
  },
  {
   "cell_type": "markdown",
   "id": "8b121c67",
   "metadata": {},
   "source": [
    "### Boxplots of TMM-Normalized vs. unnormalized data"
   ]
  },
  {
   "cell_type": "code",
   "execution_count": null,
   "id": "7171e0fd",
   "metadata": {},
   "outputs": [],
   "source": [
    "# Unnormalized data (log cpm)\n",
    "par(mfrow=c(1,2))\n",
    "dge$samples$norm.factors\n",
    "boxplot(VARIABLE,las=2, col=col, main=\"\",ylim=c(-10,20),names=meta$Sample_ID,cex=0.2)\n",
    "title(main=\"A. Unnormalized data\",ylab=\"Log-cpm\")\n",
    "\n",
    "# Normalized data (log cpm normalized)\n",
    "dge.norm$samples$norm.factors\n",
    "boxplot(VARIABLE, las=2, col=col, main=\"\", ylim=c(-10,20),names=meta$Sample_ID,cex=0.2)\n",
    "title(main=\"B. TMM Normalized data\",ylab=\"Log-cpm\")"
   ]
  },
  {
   "cell_type": "markdown",
   "id": "1974153d",
   "metadata": {},
   "source": [
    "### PCA plot\n",
    "Make a PCA plot for the log cpm normalized data.\n",
    "- Set `Group` as factors for the data (Hint: use `as.factors()` with the \"Group\" column in `meta`)\n",
    "- Use `plotMDS()` to create the PCA plot\n",
    "    - What should you put for the `labels=` parameter?"
   ]
  },
  {
   "cell_type": "code",
   "execution_count": null,
   "id": "f96f7a51",
   "metadata": {},
   "outputs": [],
   "source": [
    "#MDS Plots\n",
    "Group <- as.factor(meta$Group)\n",
    "col.1 <- Group\n",
    "char.1 <- Group\n",
    "nlevels(col.1)\n",
    "\n",
    "levels(col.1) <-  brewer.pal(nlevels(col.1), \"Paired\") #if more than 2 conditions\n",
    "col.1 <- as.character(col.1)\n",
    "levels(char.1) <- c(0:nlevels(char.1))\n",
    "\n",
    "plotMDS(VARIABLE,top = 500, labels=VARIABLE, col=col.1, cex=1, pch=19,xlab=\"Leading logFC dim1\", \n",
    "        ylab=\"Leading LogFC dim 2\")\n",
    "title(main=\"Group\")"
   ]
  },
  {
   "cell_type": "markdown",
   "id": "9fd4c717",
   "metadata": {},
   "source": [
    "## Limma-voom"
   ]
  },
  {
   "cell_type": "markdown",
   "id": "201eb2b7",
   "metadata": {},
   "source": [
    "https://www.ncbi.nlm.nih.gov/pmc/articles/PMC4937821/"
   ]
  },
  {
   "cell_type": "markdown",
   "id": "a7e0bf09",
   "metadata": {},
   "source": [
    "### Removing heteroscedascity from count data"
   ]
  },
  {
   "cell_type": "markdown",
   "id": "fc06b7c1",
   "metadata": {},
   "source": [
    "It has been shown that for RNA-seq count data, the variance is not independent of the mean – this is true of raw counts or when transformed to log-CPM values. Methods that model counts using a Negative Binomial distribution assume a quadratic mean-variance relationship. In limma, linear modelling is carried out on the log-CPM values which are assumed to be normally distributed and the mean-variance relationship is accommodated using precision weights calculated by the voom function.\n",
    "\n",
    "When operating on a DGEList-object, voom converts raw counts to log-CPM values by automatically extracting library sizes and normalisation factors from x itself. \n",
    "\n",
    "Typically, the “voom-plot” shows a decreasing trend between the means and variances resulting from a combination of technical variation in the sequencing experiment and biological variation amongst the replicate samples from different cell populations. Experiments with high biological variation usually result in flatter trends, where variance values plateau at high expression values. Experiments with low biological variation tend to result in sharp decreasing trends."
   ]
  },
  {
   "cell_type": "markdown",
   "id": "dfa44695",
   "metadata": {},
   "source": [
    "First set up the `design` matrix."
   ]
  },
  {
   "cell_type": "code",
   "execution_count": null,
   "id": "50ba33d2",
   "metadata": {},
   "outputs": [],
   "source": [
    "#limma-voom \n",
    "#Set up design\n",
    "design <- model.matrix(~0 + group)\n",
    "colnames(design) <- gsub(\"group\",\"\", colnames(design))\n",
    "design"
   ]
  },
  {
   "cell_type": "markdown",
   "id": "18f48188",
   "metadata": {},
   "source": [
    "Then use [`makeContrasts()`](https://www.rdocumentation.org/packages/limma/versions/3.28.14/topics/makeContrasts) to \"express contrasts between a set of parameters as a numeric matrix\".\n",
    "\n",
    "We want to contrast the WT and KO mice, so we need to use the notation `WT-KO` and use the `design` matrix as our levels."
   ]
  },
  {
   "cell_type": "code",
   "execution_count": null,
   "id": "04fa4d87",
   "metadata": {},
   "outputs": [],
   "source": [
    "cm <- makeContrasts(WTvsKO=VARIABLE,levels=VARIABLE)"
   ]
  },
  {
   "cell_type": "markdown",
   "id": "f7d38c2f",
   "metadata": {},
   "source": [
    "Apply `voom()` on the normalized dges (`dge.norm`) to remove heteroscedasticity from count data"
   ]
  },
  {
   "cell_type": "code",
   "execution_count": null,
   "id": "ba925a41",
   "metadata": {},
   "outputs": [],
   "source": [
    "v <- voom(VARIABLE, design, plot=TRUE)\n",
    "write.csv(v$E, \"output/TMM_and_Voom_normalized_counts.csv\")"
   ]
  },
  {
   "cell_type": "markdown",
   "id": "5602bb07",
   "metadata": {},
   "source": [
    "Fit the linear model"
   ]
  },
  {
   "cell_type": "code",
   "execution_count": null,
   "id": "22002a08",
   "metadata": {},
   "outputs": [],
   "source": [
    "vfit <- lmFit(v,design)\n",
    "vfit <- contrasts.fit(vfit, contrasts=cm)\n",
    "efit <- eBayes(vfit)\n",
    "plotSA(efit, main=\"Final model: Mean-variance trend\")"
   ]
  },
  {
   "cell_type": "markdown",
   "id": "933f36cc",
   "metadata": {},
   "source": [
    "Use `decideTests()` on `efit` to determine which genes are up-regulated, down-regulated or not significantly different."
   ]
  },
  {
   "cell_type": "code",
   "execution_count": null,
   "id": "4932f652",
   "metadata": {},
   "outputs": [],
   "source": [
    "dt <- decideTests(VARIABLE)\n",
    "summary(dt)"
   ]
  },
  {
   "cell_type": "markdown",
   "id": "9d30ae05",
   "metadata": {},
   "source": [
    "### mRNAs with p<0.01"
   ]
  },
  {
   "cell_type": "code",
   "execution_count": null,
   "id": "01430d8a",
   "metadata": {},
   "outputs": [],
   "source": [
    "#write out p0.01 RNAs\n",
    "WT_vs_KO<-topTreat(efit,coef=1,n=Inf)\n",
    "head(WT_vs_KO)\n",
    "ENSID<-row.names(WT_vs_KO)\n",
    "norm<-data.frame(v$E)\n",
    "merged<-merge(WT_vs_KO,norm,by=0,all=TRUE)\n",
    "final<-subset(merged,merged$adj.P.Val<0.01)\n",
    "write.table(final,file=\"output/final_mRNAs_p0.01.txt\",sep=\"\\t\")"
   ]
  },
  {
   "cell_type": "markdown",
   "id": "f3a44100",
   "metadata": {},
   "source": [
    "### Heatmap with mRNAs with p<0.01"
   ]
  },
  {
   "cell_type": "code",
   "execution_count": null,
   "id": "5800cf0d",
   "metadata": {},
   "outputs": [],
   "source": [
    "#heatmap\n",
    "#subset miRNAs from lcpm normalized data\n",
    "mRNAs<-as.list(final$Row.names)\n",
    "lcpm.norm.heatmap<-as.matrix(subset(norm,rownames(norm) %in% mRNAs))\n",
    "\n",
    "## Get some nicer colours\n",
    "mypalette <- brewer.pal(11,\"RdYlBu\")\n",
    "morecols <- colorRampPalette(mypalette)\n",
    "# Set up colour vector for celltype variable\n",
    "col.cell <- c(\"purple\",\"orange\")[group]\n",
    "heatmap.2(lcpm.norm.heatmap,col=rev(morecols(50)),trace=\"none\", main=\"p<0.01 TMM normalized\",\n",
    "          ColSideColors=col.cell,scale=\"row\",margins=c(9,9), cexCol=0.8)"
   ]
  },
  {
   "cell_type": "markdown",
   "id": "b8ab26e7",
   "metadata": {},
   "source": [
    "### Biomart to get gene information from ENSEMBL IDs"
   ]
  },
  {
   "cell_type": "code",
   "execution_count": null,
   "id": "20568371-8d90-4d51-ab4b-b2e54ef7e223",
   "metadata": {},
   "outputs": [],
   "source": [
    "ENSID<-final$Row.names\n",
    "genes<-ENSID\n",
    "mart <- useDataset(\"mmusculus_gene_ensembl\", useMart(\"ensembl\"))\n",
    "attributes<-listAttributes(mart)\n",
    "G_list <- data.table(getBM(filters= \"ensembl_gene_id\", attributes= c(\"ensembl_gene_id\", \n",
    "        \"description\",\"uniprot_gn_symbol\"),values=genes,mart= mart))\n",
    "write.table(G_list,file=\"output/biomart_genes_list_edgeR.txt\",sep=\"\\t\")"
   ]
  },
  {
   "cell_type": "markdown",
   "id": "2cfc1523",
   "metadata": {},
   "source": [
    "### Heatmap with top 50 dysregulated mRNAs with gene names"
   ]
  },
  {
   "cell_type": "code",
   "execution_count": null,
   "id": "24c6b902",
   "metadata": {},
   "outputs": [],
   "source": [
    "top50<-as.matrix(read.delim(\"data/top50_edgeR.txt\",header=TRUE,row.names=1))\n",
    "mypalette <- brewer.pal(11,\"RdYlBu\")\n",
    "morecols <- colorRampPalette(mypalette)\n",
    "heatmap.2(top50,col=rev(morecols(50)),trace=\"none\", main=\"Top 50 mRNAs (p<0.01)\",scale=\"row\",margins=c(9,9), \n",
    "          cexCol=1,cexRow=1)"
   ]
  }
 ],
 "metadata": {
  "kernelspec": {
   "display_name": "R [conda env:rna-seq]",
   "language": "R",
   "name": "conda-env-rna-seq-r"
  },
  "language_info": {
   "codemirror_mode": "r",
   "file_extension": ".r",
   "mimetype": "text/x-r-source",
   "name": "R",
   "pygments_lexer": "r",
   "version": "4.2.2"
  }
 },
 "nbformat": 4,
 "nbformat_minor": 5
}
